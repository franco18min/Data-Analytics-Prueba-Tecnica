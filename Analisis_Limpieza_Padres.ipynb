{
 "cells": [
  {
   "metadata": {},
   "cell_type": "markdown",
   "source": "# Analisis y limpieza de datos relacionados a los padres del alumno",
   "id": "12cd7be70a0a3cb1"
  },
  {
   "metadata": {},
   "cell_type": "markdown",
   "source": "### Librerias necesarias",
   "id": "553508f925e9f58"
  },
  {
   "metadata": {
    "ExecuteTime": {
     "end_time": "2024-07-20T01:07:25.562801Z",
     "start_time": "2024-07-20T01:07:25.558783Z"
    }
   },
   "cell_type": "code",
   "source": [
    "import pandas as pd\n",
    "from Estandarizar import estandarizacion\n",
    "from Estandarizar_telefono import limpiar_numero"
   ],
   "id": "2f901e10bfd432d",
   "outputs": [],
   "execution_count": 130
  },
  {
   "metadata": {},
   "cell_type": "markdown",
   "source": "### Lectura del archivo como un dataframe",
   "id": "92c66ebe7e883fd4"
  },
  {
   "metadata": {
    "ExecuteTime": {
     "end_time": "2024-07-20T01:07:28.245522Z",
     "start_time": "2024-07-20T01:07:28.225289Z"
    }
   },
   "cell_type": "code",
   "source": [
    "#Leer csv\n",
    "df = pd.read_csv(\"Alumnos y padres parcial.csv\")"
   ],
   "id": "c3389f3c7fe81a74",
   "outputs": [],
   "execution_count": 131
  },
  {
   "metadata": {},
   "cell_type": "markdown",
   "source": "### Visualizacion de los datos",
   "id": "1bc50760330aa883"
  },
  {
   "metadata": {
    "ExecuteTime": {
     "end_time": "2024-07-20T01:07:28.342996Z",
     "start_time": "2024-07-20T01:07:28.322390Z"
    }
   },
   "cell_type": "code",
   "source": "df.head()",
   "id": "9510f2659443adfd",
   "outputs": [
    {
     "data": {
      "text/plain": [
       "    clave                       nombre_alumno       sexo  \\\n",
       "0  380728               Trujano Miranda Jonas  Masculino   \n",
       "1  375287     San Nicolas Bustamante Santiago  Masculino   \n",
       "2  375127    San Nicolas Bustamante Estefania   Femenino   \n",
       "3  372346         Vizuet Gomez Diego Emiliano  Masculino   \n",
       "4  381125  Aguilar Vazquez Victoria Alejandra   Femenino   \n",
       "\n",
       "                  domicilio_alumno       colonia_alumno poblacion_alumno  \\\n",
       "0                5 de Mayo No. 106             Zaragoza       Texcoco. e   \n",
       "1              Leon Salinas No. 62             Xocotlan       Texcoco. m   \n",
       "2              Leon Salinas No. 62  Fracc. Molino de fl      Xocotlan. t   \n",
       "3          Circuito Miltenco No. 4     Cabera Municipal       Chicoloapa   \n",
       "4  Fray Pedro de Gante No. 238 Int            San Pedro          Texcoco   \n",
       "\n",
       "  codigo_postal_alumno fecha_nacimiento_alumno nacionalidad telefono_alumno  \\\n",
       "0                56110              2018-02-12     Mexicano      5959541519   \n",
       "1                56236              2007-04-19     Mexicano      5959543393   \n",
       "2                56236              2013-03-27     Mexicana      5959543393   \n",
       "3                56370              2013-07-15     Mexicano      5510491891   \n",
       "4                56105              2018-01-12     Mexicana      5956888439   \n",
       "\n",
       "   ...                ocupap  emprep      celularp      telofp  \\\n",
       "0  ...                   NaN     NaN           NaN         NaN   \n",
       "1  ...           CONTRATISTA     NaN  5.519882e+09  5519882072   \n",
       "2  ...           CONTRATISTA     NaN  5.519882e+09  5519882072   \n",
       "3  ...     PROFESOR JUBILADO     NaN           NaN         NaN   \n",
       "4  ...  ABOGADO/SERVIDOR PUB     NaN           NaN         NaN   \n",
       "\n",
       "                     emailp                   pedi     telpedi  \\\n",
       "0                       NaN   DRA. VERONICA DELADO  5959547699   \n",
       "1  rosamaria-rmbo@gmail.com  DRA. ALEJANDRA MUENCH  5959252210   \n",
       "2  rosamaria.rmbo@gmail.com  DRA. ALEJANDRA MUENCH  5959252210   \n",
       "3                       NaN                    NaN         NaN   \n",
       "4       harrohari@gmail.com           DR. GO0NGORA  5959555296   \n",
       "\n",
       "  fecha_inscripcion plan edad_alumno  \n",
       "0        2022-02-11    B           6  \n",
       "1        2022-02-11    B          17  \n",
       "2        2022-02-11    B          11  \n",
       "3        2022-02-11    B          11  \n",
       "4        2022-02-14    B           6  \n",
       "\n",
       "[5 rows x 32 columns]"
      ],
      "text/html": [
       "<div>\n",
       "<style scoped>\n",
       "    .dataframe tbody tr th:only-of-type {\n",
       "        vertical-align: middle;\n",
       "    }\n",
       "\n",
       "    .dataframe tbody tr th {\n",
       "        vertical-align: top;\n",
       "    }\n",
       "\n",
       "    .dataframe thead th {\n",
       "        text-align: right;\n",
       "    }\n",
       "</style>\n",
       "<table border=\"1\" class=\"dataframe\">\n",
       "  <thead>\n",
       "    <tr style=\"text-align: right;\">\n",
       "      <th></th>\n",
       "      <th>clave</th>\n",
       "      <th>nombre_alumno</th>\n",
       "      <th>sexo</th>\n",
       "      <th>domicilio_alumno</th>\n",
       "      <th>colonia_alumno</th>\n",
       "      <th>poblacion_alumno</th>\n",
       "      <th>codigo_postal_alumno</th>\n",
       "      <th>fecha_nacimiento_alumno</th>\n",
       "      <th>nacionalidad</th>\n",
       "      <th>telefono_alumno</th>\n",
       "      <th>...</th>\n",
       "      <th>ocupap</th>\n",
       "      <th>emprep</th>\n",
       "      <th>celularp</th>\n",
       "      <th>telofp</th>\n",
       "      <th>emailp</th>\n",
       "      <th>pedi</th>\n",
       "      <th>telpedi</th>\n",
       "      <th>fecha_inscripcion</th>\n",
       "      <th>plan</th>\n",
       "      <th>edad_alumno</th>\n",
       "    </tr>\n",
       "  </thead>\n",
       "  <tbody>\n",
       "    <tr>\n",
       "      <th>0</th>\n",
       "      <td>380728</td>\n",
       "      <td>Trujano Miranda Jonas</td>\n",
       "      <td>Masculino</td>\n",
       "      <td>5 de Mayo No. 106</td>\n",
       "      <td>Zaragoza</td>\n",
       "      <td>Texcoco. e</td>\n",
       "      <td>56110</td>\n",
       "      <td>2018-02-12</td>\n",
       "      <td>Mexicano</td>\n",
       "      <td>5959541519</td>\n",
       "      <td>...</td>\n",
       "      <td>NaN</td>\n",
       "      <td>NaN</td>\n",
       "      <td>NaN</td>\n",
       "      <td>NaN</td>\n",
       "      <td>NaN</td>\n",
       "      <td>DRA. VERONICA DELADO</td>\n",
       "      <td>5959547699</td>\n",
       "      <td>2022-02-11</td>\n",
       "      <td>B</td>\n",
       "      <td>6</td>\n",
       "    </tr>\n",
       "    <tr>\n",
       "      <th>1</th>\n",
       "      <td>375287</td>\n",
       "      <td>San Nicolas Bustamante Santiago</td>\n",
       "      <td>Masculino</td>\n",
       "      <td>Leon Salinas No. 62</td>\n",
       "      <td>Xocotlan</td>\n",
       "      <td>Texcoco. m</td>\n",
       "      <td>56236</td>\n",
       "      <td>2007-04-19</td>\n",
       "      <td>Mexicano</td>\n",
       "      <td>5959543393</td>\n",
       "      <td>...</td>\n",
       "      <td>CONTRATISTA</td>\n",
       "      <td>NaN</td>\n",
       "      <td>5.519882e+09</td>\n",
       "      <td>5519882072</td>\n",
       "      <td>rosamaria-rmbo@gmail.com</td>\n",
       "      <td>DRA. ALEJANDRA MUENCH</td>\n",
       "      <td>5959252210</td>\n",
       "      <td>2022-02-11</td>\n",
       "      <td>B</td>\n",
       "      <td>17</td>\n",
       "    </tr>\n",
       "    <tr>\n",
       "      <th>2</th>\n",
       "      <td>375127</td>\n",
       "      <td>San Nicolas Bustamante Estefania</td>\n",
       "      <td>Femenino</td>\n",
       "      <td>Leon Salinas No. 62</td>\n",
       "      <td>Fracc. Molino de fl</td>\n",
       "      <td>Xocotlan. t</td>\n",
       "      <td>56236</td>\n",
       "      <td>2013-03-27</td>\n",
       "      <td>Mexicana</td>\n",
       "      <td>5959543393</td>\n",
       "      <td>...</td>\n",
       "      <td>CONTRATISTA</td>\n",
       "      <td>NaN</td>\n",
       "      <td>5.519882e+09</td>\n",
       "      <td>5519882072</td>\n",
       "      <td>rosamaria.rmbo@gmail.com</td>\n",
       "      <td>DRA. ALEJANDRA MUENCH</td>\n",
       "      <td>5959252210</td>\n",
       "      <td>2022-02-11</td>\n",
       "      <td>B</td>\n",
       "      <td>11</td>\n",
       "    </tr>\n",
       "    <tr>\n",
       "      <th>3</th>\n",
       "      <td>372346</td>\n",
       "      <td>Vizuet Gomez Diego Emiliano</td>\n",
       "      <td>Masculino</td>\n",
       "      <td>Circuito Miltenco No. 4</td>\n",
       "      <td>Cabera Municipal</td>\n",
       "      <td>Chicoloapa</td>\n",
       "      <td>56370</td>\n",
       "      <td>2013-07-15</td>\n",
       "      <td>Mexicano</td>\n",
       "      <td>5510491891</td>\n",
       "      <td>...</td>\n",
       "      <td>PROFESOR JUBILADO</td>\n",
       "      <td>NaN</td>\n",
       "      <td>NaN</td>\n",
       "      <td>NaN</td>\n",
       "      <td>NaN</td>\n",
       "      <td>NaN</td>\n",
       "      <td>NaN</td>\n",
       "      <td>2022-02-11</td>\n",
       "      <td>B</td>\n",
       "      <td>11</td>\n",
       "    </tr>\n",
       "    <tr>\n",
       "      <th>4</th>\n",
       "      <td>381125</td>\n",
       "      <td>Aguilar Vazquez Victoria Alejandra</td>\n",
       "      <td>Femenino</td>\n",
       "      <td>Fray Pedro de Gante No. 238 Int</td>\n",
       "      <td>San Pedro</td>\n",
       "      <td>Texcoco</td>\n",
       "      <td>56105</td>\n",
       "      <td>2018-01-12</td>\n",
       "      <td>Mexicana</td>\n",
       "      <td>5956888439</td>\n",
       "      <td>...</td>\n",
       "      <td>ABOGADO/SERVIDOR PUB</td>\n",
       "      <td>NaN</td>\n",
       "      <td>NaN</td>\n",
       "      <td>NaN</td>\n",
       "      <td>harrohari@gmail.com</td>\n",
       "      <td>DR. GO0NGORA</td>\n",
       "      <td>5959555296</td>\n",
       "      <td>2022-02-14</td>\n",
       "      <td>B</td>\n",
       "      <td>6</td>\n",
       "    </tr>\n",
       "  </tbody>\n",
       "</table>\n",
       "<p>5 rows × 32 columns</p>\n",
       "</div>"
      ]
     },
     "execution_count": 132,
     "metadata": {},
     "output_type": "execute_result"
    }
   ],
   "execution_count": 132
  },
  {
   "metadata": {},
   "cell_type": "markdown",
   "source": "## <font color=\"#f9a177\">\"padre\", \"madre\", \"pedi\"</font>",
   "id": "39c75b951f3bfd5f"
  },
  {
   "metadata": {},
   "cell_type": "markdown",
   "source": "### Interpretacion",
   "id": "ad9425d719434dcc"
  },
  {
   "metadata": {},
   "cell_type": "markdown",
   "source": [
    "- padre: Nombre del padre\n",
    "- madre: Nombre de la madre\n",
    "- pedi: Nombre del pediatra"
   ],
   "id": "ed7e25390432b89b"
  },
  {
   "metadata": {},
   "cell_type": "markdown",
   "source": "**Procedimiento :** Se cambiara el nombre de las columnas para una mejor comprension.",
   "id": "27175872c05adbca"
  },
  {
   "metadata": {
    "ExecuteTime": {
     "end_time": "2024-07-20T01:07:28.525214Z",
     "start_time": "2024-07-20T01:07:28.520005Z"
    }
   },
   "cell_type": "code",
   "source": "df.rename(columns={'padre': 'nombre_padre', 'madre': 'nombre_madre', 'pedi': 'nombre_pediatra'}, inplace=True)",
   "id": "ca547b3510574b8f",
   "outputs": [],
   "execution_count": 133
  },
  {
   "metadata": {},
   "cell_type": "markdown",
   "source": "### Tipo de dato",
   "id": "bc906e90635c5c89"
  },
  {
   "metadata": {
    "ExecuteTime": {
     "end_time": "2024-07-20T01:07:28.787113Z",
     "start_time": "2024-07-20T01:07:28.778228Z"
    }
   },
   "cell_type": "code",
   "source": [
    "#Vamos a ver si hay datos de diferentes tipos en 'nombre_madre'\n",
    "df['nombre_madre'].apply(lambda x: type(x)).value_counts()"
   ],
   "id": "6f3d25fcc7cb5e36",
   "outputs": [
    {
     "data": {
      "text/plain": [
       "nombre_madre\n",
       "<class 'str'>      427\n",
       "<class 'float'>      4\n",
       "Name: count, dtype: int64"
      ]
     },
     "execution_count": 134,
     "metadata": {},
     "output_type": "execute_result"
    }
   ],
   "execution_count": 134
  },
  {
   "metadata": {
    "ExecuteTime": {
     "end_time": "2024-07-20T01:07:28.953842Z",
     "start_time": "2024-07-20T01:07:28.945122Z"
    }
   },
   "cell_type": "code",
   "source": [
    "#Vamos a ver si hay datos de diferentes tipos en 'nombre_padre'\n",
    "df['nombre_padre'].apply(lambda x: type(x)).value_counts()"
   ],
   "id": "a9ae0c0f548753dc",
   "outputs": [
    {
     "data": {
      "text/plain": [
       "nombre_padre\n",
       "<class 'str'>      409\n",
       "<class 'float'>     22\n",
       "Name: count, dtype: int64"
      ]
     },
     "execution_count": 135,
     "metadata": {},
     "output_type": "execute_result"
    }
   ],
   "execution_count": 135
  },
  {
   "metadata": {
    "ExecuteTime": {
     "end_time": "2024-07-20T01:07:29.337565Z",
     "start_time": "2024-07-20T01:07:29.328851Z"
    }
   },
   "cell_type": "code",
   "source": [
    "#Vamos a ver si hay datos de diferentes tipos en 'nombre_pediatra'\n",
    "df['nombre_pediatra'].apply(lambda x: type(x)).value_counts()"
   ],
   "id": "d8e74f1a517b2222",
   "outputs": [
    {
     "data": {
      "text/plain": [
       "nombre_pediatra\n",
       "<class 'str'>      352\n",
       "<class 'float'>     79\n",
       "Name: count, dtype: int64"
      ]
     },
     "execution_count": 136,
     "metadata": {},
     "output_type": "execute_result"
    }
   ],
   "execution_count": 136
  },
  {
   "metadata": {},
   "cell_type": "markdown",
   "source": "**Procedimiento :** Se cambiara a str las columnas",
   "id": "bb0c35b3a0652a5c"
  },
  {
   "metadata": {
    "ExecuteTime": {
     "end_time": "2024-07-20T01:07:29.587308Z",
     "start_time": "2024-07-20T01:07:29.580593Z"
    }
   },
   "cell_type": "code",
   "source": [
    "df['nombre_madre'] = df['nombre_madre'].astype(str)\n",
    "df['nombre_padre'] = df['nombre_padre'].astype(str)\n",
    "df['nombre_pediatra'] = df['nombre_pediatra'].astype(str)"
   ],
   "id": "2fdebb50b931be5d",
   "outputs": [],
   "execution_count": 137
  },
  {
   "metadata": {},
   "cell_type": "markdown",
   "source": "### Valores faltantes",
   "id": "38a5a3a430ac92d4"
  },
  {
   "metadata": {
    "ExecuteTime": {
     "end_time": "2024-07-20T01:07:29.910205Z",
     "start_time": "2024-07-20T01:07:29.904316Z"
    }
   },
   "cell_type": "code",
   "source": [
    "#Valores igual a \"Nan\"\n",
    "df_nan = df[df['nombre_madre'].apply(lambda x: x == 'NaN' or x == 'Nan' or x == 'nan' or x == '')]\n",
    "#Valores nulos"
   ],
   "id": "697a4373b223b3b3",
   "outputs": [],
   "execution_count": 138
  },
  {
   "metadata": {
    "ExecuteTime": {
     "end_time": "2024-07-20T01:07:30.082225Z",
     "start_time": "2024-07-20T01:07:30.019216Z"
    }
   },
   "cell_type": "code",
   "source": [
    "nulos = df['empresa_padre'].isnull().sum()\n",
    "#Suma de nulos y Nan\n",
    "print(f\"Valores faltantes en la columna 'empresa_padre': {nulos + len(df_nan)}\")"
   ],
   "id": "ead25dea5f210e9f",
   "outputs": [
    {
     "ename": "KeyError",
     "evalue": "'empresa_padre'",
     "output_type": "error",
     "traceback": [
      "\u001B[1;31m---------------------------------------------------------------------------\u001B[0m",
      "\u001B[1;31mKeyError\u001B[0m                                  Traceback (most recent call last)",
      "File \u001B[1;32mC:\\Users\\Public\\Downloads\\pythonProject\\.venv\\Lib\\site-packages\\pandas\\core\\indexes\\base.py:3805\u001B[0m, in \u001B[0;36mIndex.get_loc\u001B[1;34m(self, key)\u001B[0m\n\u001B[0;32m   3804\u001B[0m \u001B[38;5;28;01mtry\u001B[39;00m:\n\u001B[1;32m-> 3805\u001B[0m     \u001B[38;5;28;01mreturn\u001B[39;00m \u001B[38;5;28;43mself\u001B[39;49m\u001B[38;5;241;43m.\u001B[39;49m\u001B[43m_engine\u001B[49m\u001B[38;5;241;43m.\u001B[39;49m\u001B[43mget_loc\u001B[49m\u001B[43m(\u001B[49m\u001B[43mcasted_key\u001B[49m\u001B[43m)\u001B[49m\n\u001B[0;32m   3806\u001B[0m \u001B[38;5;28;01mexcept\u001B[39;00m \u001B[38;5;167;01mKeyError\u001B[39;00m \u001B[38;5;28;01mas\u001B[39;00m err:\n",
      "File \u001B[1;32mindex.pyx:167\u001B[0m, in \u001B[0;36mpandas._libs.index.IndexEngine.get_loc\u001B[1;34m()\u001B[0m\n",
      "File \u001B[1;32mindex.pyx:196\u001B[0m, in \u001B[0;36mpandas._libs.index.IndexEngine.get_loc\u001B[1;34m()\u001B[0m\n",
      "File \u001B[1;32mpandas\\\\_libs\\\\hashtable_class_helper.pxi:7081\u001B[0m, in \u001B[0;36mpandas._libs.hashtable.PyObjectHashTable.get_item\u001B[1;34m()\u001B[0m\n",
      "File \u001B[1;32mpandas\\\\_libs\\\\hashtable_class_helper.pxi:7089\u001B[0m, in \u001B[0;36mpandas._libs.hashtable.PyObjectHashTable.get_item\u001B[1;34m()\u001B[0m\n",
      "\u001B[1;31mKeyError\u001B[0m: 'empresa_padre'",
      "\nThe above exception was the direct cause of the following exception:\n",
      "\u001B[1;31mKeyError\u001B[0m                                  Traceback (most recent call last)",
      "Cell \u001B[1;32mIn[139], line 1\u001B[0m\n\u001B[1;32m----> 1\u001B[0m nulos \u001B[38;5;241m=\u001B[39m \u001B[43mdf\u001B[49m\u001B[43m[\u001B[49m\u001B[38;5;124;43m'\u001B[39;49m\u001B[38;5;124;43mempresa_padre\u001B[39;49m\u001B[38;5;124;43m'\u001B[39;49m\u001B[43m]\u001B[49m\u001B[38;5;241m.\u001B[39misnull()\u001B[38;5;241m.\u001B[39msum()\n\u001B[0;32m      2\u001B[0m \u001B[38;5;66;03m#Suma de nulos y Nan\u001B[39;00m\n\u001B[0;32m      3\u001B[0m \u001B[38;5;28mprint\u001B[39m(\u001B[38;5;124mf\u001B[39m\u001B[38;5;124m\"\u001B[39m\u001B[38;5;124mValores faltantes en la columna \u001B[39m\u001B[38;5;124m'\u001B[39m\u001B[38;5;124mempresa_padre\u001B[39m\u001B[38;5;124m'\u001B[39m\u001B[38;5;124m: \u001B[39m\u001B[38;5;132;01m{\u001B[39;00mnulos\u001B[38;5;250m \u001B[39m\u001B[38;5;241m+\u001B[39m\u001B[38;5;250m \u001B[39m\u001B[38;5;28mlen\u001B[39m(df_nan)\u001B[38;5;132;01m}\u001B[39;00m\u001B[38;5;124m\"\u001B[39m)\n",
      "File \u001B[1;32mC:\\Users\\Public\\Downloads\\pythonProject\\.venv\\Lib\\site-packages\\pandas\\core\\frame.py:4102\u001B[0m, in \u001B[0;36mDataFrame.__getitem__\u001B[1;34m(self, key)\u001B[0m\n\u001B[0;32m   4100\u001B[0m \u001B[38;5;28;01mif\u001B[39;00m \u001B[38;5;28mself\u001B[39m\u001B[38;5;241m.\u001B[39mcolumns\u001B[38;5;241m.\u001B[39mnlevels \u001B[38;5;241m>\u001B[39m \u001B[38;5;241m1\u001B[39m:\n\u001B[0;32m   4101\u001B[0m     \u001B[38;5;28;01mreturn\u001B[39;00m \u001B[38;5;28mself\u001B[39m\u001B[38;5;241m.\u001B[39m_getitem_multilevel(key)\n\u001B[1;32m-> 4102\u001B[0m indexer \u001B[38;5;241m=\u001B[39m \u001B[38;5;28;43mself\u001B[39;49m\u001B[38;5;241;43m.\u001B[39;49m\u001B[43mcolumns\u001B[49m\u001B[38;5;241;43m.\u001B[39;49m\u001B[43mget_loc\u001B[49m\u001B[43m(\u001B[49m\u001B[43mkey\u001B[49m\u001B[43m)\u001B[49m\n\u001B[0;32m   4103\u001B[0m \u001B[38;5;28;01mif\u001B[39;00m is_integer(indexer):\n\u001B[0;32m   4104\u001B[0m     indexer \u001B[38;5;241m=\u001B[39m [indexer]\n",
      "File \u001B[1;32mC:\\Users\\Public\\Downloads\\pythonProject\\.venv\\Lib\\site-packages\\pandas\\core\\indexes\\base.py:3812\u001B[0m, in \u001B[0;36mIndex.get_loc\u001B[1;34m(self, key)\u001B[0m\n\u001B[0;32m   3807\u001B[0m     \u001B[38;5;28;01mif\u001B[39;00m \u001B[38;5;28misinstance\u001B[39m(casted_key, \u001B[38;5;28mslice\u001B[39m) \u001B[38;5;129;01mor\u001B[39;00m (\n\u001B[0;32m   3808\u001B[0m         \u001B[38;5;28misinstance\u001B[39m(casted_key, abc\u001B[38;5;241m.\u001B[39mIterable)\n\u001B[0;32m   3809\u001B[0m         \u001B[38;5;129;01mand\u001B[39;00m \u001B[38;5;28many\u001B[39m(\u001B[38;5;28misinstance\u001B[39m(x, \u001B[38;5;28mslice\u001B[39m) \u001B[38;5;28;01mfor\u001B[39;00m x \u001B[38;5;129;01min\u001B[39;00m casted_key)\n\u001B[0;32m   3810\u001B[0m     ):\n\u001B[0;32m   3811\u001B[0m         \u001B[38;5;28;01mraise\u001B[39;00m InvalidIndexError(key)\n\u001B[1;32m-> 3812\u001B[0m     \u001B[38;5;28;01mraise\u001B[39;00m \u001B[38;5;167;01mKeyError\u001B[39;00m(key) \u001B[38;5;28;01mfrom\u001B[39;00m \u001B[38;5;21;01merr\u001B[39;00m\n\u001B[0;32m   3813\u001B[0m \u001B[38;5;28;01mexcept\u001B[39;00m \u001B[38;5;167;01mTypeError\u001B[39;00m:\n\u001B[0;32m   3814\u001B[0m     \u001B[38;5;66;03m# If we have a listlike key, _check_indexing_error will raise\u001B[39;00m\n\u001B[0;32m   3815\u001B[0m     \u001B[38;5;66;03m#  InvalidIndexError. Otherwise we fall through and re-raise\u001B[39;00m\n\u001B[0;32m   3816\u001B[0m     \u001B[38;5;66;03m#  the TypeError.\u001B[39;00m\n\u001B[0;32m   3817\u001B[0m     \u001B[38;5;28mself\u001B[39m\u001B[38;5;241m.\u001B[39m_check_indexing_error(key)\n",
      "\u001B[1;31mKeyError\u001B[0m: 'empresa_padre'"
     ]
    }
   ],
   "execution_count": 139
  },
  {
   "metadata": {
    "ExecuteTime": {
     "end_time": "2024-07-20T01:07:30.241899Z",
     "start_time": "2024-07-20T01:07:30.235234Z"
    }
   },
   "cell_type": "code",
   "source": [
    "#Valores igual a \"Nan\"\n",
    "df_nan = df[df['nombre_padre'].apply(lambda x: x == 'NaN' or x == 'Nan' or x == 'nan' or x == '')]"
   ],
   "id": "b22bc50ad7b1976c",
   "outputs": [],
   "execution_count": 140
  },
  {
   "metadata": {
    "ExecuteTime": {
     "end_time": "2024-07-20T01:07:30.332981Z",
     "start_time": "2024-07-20T01:07:30.327910Z"
    }
   },
   "cell_type": "code",
   "source": [
    "#Valores nulos\n",
    "nulos = df['nombre_padre'].isnull().sum()\n",
    "#Suma de nulos y Nan\n",
    "print(f\"Valores faltantes en la columna 'nombre_padre': {nulos + len(df_nan)}\")"
   ],
   "id": "800101036d7af095",
   "outputs": [
    {
     "name": "stdout",
     "output_type": "stream",
     "text": [
      "Valores faltantes en la columna 'nombre_padre': 22\n"
     ]
    }
   ],
   "execution_count": 141
  },
  {
   "metadata": {
    "ExecuteTime": {
     "end_time": "2024-07-20T01:07:32.813988Z",
     "start_time": "2024-07-20T01:07:32.808925Z"
    }
   },
   "cell_type": "code",
   "source": [
    "#Valores igual a \"Nan\"\n",
    "df_nan = df[df['nombre_pediatra'].apply(lambda x: x == 'NaN' or x == 'Nan' or x == 'nan' or x == '')]"
   ],
   "id": "a52fa6b2c0150c88",
   "outputs": [],
   "execution_count": 142
  },
  {
   "metadata": {
    "ExecuteTime": {
     "end_time": "2024-07-20T01:07:32.901469Z",
     "start_time": "2024-07-20T01:07:32.896650Z"
    }
   },
   "cell_type": "code",
   "source": [
    "#Valores nulos\n",
    "nulos = df['nombre_pediatra'].isnull().sum()\n",
    "#Suma de nulos y Nan\n",
    "print(f\"Valores faltantes en la columna 'nombre_pediatra': {nulos + len(df_nan)}\")"
   ],
   "id": "d031d5a56981a440",
   "outputs": [
    {
     "name": "stdout",
     "output_type": "stream",
     "text": [
      "Valores faltantes en la columna 'nombre_pediatra': 79\n"
     ]
    }
   ],
   "execution_count": 143
  },
  {
   "metadata": {},
   "cell_type": "markdown",
   "source": "**Procedimiento :** Se reemplazara los valores faltantes ",
   "id": "6f880ef0133fd6e6"
  },
  {
   "metadata": {},
   "cell_type": "markdown",
   "source": "'nombre_padre'",
   "id": "b40f281bfea0aab1"
  },
  {
   "metadata": {
    "ExecuteTime": {
     "end_time": "2024-07-20T01:07:33.122742Z",
     "start_time": "2024-07-20T01:07:33.116610Z"
    }
   },
   "cell_type": "code",
   "source": [
    "#Reemplazamos donde sea nulo por 'Nombre Desconocido'\n",
    "df['nombre_padre'] = df['nombre_padre'].fillna('Nombre Desconocido')\n",
    "#Reemplazamos donde sea Nan por 'Nombre Desconocido'\n",
    "df['nombre_padre'] = df['nombre_padre'].replace({'Nan': 'Nombre Desconocido', 'nan': 'Nombre Desconocido', 'NaN': 'Nombre Desconocido', '': 'Nombre Desconocido'})"
   ],
   "id": "2a12e09bbf322f0e",
   "outputs": [],
   "execution_count": 144
  },
  {
   "metadata": {},
   "cell_type": "markdown",
   "source": "'nombre_madre'",
   "id": "8e3f596e75905695"
  },
  {
   "metadata": {
    "ExecuteTime": {
     "end_time": "2024-07-20T01:07:33.192969Z",
     "start_time": "2024-07-20T01:07:33.187050Z"
    }
   },
   "cell_type": "code",
   "source": [
    "#Reemplazamos donde sea nulo por 'Nombre Desconocido'\n",
    "df['nombre_madre'] = df['nombre_madre'].fillna('Nombre Desconocido')\n",
    "#Reemplazamos donde sea Nan por 'Nombre Desconocido'\n",
    "df['nombre_madre'] = df['nombre_madre'].replace({'Nan': 'Nombre Desconocido', 'nan': 'Nombre Desconocido', 'NaN': 'Nombre Desconocido', '': 'Nombre Desconocido'})"
   ],
   "id": "87fdc2e1a5147ee3",
   "outputs": [],
   "execution_count": 145
  },
  {
   "metadata": {},
   "cell_type": "markdown",
   "source": "'nombre_pediatra'",
   "id": "b3590f28cfe632dd"
  },
  {
   "metadata": {
    "ExecuteTime": {
     "end_time": "2024-07-20T01:07:33.446984Z",
     "start_time": "2024-07-20T01:07:33.440471Z"
    }
   },
   "cell_type": "code",
   "source": [
    "#Reemplazamos donde sea nulo por 'Nombre Desconocido'\n",
    "df['nombre_pediatra'] = df['nombre_pediatra'].fillna('Nombre Desconocido')\n",
    "#Reemplazamos donde sea Nan por 'Nombre Desconocido'\n",
    "df['nombre_pediatra'] = df['nombre_pediatra'].replace({'Nan': 'Nombre Desconocido', 'nan': 'Nombre Desconocido', 'NaN': 'Nombre Desconocido', '': 'Nombre Desconocido'})"
   ],
   "id": "a18f1261af7d3e52",
   "outputs": [],
   "execution_count": 146
  },
  {
   "metadata": {},
   "cell_type": "markdown",
   "source": "### Formato de datos",
   "id": "6bdbcb54092b1482"
  },
  {
   "metadata": {},
   "cell_type": "markdown",
   "source": "**Procedimiento :** Se estandarizara los datos de las columna importando la funcion \"estandarizacion\" del archivo \"Estandarizar.py\" (En el archivo se encuentra el proceso)",
   "id": "25460c61c7384d4f"
  },
  {
   "metadata": {
    "ExecuteTime": {
     "end_time": "2024-07-20T01:07:33.526593Z",
     "start_time": "2024-07-20T01:07:33.516994Z"
    }
   },
   "cell_type": "code",
   "source": [
    "df['nombre_madre'] = df['nombre_madre'].apply(estandarizacion)\n",
    "df['nombre_padre'] = df['nombre_padre'].apply(estandarizacion)\n",
    "df['nombre_pediatra'] = df['nombre_pediatra'].apply(estandarizacion)"
   ],
   "id": "a90157d66e1cc0d",
   "outputs": [],
   "execution_count": 147
  },
  {
   "metadata": {},
   "cell_type": "markdown",
   "source": "**Resultado**",
   "id": "6958ef2db20daa86"
  },
  {
   "metadata": {
    "ExecuteTime": {
     "end_time": "2024-07-20T01:07:33.726679Z",
     "start_time": "2024-07-20T01:07:33.716376Z"
    }
   },
   "cell_type": "code",
   "source": "df[['nombre_madre', 'nombre_padre', 'nombre_pediatra']].head()",
   "id": "326a15d7e5fa94d5",
   "outputs": [
    {
     "data": {
      "text/plain": [
       "                     nombre_madre                   nombre_padre  \\\n",
       "0  Gloria Catalina Trujano Mirand             Nombre Desconocido   \n",
       "1  Rosa Maria Bustamante Oseguera     Carlos San Nicolas Miranda   \n",
       "2  Rosa Maria Bustamante Oseguera  Carlos San Nicolas Bustamante   \n",
       "3    Maria Del Carmen Tirado a. .        Jose Pedro Vizuet Lopez   \n",
       "4      Diana Laura Vazquez Mendez   Allson Hari Aguilar Trujillo   \n",
       "\n",
       "         nombre_pediatra  \n",
       "0   Dra. Veronica Delado  \n",
       "1  Dra. Alejandra Muench  \n",
       "2  Dra. Alejandra Muench  \n",
       "3     Nombre Desconocido  \n",
       "4           Dr. Go0ngora  "
      ],
      "text/html": [
       "<div>\n",
       "<style scoped>\n",
       "    .dataframe tbody tr th:only-of-type {\n",
       "        vertical-align: middle;\n",
       "    }\n",
       "\n",
       "    .dataframe tbody tr th {\n",
       "        vertical-align: top;\n",
       "    }\n",
       "\n",
       "    .dataframe thead th {\n",
       "        text-align: right;\n",
       "    }\n",
       "</style>\n",
       "<table border=\"1\" class=\"dataframe\">\n",
       "  <thead>\n",
       "    <tr style=\"text-align: right;\">\n",
       "      <th></th>\n",
       "      <th>nombre_madre</th>\n",
       "      <th>nombre_padre</th>\n",
       "      <th>nombre_pediatra</th>\n",
       "    </tr>\n",
       "  </thead>\n",
       "  <tbody>\n",
       "    <tr>\n",
       "      <th>0</th>\n",
       "      <td>Gloria Catalina Trujano Mirand</td>\n",
       "      <td>Nombre Desconocido</td>\n",
       "      <td>Dra. Veronica Delado</td>\n",
       "    </tr>\n",
       "    <tr>\n",
       "      <th>1</th>\n",
       "      <td>Rosa Maria Bustamante Oseguera</td>\n",
       "      <td>Carlos San Nicolas Miranda</td>\n",
       "      <td>Dra. Alejandra Muench</td>\n",
       "    </tr>\n",
       "    <tr>\n",
       "      <th>2</th>\n",
       "      <td>Rosa Maria Bustamante Oseguera</td>\n",
       "      <td>Carlos San Nicolas Bustamante</td>\n",
       "      <td>Dra. Alejandra Muench</td>\n",
       "    </tr>\n",
       "    <tr>\n",
       "      <th>3</th>\n",
       "      <td>Maria Del Carmen Tirado a. .</td>\n",
       "      <td>Jose Pedro Vizuet Lopez</td>\n",
       "      <td>Nombre Desconocido</td>\n",
       "    </tr>\n",
       "    <tr>\n",
       "      <th>4</th>\n",
       "      <td>Diana Laura Vazquez Mendez</td>\n",
       "      <td>Allson Hari Aguilar Trujillo</td>\n",
       "      <td>Dr. Go0ngora</td>\n",
       "    </tr>\n",
       "  </tbody>\n",
       "</table>\n",
       "</div>"
      ]
     },
     "execution_count": 148,
     "metadata": {},
     "output_type": "execute_result"
    }
   ],
   "execution_count": 148
  },
  {
   "metadata": {},
   "cell_type": "markdown",
   "source": "## <font color=\"#f9a177\">\"ocupam\", \"ocupap\", \"emprep\", \"emprem\"</font>",
   "id": "d5f4629d868348c3"
  },
  {
   "metadata": {},
   "cell_type": "markdown",
   "source": "### Interpretacion",
   "id": "3d1eac80fba475cd"
  },
  {
   "metadata": {},
   "cell_type": "markdown",
   "source": [
    "- ocupam: Ocupacion de la madre\n",
    "- ocupap: Ocupacion del padre\n",
    "- emprep: Empresa donde trabaja el padre\n",
    "- emprem: Empresa donde trabaja la madre\n",
    "- "
   ],
   "id": "dabcf42ad676c68a"
  },
  {
   "metadata": {},
   "cell_type": "markdown",
   "source": "**Procedimiento :** Se cambiara el nombre de las columnas para una mejor comprension.",
   "id": "b2f91f49ee21eeca"
  },
  {
   "metadata": {
    "ExecuteTime": {
     "end_time": "2024-07-20T01:07:33.788696Z",
     "start_time": "2024-07-20T01:07:33.783687Z"
    }
   },
   "cell_type": "code",
   "source": "df.rename(columns={'ocupam': 'ocupacion_madre', 'ocupap': 'ocupacion_padre', 'emprep': 'empresa_padre', 'emprem': 'empresa_madre'}, inplace=True)",
   "id": "c958676df7d67037",
   "outputs": [],
   "execution_count": 149
  },
  {
   "metadata": {},
   "cell_type": "markdown",
   "source": "### Tipo de dato",
   "id": "86fc97c777ddb80a"
  },
  {
   "metadata": {
    "ExecuteTime": {
     "end_time": "2024-07-20T01:07:34.022696Z",
     "start_time": "2024-07-20T01:07:34.015708Z"
    }
   },
   "cell_type": "code",
   "source": [
    "#Vamos a ver si hay datos de diferentes tipos en 'ocupacion_madre'\n",
    "df['ocupacion_madre'].apply(lambda x: type(x)).value_counts()"
   ],
   "id": "ced5cbb934c056be",
   "outputs": [
    {
     "data": {
      "text/plain": [
       "ocupacion_madre\n",
       "<class 'str'>      418\n",
       "<class 'float'>     13\n",
       "Name: count, dtype: int64"
      ]
     },
     "execution_count": 150,
     "metadata": {},
     "output_type": "execute_result"
    }
   ],
   "execution_count": 150
  },
  {
   "metadata": {
    "ExecuteTime": {
     "end_time": "2024-07-20T01:07:34.166913Z",
     "start_time": "2024-07-20T01:07:34.158120Z"
    }
   },
   "cell_type": "code",
   "source": [
    "#Vamos a ver si hay datos de diferentes tipos en 'ocupaion_padre'\n",
    "df['ocupacion_padre'].apply(lambda x: type(x)).value_counts()"
   ],
   "id": "f2a0ed9beffc8b73",
   "outputs": [
    {
     "data": {
      "text/plain": [
       "ocupacion_padre\n",
       "<class 'str'>      402\n",
       "<class 'float'>     29\n",
       "Name: count, dtype: int64"
      ]
     },
     "execution_count": 151,
     "metadata": {},
     "output_type": "execute_result"
    }
   ],
   "execution_count": 151
  },
  {
   "metadata": {
    "ExecuteTime": {
     "end_time": "2024-07-20T01:07:34.452549Z",
     "start_time": "2024-07-20T01:07:34.443807Z"
    }
   },
   "cell_type": "code",
   "source": [
    "#Vamos a ver si hay datos de diferentes tipos en 'empresa_padre'\n",
    "df['empresa_padre'].apply(lambda x: type(x)).value_counts()"
   ],
   "id": "bf8661413677ff0e",
   "outputs": [
    {
     "data": {
      "text/plain": [
       "empresa_padre\n",
       "<class 'str'>      319\n",
       "<class 'float'>    112\n",
       "Name: count, dtype: int64"
      ]
     },
     "execution_count": 152,
     "metadata": {},
     "output_type": "execute_result"
    }
   ],
   "execution_count": 152
  },
  {
   "metadata": {
    "ExecuteTime": {
     "end_time": "2024-07-20T01:07:34.590150Z",
     "start_time": "2024-07-20T01:07:34.580559Z"
    }
   },
   "cell_type": "code",
   "source": [
    "#Vamos a ver si hay datos de diferentes tipos en 'empresa_madre'\n",
    "df['empresa_madre'].apply(lambda x: type(x)).value_counts()"
   ],
   "id": "35c3618ab0b90d8a",
   "outputs": [
    {
     "data": {
      "text/plain": [
       "empresa_madre\n",
       "<class 'str'>      312\n",
       "<class 'float'>    119\n",
       "Name: count, dtype: int64"
      ]
     },
     "execution_count": 153,
     "metadata": {},
     "output_type": "execute_result"
    }
   ],
   "execution_count": 153
  },
  {
   "metadata": {},
   "cell_type": "markdown",
   "source": "**Procedimiento :** Se cambiara a str las columnas",
   "id": "60f25479f7467c36"
  },
  {
   "metadata": {
    "ExecuteTime": {
     "end_time": "2024-07-20T01:07:34.919751Z",
     "start_time": "2024-07-20T01:07:34.913160Z"
    }
   },
   "cell_type": "code",
   "source": [
    "df['ocupacion_madre'] = df['ocupacion_madre'].astype(str)\n",
    "df['ocupacion_padre'] = df['ocupacion_padre'].astype(str)\n",
    "df['empresa_padre'] = df['empresa_padre'].astype(str)\n",
    "df['empresa_madre'] = df['empresa_madre'].astype(str)"
   ],
   "id": "a942b14dbcd4e7b2",
   "outputs": [],
   "execution_count": 154
  },
  {
   "metadata": {},
   "cell_type": "markdown",
   "source": "### Valores faltantes",
   "id": "87998bfbdb15d123"
  },
  {
   "metadata": {
    "ExecuteTime": {
     "end_time": "2024-07-20T01:07:35.054975Z",
     "start_time": "2024-07-20T01:07:35.048763Z"
    }
   },
   "cell_type": "code",
   "source": [
    "#Valores igual a \"Nan\"\n",
    "df_nan = df[df['ocupacion_padre'].apply(lambda x: x == 'NaN' or x == 'Nan' or x == 'nan' or x == '')]\n",
    "#Valores nulos"
   ],
   "id": "e7bcde300755ddac",
   "outputs": [],
   "execution_count": 155
  },
  {
   "metadata": {
    "ExecuteTime": {
     "end_time": "2024-07-20T01:07:35.312154Z",
     "start_time": "2024-07-20T01:07:35.304984Z"
    }
   },
   "cell_type": "code",
   "source": [
    "nulos = df['ocupacion_padre'].isnull().sum()\n",
    "#Suma de nulos y Nan\n",
    "print(f\"Valores faltantes en la columna 'ocupacion_padre': {nulos + len(df_nan)}\")"
   ],
   "id": "e3a7a152e52b37ea",
   "outputs": [
    {
     "name": "stdout",
     "output_type": "stream",
     "text": [
      "Valores faltantes en la columna 'ocupacion_padre': 29\n"
     ]
    }
   ],
   "execution_count": 156
  },
  {
   "metadata": {
    "ExecuteTime": {
     "end_time": "2024-07-20T01:07:35.437621Z",
     "start_time": "2024-07-20T01:07:35.431169Z"
    }
   },
   "cell_type": "code",
   "source": [
    "#Valores igual a \"Nan\"\n",
    "df_nan = df[df['ocupacion_madre'].apply(lambda x: x == 'NaN' or x == 'Nan' or x == 'nan' or x == '')]\n",
    "#Valores nulos"
   ],
   "id": "e20a8c5f5fd4582e",
   "outputs": [],
   "execution_count": 157
  },
  {
   "metadata": {
    "ExecuteTime": {
     "end_time": "2024-07-20T01:07:35.662427Z",
     "start_time": "2024-07-20T01:07:35.655631Z"
    }
   },
   "cell_type": "code",
   "source": [
    "nulos = df['ocupacion_madre'].isnull().sum()\n",
    "#Suma de nulos y Nan\n",
    "print(f\"Valores faltantes en la columna 'ocupacion_madre': {nulos + len(df_nan)}\")"
   ],
   "id": "4fa3d7fd795e9c77",
   "outputs": [
    {
     "name": "stdout",
     "output_type": "stream",
     "text": [
      "Valores faltantes en la columna 'ocupacion_madre': 13\n"
     ]
    }
   ],
   "execution_count": 158
  },
  {
   "metadata": {
    "ExecuteTime": {
     "end_time": "2024-07-20T01:07:35.911010Z",
     "start_time": "2024-07-20T01:07:35.899442Z"
    }
   },
   "cell_type": "code",
   "source": [
    "#Valores igual a \"Nan\"\n",
    "df_nan = df[df['empresa_padre'].apply(lambda x: x == 'NaN' or x == 'Nan' or x == 'nan' or x == '')]\n",
    "#Valores nulos"
   ],
   "id": "7c03e1387094d181",
   "outputs": [],
   "execution_count": 159
  },
  {
   "metadata": {
    "ExecuteTime": {
     "end_time": "2024-07-20T01:07:36.125168Z",
     "start_time": "2024-07-20T01:07:36.118017Z"
    }
   },
   "cell_type": "code",
   "source": [
    "nulos = df['empresa_padre'].isnull().sum()\n",
    "#Suma de nulos y Nan\n",
    "print(f\"Valores faltantes en la columna 'empresa_padre': {nulos + len(df_nan)}\")"
   ],
   "id": "ea9540abaa844cf4",
   "outputs": [
    {
     "name": "stdout",
     "output_type": "stream",
     "text": [
      "Valores faltantes en la columna 'empresa_padre': 112\n"
     ]
    }
   ],
   "execution_count": 160
  },
  {
   "metadata": {
    "ExecuteTime": {
     "end_time": "2024-07-20T01:07:36.260898Z",
     "start_time": "2024-07-20T01:07:36.254198Z"
    }
   },
   "cell_type": "code",
   "source": [
    "#Valores igual a \"Nan\"\n",
    "df_nan = df[df['empresa_madre'].apply(lambda x: x == 'NaN' or x == 'Nan' or x == 'nan' or x == '')]\n",
    "#Valores nulos"
   ],
   "id": "6f196796bb94cf28",
   "outputs": [],
   "execution_count": 161
  },
  {
   "metadata": {
    "ExecuteTime": {
     "end_time": "2024-07-20T01:07:36.452628Z",
     "start_time": "2024-07-20T01:07:36.446910Z"
    }
   },
   "cell_type": "code",
   "source": [
    "nulos = df['empresa_madre'].isnull().sum()\n",
    "#Suma de nulos y Nan\n",
    "print(f\"Valores faltantes en la columna 'empresa_madre': {nulos + len(df_nan)}\")"
   ],
   "id": "b0b64a8d0d68e761",
   "outputs": [
    {
     "name": "stdout",
     "output_type": "stream",
     "text": [
      "Valores faltantes en la columna 'empresa_madre': 119\n"
     ]
    }
   ],
   "execution_count": 162
  },
  {
   "metadata": {},
   "cell_type": "markdown",
   "source": "**Procedimiento :** Se reemplazara los valores faltantes ",
   "id": "b2eb1e5596294ff0"
  },
  {
   "metadata": {},
   "cell_type": "markdown",
   "source": "'ocupacion_padre'",
   "id": "52aa1ea4aed33663"
  },
  {
   "metadata": {
    "ExecuteTime": {
     "end_time": "2024-07-20T01:07:36.531158Z",
     "start_time": "2024-07-20T01:07:36.524642Z"
    }
   },
   "cell_type": "code",
   "source": [
    "#Reemplazamos donde sea nulo por 'Ocupacion Desconocida'\n",
    "df['ocupacion_padre'] = df['ocupacion_padre'].fillna('Ocupacion Desconocida')\n",
    "#Reemplazamos donde sea Nan por 'Ocupacion Desconocida'\n",
    "df['ocupacion_padre'] = df['ocupacion_padre'].replace({'Nan': 'Ocupacion Desconocida', 'nan': 'Ocupacion Desconocida', 'NaN': 'Ocupacion Desconocida', '': 'Ocupacion Desconocida'})"
   ],
   "id": "1653c52eb193264",
   "outputs": [],
   "execution_count": 163
  },
  {
   "metadata": {},
   "cell_type": "markdown",
   "source": "'ocupacion_madre'",
   "id": "e576a46cf442d01d"
  },
  {
   "metadata": {
    "ExecuteTime": {
     "end_time": "2024-07-20T01:07:36.747225Z",
     "start_time": "2024-07-20T01:07:36.741396Z"
    }
   },
   "cell_type": "code",
   "source": [
    "#Reemplazamos donde sea nulo por 'Ocupacion Desconocida'\n",
    "df['ocupacion_madre'] = df['ocupacion_madre'].fillna('Ocupacion Desconocida')\n",
    "#Reemplazamos donde sea Nan por 'Ocupacion Desconocida'\n",
    "df['ocupacion_madre'] = df['ocupacion_madre'].replace({'Nan': 'Ocupacion Desconocida', 'nan': 'Ocupacion Desconocida', 'NaN': 'Ocupacion Desconocida', '': 'Ocupacion Desconocida'})"
   ],
   "id": "33cd200e3bd09acd",
   "outputs": [],
   "execution_count": 164
  },
  {
   "metadata": {},
   "cell_type": "markdown",
   "source": "'empresa_padre'",
   "id": "35b82d0b4d3998c4"
  },
  {
   "metadata": {
    "ExecuteTime": {
     "end_time": "2024-07-20T01:07:36.845756Z",
     "start_time": "2024-07-20T01:07:36.838834Z"
    }
   },
   "cell_type": "code",
   "source": [
    "#Reemplazamos donde sea nulo por 'Empresa Desconocida'\n",
    "df['empresa_padre'] = df['empresa_padre'].fillna('Empresa Desconocida')\n",
    "#Reemplazamos donde sea Nan por 'Empresa Desconocida'\n",
    "df['empresa_padre'] = df['empresa_padre'].replace({'Nan': 'Empresa Desconocida', 'nan': 'Empresa Desconocida', 'NaN': 'Empresa Desconocida', '': 'Empresa Desconocida'})"
   ],
   "id": "70afd991b76d1602",
   "outputs": [],
   "execution_count": 165
  },
  {
   "metadata": {},
   "cell_type": "markdown",
   "source": "'empresa_madre'",
   "id": "6fbf4cb13113fea5"
  },
  {
   "metadata": {
    "ExecuteTime": {
     "end_time": "2024-07-20T01:07:37.063207Z",
     "start_time": "2024-07-20T01:07:37.057610Z"
    }
   },
   "cell_type": "code",
   "source": [
    "#Reemplazamos donde sea nulo por 'Empresa Desconocida'\n",
    "df['empresa_madre'] = df['empresa_madre'].fillna('Empresa Desconocida')\n",
    "#Reemplazamos donde sea Nan por 'Empresa Desconocida'\n",
    "df['empresa_madre'] = df['empresa_madre'].replace({'Nan': 'Empresa Desconocida', 'nan': 'Empresa Desconocida', 'NaN': 'Empresa Desconocida', '': 'Empresa Desconocida'})"
   ],
   "id": "36f86a161ea7116",
   "outputs": [],
   "execution_count": 166
  },
  {
   "metadata": {},
   "cell_type": "markdown",
   "source": "### Formato de datos",
   "id": "5fe9691ba5f680bf"
  },
  {
   "metadata": {},
   "cell_type": "markdown",
   "source": "**Procedimiento :** Se estandarizara los datos de las columna importando la funcion \"estandarizacion\" del archivo \"Estandarizar.py\" (En el archivo se encuentra el proceso)",
   "id": "15d9c3e4322b831a"
  },
  {
   "metadata": {
    "ExecuteTime": {
     "end_time": "2024-07-20T01:07:37.138394Z",
     "start_time": "2024-07-20T01:07:37.128267Z"
    }
   },
   "cell_type": "code",
   "source": [
    "df['ocupacion_madre'] = df['ocupacion_madre'].apply(estandarizacion)\n",
    "df['ocupacion_padre'] = df['ocupacion_padre'].apply(estandarizacion)\n",
    "df['empresa_padre'] = df['empresa_padre'].apply(estandarizacion)\n",
    "df['empresa_madre'] = df['empresa_madre'].apply(estandarizacion)\n",
    "#Hacemos mayuscula la letra antes de un caracter '.' en la columna 'empresa_padre'\n",
    "df['empresa_padre'] = df['empresa_padre'].apply(lambda x: x.replace('. ', '.').title())\n",
    "#Hacemos mayuscula la letra antes de un caracter '.' en la columna 'empresa_padre'\n",
    "df['empresa_madre'] = df['empresa_madre'].apply(lambda x: x.replace('. ', '.').title())"
   ],
   "id": "38d7f44f53c58052",
   "outputs": [],
   "execution_count": 167
  },
  {
   "metadata": {},
   "cell_type": "markdown",
   "source": "**Observacion :** Se hizo un paso adicional en las empresas ya que se suele abreviar el nombre",
   "id": "f50c41b504bb425b"
  },
  {
   "metadata": {
    "ExecuteTime": {
     "end_time": "2024-07-20T01:07:37.359864Z",
     "start_time": "2024-07-20T01:07:37.353409Z"
    }
   },
   "cell_type": "code",
   "source": [
    "#Hacer mayuscula el caracter antes de cada '.' en la columna'empresa_padre'\n",
    "df['empresa_padre'] = df['empresa_padre'].apply(lambda x: '.'.join([i.title() for i in x.split('.')]))"
   ],
   "id": "6fe5bcd9595edfec",
   "outputs": [],
   "execution_count": 168
  },
  {
   "metadata": {},
   "cell_type": "markdown",
   "source": "**Resultado**",
   "id": "1a1f02070c1654e0"
  },
  {
   "metadata": {
    "ExecuteTime": {
     "end_time": "2024-07-20T01:07:37.447561Z",
     "start_time": "2024-07-20T01:07:37.440314Z"
    }
   },
   "cell_type": "code",
   "source": "df['ocupacion_madre'].unique()  ",
   "id": "5286dc717f7e993f",
   "outputs": [
    {
     "data": {
      "text/plain": [
       "array(['Lic. en Derecho', 'Lae', 'Lic. . Admon. de a',\n",
       "       'Profesora Jubilada', 'Enfermera /docente', 'Ama d Ecasa',\n",
       "       'Empleada', 'Docente/contador Pub', 'Docente', 'Relaciones Comerc',\n",
       "       'Profesor', 'Comerciante', 'Lic. en Turismo', 'Ama de Casa',\n",
       "       'Directora', 'Ing. Bioquimico', 'Contador Publico',\n",
       "       'Comerciante /ing. en', 'Odontologa', 'Lic. . Admon.', 'Medico',\n",
       "       'Nercadotecnia', 'Optometrista', 'Administrativo',\n",
       "       'Lic. Administracion', 'Dra. en Ciencias en d',\n",
       "       'Licenciatura en Moda', 'Lic. en Educacion pr', 't. Laboratorista',\n",
       "       'Administradora', 'Profesional', 'Cir Dentista Maxl', 'Contadora',\n",
       "       'Profesor Investigado', 'Ing. Petrolero', 'Hogar',\n",
       "       'Maestra de Proyes', 'Profesora', 'Admon. de Empresas',\n",
       "       'Lic. en Economica', 'Ingeniero Civil', 'Enfermeria',\n",
       "       'Medico Legista', 'Ocupacion Desconocida', 'Secretaria Ejecutiva',\n",
       "       'Maestra', 'Lic. en Mercadotecnia', 'Lic. en Mercadotecni',\n",
       "       'Dentista', 'Ortodoncista', 'Ing. Industrial', 'Lic. Admon',\n",
       "       'Licenciatura', 'Licenciada/ama de ca', 'Pedagoga', 'Estudiante',\n",
       "       'Lic. en Admon. Empre', 'Economista/estadista', 'Ingeniera',\n",
       "       'Empresaria', 'Doctorado', 'Lic. Com. Int', 'Artusta Plastica',\n",
       "       'Administradora de em', 'Laet', 'Lic. Turismo/ Docent',\n",
       "       'Nutricion Clinica', 'Ginecologa', 'Odontopediatra',\n",
       "       'Psiconalista', 'Abogada', 'Abogado', 'Ingeniera Civil Proy',\n",
       "       'Servidor Publico', 'Admon. Empresas', 'Administrador de Emp',\n",
       "       'Enfermera', 'Lic. en Enfermer', 'Mc. en Fitopatologia',\n",
       "       'Secretaria', 'Llic. Turismo', 'Ing. en Sistemas',\n",
       "       'Ing. Quimico Industr', 'Administracion', 'Lic. Admon. Industrial',\n",
       "       'Lic. Contaduria', 'Lic. Relaciones c', 'Lic. Informatica',\n",
       "       'Empleado (servidor p', 'Psicologa', 'Lic. en Administraci',\n",
       "       'Estudante', 'Diseñadora Grafi', 'Lic. Relaciones', 'Ing. Civil',\n",
       "       'Ing. Agronomo', 'Cosmetologa', 'Comercio', 'Diseñadora de Modas',\n",
       "       'Quimica Farmaceu', 'Licenciada', 'Estudiante S(univers',\n",
       "       'Cosmiatra', 'Medico Dermatologo', 'Licenciada en Enferm',\n",
       "       'Preparatoria', 'Licienciatura', 'Lic. Terapia Fisa', 'Diseñadora',\n",
       "       'Lic. Ciencias Politic', 'Lic. Negocios Inter',\n",
       "       'Maestra en Ciencias', 'Lic. Medicina', 'Arquitecta',\n",
       "       'Lic. en Contaduria p', 'Lic. en Matematicas', 'Lic en Educacion',\n",
       "       'Ventas', 'Lic. Mkt Asesor de', 'Empleada Administrat',\n",
       "       'Supervisor de Operac', 'Odontologa/maestria',\n",
       "       'Lic. Relaciones Inte', 'Criminalista/empresa', 'Medico Pediatra',\n",
       "       'Lic. en Relaciones i', 'Lic. en Contaduria', 'Servidor Pubico',\n",
       "       'Tecnico Superior', 'Tec. Contabilidad', 'Lic. en Sistemas',\n",
       "       'Medico Gral.', 'Diseñarora Floral', 'Maestria Derecho',\n",
       "       'Maestria en Dereh', 'Instructora de Natac',\n",
       "       'Lic. Contaduria y fi', 'Maestra de Ingles', 'Lic. en r. i.',\n",
       "       'Administrado de s', 'Podooga', 'Lic. en Comercio', 'Trabajador',\n",
       "       'Lic. en Comercio Int', 'Lic. . en Enferfea', 'Maquillista',\n",
       "       'Sobre Cargo', 'Sobracargo', 'Sobrecargo', 'Ing. Forestal',\n",
       "       'Enfermera Especialis', 'Licenciatura Mkt.', 'Maestra Preescolar'],\n",
       "      dtype=object)"
      ]
     },
     "execution_count": 169,
     "metadata": {},
     "output_type": "execute_result"
    }
   ],
   "execution_count": 169
  },
  {
   "metadata": {
    "ExecuteTime": {
     "end_time": "2024-07-20T01:07:37.646795Z",
     "start_time": "2024-07-20T01:07:37.639580Z"
    }
   },
   "cell_type": "code",
   "source": "df['ocupacion_padre'].unique()",
   "id": "b720ef021ee9f3ef",
   "outputs": [
    {
     "data": {
      "text/plain": [
       "array(['Ocupacion Desconocida', 'Contratista', 'Profesor Jubilado',\n",
       "       'Abogado/servidor Pub', 'Empresario', 'Insgeniero',\n",
       "       'Lic. Educacion Físic', 'Docente', 'Empleado', 'Profesor',\n",
       "       'Psicologo', 'Empleago', 'Administrador', 'Posgrado',\n",
       "       'Ing. Quimico', 'Lic. en Administraci', 'Ing. Mecanico / Come',\n",
       "       'Medico', 'Ginecologoobstreta', 'Comerciante', 'Lic. Mercadotecn',\n",
       "       'Economista', 'Cirujano Dentista', 'Lae', 'Lic. Diseño Grafi',\n",
       "       'Camarografo', 'Anesteciologo', 'Dentista Ortodona',\n",
       "       'Profesorinvestigado', 'Profesor Investigado', 'Electricista',\n",
       "       'Ing. Petrolero', 'Jubilado', 'Servidor Publico',\n",
       "       'Ing. en Comunicacion', 'Ing. Comunicaciones y',\n",
       "       'Ing. en Sis Computac', 'Ing. Irrigacion', 'Contador',\n",
       "       'Administrador Mca', 'Ingeniero Civil', 'Tecnico Radiolog',\n",
       "       'Obrero', 'Empleaco', 'Lic. en Computacion', 'Abogado',\n",
       "       'Ing. en Computo', 'Ing. Agronomo', 'Medico Especialista',\n",
       "       'Mecanico en Aviacion', 'Dentista', 'Ing. Biomedico',\n",
       "       'Licenciatura', 'Lic. Administracion', 'Tutor Abueno Paterno',\n",
       "       'Comerciante (mercado', 'Economista/demagrafo', 'Empresaria',\n",
       "       'Doctorado', 'Contador Publico', 'Medico Veterinario z', 'Chef',\n",
       "       'Ingeniero', 'Lic. en Derecho', 'Lic. Informatica Adm',\n",
       "       'Empresario Ing. Auto', 'Ginecologo', 'Arquitecto', 'Maestro',\n",
       "       'Ing. Civil', 'Medico Pediatra', 'Cirujanocoloproctolo',\n",
       "       'Docente/psicologo', 'Dr. en Psicologia', 'Ing. en Sistemas',\n",
       "       'Ing en Sistemas', 'Actuario', 'Constructor',\n",
       "       'Licenciado en Relaci', 'Ing. Mecanico', 'Licenciado', 'Hogar',\n",
       "       'Gestor Funerario', 'Medico Posgrado', 'Tecnico Superior',\n",
       "       'Medico Veterinario', 'Diseñador Grafic', 'Micro Empresaro',\n",
       "       'Lic. Admon. Indust', 'Ing. Industrial', 'Programador',\n",
       "       'Odontologo', 'Empleado Gob.', 'Turismo', 'Lic. en Diseño Grafi',\n",
       "       'Lic. Relaciones i.', 'Mecanico', 'Obrero Mecanico',\n",
       "       'Director en Ciencias', 'Comercio', 'Em´pleado',\n",
       "       'Ing. Agronomo/doctor', 'Finado', 'Comerciantes',\n",
       "       'Lic. Relaciones Inte', 'Lic. en Rel. Interna', 'Admon. Ing.',\n",
       "       'Medico Radiologo Esp', 'Medico/radiologo', 'Ingenieria',\n",
       "       'Medico Ortopedis', 'Doctor en Ciencias', 'Empleado Del Gob',\n",
       "       'Lic. Entrenamiento d', 'Ing. Forestal', 'Admon. Empresas',\n",
       "       'Operador', 'Ing. Desarrollo de so', 'Abogado/empleado Gob',\n",
       "       'Comerc9iante', 'Maestria', 'Administrador Educat',\n",
       "       'Lic. en Admon.', 'Transportista', 'Lic. Ad. Empresas',\n",
       "       'Medico Internista', 'Ingeniero en Sistema',\n",
       "       'Licenciado en Derech', 'Piloto Aviador', 'Textilero',\n",
       "       'Preparatoria', 'Lic. Informatica', 'Ing. en Audio', 'Mercadologo',\n",
       "       'Ing. Topografo', 'Medico Veterinaro', 'Policia',\n",
       "       'Cirujano Dentist', 'Ing. Mecanico Indust', 'Ing. Electricista',\n",
       "       'Ing Quimico', 'Plubicista', 'Lic. en Admon. e', 'Lic. en Turismo',\n",
       "       'Comerciantge', 'Quimico', 'Conde', 'Licenciado en Enferm',\n",
       "       'Adminstrador', 'Lic. Admon. Emprs', 'Ingeniero Mecanico',\n",
       "       'Lic. Administrac', 'Empreado de Gobierno', 'Medico Cirujano'],\n",
       "      dtype=object)"
      ]
     },
     "execution_count": 170,
     "metadata": {},
     "output_type": "execute_result"
    }
   ],
   "execution_count": 170
  },
  {
   "metadata": {
    "ExecuteTime": {
     "end_time": "2024-07-20T01:07:37.746999Z",
     "start_time": "2024-07-20T01:07:37.738803Z"
    }
   },
   "cell_type": "code",
   "source": "df['empresa_padre'].unique()",
   "id": "756143354ff6d2c5",
   "outputs": [
    {
     "data": {
      "text/plain": [
       "array(['Empresa Desconocida', 'Sep (Jubilado)', 'Sep',\n",
       "       'Web Diseño Empresari', 'Esc.Prep.Of.307', 'Uaem',\n",
       "       'As Promotores Profes', 'Dnm Farmaceutsica', 'Empresaria',\n",
       "       'Prod Agrop Tepexpan.', 'Independiente', 'Abastecedora Esla.S.',\n",
       "       'Imss/Isem', 'Hospital Atenas Texc', 'Hosp Juarez De Mexic',\n",
       "       'Pasteleria Dulban', 'Agente De Seguros', 'Propia', 'Uach',\n",
       "       'Banco Santander', 'Santander', 'Comercio', 'Televisa', 'Imss',\n",
       "       'Dental Harmony', 'Acefsa.Sa De Cv', 'Comision Federal De',\n",
       "       'Comision Federal', 'Pemex', 'Jubilado', 'Gobierno Del Estado',\n",
       "       'Autoempleado', 'Negocio Propio', 'Conagua.San Juan De',\n",
       "       'Conacorp Sa De Cv', 'G500 Network', 'Construccion', 'Empleado',\n",
       "       'Global Gas', 'Camara De Diputados', 'Bbva Bancomer',\n",
       "       'Lacteos Y Carnes', 'Empresa Propia', 'Consultorio Propio',\n",
       "       'Mexicana Mro Service', 'Colegio De Postradua', 'Uaem Texcoco',\n",
       "       'Particular', 'Hospital Gral.Dr.M', 'Diseño Grafico',\n",
       "       'Casa Garcia', 'Hielo Texcoco', 'Purificadora Masagua',\n",
       "       'Comerciante', 'Beubelle.Comercializ', 'Central De Abastos',\n",
       "       'Gobierno', 'Profesor Investigado', 'Moda Sweet',\n",
       "       'Distribuidora De Pol', 'Instit.Salud Edo.Me',\n",
       "       'Restaurant La Bahia', 'Grupo Textil Vengali', 'Telcel',\n",
       "       'Constructora Kasami', 'Constructora Kasami.',\n",
       "       'Termoformados Starpa', 'Multilog Internacion',\n",
       "       'Fiscalia Gral.De La', 'Rectificaciones Mend',\n",
       "       'Isem Instituto Saldu', 'Certimex Agro.S C', 'Empleado Gobierno',\n",
       "       'Constructora Naoxa I', 'Integracion Profesio', \"Huberth'Z\",\n",
       "       'Hosp Santa Coleta', 'Jubilado Por La Uach', 'Consultorio Privado',\n",
       "       'Docente', 'Diseños Miguelito', 'Dist De Calzado Df',\n",
       "       'Dist.De Calzado Mar', 'Abc Advanced Bussine',\n",
       "       'Abc Advanced Busines', 'San Jeronimo Amanalc', 'Fusion Cocoa',\n",
       "       'Actinver Casa De Bol', 'Starken Group', 'Escuela Ipanti',\n",
       "       'Ipanti', 'Grupo Maseca (Gruma', 'Ayuntamiento Chicolo', 'Propio',\n",
       "       'Realty World Aereopu', 'Rubamor Ropa Deporti',\n",
       "       'Hidroequipo De Orien', 'Hidroequipos De Orie', 'Profededt',\n",
       "       'Sria.De Gobernacion', 'Sanatorio Espejel', 'Funerario Santa Tere',\n",
       "       'Inst Politecnico Nac', 'Escuela Ipanti.S.C.', 'Cfe',\n",
       "       'Gip Y Constructores', 'Grupo De Ingenieros',\n",
       "       'Fiscalia De La Repub', 'Grupo Coyote', 'Pemex/Supervisor',\n",
       "       'Bba Bancomer', 'Manufacturas Sonoco', 'Panificadora Catedra',\n",
       "       'Metalizadora Santiag', 'Empleado Banco', 'Automotriz Tangamang',\n",
       "       'Danone', 'Maluka', 'Snte', 'K2 Pathering Solutio', \"D'Erandi\",\n",
       "       'Consultorio Odongolo', 'Consul Odontologia I',\n",
       "       'Ostioneria Catedral', 'Universidad Anahuac',\n",
       "       'Tribunal Superior De', 'Productor Agricola', 'Blancos Magda',\n",
       "       'Galeria De Historia', 'Sistemas De Segurida',\n",
       "       'Presidente Cruz Roja', 'Dimsa', 'Colegio De Postgradu',\n",
       "       'Hotel Posada Del Nar', 'Autoempleo', 'Poripo',\n",
       "       'Power Global Cargo', 'Manager', 'Dermedical', 'Privada',\n",
       "       'Servicios Medicos Y', 'Imss Siglo Xxi', 'Grupo Vengali',\n",
       "       'La Cabaña Del Sazon', 'Particular Clinica D', 'Rommarc',\n",
       "       'Blue Diamond', 'Finca Texcoco', 'Rancho Las Caballeri',\n",
       "       'Servicio San Sebasti', 'Romero Romero Y Asoc', 'Policia Federal',\n",
       "       'Inydes', 'Infonavit', 'Sepomex', 'Sistema P/Desarrollo', 'Telmex',\n",
       "       'Conacorp.Sa De Cv', 'Odontologo', 'Casas De Belleza San',\n",
       "       'Productos De Limpiez', 'Ligu Asesoria Fiscal',\n",
       "       'Ligu Aesoria Fiscal', 'L.A.E.H.', 'Transportronic Expre',\n",
       "       'Flower Love', 'Hospital Naval De Ve', 'Hp Inc.',\n",
       "       'Procuraduria Gral De', 'Tribunal Cdmx', 'Servidor Publico',\n",
       "       'Importadora Mybre.S', 'Textilero', 'Aesmaco', 'Transportes',\n",
       "       'Corlit.Sa De Cv', 'J&M', 'Telefonos De Mexico',\n",
       "       'Sria.De Seguridad Ci', 'Mary Fer Fashion', 'Empleado Servidor Pu',\n",
       "       'Clinica Santa Teresa', 'Auto Partes Fuell In', 'Fuel Autopartes',\n",
       "       'Aresa', 'Aereomexico', 'Profesor Uach/Unam', 'M.Rey Collection',\n",
       "       'Tex Motors', 'Casa Museo De Las Pi', 'Grupo Extil Duran S.',\n",
       "       'Atx Arquitectura Y D', 'Arquitecto', 'Escuela Preparatoria',\n",
       "       'Altamirano Trailer Y', 'Carrocerias Altamira', 'Aresisa',\n",
       "       'Particularq', 'Ennovative Solutions', 'Enfermero', 'Sofios',\n",
       "       'Empleada', 'Innovacionerarantza', 'Innovaciones Arantza',\n",
       "       'Inovaciones.S.A.De', 'Coorporativo Ambient', 'Gerente De Ventas',\n",
       "       'Casa Almazan', 'Asia Gold.S.A.De C', 'Minister Garage Tall',\n",
       "       'Jefe De Administraci', 'Jefe Administrativo', 'Semar',\n",
       "       'Bbva Mexico', 'Gobierno Del Edo.Mex', 'Fgr',\n",
       "       'El Original De Texco'], dtype=object)"
      ]
     },
     "execution_count": 171,
     "metadata": {},
     "output_type": "execute_result"
    }
   ],
   "execution_count": 171
  },
  {
   "metadata": {
    "ExecuteTime": {
     "end_time": "2024-07-20T01:07:37.997550Z",
     "start_time": "2024-07-20T01:07:37.991245Z"
    }
   },
   "cell_type": "code",
   "source": "df['empresa_madre'].unique()",
   "id": "c68316efc7eeb9a4",
   "outputs": [
    {
     "data": {
      "text/plain": [
       "array(['Servicios Admtvos.Pe', 'Empresa Desconocida', 'Abuiela Y Tutora',\n",
       "       'Uvm/Marie Curie', 'Inmexu', 'Sep', 'Web Diseño Empresari',\n",
       "       'Esc.Prep.Of.186', 'Negocio Propio', 'Aeromexico',\n",
       "       'Dnm Farmaceutsica', 'Empresaria', 'Estacionamiento Aym',\n",
       "       'Inveacdmx', 'Abastecedora Esla.S.', 'Unam',\n",
       "       'Hospital Atenas Texc', 'Centro Medico Quirur', 'Pemex',\n",
       "       'Mercadologa', 'Propia', 'Consultorio Dental 2',\n",
       "       'Senado De La Republi', 'Org.De Las Naciones', 'Comercio',\n",
       "       'Gobierno De La Ciuda', 'Tecnico Laboratorist', 'Dicam',\n",
       "       'Administrador', 'Dental Harmony', 'Manofacturas Herca.',\n",
       "       'Cbt San Diego Y Cbt', 'Cbt San Diego Cbt Ch', 'Independiente',\n",
       "       'Colegio De Postgradu', 'Ama De Casa', 'Aereomexico', '5959532364',\n",
       "       'Hogar', 'Uach', 'Cbta No.35', 'Tribunal Superior De',\n",
       "       'Consultorio Privado', 'Dg Inyecciones.S.A.',\n",
       "       'Construccion En Proy', 'Imss', 'Fiscalia Gral.De Ju',\n",
       "       'Esc.Sec.Vicente Gue', 'Escuela Ipanti.S.C.', 'E.O.P.No.270',\n",
       "       'Dental Health Texcoc', 'Deltal Health Texcoc', 'Indep.',\n",
       "       'Colegio Rosslan', 'Comerciante', 'Propio', 'Nuevo Ingreso',\n",
       "       'Colegio Josue Mirlo', 'Beubelle.Comercializ', 'Uach Div.Ciencias',\n",
       "       'Modalex', 'Profesora', 'Modas Zoe', 'Distribuidora De Pol',\n",
       "       'Melus Tattoo', 'Jasman Automotriz Sa', 'Grupo Textel Vengali',\n",
       "       'Contador Publico Ind', 'Gobierno Del Edo.Me', 'Ipanti',\n",
       "       'Sep/Docente', 'Isem', 'Escuela Ipanti.Sc', 'Clinica Grandes Sonr',\n",
       "       'Banco Santander', 'Privada Rd Dental', 'Grupo Inmobiliario Y',\n",
       "       'Imss/Isemym', 'Despacho Propio', 'Emblispark', 'Emblispack',\n",
       "       'Dist De Calzado Df', 'Dist.De Calzado Df', 'Cmsys Systems',\n",
       "       'Abc Advanced Busines', 'San Jeronimo Amanalc',\n",
       "       'Normal De Texcoco', 'Contadora', 'Hica.S.A De C.V.',\n",
       "       'Consultorio Propio', 'Gobierno Del Estado',\n",
       "       'Ayuntamiento Chicolo', 'Gob.Del Estado De M',\n",
       "       'Rubamor Ropa Deporti', 'Hidroequipos De Orie', 'Emiliano Zapata',\n",
       "       'Colegio Panamericano', 'Centro De Conciliaci', 'Secretaria',\n",
       "       'Imss/Consultorio Pri', 'Imss Hgz197', 'Amore Boutique',\n",
       "       'Dif Texcoco', 'Grupo Coyote', '5959227517', 'Escuela Pianti',\n",
       "       'Marshall', 'Panificadora Catedra', 'Columbia School',\n",
       "       'P&G Heaith Oficinas', 'Sigena Labs.S.A.De', 'Seiem',\n",
       "       'Profina.S.A.De C.V.', 'Cbt', 'Cecytem', \"D'Erandi\", 'Gobierno',\n",
       "       'Profesionista', 'Venta De A Y B', 'Instit.De La Funcion',\n",
       "       'Estudiante', 'Consultora De Bellez', 'Constr.Texcocana De',\n",
       "       'Escuela Ipanti', 'Marlora Churubusco', 'Cosmiotva',\n",
       "       'Laboratorio Clinico', 'Particular', 'Poder Judicial Del E',\n",
       "       'Braniff Despachos', 'Goza Mx', 'Pink Cooffe', 'Dermedical',\n",
       "       'Servicios Medicos Se', 'Preparatoria', 'Imss Siglo Xxi',\n",
       "       'Negocio Pripio', 'Comercializadora Que', 'U.A.Metropolitana',\n",
       "       'Empleada Tienda Depa', 'Conscultorio Particu', 'Primaria Federal',\n",
       "       'C.F.E.', 'Cimmyt', 'Universidad Autonoma', 'Escula Ipanti.S.C.',\n",
       "       'Artesania', 'Privada', 'Contador Publico', 'Seguros Monterrey',\n",
       "       'Empleada Administrat', 'Casa De Bellesa San',\n",
       "       'Viajes El Corte Ingl', \"D'Erndi\", 'Dental Estudio Molin',\n",
       "       'Congreso De La Union', 'Casa', 'Transportronic Expre',\n",
       "       'Flower Love', 'Empresa Propia', 'Centro Medico Naval',\n",
       "       'Maripower', 'Gobierno Federal', 'Isem*/H.Laytto.Chia', 'Aesmaco',\n",
       "       'Psicologa', 'Licenciatura', 'Instit.Moderno Teoti',\n",
       "       'Servidor Publico', 'Mary Fer Fashion', 'Empleado Servidor P',\n",
       "       'Fuel Auto Partes', 'Zapateria Jalisco', 'Weeklock', 'Empotex',\n",
       "       'Banco Sabadell', 'M.Rey Collection', 'Casa Museo De Las Pi',\n",
       "       'Zapaterias 5 Hermano', 'Arq.Arquitectura Y', 'Arquitecta',\n",
       "       'Escuela Preparatoria', 'Moda Infantil Maricr', 'Interjet',\n",
       "       'Grupo Ambiental Robl', 'Modami', 'Los Picositos', 'Indepediente',\n",
       "       'Enfermera', 'Lic.En Mercadotecni', 'Empleada Suburbia',\n",
       "       'Bbva Mexico', 'Instit.Pedagogico T', 'Escuela Iipanti',\n",
       "       'Poder Judicial', 'Sep Jardin De Niños'], dtype=object)"
      ]
     },
     "execution_count": 172,
     "metadata": {},
     "output_type": "execute_result"
    }
   ],
   "execution_count": 172
  },
  {
   "metadata": {
    "ExecuteTime": {
     "end_time": "2024-07-20T01:07:38.066622Z",
     "start_time": "2024-07-20T01:07:38.061122Z"
    }
   },
   "cell_type": "code",
   "source": "df.columns",
   "id": "6729c631245a3801",
   "outputs": [
    {
     "data": {
      "text/plain": [
       "Index(['clave', 'nombre_alumno', 'sexo', 'domicilio_alumno', 'colonia_alumno',\n",
       "       'poblacion_alumno', 'codigo_postal_alumno', 'fecha_nacimiento_alumno',\n",
       "       'nacionalidad', 'telefono_alumno', 'nivel_estudios', 'grado_estudios',\n",
       "       'escuela', 'porcol', 'porins', 'nombre_madre', 'ocupacion_madre',\n",
       "       'empresa_madre', 'celularm', 'telofm', 'emailm', 'nombre_padre',\n",
       "       'ocupacion_padre', 'empresa_padre', 'celularp', 'telofp', 'emailp',\n",
       "       'nombre_pediatra', 'telpedi', 'fecha_inscripcion', 'plan',\n",
       "       'edad_alumno'],\n",
       "      dtype='object')"
      ]
     },
     "execution_count": 173,
     "metadata": {},
     "output_type": "execute_result"
    }
   ],
   "execution_count": 173
  },
  {
   "metadata": {},
   "cell_type": "markdown",
   "source": "## <font color=\"#f9a177\">\"telofm\", \"telofp\", 'celularm', 'celularp', 'telpedi'</font>",
   "id": "9aa176fdd1911917"
  },
  {
   "metadata": {},
   "cell_type": "markdown",
   "source": "### Interpretacion",
   "id": "f25453d696f8c1a2"
  },
  {
   "metadata": {},
   "cell_type": "markdown",
   "source": [
    "- telofm: Telefono de la madre\n",
    "- telofp: Telefono del padre\n",
    "- celularm: Celular de la madre\n",
    "- celularp: Celular del padre\n",
    "- telpedi: Telefono del pediatra"
   ],
   "id": "7c7559886d81c3b3"
  },
  {
   "metadata": {},
   "cell_type": "markdown",
   "source": "**Procedimiento :** Se cambiara el nombre de las columnas para una mejor comprension.",
   "id": "40624d179ee237ba"
  },
  {
   "metadata": {
    "ExecuteTime": {
     "end_time": "2024-07-20T01:07:38.244133Z",
     "start_time": "2024-07-20T01:07:38.238804Z"
    }
   },
   "cell_type": "code",
   "source": "df.rename(columns={'telofm': 'telefono_madre', 'telofp': 'telefono_padre', 'celularm': 'celular_madre', 'celularp': 'celular_padre', 'telpedi': 'telefono_pediatra'}, inplace=True)",
   "id": "c9b698ae35ca2a6f",
   "outputs": [],
   "execution_count": 174
  },
  {
   "metadata": {},
   "cell_type": "markdown",
   "source": "### Tipo de dato",
   "id": "5facec854009588"
  },
  {
   "metadata": {
    "ExecuteTime": {
     "end_time": "2024-07-20T01:07:38.305291Z",
     "start_time": "2024-07-20T01:07:38.298146Z"
    }
   },
   "cell_type": "code",
   "source": [
    "#Vamos a ver si hay datos de diferentes tipos en 'telefono_madre'\n",
    "df['telefono_madre'].apply(lambda x: type(x)).value_counts()"
   ],
   "id": "b18c3a1d8d94b788",
   "outputs": [
    {
     "data": {
      "text/plain": [
       "telefono_madre\n",
       "<class 'float'>    259\n",
       "<class 'str'>      172\n",
       "Name: count, dtype: int64"
      ]
     },
     "execution_count": 175,
     "metadata": {},
     "output_type": "execute_result"
    }
   ],
   "execution_count": 175
  },
  {
   "metadata": {
    "ExecuteTime": {
     "end_time": "2024-07-20T01:07:38.518458Z",
     "start_time": "2024-07-20T01:07:38.510875Z"
    }
   },
   "cell_type": "code",
   "source": [
    "#Vamos a ver si hay datos de diferentes tipos en 'telefono_padre'\n",
    "df['telefono_padre'].apply(lambda x: type(x)).value_counts()"
   ],
   "id": "27ccd807327ee94a",
   "outputs": [
    {
     "data": {
      "text/plain": [
       "telefono_padre\n",
       "<class 'float'>    223\n",
       "<class 'str'>      208\n",
       "Name: count, dtype: int64"
      ]
     },
     "execution_count": 176,
     "metadata": {},
     "output_type": "execute_result"
    }
   ],
   "execution_count": 176
  },
  {
   "metadata": {
    "ExecuteTime": {
     "end_time": "2024-07-20T01:07:38.583617Z",
     "start_time": "2024-07-20T01:07:38.574506Z"
    }
   },
   "cell_type": "code",
   "source": [
    "#Vamos a ver si hay datos de diferentes tipos en 'telefono_pediatra'\n",
    "df['telefono_pediatra'].apply(lambda x: type(x)).value_counts()"
   ],
   "id": "4a65564fb16557b6",
   "outputs": [
    {
     "data": {
      "text/plain": [
       "telefono_pediatra\n",
       "<class 'str'>      316\n",
       "<class 'float'>    115\n",
       "Name: count, dtype: int64"
      ]
     },
     "execution_count": 177,
     "metadata": {},
     "output_type": "execute_result"
    }
   ],
   "execution_count": 177
  },
  {
   "metadata": {
    "ExecuteTime": {
     "end_time": "2024-07-20T01:07:38.780438Z",
     "start_time": "2024-07-20T01:07:38.772816Z"
    }
   },
   "cell_type": "code",
   "source": [
    "#Vamos a ver si hay datos de diferentes tipos en 'celular_madre'\n",
    "df['celular_madre'].apply(lambda x: type(x)).value_counts()"
   ],
   "id": "85067d026ec4a02c",
   "outputs": [
    {
     "data": {
      "text/plain": [
       "celular_madre\n",
       "<class 'str'>      372\n",
       "<class 'float'>     59\n",
       "Name: count, dtype: int64"
      ]
     },
     "execution_count": 178,
     "metadata": {},
     "output_type": "execute_result"
    }
   ],
   "execution_count": 178
  },
  {
   "metadata": {
    "ExecuteTime": {
     "end_time": "2024-07-20T01:07:38.859350Z",
     "start_time": "2024-07-20T01:07:38.850067Z"
    }
   },
   "cell_type": "code",
   "source": [
    "#Vamos a ver si hay datos de diferentes tipos en 'celular_padre'\n",
    "df['celular_padre'].apply(lambda x: type(x)).value_counts()"
   ],
   "id": "f60c2a87c394d7b9",
   "outputs": [
    {
     "data": {
      "text/plain": [
       "celular_padre\n",
       "<class 'float'>    431\n",
       "Name: count, dtype: int64"
      ]
     },
     "execution_count": 179,
     "metadata": {},
     "output_type": "execute_result"
    }
   ],
   "execution_count": 179
  },
  {
   "metadata": {},
   "cell_type": "markdown",
   "source": "**Procedimiento :** Se cambiara a int las columnas pero neceistamos tener los datos en el formato correcto",
   "id": "d5b68d6cebf9d79"
  },
  {
   "metadata": {},
   "cell_type": "markdown",
   "source": "### Valores faltantes",
   "id": "dd7f8228e4cb477"
  },
  {
   "metadata": {
    "ExecuteTime": {
     "end_time": "2024-07-20T01:07:39.092429Z",
     "start_time": "2024-07-20T01:07:39.084436Z"
    }
   },
   "cell_type": "code",
   "source": [
    "#Valores igual a \"Nan\"\n",
    "df_nan = df[df['telefono_madre'].apply(lambda x: x == 'NaN' or x == 'Nan' or x == 'nan' or x == '')]\n",
    "#Valores nulos"
   ],
   "id": "cd7ba3a0ae61b21b",
   "outputs": [],
   "execution_count": 180
  },
  {
   "metadata": {
    "ExecuteTime": {
     "end_time": "2024-07-20T01:07:39.181131Z",
     "start_time": "2024-07-20T01:07:39.175593Z"
    }
   },
   "cell_type": "code",
   "source": [
    "nulos = df['telefono_madre'].isnull().sum()\n",
    "#Suma de nulos y Nan\n",
    "print(f\"Valores faltantes en la columna 'telefono_madre': {nulos + len(df_nan)}\")"
   ],
   "id": "18a7614195d09e35",
   "outputs": [
    {
     "name": "stdout",
     "output_type": "stream",
     "text": [
      "Valores faltantes en la columna 'telefono_madre': 259\n"
     ]
    }
   ],
   "execution_count": 181
  },
  {
   "metadata": {
    "ExecuteTime": {
     "end_time": "2024-07-20T01:07:39.404790Z",
     "start_time": "2024-07-20T01:07:39.399983Z"
    }
   },
   "cell_type": "code",
   "source": [
    "#Valores igual a \"Nan\"\n",
    "df_nan = df[df['telefono_padre'].apply(lambda x: x == 'NaN' or x == 'Nan' or x == 'nan' or x == '')]\n",
    "#Valores nulos"
   ],
   "id": "839409ffa6869539",
   "outputs": [],
   "execution_count": 182
  },
  {
   "metadata": {
    "ExecuteTime": {
     "end_time": "2024-07-20T01:07:39.479478Z",
     "start_time": "2024-07-20T01:07:39.473806Z"
    }
   },
   "cell_type": "code",
   "source": [
    "nulos = df['telefono_padre'].isnull().sum()\n",
    "#Suma de nulos y Nan\n",
    "print(f\"Valores faltantes en la columna 'telefono_padre': {nulos + len(df_nan)}\")"
   ],
   "id": "91c1e3e5f26ac790",
   "outputs": [
    {
     "name": "stdout",
     "output_type": "stream",
     "text": [
      "Valores faltantes en la columna 'telefono_padre': 223\n"
     ]
    }
   ],
   "execution_count": 183
  },
  {
   "metadata": {
    "ExecuteTime": {
     "end_time": "2024-07-20T01:07:39.703765Z",
     "start_time": "2024-07-20T01:07:39.697843Z"
    }
   },
   "cell_type": "code",
   "source": [
    "#Valores igual a \"Nan\"\n",
    "df_nan = df[df['telefono_pediatra'].apply(lambda x: x == 'NaN' or x == 'Nan' or x == 'nan' or x == '')]\n",
    "#Valores nulos"
   ],
   "id": "b76989770b75ab31",
   "outputs": [],
   "execution_count": 184
  },
  {
   "metadata": {
    "ExecuteTime": {
     "end_time": "2024-07-20T01:07:39.783192Z",
     "start_time": "2024-07-20T01:07:39.777783Z"
    }
   },
   "cell_type": "code",
   "source": [
    "nulos = df['telefono_pediatra'].isnull().sum()\n",
    "#Suma de nulos y Nan\n",
    "print(f\"Valores faltantes en la columna 'telefono_pediatra': {nulos + len(df_nan)}\")"
   ],
   "id": "9dbcfa569bde2d82",
   "outputs": [
    {
     "name": "stdout",
     "output_type": "stream",
     "text": [
      "Valores faltantes en la columna 'telefono_pediatra': 115\n"
     ]
    }
   ],
   "execution_count": 185
  },
  {
   "metadata": {
    "ExecuteTime": {
     "end_time": "2024-07-20T01:07:39.960338Z",
     "start_time": "2024-07-20T01:07:39.955025Z"
    }
   },
   "cell_type": "code",
   "source": [
    "#Valores igual a \"Nan\"\n",
    "df_nan = df[df['celular_madre'].apply(lambda x: x == 'NaN' or x == 'Nan' or x == 'nan' or x == '')]\n",
    "#Valores nulos"
   ],
   "id": "540ec46865c7930b",
   "outputs": [],
   "execution_count": 186
  },
  {
   "metadata": {
    "ExecuteTime": {
     "end_time": "2024-07-20T01:07:40.008509Z",
     "start_time": "2024-07-20T01:07:40.003352Z"
    }
   },
   "cell_type": "code",
   "source": [
    "nulos = df['celular_madre'].isnull().sum()\n",
    "#Suma de nulos y Nan\n",
    "print(f\"Valores faltantes en la columna 'celular_madre': {nulos + len(df_nan)}\")"
   ],
   "id": "e559dd6791dd0d52",
   "outputs": [
    {
     "name": "stdout",
     "output_type": "stream",
     "text": [
      "Valores faltantes en la columna 'celular_madre': 59\n"
     ]
    }
   ],
   "execution_count": 187
  },
  {
   "metadata": {
    "ExecuteTime": {
     "end_time": "2024-07-20T01:07:40.176551Z",
     "start_time": "2024-07-20T01:07:40.170777Z"
    }
   },
   "cell_type": "code",
   "source": [
    "#Valores igual a \"Nan\"\n",
    "df_nan = df[df['celular_padre'].apply(lambda x: x == 'NaN' or x == 'Nan' or x == 'nan' or x == '')]\n",
    "#Valores nulos"
   ],
   "id": "578477796f563f3a",
   "outputs": [],
   "execution_count": 188
  },
  {
   "metadata": {
    "ExecuteTime": {
     "end_time": "2024-07-20T01:07:40.233115Z",
     "start_time": "2024-07-20T01:07:40.227604Z"
    }
   },
   "cell_type": "code",
   "source": [
    "nulos = df['celular_padre'].isnull().sum()\n",
    "#Suma de nulos y Nan\n",
    "print(f\"Valores faltantes en la columna 'celular_padre': {nulos + len(df_nan)}\")"
   ],
   "id": "ee7416599e1a050b",
   "outputs": [
    {
     "name": "stdout",
     "output_type": "stream",
     "text": [
      "Valores faltantes en la columna 'celular_padre': 96\n"
     ]
    }
   ],
   "execution_count": 189
  },
  {
   "metadata": {},
   "cell_type": "markdown",
   "source": "**Procedimiento :** Se reemplazara los valores faltantes ",
   "id": "be7ae96f0e4b037b"
  },
  {
   "metadata": {},
   "cell_type": "markdown",
   "source": "**Procedimiento :** Se completaran los registros nulos o Nan con \"Telefono desconocido\" para mayor claridad de los valores faltantes",
   "id": "7d805dd7314ab9cc"
  },
  {
   "metadata": {},
   "cell_type": "markdown",
   "source": "'telefono_madre'",
   "id": "7215c3a215caadb3"
  },
  {
   "metadata": {
    "ExecuteTime": {
     "end_time": "2024-07-20T01:07:40.390529Z",
     "start_time": "2024-07-20T01:07:40.384159Z"
    }
   },
   "cell_type": "code",
   "source": [
    "#Reemplazamos donde sea nulo por \"Telefono desconocido\"\n",
    "df['telefono_madre'] = df['telefono_madre'].fillna('Telefono Desconocido')\n",
    "#Reemplazamos donde sea Nan por \"Telefono desconocido\"\n",
    "df['telefono_madre'] = df['telefono_madre'].replace({'Nan': 'Telefono desconocido', 'nan': 'Telefono desconocido', 'NaN': 'Telefono desconocido', '': 'Telefono desconocido'})"
   ],
   "id": "dc6dec5253f4f2fe",
   "outputs": [],
   "execution_count": 190
  },
  {
   "metadata": {},
   "cell_type": "markdown",
   "source": "'telefono_padre'",
   "id": "de2c4dff02a4d2d7"
  },
  {
   "metadata": {
    "ExecuteTime": {
     "end_time": "2024-07-20T01:07:40.438921Z",
     "start_time": "2024-07-20T01:07:40.433558Z"
    }
   },
   "cell_type": "code",
   "source": [
    "#Reemplazamos donde sea nulo por \"Telefono desconocido\"\n",
    "df['telefono_padre'] = df['telefono_padre'].fillna('Telefono Desconocido')\n",
    "#Reemplazamos donde sea Nan por \"Telefono desconocido\"\n",
    "df['telefono_padre'] = df['telefono_padre'].replace({'Nan': 'Telefono desconocido', 'nan': 'Telefono desconocido', 'NaN': 'Telefono desconocido', '': 'Telefono desconocido'})"
   ],
   "id": "889cd9eda6795a3e",
   "outputs": [],
   "execution_count": 191
  },
  {
   "metadata": {},
   "cell_type": "markdown",
   "source": "'telefono_pediatra'",
   "id": "dff1a460f569b4a0"
  },
  {
   "metadata": {
    "ExecuteTime": {
     "end_time": "2024-07-20T01:07:40.640256Z",
     "start_time": "2024-07-20T01:07:40.634931Z"
    }
   },
   "cell_type": "code",
   "source": [
    "#Reemplazamos donde sea nulo por \"Telefono desconocido\"\n",
    "df['telefono_pediatra'] = df['telefono_pediatra'].fillna('Telefono Desconocido')\n",
    "#Reemplazamos donde sea Nan por \"Telefono desconocido\"\n",
    "df['telefono_pediatra'] = df['telefono_pediatra'].replace({'Nan': 'Telefono desconocido', 'nan': 'Telefono desconocido', 'NaN': 'Telefono desconocido', '': 'Telefono desconocido'})"
   ],
   "id": "c8faa7688f1e8790",
   "outputs": [],
   "execution_count": 192
  },
  {
   "metadata": {},
   "cell_type": "markdown",
   "source": "'celular_madre'",
   "id": "d929620cd6c3ab56"
  },
  {
   "metadata": {
    "ExecuteTime": {
     "end_time": "2024-07-20T01:07:40.695389Z",
     "start_time": "2024-07-20T01:07:40.689281Z"
    }
   },
   "cell_type": "code",
   "source": [
    "#Reemplazamos donde sea nulo por \"Telefono desconocido\"\n",
    "df['celular_madre'] = df['celular_madre'].fillna('Telefono Desconocido')\n",
    "#Reemplazamos donde sea Nan por \"Telefono desconocido\"\n",
    "df['celular_madre'] = df['celular_madre'].replace({'Nan': 'Telefono desconocido', 'nan': 'Telefono desconocido', 'NaN': 'Telefono desconocido', '': 'Telefono desconocido'})"
   ],
   "id": "ed7ef0afabffb341",
   "outputs": [],
   "execution_count": 193
  },
  {
   "metadata": {},
   "cell_type": "markdown",
   "source": "'celular_padre'",
   "id": "426529d9f5abe29"
  },
  {
   "metadata": {
    "ExecuteTime": {
     "end_time": "2024-07-20T01:07:40.867219Z",
     "start_time": "2024-07-20T01:07:40.861619Z"
    }
   },
   "cell_type": "code",
   "source": [
    "#Reemplazamos donde sea nulo por \"Telefono desconocido\"\n",
    "df['celular_padre'] = df['celular_padre'].fillna('Telefono Desconocido')\n",
    "#Reemplazamos donde sea Nan por \"Telefono desconocido\"\n",
    "df['celular_padre'] = df['celular_padre'].replace({'Nan': 'Telefono desconocido', 'nan': 'Telefono desconocido', 'NaN': 'Telefono desconocido', '': 'Telefono desconocido'})"
   ],
   "id": "2ed1bf9c6e47331",
   "outputs": [],
   "execution_count": 194
  },
  {
   "metadata": {},
   "cell_type": "markdown",
   "source": "### Formato de los datos",
   "id": "9d55d3e37b105bc4"
  },
  {
   "metadata": {},
   "cell_type": "markdown",
   "source": "**Procedimiento :**  Se eliminara los caracteres especiales y espacios en blanco de la columna \"telefono_alumno\" para poder estandarizar los datos con la funcion importada",
   "id": "cc73e30ca6eb82ff"
  },
  {
   "metadata": {
    "ExecuteTime": {
     "end_time": "2024-07-20T01:07:40.926965Z",
     "start_time": "2024-07-20T01:07:40.917481Z"
    }
   },
   "cell_type": "code",
   "source": [
    "#Remplazar por 'Telefono desconocido' en las columnas si el dato tiene menos de 10 digitos\n",
    "df['telefono_madre'] = df['telefono_madre'].apply(lambda x: 'Telefono desconocido' if len(str(x)) < 10 or len(str(x)) > 10 else x)\n",
    "df['telefono_padre'] = df['telefono_padre'].apply(lambda x: 'Telefono desconocido' if len(str(x)) < 10 or len(str(x)) > 10 else x)\n",
    "df['telefono_pediatra'] = df['telefono_pediatra'].apply(lambda x: 'Telefono desconocido' if len(str(x)) < 10 or len(str(x)) > 10 else x)\n",
    "df['celular_madre'] = df['celular_madre'].apply(lambda x: 'Telefono desconocido' if len(str(x)) < 10 or len(str(x)) > 10 else x)\n",
    "df['celular_padre'] = df['celular_padre'].apply(lambda x: 'Telefono desconocido' if len(str(x)) < 10 or len(str(x)) > 10 else x)\n"
   ],
   "id": "aa30fd803b3d3d1c",
   "outputs": [],
   "execution_count": 195
  },
  {
   "metadata": {
    "ExecuteTime": {
     "end_time": "2024-07-20T01:07:41.088215Z",
     "start_time": "2024-07-20T01:07:41.078538Z"
    }
   },
   "cell_type": "code",
   "source": [
    "#Estandarizamos\n",
    "df['telefono_madre'] = df['telefono_madre'].apply(estandarizacion)\n",
    "df['telefono_padre'] = df['telefono_padre'].apply(estandarizacion)\n",
    "df['telefono_pediatra'] = df['telefono_pediatra'].apply(estandarizacion)\n",
    "df['celular_madre'] = df['celular_madre'].apply(estandarizacion)\n",
    "df['celular_padre'] = df['celular_padre'].apply(estandarizacion)"
   ],
   "id": "bc5b9752b163ad77",
   "outputs": [],
   "execution_count": 196
  },
  {
   "metadata": {},
   "cell_type": "markdown",
   "source": "",
   "id": "ac808c1c5e19e6eb"
  },
  {
   "metadata": {
    "ExecuteTime": {
     "end_time": "2024-07-20T01:07:41.151315Z",
     "start_time": "2024-07-20T01:07:41.143225Z"
    }
   },
   "cell_type": "code",
   "source": [
    "#Eliminamos espacios entre numeros(expecto de 'Numero Desconocido'), este proceso se hace para esta columna ya que la funcion estandarizcion es mas conveniente en datos de letras. Usamos la funcion limpiar_numero\n",
    "df['telefono_madre'] = df['telefono_madre'].apply(lambda x: limpiar_numero(x))\n",
    "df['telefono_padre'] = df['telefono_padre'].apply(lambda x: limpiar_numero(x))\n",
    "df['telefono_pediatra'] = df['telefono_pediatra'].apply(lambda x: limpiar_numero(x))\n",
    "df['celular_madre'] = df['celular_madre'].apply(lambda x: limpiar_numero(x))\n",
    "df['celular_padre'] = df['celular_padre'].apply(lambda x: limpiar_numero(x))"
   ],
   "id": "838d27d49a7a9b02",
   "outputs": [],
   "execution_count": 197
  },
  {
   "metadata": {
    "ExecuteTime": {
     "end_time": "2024-07-20T01:07:41.298895Z",
     "start_time": "2024-07-20T01:07:41.293360Z"
    }
   },
   "cell_type": "code",
   "source": [
    "#Tranformamos a int los datos que son distinto de 'Telefono Desconocido'\n",
    "df['telefono_alumno'] = df['telefono_alumno'].apply(lambda x: int(x) if x != 'Telefono Desconocido' else x)"
   ],
   "id": "ac816e2c3ef8dc3e",
   "outputs": [],
   "execution_count": 198
  },
  {
   "metadata": {},
   "cell_type": "markdown",
   "source": "**Resultado**",
   "id": "f66b83402583e903"
  },
  {
   "metadata": {
    "ExecuteTime": {
     "end_time": "2024-07-20T01:07:41.371503Z",
     "start_time": "2024-07-20T01:07:41.359906Z"
    }
   },
   "cell_type": "code",
   "source": "df[['telefono_madre', 'telefono_padre', 'telefono_pediatra', 'celular_madre', 'celular_padre']].head()",
   "id": "87b78bad40074772",
   "outputs": [
    {
     "data": {
      "text/plain": [
       "         telefono_madre        telefono_padre     telefono_pediatra  \\\n",
       "0  Telefono Desconocido  Telefono Desconocido            5959547699   \n",
       "1            5959543393            5519882072            5959252210   \n",
       "2  Telefono Desconocido            5519882072            5959252210   \n",
       "3  Telefono Desconocido  Telefono Desconocido  Telefono Desconocido   \n",
       "4            5959238195  Telefono Desconocido            5959555296   \n",
       "\n",
       "  celular_madre         celular_padre  \n",
       "0    5529599596  Telefono Desconocido  \n",
       "1    5519322865  Telefono Desconocido  \n",
       "2    5519322865  Telefono Desconocido  \n",
       "3    5510491891  Telefono Desconocido  \n",
       "4    5541178642  Telefono Desconocido  "
      ],
      "text/html": [
       "<div>\n",
       "<style scoped>\n",
       "    .dataframe tbody tr th:only-of-type {\n",
       "        vertical-align: middle;\n",
       "    }\n",
       "\n",
       "    .dataframe tbody tr th {\n",
       "        vertical-align: top;\n",
       "    }\n",
       "\n",
       "    .dataframe thead th {\n",
       "        text-align: right;\n",
       "    }\n",
       "</style>\n",
       "<table border=\"1\" class=\"dataframe\">\n",
       "  <thead>\n",
       "    <tr style=\"text-align: right;\">\n",
       "      <th></th>\n",
       "      <th>telefono_madre</th>\n",
       "      <th>telefono_padre</th>\n",
       "      <th>telefono_pediatra</th>\n",
       "      <th>celular_madre</th>\n",
       "      <th>celular_padre</th>\n",
       "    </tr>\n",
       "  </thead>\n",
       "  <tbody>\n",
       "    <tr>\n",
       "      <th>0</th>\n",
       "      <td>Telefono Desconocido</td>\n",
       "      <td>Telefono Desconocido</td>\n",
       "      <td>5959547699</td>\n",
       "      <td>5529599596</td>\n",
       "      <td>Telefono Desconocido</td>\n",
       "    </tr>\n",
       "    <tr>\n",
       "      <th>1</th>\n",
       "      <td>5959543393</td>\n",
       "      <td>5519882072</td>\n",
       "      <td>5959252210</td>\n",
       "      <td>5519322865</td>\n",
       "      <td>Telefono Desconocido</td>\n",
       "    </tr>\n",
       "    <tr>\n",
       "      <th>2</th>\n",
       "      <td>Telefono Desconocido</td>\n",
       "      <td>5519882072</td>\n",
       "      <td>5959252210</td>\n",
       "      <td>5519322865</td>\n",
       "      <td>Telefono Desconocido</td>\n",
       "    </tr>\n",
       "    <tr>\n",
       "      <th>3</th>\n",
       "      <td>Telefono Desconocido</td>\n",
       "      <td>Telefono Desconocido</td>\n",
       "      <td>Telefono Desconocido</td>\n",
       "      <td>5510491891</td>\n",
       "      <td>Telefono Desconocido</td>\n",
       "    </tr>\n",
       "    <tr>\n",
       "      <th>4</th>\n",
       "      <td>5959238195</td>\n",
       "      <td>Telefono Desconocido</td>\n",
       "      <td>5959555296</td>\n",
       "      <td>5541178642</td>\n",
       "      <td>Telefono Desconocido</td>\n",
       "    </tr>\n",
       "  </tbody>\n",
       "</table>\n",
       "</div>"
      ]
     },
     "execution_count": 199,
     "metadata": {},
     "output_type": "execute_result"
    }
   ],
   "execution_count": 199
  },
  {
   "metadata": {},
   "cell_type": "markdown",
   "source": "## <font color=\"#f9a177\">\"emailm\", 'emailp'</font>",
   "id": "f3c62dd0d4068fd4"
  },
  {
   "metadata": {},
   "cell_type": "markdown",
   "source": "### Interpretacion",
   "id": "4a0861a5e4425a45"
  },
  {
   "metadata": {},
   "cell_type": "markdown",
   "source": [
    "- emailm: Correo de la madre\n",
    "- emailp: Correo del padre"
   ],
   "id": "1d30bd5bc48bd80"
  },
  {
   "metadata": {},
   "cell_type": "markdown",
   "source": "**Procedimiento :** Se cambiara el nombre de las columnas para una mejor comprension.",
   "id": "e9061dd6beed2dd3"
  },
  {
   "metadata": {
    "ExecuteTime": {
     "end_time": "2024-07-20T01:07:41.495407Z",
     "start_time": "2024-07-20T01:07:41.489875Z"
    }
   },
   "cell_type": "code",
   "source": "df.rename(columns={'emailm': 'email_madre', 'emailp': 'email_padre'}, inplace=True)",
   "id": "29967c1154506a1e",
   "outputs": [],
   "execution_count": 200
  },
  {
   "metadata": {},
   "cell_type": "markdown",
   "source": "**Resultado**",
   "id": "12e69abed0832e45"
  },
  {
   "metadata": {
    "ExecuteTime": {
     "end_time": "2024-07-20T01:07:41.580915Z",
     "start_time": "2024-07-20T01:07:41.563415Z"
    }
   },
   "cell_type": "code",
   "source": "df[['email_madre', 'email_padre']].head()",
   "id": "d8c41612c1645aa1",
   "outputs": [
    {
     "data": {
      "text/plain": [
       "                email_madre               email_padre\n",
       "0       ctrujanom@gmail.com                       NaN\n",
       "1  rosamaria-rmbo@gmail.com  rosamaria-rmbo@gmail.com\n",
       "2  rosamaria.rmbo@gmail.com  rosamaria.rmbo@gmail.com\n",
       "3     carmn_000@hotmail.com                       NaN\n",
       "4     lauololongo@gmail.com       harrohari@gmail.com"
      ],
      "text/html": [
       "<div>\n",
       "<style scoped>\n",
       "    .dataframe tbody tr th:only-of-type {\n",
       "        vertical-align: middle;\n",
       "    }\n",
       "\n",
       "    .dataframe tbody tr th {\n",
       "        vertical-align: top;\n",
       "    }\n",
       "\n",
       "    .dataframe thead th {\n",
       "        text-align: right;\n",
       "    }\n",
       "</style>\n",
       "<table border=\"1\" class=\"dataframe\">\n",
       "  <thead>\n",
       "    <tr style=\"text-align: right;\">\n",
       "      <th></th>\n",
       "      <th>email_madre</th>\n",
       "      <th>email_padre</th>\n",
       "    </tr>\n",
       "  </thead>\n",
       "  <tbody>\n",
       "    <tr>\n",
       "      <th>0</th>\n",
       "      <td>ctrujanom@gmail.com</td>\n",
       "      <td>NaN</td>\n",
       "    </tr>\n",
       "    <tr>\n",
       "      <th>1</th>\n",
       "      <td>rosamaria-rmbo@gmail.com</td>\n",
       "      <td>rosamaria-rmbo@gmail.com</td>\n",
       "    </tr>\n",
       "    <tr>\n",
       "      <th>2</th>\n",
       "      <td>rosamaria.rmbo@gmail.com</td>\n",
       "      <td>rosamaria.rmbo@gmail.com</td>\n",
       "    </tr>\n",
       "    <tr>\n",
       "      <th>3</th>\n",
       "      <td>carmn_000@hotmail.com</td>\n",
       "      <td>NaN</td>\n",
       "    </tr>\n",
       "    <tr>\n",
       "      <th>4</th>\n",
       "      <td>lauololongo@gmail.com</td>\n",
       "      <td>harrohari@gmail.com</td>\n",
       "    </tr>\n",
       "  </tbody>\n",
       "</table>\n",
       "</div>"
      ]
     },
     "execution_count": 201,
     "metadata": {},
     "output_type": "execute_result"
    }
   ],
   "execution_count": 201
  },
  {
   "metadata": {},
   "cell_type": "markdown",
   "source": "### Tipo de dato",
   "id": "1c177001b04a6fda"
  },
  {
   "metadata": {
    "ExecuteTime": {
     "end_time": "2024-07-20T01:07:41.765663Z",
     "start_time": "2024-07-20T01:07:41.757131Z"
    }
   },
   "cell_type": "code",
   "source": [
    "#Vamos a ver si hay datos de diferentes tipos en 'email_madre'\n",
    "df['email_madre'].apply(lambda x: type(x)).value_counts()"
   ],
   "id": "82492ce5ed4d5ae0",
   "outputs": [
    {
     "data": {
      "text/plain": [
       "email_madre\n",
       "<class 'str'>      337\n",
       "<class 'float'>     94\n",
       "Name: count, dtype: int64"
      ]
     },
     "execution_count": 202,
     "metadata": {},
     "output_type": "execute_result"
    }
   ],
   "execution_count": 202
  },
  {
   "metadata": {
    "ExecuteTime": {
     "end_time": "2024-07-20T01:07:41.900066Z",
     "start_time": "2024-07-20T01:07:41.892669Z"
    }
   },
   "cell_type": "code",
   "source": [
    "#Vamos a ver si hay datos de diferentes tipos en 'email_padre'\n",
    "df['email_padre'].apply(lambda x: type(x)).value_counts()"
   ],
   "id": "707fc3eb02c5436d",
   "outputs": [
    {
     "data": {
      "text/plain": [
       "email_padre\n",
       "<class 'str'>      277\n",
       "<class 'float'>    154\n",
       "Name: count, dtype: int64"
      ]
     },
     "execution_count": 203,
     "metadata": {},
     "output_type": "execute_result"
    }
   ],
   "execution_count": 203
  },
  {
   "metadata": {},
   "cell_type": "markdown",
   "source": "**Procedimiento :** Se cambiara a str las columnas",
   "id": "34762a7d0a7363d"
  },
  {
   "metadata": {
    "ExecuteTime": {
     "end_time": "2024-07-20T01:07:42.131223Z",
     "start_time": "2024-07-20T01:07:42.126636Z"
    }
   },
   "cell_type": "code",
   "source": [
    "df['email_madre'] = df['email_madre'].astype(str)\n",
    "df['email_padre'] = df['email_padre'].astype(str)"
   ],
   "id": "eb2f52af2698108b",
   "outputs": [],
   "execution_count": 204
  },
  {
   "metadata": {},
   "cell_type": "markdown",
   "source": "### Valores faltantes",
   "id": "d0002b367b265c8b"
  },
  {
   "metadata": {
    "ExecuteTime": {
     "end_time": "2024-07-20T01:07:42.292780Z",
     "start_time": "2024-07-20T01:07:42.283632Z"
    }
   },
   "cell_type": "code",
   "source": [
    "#Valores igual a \"Nan\"\n",
    "df_nan = df[df['email_madre'].apply(lambda x: x == 'NaN' or x == 'Nan' or x == 'nan' or x == '')]"
   ],
   "id": "3eac343bb02cd16",
   "outputs": [],
   "execution_count": 205
  },
  {
   "metadata": {
    "ExecuteTime": {
     "end_time": "2024-07-20T01:07:42.615648Z",
     "start_time": "2024-07-20T01:07:42.608791Z"
    }
   },
   "cell_type": "code",
   "source": [
    "#Valores nulos\n",
    "nulos = df['email_madre'].isnull().sum()\n",
    "#Suma de nulos y Nan\n",
    "print(f\"Valores faltantes en la columna 'email_madre': {nulos + len(df_nan)}\")"
   ],
   "id": "e0de36d8f2f1060b",
   "outputs": [
    {
     "name": "stdout",
     "output_type": "stream",
     "text": [
      "Valores faltantes en la columna 'email_madre': 94\n"
     ]
    }
   ],
   "execution_count": 206
  },
  {
   "metadata": {
    "ExecuteTime": {
     "end_time": "2024-07-20T01:07:42.713884Z",
     "start_time": "2024-07-20T01:07:42.704818Z"
    }
   },
   "cell_type": "code",
   "source": [
    "#Valores igual a \"Nan\"\n",
    "df_nan = df[df['email_padre'].apply(lambda x: x == 'NaN' or x == 'Nan' or x == 'nan' or x == '')]"
   ],
   "id": "f52be375d3793c03",
   "outputs": [],
   "execution_count": 207
  },
  {
   "metadata": {
    "ExecuteTime": {
     "end_time": "2024-07-20T01:07:42.876950Z",
     "start_time": "2024-07-20T01:07:42.869904Z"
    }
   },
   "cell_type": "code",
   "source": [
    "#Valores nulos\n",
    "nulos = df['email_padre'].isnull().sum()\n",
    "#Suma de nulos y Nan\n",
    "print(f\"Valores faltantes en la columna 'email_padre': {nulos + len(df_nan)}\")"
   ],
   "id": "8562236a80a6272b",
   "outputs": [
    {
     "name": "stdout",
     "output_type": "stream",
     "text": [
      "Valores faltantes en la columna 'email_padre': 154\n"
     ]
    }
   ],
   "execution_count": 208
  },
  {
   "metadata": {},
   "cell_type": "markdown",
   "source": "**Procedimiento :** Se reemplazara los valores faltantes por \"Email Desconocido\"",
   "id": "6d5cfdc30bfca6fa"
  },
  {
   "metadata": {},
   "cell_type": "markdown",
   "source": "'email_madre'",
   "id": "1f85cd52abef08a1"
  },
  {
   "metadata": {
    "ExecuteTime": {
     "end_time": "2024-07-20T01:07:43.016503Z",
     "start_time": "2024-07-20T01:07:43.009963Z"
    }
   },
   "cell_type": "code",
   "source": [
    "#Reemplazamos donde sea nulo por \"Email Desconocido\"\n",
    "df['empresa_madre'] = df['email_madre'].fillna('Email Desconocido')\n",
    "#Reemplazamos donde sea Nan por \"Email Desconocido\"\n",
    "df['email_madre'] = df['email_madre'].replace({'Nan': 'Email Desconocido', 'nan': 'Email Desconocido', 'NaN': 'Email Desconocido', '': 'Email Desconocido'})"
   ],
   "id": "a090dce6708e4007",
   "outputs": [],
   "execution_count": 209
  },
  {
   "metadata": {},
   "cell_type": "markdown",
   "source": "'email_padre'",
   "id": "9749021ca9ae7fa1"
  },
  {
   "metadata": {
    "ExecuteTime": {
     "end_time": "2024-07-20T01:07:43.173891Z",
     "start_time": "2024-07-20T01:07:43.167513Z"
    }
   },
   "cell_type": "code",
   "source": [
    "#Reemplazamos donde sea nulo por \"Email Desconocido\"\n",
    "df['email_padre'] = df['email_padre'].fillna('Email Desconocido')\n",
    "#Reemplazamos donde sea Nan por \"Email Desconocido\"\n",
    "df['email_padre'] = df['email_padre'].replace({'Nan': 'Email Desconocido', 'nan': 'Email Desconocido', 'NaN': 'Email Desconocido', '': 'Email Desconocido'})"
   ],
   "id": "697090ebf19b64ad",
   "outputs": [],
   "execution_count": 210
  },
  {
   "metadata": {},
   "cell_type": "markdown",
   "source": "### Ordenamos las columnas de manera coherente ",
   "id": "b0e0989d3828a79"
  },
  {
   "metadata": {},
   "cell_type": "markdown",
   "source": "#ordenar las columnas de este orden ['clave', 'nombre_alumno', 'sexo','domicilio_alumno', 'colonia_alumno','poblacion_alumno', 'codigo_postal_alumno', 'fecha_nacimiento_alumno','edad_alumno','nacionalidad', 'telefono_alumno', 'nivel_estudios', 'grado_estudios','escuela', , 'madre', 'ocupacion_madre', 'empresa_madre', 'celular_madre','telof_mdre', 'email_madre', 'padre', 'ocupacion_padre', 'empresa_padre', 'celular_padre','telofono_padre', 'email_padre', 'pediatra', 'telefono_pediatra', 'fecha_inscripcion', 'plan', 'porcol', 'porins']",
   "id": "c51bf9118f737ea7"
  },
  {
   "metadata": {
    "ExecuteTime": {
     "end_time": "2024-07-20T01:07:43.268929Z",
     "start_time": "2024-07-20T01:07:43.261900Z"
    }
   },
   "cell_type": "code",
   "source": "df = df[['clave', 'nombre_alumno', 'sexo','domicilio_alumno', 'colonia_alumno','poblacion_alumno', 'codigo_postal_alumno', 'fecha_nacimiento_alumno','edad_alumno','nacionalidad', 'telefono_alumno', 'nivel_estudios', 'grado_estudios','escuela', 'nombre_madre', 'ocupacion_madre', 'empresa_madre', 'celular_madre','telefono_madre', 'email_madre', 'nombre_padre', 'ocupacion_padre', 'empresa_padre', 'celular_padre','telefono_padre', 'email_padre', 'nombre_pediatra', 'telefono_pediatra', 'fecha_inscripcion', 'plan', 'porcol', 'porins']]",
   "id": "d1cfd75095360938",
   "outputs": [],
   "execution_count": 211
  },
  {
   "metadata": {
    "ExecuteTime": {
     "end_time": "2024-07-20T01:07:43.449889Z",
     "start_time": "2024-07-20T01:07:43.432552Z"
    }
   },
   "cell_type": "code",
   "source": "df.head()",
   "id": "bc7f66fded46e603",
   "outputs": [
    {
     "data": {
      "text/plain": [
       "    clave                       nombre_alumno       sexo  \\\n",
       "0  380728               Trujano Miranda Jonas  Masculino   \n",
       "1  375287     San Nicolas Bustamante Santiago  Masculino   \n",
       "2  375127    San Nicolas Bustamante Estefania   Femenino   \n",
       "3  372346         Vizuet Gomez Diego Emiliano  Masculino   \n",
       "4  381125  Aguilar Vazquez Victoria Alejandra   Femenino   \n",
       "\n",
       "                  domicilio_alumno       colonia_alumno poblacion_alumno  \\\n",
       "0                5 de Mayo No. 106             Zaragoza       Texcoco. e   \n",
       "1              Leon Salinas No. 62             Xocotlan       Texcoco. m   \n",
       "2              Leon Salinas No. 62  Fracc. Molino de fl      Xocotlan. t   \n",
       "3          Circuito Miltenco No. 4     Cabera Municipal       Chicoloapa   \n",
       "4  Fray Pedro de Gante No. 238 Int            San Pedro          Texcoco   \n",
       "\n",
       "  codigo_postal_alumno fecha_nacimiento_alumno edad_alumno nacionalidad  ...  \\\n",
       "0                56110              2018-02-12           6     Mexicano  ...   \n",
       "1                56236              2007-04-19          17     Mexicano  ...   \n",
       "2                56236              2013-03-27          11     Mexicana  ...   \n",
       "3                56370              2013-07-15          11     Mexicano  ...   \n",
       "4                56105              2018-01-12           6     Mexicana  ...   \n",
       "\n",
       "         empresa_padre         celular_padre        telefono_padre  \\\n",
       "0  Empresa Desconocida  Telefono Desconocido  Telefono Desconocido   \n",
       "1  Empresa Desconocida  Telefono Desconocido            5519882072   \n",
       "2  Empresa Desconocida  Telefono Desconocido            5519882072   \n",
       "3  Empresa Desconocida  Telefono Desconocido  Telefono Desconocido   \n",
       "4  Empresa Desconocida  Telefono Desconocido  Telefono Desconocido   \n",
       "\n",
       "                email_padre        nombre_pediatra     telefono_pediatra  \\\n",
       "0         Email Desconocido   Dra. Veronica Delado            5959547699   \n",
       "1  rosamaria-rmbo@gmail.com  Dra. Alejandra Muench            5959252210   \n",
       "2  rosamaria.rmbo@gmail.com  Dra. Alejandra Muench            5959252210   \n",
       "3         Email Desconocido     Nombre Desconocido  Telefono Desconocido   \n",
       "4       harrohari@gmail.com           Dr. Go0ngora            5959555296   \n",
       "\n",
       "  fecha_inscripcion plan porcol porins  \n",
       "0        2022-02-11    B    100     75  \n",
       "1        2022-02-11    B    100     75  \n",
       "2        2022-02-11    B    100     75  \n",
       "3        2022-02-11    B    100     75  \n",
       "4        2022-02-14    B    100     75  \n",
       "\n",
       "[5 rows x 32 columns]"
      ],
      "text/html": [
       "<div>\n",
       "<style scoped>\n",
       "    .dataframe tbody tr th:only-of-type {\n",
       "        vertical-align: middle;\n",
       "    }\n",
       "\n",
       "    .dataframe tbody tr th {\n",
       "        vertical-align: top;\n",
       "    }\n",
       "\n",
       "    .dataframe thead th {\n",
       "        text-align: right;\n",
       "    }\n",
       "</style>\n",
       "<table border=\"1\" class=\"dataframe\">\n",
       "  <thead>\n",
       "    <tr style=\"text-align: right;\">\n",
       "      <th></th>\n",
       "      <th>clave</th>\n",
       "      <th>nombre_alumno</th>\n",
       "      <th>sexo</th>\n",
       "      <th>domicilio_alumno</th>\n",
       "      <th>colonia_alumno</th>\n",
       "      <th>poblacion_alumno</th>\n",
       "      <th>codigo_postal_alumno</th>\n",
       "      <th>fecha_nacimiento_alumno</th>\n",
       "      <th>edad_alumno</th>\n",
       "      <th>nacionalidad</th>\n",
       "      <th>...</th>\n",
       "      <th>empresa_padre</th>\n",
       "      <th>celular_padre</th>\n",
       "      <th>telefono_padre</th>\n",
       "      <th>email_padre</th>\n",
       "      <th>nombre_pediatra</th>\n",
       "      <th>telefono_pediatra</th>\n",
       "      <th>fecha_inscripcion</th>\n",
       "      <th>plan</th>\n",
       "      <th>porcol</th>\n",
       "      <th>porins</th>\n",
       "    </tr>\n",
       "  </thead>\n",
       "  <tbody>\n",
       "    <tr>\n",
       "      <th>0</th>\n",
       "      <td>380728</td>\n",
       "      <td>Trujano Miranda Jonas</td>\n",
       "      <td>Masculino</td>\n",
       "      <td>5 de Mayo No. 106</td>\n",
       "      <td>Zaragoza</td>\n",
       "      <td>Texcoco. e</td>\n",
       "      <td>56110</td>\n",
       "      <td>2018-02-12</td>\n",
       "      <td>6</td>\n",
       "      <td>Mexicano</td>\n",
       "      <td>...</td>\n",
       "      <td>Empresa Desconocida</td>\n",
       "      <td>Telefono Desconocido</td>\n",
       "      <td>Telefono Desconocido</td>\n",
       "      <td>Email Desconocido</td>\n",
       "      <td>Dra. Veronica Delado</td>\n",
       "      <td>5959547699</td>\n",
       "      <td>2022-02-11</td>\n",
       "      <td>B</td>\n",
       "      <td>100</td>\n",
       "      <td>75</td>\n",
       "    </tr>\n",
       "    <tr>\n",
       "      <th>1</th>\n",
       "      <td>375287</td>\n",
       "      <td>San Nicolas Bustamante Santiago</td>\n",
       "      <td>Masculino</td>\n",
       "      <td>Leon Salinas No. 62</td>\n",
       "      <td>Xocotlan</td>\n",
       "      <td>Texcoco. m</td>\n",
       "      <td>56236</td>\n",
       "      <td>2007-04-19</td>\n",
       "      <td>17</td>\n",
       "      <td>Mexicano</td>\n",
       "      <td>...</td>\n",
       "      <td>Empresa Desconocida</td>\n",
       "      <td>Telefono Desconocido</td>\n",
       "      <td>5519882072</td>\n",
       "      <td>rosamaria-rmbo@gmail.com</td>\n",
       "      <td>Dra. Alejandra Muench</td>\n",
       "      <td>5959252210</td>\n",
       "      <td>2022-02-11</td>\n",
       "      <td>B</td>\n",
       "      <td>100</td>\n",
       "      <td>75</td>\n",
       "    </tr>\n",
       "    <tr>\n",
       "      <th>2</th>\n",
       "      <td>375127</td>\n",
       "      <td>San Nicolas Bustamante Estefania</td>\n",
       "      <td>Femenino</td>\n",
       "      <td>Leon Salinas No. 62</td>\n",
       "      <td>Fracc. Molino de fl</td>\n",
       "      <td>Xocotlan. t</td>\n",
       "      <td>56236</td>\n",
       "      <td>2013-03-27</td>\n",
       "      <td>11</td>\n",
       "      <td>Mexicana</td>\n",
       "      <td>...</td>\n",
       "      <td>Empresa Desconocida</td>\n",
       "      <td>Telefono Desconocido</td>\n",
       "      <td>5519882072</td>\n",
       "      <td>rosamaria.rmbo@gmail.com</td>\n",
       "      <td>Dra. Alejandra Muench</td>\n",
       "      <td>5959252210</td>\n",
       "      <td>2022-02-11</td>\n",
       "      <td>B</td>\n",
       "      <td>100</td>\n",
       "      <td>75</td>\n",
       "    </tr>\n",
       "    <tr>\n",
       "      <th>3</th>\n",
       "      <td>372346</td>\n",
       "      <td>Vizuet Gomez Diego Emiliano</td>\n",
       "      <td>Masculino</td>\n",
       "      <td>Circuito Miltenco No. 4</td>\n",
       "      <td>Cabera Municipal</td>\n",
       "      <td>Chicoloapa</td>\n",
       "      <td>56370</td>\n",
       "      <td>2013-07-15</td>\n",
       "      <td>11</td>\n",
       "      <td>Mexicano</td>\n",
       "      <td>...</td>\n",
       "      <td>Empresa Desconocida</td>\n",
       "      <td>Telefono Desconocido</td>\n",
       "      <td>Telefono Desconocido</td>\n",
       "      <td>Email Desconocido</td>\n",
       "      <td>Nombre Desconocido</td>\n",
       "      <td>Telefono Desconocido</td>\n",
       "      <td>2022-02-11</td>\n",
       "      <td>B</td>\n",
       "      <td>100</td>\n",
       "      <td>75</td>\n",
       "    </tr>\n",
       "    <tr>\n",
       "      <th>4</th>\n",
       "      <td>381125</td>\n",
       "      <td>Aguilar Vazquez Victoria Alejandra</td>\n",
       "      <td>Femenino</td>\n",
       "      <td>Fray Pedro de Gante No. 238 Int</td>\n",
       "      <td>San Pedro</td>\n",
       "      <td>Texcoco</td>\n",
       "      <td>56105</td>\n",
       "      <td>2018-01-12</td>\n",
       "      <td>6</td>\n",
       "      <td>Mexicana</td>\n",
       "      <td>...</td>\n",
       "      <td>Empresa Desconocida</td>\n",
       "      <td>Telefono Desconocido</td>\n",
       "      <td>Telefono Desconocido</td>\n",
       "      <td>harrohari@gmail.com</td>\n",
       "      <td>Dr. Go0ngora</td>\n",
       "      <td>5959555296</td>\n",
       "      <td>2022-02-14</td>\n",
       "      <td>B</td>\n",
       "      <td>100</td>\n",
       "      <td>75</td>\n",
       "    </tr>\n",
       "  </tbody>\n",
       "</table>\n",
       "<p>5 rows × 32 columns</p>\n",
       "</div>"
      ]
     },
     "execution_count": 212,
     "metadata": {},
     "output_type": "execute_result"
    }
   ],
   "execution_count": 212
  },
  {
   "metadata": {},
   "cell_type": "markdown",
   "source": "### Guardamos el dataframe como un archivo csv",
   "id": "f4652165929b3e35"
  },
  {
   "metadata": {
    "ExecuteTime": {
     "end_time": "2024-07-20T01:07:43.550459Z",
     "start_time": "2024-07-20T01:07:43.528937Z"
    }
   },
   "cell_type": "code",
   "source": "df.to_csv('Alumnos y padres limpio.csv', index=False)",
   "id": "745d3af84c43c205",
   "outputs": [],
   "execution_count": 213
  }
 ],
 "metadata": {
  "kernelspec": {
   "display_name": "Python 3",
   "language": "python",
   "name": "python3"
  },
  "language_info": {
   "codemirror_mode": {
    "name": "ipython",
    "version": 2
   },
   "file_extension": ".py",
   "mimetype": "text/x-python",
   "name": "python",
   "nbconvert_exporter": "python",
   "pygments_lexer": "ipython2",
   "version": "2.7.6"
  }
 },
 "nbformat": 4,
 "nbformat_minor": 5
}
