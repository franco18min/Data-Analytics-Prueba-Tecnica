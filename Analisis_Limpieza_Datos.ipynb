{
 "cells": [
  {
   "metadata": {},
   "cell_type": "markdown",
   "source": "# *Análisis y limpieza de datos*",
   "id": "b173681273545465"
  },
  {
   "metadata": {},
   "cell_type": "markdown",
   "source": "### Librerias necesarias",
   "id": "a3861b543038911f"
  },
  {
   "metadata": {
    "ExecuteTime": {
     "end_time": "2024-07-18T23:07:44.223324Z",
     "start_time": "2024-07-18T23:07:44.218821Z"
    }
   },
   "cell_type": "code",
   "source": [
    "import pandas as pd\n",
    "from Estandarizar import estandarizacion\n",
    "from Estandarizar_telefono import limpiar_numero"
   ],
   "id": "7f2cc931499d4273",
   "outputs": [],
   "execution_count": 220
  },
  {
   "metadata": {},
   "cell_type": "markdown",
   "source": "### Lectura del archivo como un dataframe",
   "id": "88444d1d34a11fc0"
  },
  {
   "metadata": {
    "ExecuteTime": {
     "end_time": "2024-07-18T23:08:00.295494Z",
     "start_time": "2024-07-18T23:07:59.808174Z"
    }
   },
   "cell_type": "code",
   "source": "df = pd.read_excel('Datos de alumnos y padres.xlsx')",
   "id": "5e72cbf21db24702",
   "outputs": [],
   "execution_count": 221
  },
  {
   "metadata": {},
   "cell_type": "markdown",
   "source": "### ",
   "id": "6a834578237d0933"
  },
  {
   "metadata": {},
   "cell_type": "markdown",
   "source": "### Dimension",
   "id": "a3dfb641dde0dbd6"
  },
  {
   "metadata": {
    "ExecuteTime": {
     "end_time": "2024-07-18T23:08:00.302499Z",
     "start_time": "2024-07-18T23:08:00.296499Z"
    }
   },
   "cell_type": "code",
   "source": "print(\"Cantidad de filas: \" + str(df.shape[0]) + \" | Cantidad de columnas: \" + str(df.shape[1]))",
   "id": "130635a5ef0a6b4b",
   "outputs": [
    {
     "name": "stdout",
     "output_type": "stream",
     "text": [
      "Cantidad de filas: 431 | Cantidad de columnas: 52\n"
     ]
    }
   ],
   "execution_count": 222
  },
  {
   "metadata": {},
   "cell_type": "markdown",
   "source": "### Columnas",
   "id": "1f85294230499451"
  },
  {
   "metadata": {
    "ExecuteTime": {
     "end_time": "2024-07-18T23:08:00.623382Z",
     "start_time": "2024-07-18T23:08:00.616928Z"
    }
   },
   "cell_type": "code",
   "source": "print(df.columns)",
   "id": "2ffd556f51dfef97",
   "outputs": [
    {
     "name": "stdout",
     "output_type": "stream",
     "text": [
      "Index(['clave', 'digito', 'digban', 'nombrea', 'sexo', 'domal', 'coloa',\n",
      "       'pobla', 'cpa', 'fecnaca', 'naciona', 'tela', 'nivel', 'grado', 'grupo',\n",
      "       'escpro', 'porcol', 'porins', 'codigo', 'madre', 'ocupam', 'emprem',\n",
      "       'celularm', 'telofm', 'emailm', 'padre', 'ocupap', 'emprep', 'celularp',\n",
      "       'telofp', 'emailp', 'pedi', 'telpedi', 'transporta', 'factura',\n",
      "       'factura1', 'ciclo', 'fechains', 'fechbaja', 'plan', 'apellidos',\n",
      "       'apellidop', 'apellidom', 'nombres', 'snombre', 'matricula',\n",
      "       'nombrecort', 'credito', 'cuenta', 'inscribe', 'edad', 'capturado'],\n",
      "      dtype='object')\n"
     ]
    }
   ],
   "execution_count": 223
  },
  {
   "metadata": {},
   "cell_type": "markdown",
   "source": "### Información y tipos de datos",
   "id": "3026021464977fff"
  },
  {
   "metadata": {
    "ExecuteTime": {
     "end_time": "2024-07-18T23:08:00.912807Z",
     "start_time": "2024-07-18T23:08:00.893628Z"
    }
   },
   "cell_type": "code",
   "source": "df.info()",
   "id": "d0c57826525bfa3d",
   "outputs": [
    {
     "name": "stdout",
     "output_type": "stream",
     "text": [
      "<class 'pandas.core.frame.DataFrame'>\n",
      "RangeIndex: 431 entries, 0 to 430\n",
      "Data columns (total 52 columns):\n",
      " #   Column      Non-Null Count  Dtype         \n",
      "---  ------      --------------  -----         \n",
      " 0   clave       431 non-null    int64         \n",
      " 1   digito      431 non-null    int64         \n",
      " 2   digban      431 non-null    int64         \n",
      " 3   nombrea     431 non-null    object        \n",
      " 4   sexo        431 non-null    object        \n",
      " 5   domal       427 non-null    object        \n",
      " 6   coloa       427 non-null    object        \n",
      " 7   pobla       424 non-null    object        \n",
      " 8   cpa         417 non-null    float64       \n",
      " 9   fecnaca     431 non-null    object        \n",
      " 10  naciona     428 non-null    object        \n",
      " 11  tela        399 non-null    object        \n",
      " 12  nivel       431 non-null    int64         \n",
      " 13  grado       431 non-null    int64         \n",
      " 14  grupo       431 non-null    object        \n",
      " 15  escpro      417 non-null    object        \n",
      " 16  porcol      431 non-null    int64         \n",
      " 17  porins      431 non-null    int64         \n",
      " 18  codigo      0 non-null      float64       \n",
      " 19  madre       427 non-null    object        \n",
      " 20  ocupam      418 non-null    object        \n",
      " 21  emprem      312 non-null    object        \n",
      " 22  celularm    372 non-null    object        \n",
      " 23  telofm      172 non-null    object        \n",
      " 24  emailm      337 non-null    object        \n",
      " 25  padre       409 non-null    object        \n",
      " 26  ocupap      402 non-null    object        \n",
      " 27  emprep      319 non-null    object        \n",
      " 28  celularp    335 non-null    float64       \n",
      " 29  telofp      208 non-null    object        \n",
      " 30  emailp      277 non-null    object        \n",
      " 31  pedi        352 non-null    object        \n",
      " 32  telpedi     316 non-null    object        \n",
      " 33  transporta  0 non-null      float64       \n",
      " 34  factura     21 non-null     object        \n",
      " 35  factura1    0 non-null      float64       \n",
      " 36  ciclo       0 non-null      float64       \n",
      " 37  fechains    431 non-null    datetime64[ns]\n",
      " 38  fechbaja    431 non-null    object        \n",
      " 39  plan        431 non-null    object        \n",
      " 40  apellidos   0 non-null      float64       \n",
      " 41  apellidop   0 non-null      float64       \n",
      " 42  apellidom   0 non-null      float64       \n",
      " 43  nombres     0 non-null      float64       \n",
      " 44  snombre     0 non-null      float64       \n",
      " 45  matricula   0 non-null      float64       \n",
      " 46  nombrecort  0 non-null      float64       \n",
      " 47  credito     0 non-null      float64       \n",
      " 48  cuenta      0 non-null      float64       \n",
      " 49  inscribe    0 non-null      float64       \n",
      " 50  edad        431 non-null    int64         \n",
      " 51  capturado   431 non-null    bool          \n",
      "dtypes: bool(1), datetime64[ns](1), float64(16), int64(8), object(26)\n",
      "memory usage: 172.3+ KB\n"
     ]
    }
   ],
   "execution_count": 224
  },
  {
   "metadata": {},
   "cell_type": "markdown",
   "source": "### Primeros 5 registros",
   "id": "472a74a7bdfb7a97"
  },
  {
   "metadata": {
    "ExecuteTime": {
     "end_time": "2024-07-18T23:08:01.730842Z",
     "start_time": "2024-07-18T23:08:01.714321Z"
    }
   },
   "cell_type": "code",
   "source": "df.head()",
   "id": "255edadc81d3d6c4",
   "outputs": [
    {
     "data": {
      "text/plain": [
       "   clave  digito  digban                             nombrea sexo  \\\n",
       "0   3807       0      28               TRUJANO MIRANDA JONAS    M   \n",
       "1   3752       0      87     SAN NICOLAS BUSTAMANTE SANTIAGO    M   \n",
       "2   3751       0      27    SAN NICOLAS BUSTAMANTE ESTEFANIA    F   \n",
       "3   3723       0      46        VIZUET  GOMEZ DIEGO EMILIANO    M   \n",
       "4   3811       0      25  AGUILAR VAZQUEZ VICTORIA ALEJANDRA    F   \n",
       "\n",
       "                            domal                 coloa       pobla      cpa  \\\n",
       "0               5 DE MAYO No. 106              ZARAGOZA  TEXCOCO, E  56110.0   \n",
       "1             LEON SALINAS NO. 62              XOCOTLAN  TEXCOCO. M  56236.0   \n",
       "2             LEON SALINAS No. 62  FRACC.  MOLINO DE FL  XOCOTLAN,T  56236.0   \n",
       "3         CIRCUITO MILTENCO No. 4      CABERA MUNICIPAL  CHICOLOAPA  56370.0   \n",
       "4  FRAY PEDRO DE GANTE No.238 INT             SAN PEDRO     TEXCOCO  56105.0   \n",
       "\n",
       "               fecnaca  ... apellidom nombres  snombre  matricula nombrecort  \\\n",
       "0  2018-02-12 00:00:00  ...       NaN     NaN      NaN        NaN        NaN   \n",
       "1  2007-04-19 00:00:00  ...       NaN     NaN      NaN        NaN        NaN   \n",
       "2  2013-03-27 00:00:00  ...       NaN     NaN      NaN        NaN        NaN   \n",
       "3  2013-07-15 00:00:00  ...       NaN     NaN      NaN        NaN        NaN   \n",
       "4  2018-01-12 00:00:00  ...       NaN     NaN      NaN        NaN        NaN   \n",
       "\n",
       "  credito  cuenta  inscribe  edad capturado  \n",
       "0     NaN     NaN       NaN     0     False  \n",
       "1     NaN     NaN       NaN     0     False  \n",
       "2     NaN     NaN       NaN     0     False  \n",
       "3     NaN     NaN       NaN     0     False  \n",
       "4     NaN     NaN       NaN     0     False  \n",
       "\n",
       "[5 rows x 52 columns]"
      ],
      "text/html": [
       "<div>\n",
       "<style scoped>\n",
       "    .dataframe tbody tr th:only-of-type {\n",
       "        vertical-align: middle;\n",
       "    }\n",
       "\n",
       "    .dataframe tbody tr th {\n",
       "        vertical-align: top;\n",
       "    }\n",
       "\n",
       "    .dataframe thead th {\n",
       "        text-align: right;\n",
       "    }\n",
       "</style>\n",
       "<table border=\"1\" class=\"dataframe\">\n",
       "  <thead>\n",
       "    <tr style=\"text-align: right;\">\n",
       "      <th></th>\n",
       "      <th>clave</th>\n",
       "      <th>digito</th>\n",
       "      <th>digban</th>\n",
       "      <th>nombrea</th>\n",
       "      <th>sexo</th>\n",
       "      <th>domal</th>\n",
       "      <th>coloa</th>\n",
       "      <th>pobla</th>\n",
       "      <th>cpa</th>\n",
       "      <th>fecnaca</th>\n",
       "      <th>...</th>\n",
       "      <th>apellidom</th>\n",
       "      <th>nombres</th>\n",
       "      <th>snombre</th>\n",
       "      <th>matricula</th>\n",
       "      <th>nombrecort</th>\n",
       "      <th>credito</th>\n",
       "      <th>cuenta</th>\n",
       "      <th>inscribe</th>\n",
       "      <th>edad</th>\n",
       "      <th>capturado</th>\n",
       "    </tr>\n",
       "  </thead>\n",
       "  <tbody>\n",
       "    <tr>\n",
       "      <th>0</th>\n",
       "      <td>3807</td>\n",
       "      <td>0</td>\n",
       "      <td>28</td>\n",
       "      <td>TRUJANO MIRANDA JONAS</td>\n",
       "      <td>M</td>\n",
       "      <td>5 DE MAYO No. 106</td>\n",
       "      <td>ZARAGOZA</td>\n",
       "      <td>TEXCOCO, E</td>\n",
       "      <td>56110.0</td>\n",
       "      <td>2018-02-12 00:00:00</td>\n",
       "      <td>...</td>\n",
       "      <td>NaN</td>\n",
       "      <td>NaN</td>\n",
       "      <td>NaN</td>\n",
       "      <td>NaN</td>\n",
       "      <td>NaN</td>\n",
       "      <td>NaN</td>\n",
       "      <td>NaN</td>\n",
       "      <td>NaN</td>\n",
       "      <td>0</td>\n",
       "      <td>False</td>\n",
       "    </tr>\n",
       "    <tr>\n",
       "      <th>1</th>\n",
       "      <td>3752</td>\n",
       "      <td>0</td>\n",
       "      <td>87</td>\n",
       "      <td>SAN NICOLAS BUSTAMANTE SANTIAGO</td>\n",
       "      <td>M</td>\n",
       "      <td>LEON SALINAS NO. 62</td>\n",
       "      <td>XOCOTLAN</td>\n",
       "      <td>TEXCOCO. M</td>\n",
       "      <td>56236.0</td>\n",
       "      <td>2007-04-19 00:00:00</td>\n",
       "      <td>...</td>\n",
       "      <td>NaN</td>\n",
       "      <td>NaN</td>\n",
       "      <td>NaN</td>\n",
       "      <td>NaN</td>\n",
       "      <td>NaN</td>\n",
       "      <td>NaN</td>\n",
       "      <td>NaN</td>\n",
       "      <td>NaN</td>\n",
       "      <td>0</td>\n",
       "      <td>False</td>\n",
       "    </tr>\n",
       "    <tr>\n",
       "      <th>2</th>\n",
       "      <td>3751</td>\n",
       "      <td>0</td>\n",
       "      <td>27</td>\n",
       "      <td>SAN NICOLAS BUSTAMANTE ESTEFANIA</td>\n",
       "      <td>F</td>\n",
       "      <td>LEON SALINAS No. 62</td>\n",
       "      <td>FRACC.  MOLINO DE FL</td>\n",
       "      <td>XOCOTLAN,T</td>\n",
       "      <td>56236.0</td>\n",
       "      <td>2013-03-27 00:00:00</td>\n",
       "      <td>...</td>\n",
       "      <td>NaN</td>\n",
       "      <td>NaN</td>\n",
       "      <td>NaN</td>\n",
       "      <td>NaN</td>\n",
       "      <td>NaN</td>\n",
       "      <td>NaN</td>\n",
       "      <td>NaN</td>\n",
       "      <td>NaN</td>\n",
       "      <td>0</td>\n",
       "      <td>False</td>\n",
       "    </tr>\n",
       "    <tr>\n",
       "      <th>3</th>\n",
       "      <td>3723</td>\n",
       "      <td>0</td>\n",
       "      <td>46</td>\n",
       "      <td>VIZUET  GOMEZ DIEGO EMILIANO</td>\n",
       "      <td>M</td>\n",
       "      <td>CIRCUITO MILTENCO No. 4</td>\n",
       "      <td>CABERA MUNICIPAL</td>\n",
       "      <td>CHICOLOAPA</td>\n",
       "      <td>56370.0</td>\n",
       "      <td>2013-07-15 00:00:00</td>\n",
       "      <td>...</td>\n",
       "      <td>NaN</td>\n",
       "      <td>NaN</td>\n",
       "      <td>NaN</td>\n",
       "      <td>NaN</td>\n",
       "      <td>NaN</td>\n",
       "      <td>NaN</td>\n",
       "      <td>NaN</td>\n",
       "      <td>NaN</td>\n",
       "      <td>0</td>\n",
       "      <td>False</td>\n",
       "    </tr>\n",
       "    <tr>\n",
       "      <th>4</th>\n",
       "      <td>3811</td>\n",
       "      <td>0</td>\n",
       "      <td>25</td>\n",
       "      <td>AGUILAR VAZQUEZ VICTORIA ALEJANDRA</td>\n",
       "      <td>F</td>\n",
       "      <td>FRAY PEDRO DE GANTE No.238 INT</td>\n",
       "      <td>SAN PEDRO</td>\n",
       "      <td>TEXCOCO</td>\n",
       "      <td>56105.0</td>\n",
       "      <td>2018-01-12 00:00:00</td>\n",
       "      <td>...</td>\n",
       "      <td>NaN</td>\n",
       "      <td>NaN</td>\n",
       "      <td>NaN</td>\n",
       "      <td>NaN</td>\n",
       "      <td>NaN</td>\n",
       "      <td>NaN</td>\n",
       "      <td>NaN</td>\n",
       "      <td>NaN</td>\n",
       "      <td>0</td>\n",
       "      <td>False</td>\n",
       "    </tr>\n",
       "  </tbody>\n",
       "</table>\n",
       "<p>5 rows × 52 columns</p>\n",
       "</div>"
      ]
     },
     "execution_count": 225,
     "metadata": {},
     "output_type": "execute_result"
    }
   ],
   "execution_count": 225
  },
  {
   "metadata": {},
   "cell_type": "markdown",
   "source": "**Observacion :**  Tenemos varias columnas sin informacion, se hara una revision para poder determinar si eliminarlas o no.",
   "id": "9e7ae91cb98fbbf8"
  },
  {
   "metadata": {},
   "cell_type": "markdown",
   "source": "### Valores faltantes",
   "id": "10f053cf2ac92448"
  },
  {
   "metadata": {
    "ExecuteTime": {
     "end_time": "2024-07-18T23:08:02.122378Z",
     "start_time": "2024-07-18T23:08:02.112226Z"
    }
   },
   "cell_type": "code",
   "source": "df.isnull().sum()",
   "id": "d3bf36874bc11b57",
   "outputs": [
    {
     "data": {
      "text/plain": [
       "clave           0\n",
       "digito          0\n",
       "digban          0\n",
       "nombrea         0\n",
       "sexo            0\n",
       "domal           4\n",
       "coloa           4\n",
       "pobla           7\n",
       "cpa            14\n",
       "fecnaca         0\n",
       "naciona         3\n",
       "tela           32\n",
       "nivel           0\n",
       "grado           0\n",
       "grupo           0\n",
       "escpro         14\n",
       "porcol          0\n",
       "porins          0\n",
       "codigo        431\n",
       "madre           4\n",
       "ocupam         13\n",
       "emprem        119\n",
       "celularm       59\n",
       "telofm        259\n",
       "emailm         94\n",
       "padre          22\n",
       "ocupap         29\n",
       "emprep        112\n",
       "celularp       96\n",
       "telofp        223\n",
       "emailp        154\n",
       "pedi           79\n",
       "telpedi       115\n",
       "transporta    431\n",
       "factura       410\n",
       "factura1      431\n",
       "ciclo         431\n",
       "fechains        0\n",
       "fechbaja        0\n",
       "plan            0\n",
       "apellidos     431\n",
       "apellidop     431\n",
       "apellidom     431\n",
       "nombres       431\n",
       "snombre       431\n",
       "matricula     431\n",
       "nombrecort    431\n",
       "credito       431\n",
       "cuenta        431\n",
       "inscribe      431\n",
       "edad            0\n",
       "capturado       0\n",
       "dtype: int64"
      ]
     },
     "execution_count": 226,
     "metadata": {},
     "output_type": "execute_result"
    }
   ],
   "execution_count": 226
  },
  {
   "metadata": {},
   "cell_type": "markdown",
   "source": "**Observacion :**  Teniendo en cuenta que la cantidad de filas del dataframe es de 431 y tenemos columnas con la misma cantidad de valores nulos, podriamos confirmar que son columnas sin informacion, por lo que podrian ser eliminadas.",
   "id": "d8a90acd5411a8e"
  },
  {
   "metadata": {},
   "cell_type": "markdown",
   "source": "**Procediemiento :** Se eliminará las columnas donde la cantidad de filas vacias sean igual a la cantidad de filas del dataframe mediante una funcion que irá recorriendo cada columna.",
   "id": "e8724ee36c58d3e3"
  },
  {
   "metadata": {
    "ExecuteTime": {
     "end_time": "2024-07-18T23:08:02.875032Z",
     "start_time": "2024-07-18T23:08:02.847565Z"
    }
   },
   "cell_type": "code",
   "source": [
    "# Determinamos el limite de nulos para eliminar la columna\n",
    "total_filas = len(df)\n",
    "\n",
    "# Recorremos cada columna para ir verificando si son columnas vacias\n",
    "for columna in df.columns:\n",
    "    # Guardamos la cantidad de nulos en la variable\n",
    "    nulos_en_columna = df[columna].isnull().sum()\n",
    "    \n",
    "    # Verificamos si la cantidad de nulos es igual a la cantidad total de filas de la columna\n",
    "    if nulos_en_columna == total_filas:\n",
    "        # Eliminamos columna\n",
    "        df.drop(columns=columna, inplace=True)\n",
    "        #Mostramos el mensaje de que columnas fueron eliminadas\n",
    "        print(f\"Columna '{columna}' eliminada (todos los valores son nulos).\")"
   ],
   "id": "6e06def4ad5e85ca",
   "outputs": [
    {
     "name": "stdout",
     "output_type": "stream",
     "text": [
      "Columna 'codigo' eliminada (todos los valores son nulos).\n",
      "Columna 'transporta' eliminada (todos los valores son nulos).\n",
      "Columna 'factura1' eliminada (todos los valores son nulos).\n",
      "Columna 'ciclo' eliminada (todos los valores son nulos).\n",
      "Columna 'apellidos' eliminada (todos los valores son nulos).\n",
      "Columna 'apellidop' eliminada (todos los valores son nulos).\n",
      "Columna 'apellidom' eliminada (todos los valores son nulos).\n",
      "Columna 'nombres' eliminada (todos los valores son nulos).\n",
      "Columna 'snombre' eliminada (todos los valores son nulos).\n",
      "Columna 'matricula' eliminada (todos los valores son nulos).\n",
      "Columna 'nombrecort' eliminada (todos los valores son nulos).\n",
      "Columna 'credito' eliminada (todos los valores son nulos).\n",
      "Columna 'cuenta' eliminada (todos los valores son nulos).\n",
      "Columna 'inscribe' eliminada (todos los valores son nulos).\n"
     ]
    }
   ],
   "execution_count": 227
  },
  {
   "metadata": {},
   "cell_type": "markdown",
   "source": "**Resultado**",
   "id": "72c123e18de99f3f"
  },
  {
   "metadata": {
    "ExecuteTime": {
     "end_time": "2024-07-18T23:08:03.412990Z",
     "start_time": "2024-07-18T23:08:03.408215Z"
    }
   },
   "cell_type": "code",
   "source": "print(df.columns)",
   "id": "6e00ee57c2ed1882",
   "outputs": [
    {
     "name": "stdout",
     "output_type": "stream",
     "text": [
      "Index(['clave', 'digito', 'digban', 'nombrea', 'sexo', 'domal', 'coloa',\n",
      "       'pobla', 'cpa', 'fecnaca', 'naciona', 'tela', 'nivel', 'grado', 'grupo',\n",
      "       'escpro', 'porcol', 'porins', 'madre', 'ocupam', 'emprem', 'celularm',\n",
      "       'telofm', 'emailm', 'padre', 'ocupap', 'emprep', 'celularp', 'telofp',\n",
      "       'emailp', 'pedi', 'telpedi', 'factura', 'fechains', 'fechbaja', 'plan',\n",
      "       'edad', 'capturado'],\n",
      "      dtype='object')\n"
     ]
    }
   ],
   "execution_count": 228
  },
  {
   "metadata": {},
   "cell_type": "markdown",
   "source": "**Observacion :** Se eliminaron las columnas que no tenian informacion, en el caso de necesitar una nueva columna se podra crear una.",
   "id": "89a4591b8502877c"
  },
  {
   "metadata": {},
   "cell_type": "markdown",
   "source": "### Duplicados",
   "id": "f4c3a85105fbfbef"
  },
  {
   "metadata": {
    "ExecuteTime": {
     "end_time": "2024-07-18T23:08:04.736376Z",
     "start_time": "2024-07-18T23:08:04.722034Z"
    }
   },
   "cell_type": "code",
   "source": [
    "duplicados = df.duplicated().sum()\n",
    "print(f\"Tenemos {duplicados} registros duplicados.\")"
   ],
   "id": "5a8f5e5913ae6003",
   "outputs": [
    {
     "name": "stdout",
     "output_type": "stream",
     "text": [
      "Tenemos 0 registros duplicados.\n"
     ]
    }
   ],
   "execution_count": 229
  },
  {
   "metadata": {},
   "cell_type": "markdown",
   "source": "# <font color=\"#f9a177\">**Analisis de columnas**</font>",
   "id": "974ca051fbd09fb2"
  },
  {
   "metadata": {},
   "cell_type": "markdown",
   "source": "## <font color=\"#f9a177\">\"clave\"</font>",
   "id": "644f26b22aa62e1b"
  },
  {
   "metadata": {},
   "cell_type": "markdown",
   "source": "### Interpretacion de columna",
   "id": "36b0195bb3ed83b8"
  },
  {
   "metadata": {},
   "cell_type": "markdown",
   "source": "La columna hace referencia a las claves de cada registro, es decir, cada registro tiene una clave unica.",
   "id": "88e9fca32b370405"
  },
  {
   "metadata": {},
   "cell_type": "markdown",
   "source": "### Tipo de dato",
   "id": "3d3f4533e076818a"
  },
  {
   "metadata": {
    "ExecuteTime": {
     "end_time": "2024-07-18T23:08:05.640305Z",
     "start_time": "2024-07-18T23:08:05.632846Z"
    }
   },
   "cell_type": "code",
   "source": [
    "#Vamos a ver si hay datos distintos de int\n",
    "df['clave'].apply(lambda x: type(x)).value_counts()"
   ],
   "id": "ee2e90dd63d8e46f",
   "outputs": [
    {
     "data": {
      "text/plain": [
       "clave\n",
       "<class 'int'>    431\n",
       "Name: count, dtype: int64"
      ]
     },
     "execution_count": 230,
     "metadata": {},
     "output_type": "execute_result"
    }
   ],
   "execution_count": 230
  },
  {
   "metadata": {},
   "cell_type": "markdown",
   "source": "### Valores faltantes",
   "id": "d1ddd1c506905b17"
  },
  {
   "metadata": {
    "ExecuteTime": {
     "end_time": "2024-07-18T23:08:06.022861Z",
     "start_time": "2024-07-18T23:08:06.017037Z"
    }
   },
   "cell_type": "code",
   "source": [
    "#Valores igual a \"Nan\"\n",
    "df_nan = df[df['clave'].apply(lambda x: x == 'Nan')]"
   ],
   "id": "5592e12f5d67a070",
   "outputs": [],
   "execution_count": 231
  },
  {
   "metadata": {
    "ExecuteTime": {
     "end_time": "2024-07-18T23:08:06.707106Z",
     "start_time": "2024-07-18T23:08:06.697917Z"
    }
   },
   "cell_type": "code",
   "source": [
    "#Valores nulos\n",
    "nulos = df['clave'].isnull().sum()\n",
    "#Sumamos nulos y Nan\n",
    "print(f\"Valores faltantes en la columna 'clave': {nulos + len(df_nan)}\") "
   ],
   "id": "e52283c3a3890215",
   "outputs": [
    {
     "name": "stdout",
     "output_type": "stream",
     "text": [
      "Valores faltantes en la columna 'clave': 0\n"
     ]
    }
   ],
   "execution_count": 232
  },
  {
   "metadata": {},
   "cell_type": "markdown",
   "source": "### Valores duplicados",
   "id": "538ea0230556872e"
  },
  {
   "metadata": {
    "ExecuteTime": {
     "end_time": "2024-07-18T23:08:07.162051Z",
     "start_time": "2024-07-18T23:08:07.139214Z"
    }
   },
   "cell_type": "code",
   "source": "df[df['clave'].duplicated(keep=False)]",
   "id": "2c95380e44989509",
   "outputs": [
    {
     "data": {
      "text/plain": [
       "     clave  digito  digban                nombrea sexo                  domal  \\\n",
       "145   3654       0      42  ARIAS CAMPOS SAMANTHA    F  AV. NACIONAL LT. 42 A   \n",
       "413   3654       0      52      CARREON REYES AMY    F          LAREDO No. 35   \n",
       "\n",
       "                    coloa       pobla      cpa              fecnaca  ...  \\\n",
       "145  SAN FRANCISCO ACUEXC  ATENCO. ME  56300.0  2017-12-01 00:00:00  ...   \n",
       "413           EL TEJOCOTE  TEXCOCO,ME  56265.0  2015-12-02 00:00:00  ...   \n",
       "\n",
       "         telofp emailp                         pedi     telpedi factura  \\\n",
       "145  5959223340    NaN                          NaN         NaN     NaN   \n",
       "413         NaN    NaN  DR. MANUEL ALEJANDRO CAMPOS  5556851986     NaN   \n",
       "\n",
       "      fechains  fechbaja  plan edad capturado  \n",
       "145 2022-03-24     -   -     B    0     False  \n",
       "413 2022-09-05     -   -     B    0     False  \n",
       "\n",
       "[2 rows x 38 columns]"
      ],
      "text/html": [
       "<div>\n",
       "<style scoped>\n",
       "    .dataframe tbody tr th:only-of-type {\n",
       "        vertical-align: middle;\n",
       "    }\n",
       "\n",
       "    .dataframe tbody tr th {\n",
       "        vertical-align: top;\n",
       "    }\n",
       "\n",
       "    .dataframe thead th {\n",
       "        text-align: right;\n",
       "    }\n",
       "</style>\n",
       "<table border=\"1\" class=\"dataframe\">\n",
       "  <thead>\n",
       "    <tr style=\"text-align: right;\">\n",
       "      <th></th>\n",
       "      <th>clave</th>\n",
       "      <th>digito</th>\n",
       "      <th>digban</th>\n",
       "      <th>nombrea</th>\n",
       "      <th>sexo</th>\n",
       "      <th>domal</th>\n",
       "      <th>coloa</th>\n",
       "      <th>pobla</th>\n",
       "      <th>cpa</th>\n",
       "      <th>fecnaca</th>\n",
       "      <th>...</th>\n",
       "      <th>telofp</th>\n",
       "      <th>emailp</th>\n",
       "      <th>pedi</th>\n",
       "      <th>telpedi</th>\n",
       "      <th>factura</th>\n",
       "      <th>fechains</th>\n",
       "      <th>fechbaja</th>\n",
       "      <th>plan</th>\n",
       "      <th>edad</th>\n",
       "      <th>capturado</th>\n",
       "    </tr>\n",
       "  </thead>\n",
       "  <tbody>\n",
       "    <tr>\n",
       "      <th>145</th>\n",
       "      <td>3654</td>\n",
       "      <td>0</td>\n",
       "      <td>42</td>\n",
       "      <td>ARIAS CAMPOS SAMANTHA</td>\n",
       "      <td>F</td>\n",
       "      <td>AV. NACIONAL LT. 42 A</td>\n",
       "      <td>SAN FRANCISCO ACUEXC</td>\n",
       "      <td>ATENCO. ME</td>\n",
       "      <td>56300.0</td>\n",
       "      <td>2017-12-01 00:00:00</td>\n",
       "      <td>...</td>\n",
       "      <td>5959223340</td>\n",
       "      <td>NaN</td>\n",
       "      <td>NaN</td>\n",
       "      <td>NaN</td>\n",
       "      <td>NaN</td>\n",
       "      <td>2022-03-24</td>\n",
       "      <td>-   -</td>\n",
       "      <td>B</td>\n",
       "      <td>0</td>\n",
       "      <td>False</td>\n",
       "    </tr>\n",
       "    <tr>\n",
       "      <th>413</th>\n",
       "      <td>3654</td>\n",
       "      <td>0</td>\n",
       "      <td>52</td>\n",
       "      <td>CARREON REYES AMY</td>\n",
       "      <td>F</td>\n",
       "      <td>LAREDO No. 35</td>\n",
       "      <td>EL TEJOCOTE</td>\n",
       "      <td>TEXCOCO,ME</td>\n",
       "      <td>56265.0</td>\n",
       "      <td>2015-12-02 00:00:00</td>\n",
       "      <td>...</td>\n",
       "      <td>NaN</td>\n",
       "      <td>NaN</td>\n",
       "      <td>DR. MANUEL ALEJANDRO CAMPOS</td>\n",
       "      <td>5556851986</td>\n",
       "      <td>NaN</td>\n",
       "      <td>2022-09-05</td>\n",
       "      <td>-   -</td>\n",
       "      <td>B</td>\n",
       "      <td>0</td>\n",
       "      <td>False</td>\n",
       "    </tr>\n",
       "  </tbody>\n",
       "</table>\n",
       "<p>2 rows × 38 columns</p>\n",
       "</div>"
      ]
     },
     "execution_count": 233,
     "metadata": {},
     "output_type": "execute_result"
    }
   ],
   "execution_count": 233
  },
  {
   "metadata": {},
   "cell_type": "markdown",
   "source": "**Observacion :**  Se puede observar que tenemos dos claves duplicadas, lo cual probablemente sea un error en la carga de datos ya que cada registro tiene una clave unica, no se puede eliminar estos registros ya que no son duplicados exactos, es evidente que pertenecen a diferentes padres y alumnos. Se realizara un solucion luego de verificar otras columnas.",
   "id": "92124393f13cb06d"
  },
  {
   "metadata": {},
   "cell_type": "markdown",
   "source": "## <font color=\"#f9a177\">\"digito\"</font>",
   "id": "993b75f69baf63a8"
  },
  {
   "metadata": {},
   "cell_type": "markdown",
   "source": "### Interpretacion",
   "id": "81e541801b4b159"
  },
  {
   "metadata": {},
   "cell_type": "markdown",
   "source": "Podria hacer referencia a una extension de la misma clave, un numero adicional a la clave. Tambien tener en cuenta que estos numeros si se repiten.",
   "id": "b6038fd67b43cccd"
  },
  {
   "metadata": {},
   "cell_type": "markdown",
   "source": "### Tipo de dato",
   "id": "d72ebd5c8a5d883"
  },
  {
   "metadata": {
    "ExecuteTime": {
     "end_time": "2024-07-18T23:08:07.965674Z",
     "start_time": "2024-07-18T23:08:07.951990Z"
    }
   },
   "cell_type": "code",
   "source": [
    "#Vamos a ver si hay datos distintos de int\n",
    "df['digito'].apply(lambda x: type(x)).value_counts()"
   ],
   "id": "d4d81a2ce46c375e",
   "outputs": [
    {
     "data": {
      "text/plain": [
       "digito\n",
       "<class 'int'>    431\n",
       "Name: count, dtype: int64"
      ]
     },
     "execution_count": 234,
     "metadata": {},
     "output_type": "execute_result"
    }
   ],
   "execution_count": 234
  },
  {
   "metadata": {},
   "cell_type": "markdown",
   "source": "### Valores faltantes",
   "id": "1d8f9e8502175c27"
  },
  {
   "metadata": {
    "ExecuteTime": {
     "end_time": "2024-07-18T23:08:08.308720Z",
     "start_time": "2024-07-18T23:08:08.301378Z"
    }
   },
   "cell_type": "code",
   "source": [
    "#Valores igual a \"Nan\"\n",
    "df_nan = df[df['digito'].apply(lambda x: x == 'Nan' or x == 'NaN')]"
   ],
   "id": "c7a644126b61a481",
   "outputs": [],
   "execution_count": 235
  },
  {
   "metadata": {
    "ExecuteTime": {
     "end_time": "2024-07-18T23:08:09.020688Z",
     "start_time": "2024-07-18T23:08:09.015562Z"
    }
   },
   "cell_type": "code",
   "source": [
    "nulos = df['digito'].isnull().sum()\n",
    "#Suma de nulos y Nan\n",
    "print(f\"Valores faltantes en la columna 'digito': {nulos + len(df_nan)}\")"
   ],
   "id": "d745554f58672393",
   "outputs": [
    {
     "name": "stdout",
     "output_type": "stream",
     "text": [
      "Valores faltantes en la columna 'digito': 0\n"
     ]
    }
   ],
   "execution_count": 236
  },
  {
   "metadata": {},
   "cell_type": "markdown",
   "source": "### Valores duplicados",
   "id": "e5b120e8b61b37c6"
  },
  {
   "metadata": {
    "ExecuteTime": {
     "end_time": "2024-07-18T23:08:09.521243Z",
     "start_time": "2024-07-18T23:08:09.509444Z"
    }
   },
   "cell_type": "code",
   "source": [
    "#Cantidad de duplicados por digito\n",
    "df['digito'].value_counts()"
   ],
   "id": "7259c1fcfce6c843",
   "outputs": [
    {
     "data": {
      "text/plain": [
       "digito\n",
       "0    429\n",
       "1      1\n",
       "5      1\n",
       "Name: count, dtype: int64"
      ]
     },
     "execution_count": 237,
     "metadata": {},
     "output_type": "execute_result"
    }
   ],
   "execution_count": 237
  },
  {
   "metadata": {},
   "cell_type": "markdown",
   "source": "",
   "id": "c7aff412395f5e23"
  },
  {
   "metadata": {},
   "cell_type": "markdown",
   "source": "**Observacion :**  Se puede observar dos registros con digitos distintos, esto puede ser un error en la carga de datos y la mayoria de los registros tiene el digito en 0. Considero que esta columna no tiene informacion relevante, si quisiera crear claves unicas unificando esta columna con la columna \"clave\" seguiria teniendo el mismo problema de duplicados.",
   "id": "679d3ebebabdf12b"
  },
  {
   "metadata": {},
   "cell_type": "markdown",
   "source": "**Procedimiento :** Se eliminará la columna \"digito\".",
   "id": "1fcda957b0d7c826"
  },
  {
   "metadata": {
    "ExecuteTime": {
     "end_time": "2024-07-18T23:08:10.395010Z",
     "start_time": "2024-07-18T23:08:10.388130Z"
    }
   },
   "cell_type": "code",
   "source": "df.drop(columns='digito', inplace=True)",
   "id": "7c38e40952972744",
   "outputs": [],
   "execution_count": 238
  },
  {
   "metadata": {},
   "cell_type": "markdown",
   "source": "**Resultado**",
   "id": "fc6f21e085c2860"
  },
  {
   "metadata": {
    "ExecuteTime": {
     "end_time": "2024-07-18T23:08:10.945695Z",
     "start_time": "2024-07-18T23:08:10.926023Z"
    }
   },
   "cell_type": "code",
   "source": "df.head()",
   "id": "718fba9a1664ab30",
   "outputs": [
    {
     "data": {
      "text/plain": [
       "   clave  digban                             nombrea sexo  \\\n",
       "0   3807      28               TRUJANO MIRANDA JONAS    M   \n",
       "1   3752      87     SAN NICOLAS BUSTAMANTE SANTIAGO    M   \n",
       "2   3751      27    SAN NICOLAS BUSTAMANTE ESTEFANIA    F   \n",
       "3   3723      46        VIZUET  GOMEZ DIEGO EMILIANO    M   \n",
       "4   3811      25  AGUILAR VAZQUEZ VICTORIA ALEJANDRA    F   \n",
       "\n",
       "                            domal                 coloa       pobla      cpa  \\\n",
       "0               5 DE MAYO No. 106              ZARAGOZA  TEXCOCO, E  56110.0   \n",
       "1             LEON SALINAS NO. 62              XOCOTLAN  TEXCOCO. M  56236.0   \n",
       "2             LEON SALINAS No. 62  FRACC.  MOLINO DE FL  XOCOTLAN,T  56236.0   \n",
       "3         CIRCUITO MILTENCO No. 4      CABERA MUNICIPAL  CHICOLOAPA  56370.0   \n",
       "4  FRAY PEDRO DE GANTE No.238 INT             SAN PEDRO     TEXCOCO  56105.0   \n",
       "\n",
       "               fecnaca   naciona  ...      telofp                    emailp  \\\n",
       "0  2018-02-12 00:00:00  MEXICANA  ...         NaN                       NaN   \n",
       "1  2007-04-19 00:00:00  MEXICANA  ...  5519882072  rosamaria-rmbo@gmail.com   \n",
       "2  2013-03-27 00:00:00  MEXICANA  ...  5519882072  rosamaria.rmbo@gmail.com   \n",
       "3  2013-07-15 00:00:00  MEXICANA  ...         NaN                       NaN   \n",
       "4  2018-01-12 00:00:00  MEXICANA  ...         NaN       harrohari@gmail.com   \n",
       "\n",
       "                    pedi     telpedi  \\\n",
       "0   DRA. VERONICA DELADO  5959547699   \n",
       "1  DRA. ALEJANDRA MUENCH  5959252210   \n",
       "2  DRA. ALEJANDRA MUENCH  5959252210   \n",
       "3                    NaN         NaN   \n",
       "4           DR. GO0NGORA  5959555296   \n",
       "\n",
       "                                             factura   fechains  fechbaja  \\\n",
       "0                                                NaN 2022-02-11     -   -   \n",
       "1                                                NaN 2022-02-11     -   -   \n",
       "2                                                NaN 2022-02-11     -   -   \n",
       "3  FACTURAR A NOMBRE DE: CATERIN LIZBETH GOMEZ TI... 2022-02-11     -   -   \n",
       "4                                                NaN 2022-02-14     -   -   \n",
       "\n",
       "  plan edad capturado  \n",
       "0    B    0     False  \n",
       "1    B    0     False  \n",
       "2    B    0     False  \n",
       "3    B    0     False  \n",
       "4    B    0     False  \n",
       "\n",
       "[5 rows x 37 columns]"
      ],
      "text/html": [
       "<div>\n",
       "<style scoped>\n",
       "    .dataframe tbody tr th:only-of-type {\n",
       "        vertical-align: middle;\n",
       "    }\n",
       "\n",
       "    .dataframe tbody tr th {\n",
       "        vertical-align: top;\n",
       "    }\n",
       "\n",
       "    .dataframe thead th {\n",
       "        text-align: right;\n",
       "    }\n",
       "</style>\n",
       "<table border=\"1\" class=\"dataframe\">\n",
       "  <thead>\n",
       "    <tr style=\"text-align: right;\">\n",
       "      <th></th>\n",
       "      <th>clave</th>\n",
       "      <th>digban</th>\n",
       "      <th>nombrea</th>\n",
       "      <th>sexo</th>\n",
       "      <th>domal</th>\n",
       "      <th>coloa</th>\n",
       "      <th>pobla</th>\n",
       "      <th>cpa</th>\n",
       "      <th>fecnaca</th>\n",
       "      <th>naciona</th>\n",
       "      <th>...</th>\n",
       "      <th>telofp</th>\n",
       "      <th>emailp</th>\n",
       "      <th>pedi</th>\n",
       "      <th>telpedi</th>\n",
       "      <th>factura</th>\n",
       "      <th>fechains</th>\n",
       "      <th>fechbaja</th>\n",
       "      <th>plan</th>\n",
       "      <th>edad</th>\n",
       "      <th>capturado</th>\n",
       "    </tr>\n",
       "  </thead>\n",
       "  <tbody>\n",
       "    <tr>\n",
       "      <th>0</th>\n",
       "      <td>3807</td>\n",
       "      <td>28</td>\n",
       "      <td>TRUJANO MIRANDA JONAS</td>\n",
       "      <td>M</td>\n",
       "      <td>5 DE MAYO No. 106</td>\n",
       "      <td>ZARAGOZA</td>\n",
       "      <td>TEXCOCO, E</td>\n",
       "      <td>56110.0</td>\n",
       "      <td>2018-02-12 00:00:00</td>\n",
       "      <td>MEXICANA</td>\n",
       "      <td>...</td>\n",
       "      <td>NaN</td>\n",
       "      <td>NaN</td>\n",
       "      <td>DRA. VERONICA DELADO</td>\n",
       "      <td>5959547699</td>\n",
       "      <td>NaN</td>\n",
       "      <td>2022-02-11</td>\n",
       "      <td>-   -</td>\n",
       "      <td>B</td>\n",
       "      <td>0</td>\n",
       "      <td>False</td>\n",
       "    </tr>\n",
       "    <tr>\n",
       "      <th>1</th>\n",
       "      <td>3752</td>\n",
       "      <td>87</td>\n",
       "      <td>SAN NICOLAS BUSTAMANTE SANTIAGO</td>\n",
       "      <td>M</td>\n",
       "      <td>LEON SALINAS NO. 62</td>\n",
       "      <td>XOCOTLAN</td>\n",
       "      <td>TEXCOCO. M</td>\n",
       "      <td>56236.0</td>\n",
       "      <td>2007-04-19 00:00:00</td>\n",
       "      <td>MEXICANA</td>\n",
       "      <td>...</td>\n",
       "      <td>5519882072</td>\n",
       "      <td>rosamaria-rmbo@gmail.com</td>\n",
       "      <td>DRA. ALEJANDRA MUENCH</td>\n",
       "      <td>5959252210</td>\n",
       "      <td>NaN</td>\n",
       "      <td>2022-02-11</td>\n",
       "      <td>-   -</td>\n",
       "      <td>B</td>\n",
       "      <td>0</td>\n",
       "      <td>False</td>\n",
       "    </tr>\n",
       "    <tr>\n",
       "      <th>2</th>\n",
       "      <td>3751</td>\n",
       "      <td>27</td>\n",
       "      <td>SAN NICOLAS BUSTAMANTE ESTEFANIA</td>\n",
       "      <td>F</td>\n",
       "      <td>LEON SALINAS No. 62</td>\n",
       "      <td>FRACC.  MOLINO DE FL</td>\n",
       "      <td>XOCOTLAN,T</td>\n",
       "      <td>56236.0</td>\n",
       "      <td>2013-03-27 00:00:00</td>\n",
       "      <td>MEXICANA</td>\n",
       "      <td>...</td>\n",
       "      <td>5519882072</td>\n",
       "      <td>rosamaria.rmbo@gmail.com</td>\n",
       "      <td>DRA. ALEJANDRA MUENCH</td>\n",
       "      <td>5959252210</td>\n",
       "      <td>NaN</td>\n",
       "      <td>2022-02-11</td>\n",
       "      <td>-   -</td>\n",
       "      <td>B</td>\n",
       "      <td>0</td>\n",
       "      <td>False</td>\n",
       "    </tr>\n",
       "    <tr>\n",
       "      <th>3</th>\n",
       "      <td>3723</td>\n",
       "      <td>46</td>\n",
       "      <td>VIZUET  GOMEZ DIEGO EMILIANO</td>\n",
       "      <td>M</td>\n",
       "      <td>CIRCUITO MILTENCO No. 4</td>\n",
       "      <td>CABERA MUNICIPAL</td>\n",
       "      <td>CHICOLOAPA</td>\n",
       "      <td>56370.0</td>\n",
       "      <td>2013-07-15 00:00:00</td>\n",
       "      <td>MEXICANA</td>\n",
       "      <td>...</td>\n",
       "      <td>NaN</td>\n",
       "      <td>NaN</td>\n",
       "      <td>NaN</td>\n",
       "      <td>NaN</td>\n",
       "      <td>FACTURAR A NOMBRE DE: CATERIN LIZBETH GOMEZ TI...</td>\n",
       "      <td>2022-02-11</td>\n",
       "      <td>-   -</td>\n",
       "      <td>B</td>\n",
       "      <td>0</td>\n",
       "      <td>False</td>\n",
       "    </tr>\n",
       "    <tr>\n",
       "      <th>4</th>\n",
       "      <td>3811</td>\n",
       "      <td>25</td>\n",
       "      <td>AGUILAR VAZQUEZ VICTORIA ALEJANDRA</td>\n",
       "      <td>F</td>\n",
       "      <td>FRAY PEDRO DE GANTE No.238 INT</td>\n",
       "      <td>SAN PEDRO</td>\n",
       "      <td>TEXCOCO</td>\n",
       "      <td>56105.0</td>\n",
       "      <td>2018-01-12 00:00:00</td>\n",
       "      <td>MEXICANA</td>\n",
       "      <td>...</td>\n",
       "      <td>NaN</td>\n",
       "      <td>harrohari@gmail.com</td>\n",
       "      <td>DR. GO0NGORA</td>\n",
       "      <td>5959555296</td>\n",
       "      <td>NaN</td>\n",
       "      <td>2022-02-14</td>\n",
       "      <td>-   -</td>\n",
       "      <td>B</td>\n",
       "      <td>0</td>\n",
       "      <td>False</td>\n",
       "    </tr>\n",
       "  </tbody>\n",
       "</table>\n",
       "<p>5 rows × 37 columns</p>\n",
       "</div>"
      ]
     },
     "execution_count": 239,
     "metadata": {},
     "output_type": "execute_result"
    }
   ],
   "execution_count": 239
  },
  {
   "metadata": {},
   "cell_type": "markdown",
   "source": "## <font color=\"#f9a177\">\"digban\"</font>",
   "id": "6085a37e32d8f4f3"
  },
  {
   "metadata": {},
   "cell_type": "markdown",
   "source": "### Interpretacion",
   "id": "455e8b0653df9310"
  },
  {
   "metadata": {},
   "cell_type": "markdown",
   "source": "Podria ser un registro relacionado con una entidad bancaria o parte del de una tarjeta bancaria.",
   "id": "c6b6abbece420203"
  },
  {
   "metadata": {},
   "cell_type": "markdown",
   "source": "### Tipo de dato",
   "id": "969e02bc7f40ecae"
  },
  {
   "metadata": {
    "ExecuteTime": {
     "end_time": "2024-07-18T23:08:11.777918Z",
     "start_time": "2024-07-18T23:08:11.770010Z"
    }
   },
   "cell_type": "code",
   "source": [
    "#Vamos a ver si hay datos distintos de int\n",
    "df['digban'].apply(lambda x: type(x)).value_counts()"
   ],
   "id": "48cb5febe8f015de",
   "outputs": [
    {
     "data": {
      "text/plain": [
       "digban\n",
       "<class 'int'>    431\n",
       "Name: count, dtype: int64"
      ]
     },
     "execution_count": 240,
     "metadata": {},
     "output_type": "execute_result"
    }
   ],
   "execution_count": 240
  },
  {
   "metadata": {},
   "cell_type": "markdown",
   "source": "### Valores faltantes",
   "id": "b8fb0ece3e39ac10"
  },
  {
   "metadata": {
    "ExecuteTime": {
     "end_time": "2024-07-18T23:08:12.125180Z",
     "start_time": "2024-07-18T23:08:12.119932Z"
    }
   },
   "cell_type": "code",
   "source": [
    "#Valores igual a \"Nan\"\n",
    "df_nan = df[df['digban'].apply(lambda x: x == 'Nan' or x == 'NaN')]"
   ],
   "id": "531368e965297c6",
   "outputs": [],
   "execution_count": 241
  },
  {
   "metadata": {
    "ExecuteTime": {
     "end_time": "2024-07-18T23:08:12.884381Z",
     "start_time": "2024-07-18T23:08:12.878264Z"
    }
   },
   "cell_type": "code",
   "source": [
    "nulos = df['digban'].isnull().sum()\n",
    "#Suma de nulos y Nan\n",
    "print(f\"Valores faltantes en la columna 'digban': {nulos + len(df_nan)}\")"
   ],
   "id": "64c7b7ca1d1bbefe",
   "outputs": [
    {
     "name": "stdout",
     "output_type": "stream",
     "text": [
      "Valores faltantes en la columna 'digban': 0\n"
     ]
    }
   ],
   "execution_count": 242
  },
  {
   "metadata": {},
   "cell_type": "markdown",
   "source": "### Valores duplicados",
   "id": "360cb36073c943f"
  },
  {
   "metadata": {
    "ExecuteTime": {
     "end_time": "2024-07-18T23:08:13.424999Z",
     "start_time": "2024-07-18T23:08:13.418281Z"
    }
   },
   "cell_type": "code",
   "source": [
    "#valores duplicados en digban\n",
    "df['digban'].value_counts()"
   ],
   "id": "583e279d9f2df1b9",
   "outputs": [
    {
     "data": {
      "text/plain": [
       "digban\n",
       "73    9\n",
       "65    9\n",
       "63    9\n",
       "22    8\n",
       "46    8\n",
       "     ..\n",
       "18    1\n",
       "72    1\n",
       "39    1\n",
       "14    1\n",
       "74    1\n",
       "Name: count, Length: 97, dtype: int64"
      ]
     },
     "execution_count": 243,
     "metadata": {},
     "output_type": "execute_result"
    }
   ],
   "execution_count": 243
  },
  {
   "metadata": {},
   "cell_type": "markdown",
   "source": "**Observacion :**  Tenemos numeros duplicados en los registros, podria no ser un problema ya que el numero podria corresponder a la terminacion de una tarjeta bancaria o el numero para una entidad bancaria por lo que tendriamos miles de variantes",
   "id": "d0714c531673ab67"
  },
  {
   "metadata": {},
   "cell_type": "markdown",
   "source": "### Formato de los datos",
   "id": "9cc387f866b6408f"
  },
  {
   "metadata": {
    "ExecuteTime": {
     "end_time": "2024-07-18T23:08:14.174975Z",
     "start_time": "2024-07-18T23:08:14.160618Z"
    }
   },
   "cell_type": "code",
   "source": [
    "#verificar si todos los datos tienen dos digitos y si no tiene mostrar estos datos\n",
    "df[df['digban'].apply(lambda x: len(str(x)) != 2)][['clave', 'digban']]"
   ],
   "id": "6e161eef44f14582",
   "outputs": [
    {
     "data": {
      "text/plain": [
       "     clave  digban\n",
       "37    3339       6\n",
       "62    3655       5\n",
       "84    3676       3\n",
       "86    3433       5\n",
       "89    2986       5\n",
       "99    3890       8\n",
       "108   3620       9\n",
       "116   3685       9\n",
       "137   3027       4\n",
       "151   3898       3\n",
       "165   3604       3\n",
       "171   3856       7\n",
       "176   3766       5\n",
       "183   3211       5\n",
       "217   3484       7\n",
       "220   3502       9\n",
       "254   3207       8\n",
       "266   3860       4\n",
       "268   3787       3\n",
       "284   3565       3\n",
       "289   3916       5\n",
       "296   3241       9\n",
       "305   3796       9\n",
       "332   3189       6\n",
       "361   3937       3\n",
       "376   3745       7\n",
       "380   3946       9\n",
       "383   2632       7\n",
       "398   3950       6\n",
       "425   3971       4"
      ],
      "text/html": [
       "<div>\n",
       "<style scoped>\n",
       "    .dataframe tbody tr th:only-of-type {\n",
       "        vertical-align: middle;\n",
       "    }\n",
       "\n",
       "    .dataframe tbody tr th {\n",
       "        vertical-align: top;\n",
       "    }\n",
       "\n",
       "    .dataframe thead th {\n",
       "        text-align: right;\n",
       "    }\n",
       "</style>\n",
       "<table border=\"1\" class=\"dataframe\">\n",
       "  <thead>\n",
       "    <tr style=\"text-align: right;\">\n",
       "      <th></th>\n",
       "      <th>clave</th>\n",
       "      <th>digban</th>\n",
       "    </tr>\n",
       "  </thead>\n",
       "  <tbody>\n",
       "    <tr>\n",
       "      <th>37</th>\n",
       "      <td>3339</td>\n",
       "      <td>6</td>\n",
       "    </tr>\n",
       "    <tr>\n",
       "      <th>62</th>\n",
       "      <td>3655</td>\n",
       "      <td>5</td>\n",
       "    </tr>\n",
       "    <tr>\n",
       "      <th>84</th>\n",
       "      <td>3676</td>\n",
       "      <td>3</td>\n",
       "    </tr>\n",
       "    <tr>\n",
       "      <th>86</th>\n",
       "      <td>3433</td>\n",
       "      <td>5</td>\n",
       "    </tr>\n",
       "    <tr>\n",
       "      <th>89</th>\n",
       "      <td>2986</td>\n",
       "      <td>5</td>\n",
       "    </tr>\n",
       "    <tr>\n",
       "      <th>99</th>\n",
       "      <td>3890</td>\n",
       "      <td>8</td>\n",
       "    </tr>\n",
       "    <tr>\n",
       "      <th>108</th>\n",
       "      <td>3620</td>\n",
       "      <td>9</td>\n",
       "    </tr>\n",
       "    <tr>\n",
       "      <th>116</th>\n",
       "      <td>3685</td>\n",
       "      <td>9</td>\n",
       "    </tr>\n",
       "    <tr>\n",
       "      <th>137</th>\n",
       "      <td>3027</td>\n",
       "      <td>4</td>\n",
       "    </tr>\n",
       "    <tr>\n",
       "      <th>151</th>\n",
       "      <td>3898</td>\n",
       "      <td>3</td>\n",
       "    </tr>\n",
       "    <tr>\n",
       "      <th>165</th>\n",
       "      <td>3604</td>\n",
       "      <td>3</td>\n",
       "    </tr>\n",
       "    <tr>\n",
       "      <th>171</th>\n",
       "      <td>3856</td>\n",
       "      <td>7</td>\n",
       "    </tr>\n",
       "    <tr>\n",
       "      <th>176</th>\n",
       "      <td>3766</td>\n",
       "      <td>5</td>\n",
       "    </tr>\n",
       "    <tr>\n",
       "      <th>183</th>\n",
       "      <td>3211</td>\n",
       "      <td>5</td>\n",
       "    </tr>\n",
       "    <tr>\n",
       "      <th>217</th>\n",
       "      <td>3484</td>\n",
       "      <td>7</td>\n",
       "    </tr>\n",
       "    <tr>\n",
       "      <th>220</th>\n",
       "      <td>3502</td>\n",
       "      <td>9</td>\n",
       "    </tr>\n",
       "    <tr>\n",
       "      <th>254</th>\n",
       "      <td>3207</td>\n",
       "      <td>8</td>\n",
       "    </tr>\n",
       "    <tr>\n",
       "      <th>266</th>\n",
       "      <td>3860</td>\n",
       "      <td>4</td>\n",
       "    </tr>\n",
       "    <tr>\n",
       "      <th>268</th>\n",
       "      <td>3787</td>\n",
       "      <td>3</td>\n",
       "    </tr>\n",
       "    <tr>\n",
       "      <th>284</th>\n",
       "      <td>3565</td>\n",
       "      <td>3</td>\n",
       "    </tr>\n",
       "    <tr>\n",
       "      <th>289</th>\n",
       "      <td>3916</td>\n",
       "      <td>5</td>\n",
       "    </tr>\n",
       "    <tr>\n",
       "      <th>296</th>\n",
       "      <td>3241</td>\n",
       "      <td>9</td>\n",
       "    </tr>\n",
       "    <tr>\n",
       "      <th>305</th>\n",
       "      <td>3796</td>\n",
       "      <td>9</td>\n",
       "    </tr>\n",
       "    <tr>\n",
       "      <th>332</th>\n",
       "      <td>3189</td>\n",
       "      <td>6</td>\n",
       "    </tr>\n",
       "    <tr>\n",
       "      <th>361</th>\n",
       "      <td>3937</td>\n",
       "      <td>3</td>\n",
       "    </tr>\n",
       "    <tr>\n",
       "      <th>376</th>\n",
       "      <td>3745</td>\n",
       "      <td>7</td>\n",
       "    </tr>\n",
       "    <tr>\n",
       "      <th>380</th>\n",
       "      <td>3946</td>\n",
       "      <td>9</td>\n",
       "    </tr>\n",
       "    <tr>\n",
       "      <th>383</th>\n",
       "      <td>2632</td>\n",
       "      <td>7</td>\n",
       "    </tr>\n",
       "    <tr>\n",
       "      <th>398</th>\n",
       "      <td>3950</td>\n",
       "      <td>6</td>\n",
       "    </tr>\n",
       "    <tr>\n",
       "      <th>425</th>\n",
       "      <td>3971</td>\n",
       "      <td>4</td>\n",
       "    </tr>\n",
       "  </tbody>\n",
       "</table>\n",
       "</div>"
      ]
     },
     "execution_count": 244,
     "metadata": {},
     "output_type": "execute_result"
    }
   ],
   "execution_count": 244
  },
  {
   "metadata": {},
   "cell_type": "markdown",
   "source": "**Observacion :**  Se puede observar que tenemos datos con un digito, esto podria tratarse algun numero de referencia a una entidad bancaria, ya que cualquier tarjeta de credito tiene numeros suficientes para poder cargar.",
   "id": "530463c9dda0e793"
  },
  {
   "metadata": {},
   "cell_type": "markdown",
   "source": "**Procedimiento :** Se unificara la columna \"digban\" con la columna \"clave\" para poder tener una clave unica para cada registro y como paso final se volvera a dejar la columna \"clave\" como tipo de dato int para no tener conflictos",
   "id": "a68bbd6e513493d"
  },
  {
   "metadata": {
    "ExecuteTime": {
     "end_time": "2024-07-18T23:08:14.617187Z",
     "start_time": "2024-07-18T23:08:14.606062Z"
    }
   },
   "cell_type": "code",
   "source": [
    "#Vamos a sobrescribir en la columna \"clave\" la union de las columnas \"clave\" y \"digban\"\n",
    "#Para unir ambas columnas sera necesario convertir a string las columnas y sumarlas\n",
    "df['clave'] = df['clave'].astype(str) + df['digban'].astype(str)\n",
    "#Eliminamos la columna \"digban\"\n",
    "df.drop(columns='digban', inplace=True)\n"
   ],
   "id": "947471b1c55fe73a",
   "outputs": [],
   "execution_count": 245
  },
  {
   "metadata": {},
   "cell_type": "markdown",
   "source": "**Resultado**",
   "id": "dbb9dc72cda5ea"
  },
  {
   "metadata": {
    "ExecuteTime": {
     "end_time": "2024-07-18T23:08:15.368688Z",
     "start_time": "2024-07-18T23:08:15.351260Z"
    }
   },
   "cell_type": "code",
   "source": "df[\"clave\"].head()",
   "id": "9fd3d845f2012262",
   "outputs": [
    {
     "data": {
      "text/plain": [
       "0    380728\n",
       "1    375287\n",
       "2    375127\n",
       "3    372346\n",
       "4    381125\n",
       "Name: clave, dtype: object"
      ]
     },
     "execution_count": 246,
     "metadata": {},
     "output_type": "execute_result"
    }
   ],
   "execution_count": 246
  },
  {
   "metadata": {
    "ExecuteTime": {
     "end_time": "2024-07-18T23:08:15.977819Z",
     "start_time": "2024-07-18T23:08:15.973920Z"
    }
   },
   "cell_type": "code",
   "source": [
    "#Cambiar str a int\n",
    "df['clave'] = df['clave'].astype(int)"
   ],
   "id": "a89f31b6009c75a1",
   "outputs": [],
   "execution_count": 247
  },
  {
   "metadata": {},
   "cell_type": "markdown",
   "source": "### Verificamos duplicados en clave",
   "id": "9b01b641b40568f9"
  },
  {
   "metadata": {
    "ExecuteTime": {
     "end_time": "2024-07-18T23:08:16.941327Z",
     "start_time": "2024-07-18T23:08:16.924834Z"
    }
   },
   "cell_type": "code",
   "source": "df[df['clave'].duplicated(keep=False)]",
   "id": "a2d23ffbd6accca6",
   "outputs": [
    {
     "data": {
      "text/plain": [
       "Empty DataFrame\n",
       "Columns: [clave, nombrea, sexo, domal, coloa, pobla, cpa, fecnaca, naciona, tela, nivel, grado, grupo, escpro, porcol, porins, madre, ocupam, emprem, celularm, telofm, emailm, padre, ocupap, emprep, celularp, telofp, emailp, pedi, telpedi, factura, fechains, fechbaja, plan, edad, capturado]\n",
       "Index: []\n",
       "\n",
       "[0 rows x 36 columns]"
      ],
      "text/html": [
       "<div>\n",
       "<style scoped>\n",
       "    .dataframe tbody tr th:only-of-type {\n",
       "        vertical-align: middle;\n",
       "    }\n",
       "\n",
       "    .dataframe tbody tr th {\n",
       "        vertical-align: top;\n",
       "    }\n",
       "\n",
       "    .dataframe thead th {\n",
       "        text-align: right;\n",
       "    }\n",
       "</style>\n",
       "<table border=\"1\" class=\"dataframe\">\n",
       "  <thead>\n",
       "    <tr style=\"text-align: right;\">\n",
       "      <th></th>\n",
       "      <th>clave</th>\n",
       "      <th>nombrea</th>\n",
       "      <th>sexo</th>\n",
       "      <th>domal</th>\n",
       "      <th>coloa</th>\n",
       "      <th>pobla</th>\n",
       "      <th>cpa</th>\n",
       "      <th>fecnaca</th>\n",
       "      <th>naciona</th>\n",
       "      <th>tela</th>\n",
       "      <th>...</th>\n",
       "      <th>telofp</th>\n",
       "      <th>emailp</th>\n",
       "      <th>pedi</th>\n",
       "      <th>telpedi</th>\n",
       "      <th>factura</th>\n",
       "      <th>fechains</th>\n",
       "      <th>fechbaja</th>\n",
       "      <th>plan</th>\n",
       "      <th>edad</th>\n",
       "      <th>capturado</th>\n",
       "    </tr>\n",
       "  </thead>\n",
       "  <tbody>\n",
       "  </tbody>\n",
       "</table>\n",
       "<p>0 rows × 36 columns</p>\n",
       "</div>"
      ]
     },
     "execution_count": 248,
     "metadata": {},
     "output_type": "execute_result"
    }
   ],
   "execution_count": 248
  },
  {
   "metadata": {},
   "cell_type": "markdown",
   "source": "**Observacion :**  Se puede observar que al unificar estas columnas tendriamos resuelto el problema de las claves duplicadas, ya que cada clave es unica.",
   "id": "54b6f0028e87e11b"
  },
  {
   "metadata": {},
   "cell_type": "markdown",
   "source": "## <font color=\"#f9a177\">\"porins\"</font>",
   "id": "aea2f3f3f4e35a0d"
  },
  {
   "metadata": {},
   "cell_type": "markdown",
   "source": "### Interpretacion",
   "id": "73a29c4de7d8b4cd"
  },
  {
   "metadata": {},
   "cell_type": "markdown",
   "source": "Podria referirse al porcentaje de inscripcion",
   "id": "f042669881cb428a"
  },
  {
   "metadata": {},
   "cell_type": "markdown",
   "source": "**Procedimiento :** Tratare de entender a que hace referencia esta columna",
   "id": "46f4132b1e53f87e"
  },
  {
   "metadata": {
    "ExecuteTime": {
     "end_time": "2024-07-18T23:08:17.413895Z",
     "start_time": "2024-07-18T23:08:17.407286Z"
    }
   },
   "cell_type": "code",
   "source": [
    "#valores unicos\n",
    "df['porcol'].unique()"
   ],
   "id": "8cdc2fc595ece53c",
   "outputs": [
    {
     "data": {
      "text/plain": [
       "array([100,  85,  75,   0,  90,  95,  30,   1,  80,  35])"
      ]
     },
     "execution_count": 249,
     "metadata": {},
     "output_type": "execute_result"
    }
   ],
   "execution_count": 249
  },
  {
   "metadata": {},
   "cell_type": "markdown",
   "source": "**Observacion :**  Se puede observar que el supuesto porcentaje de inscripcion podria hacer referencia a un porcentaje del total de la inspricion que se pago en el momento registrado. Por las dudas dejare la columna por si pueda ser util para alguna promocion o beneficio",
   "id": "4748ea6f64b81e18"
  },
  {
   "metadata": {},
   "cell_type": "markdown",
   "source": "### Tipo de dato",
   "id": "47f143c45892c166"
  },
  {
   "metadata": {
    "ExecuteTime": {
     "end_time": "2024-07-18T23:08:18.085313Z",
     "start_time": "2024-07-18T23:08:18.077229Z"
    }
   },
   "cell_type": "code",
   "source": [
    "#Vamos a ver si hay datos distintos de int\n",
    "df['porins'].apply(lambda x: type(x)).value_counts()"
   ],
   "id": "60d91b4c763ae98c",
   "outputs": [
    {
     "data": {
      "text/plain": [
       "porins\n",
       "<class 'int'>    431\n",
       "Name: count, dtype: int64"
      ]
     },
     "execution_count": 250,
     "metadata": {},
     "output_type": "execute_result"
    }
   ],
   "execution_count": 250
  },
  {
   "metadata": {},
   "cell_type": "markdown",
   "source": "### Valores faltantes",
   "id": "88b88f7c5d743e9d"
  },
  {
   "metadata": {
    "ExecuteTime": {
     "end_time": "2024-07-18T23:08:18.640696Z",
     "start_time": "2024-07-18T23:08:18.634703Z"
    }
   },
   "cell_type": "code",
   "source": [
    "#Valores igual a \"Nan\"\n",
    "df_nan = df[df['porcol'].apply(lambda x: x == 'NaN' or x == 'Nan' or x == 'nan' or x == '')]\n",
    "#Valores nulos"
   ],
   "id": "5bbe7507d6f93898",
   "outputs": [],
   "execution_count": 251
  },
  {
   "metadata": {
    "ExecuteTime": {
     "end_time": "2024-07-18T23:08:19.649964Z",
     "start_time": "2024-07-18T23:08:19.643824Z"
    }
   },
   "cell_type": "code",
   "source": [
    "nulos = df['porcol'].isnull().sum()\n",
    "#Suma de nulos y Nan\n",
    "print(f\"Valores faltantes en la columna 'porcol': {nulos + len(df_nan)}\")"
   ],
   "id": "c5d9005267849e24",
   "outputs": [
    {
     "name": "stdout",
     "output_type": "stream",
     "text": [
      "Valores faltantes en la columna 'porcol': 0\n"
     ]
    }
   ],
   "execution_count": 252
  },
  {
   "metadata": {},
   "cell_type": "markdown",
   "source": "## <font color=\"#f9a177\">\"factura\"</font>",
   "id": "ca43a8c1a9648d8c"
  },
  {
   "metadata": {},
   "cell_type": "markdown",
   "source": "### Interpretacion",
   "id": "1208a96385ab5de9"
  },
  {
   "metadata": {},
   "cell_type": "markdown",
   "source": "Hace referencia a la factura de cada alumno",
   "id": "84fae49bcf0dd5d8"
  },
  {
   "metadata": {},
   "cell_type": "markdown",
   "source": "**Procedimiento :** Tratare de entender a que hace referencia esta columna",
   "id": "9f8b0ac2d772488a"
  },
  {
   "metadata": {
    "ExecuteTime": {
     "end_time": "2024-07-18T23:08:20.048700Z",
     "start_time": "2024-07-18T23:08:20.042287Z"
    }
   },
   "cell_type": "code",
   "source": [
    "#valores unicos\n",
    "df['factura'].unique()"
   ],
   "id": "dba9f0edb498a75b",
   "outputs": [
    {
     "data": {
      "text/plain": [
       "array([nan, 'FACTURAR A NOMBRE DE: CATERIN LIZBETH GOMEZ TIRADO',\n",
       "       'FACTURA A NOMBRE DE: CONACORP, S.A. DE C.V.',\n",
       "       'A NOMBRE DE: ITZEL GALEANA  RANGEL',\n",
       "       'A NOMBRE DE: ITZEL GALEANA RANGEL',\n",
       "       'FACTURA A NOMBRE DE: LEON OMAR VALVERDE ROJAS',\n",
       "       'SRA. MARIA LUISA JIMENEZ HERRERA', 'SR. LUIS NARCISO CANACASCO',\n",
       "       'A NOMBRE DE RODOLFO HERNANDEZ FLORES',\n",
       "       'FACTURAR A: DURAN TOVAR ALEJANDRA',\n",
       "       'FACTURA A NOMBRE DE EDGAR ISAAC RAMIREZ MONTIEL',\n",
       "       'REQUIERE FACTURA A  NOMBRE DE: EDGAR PEREZ JUAREZ',\n",
       "       'FACTURAR A NOMBRE DE: CONACORP, S.A. DE C.V.',\n",
       "       'SAIRI JAZEL CRUZ VELEZ', 'NO REQUIERE DE FACTURA',\n",
       "       'GOMEZ SANCHEZ OSCAR', 'NAHUM LOPEZ GOMEZ', 'ULISES ZAMORA MEJIA',\n",
       "       'ZAMORA CHIMAL ULISES', 'TEL. ABUELO 55 36286271',\n",
       "       'FACRURAR A: ISABEL NOEMI ARIAS HERNANDEZ',\n",
       "       'BRENDA DEL CARMEN  ARENAS ARENAS'], dtype=object)"
      ]
     },
     "execution_count": 253,
     "metadata": {},
     "output_type": "execute_result"
    }
   ],
   "execution_count": 253
  },
  {
   "metadata": {
    "ExecuteTime": {
     "end_time": "2024-07-18T23:08:20.638236Z",
     "start_time": "2024-07-18T23:08:20.627826Z"
    }
   },
   "cell_type": "code",
   "source": [
    "#ver columna factura y nomprep y nombrem para encontrar alguna relacion\n",
    "df[['factura', 'padre', 'madre']]"
   ],
   "id": "d1c2030ba2e14e58",
   "outputs": [
    {
     "data": {
      "text/plain": [
       "                                               factura  \\\n",
       "0                                                  NaN   \n",
       "1                                                  NaN   \n",
       "2                                                  NaN   \n",
       "3    FACTURAR A NOMBRE DE: CATERIN LIZBETH GOMEZ TI...   \n",
       "4                                                  NaN   \n",
       "..                                                 ...   \n",
       "426                                                NaN   \n",
       "427                                                NaN   \n",
       "428                                                NaN   \n",
       "429                                                NaN   \n",
       "430                                                NaN   \n",
       "\n",
       "                              padre                           madre  \n",
       "0                               NaN  GLORIA CATALINA TRUJANO MIRAND  \n",
       "1        CARLOS SAN NICOLAS MIRANDA  ROSA MARIA BUSTAMANTE OSEGUERA  \n",
       "2     CARLOS SAN NICOLAS BUSTAMANTE  ROSA MARIA BUSTAMANTE OSEGUERA  \n",
       "3           JOSE PEDRO VIZUET LOPEZ     MARIA DEL CARMEN TIRADO A,.  \n",
       "4      ALLSON HARI AGUILAR TRUJILLO      DIANA LAURA VAZQUEZ MENDEZ  \n",
       "..                              ...                             ...  \n",
       "426  CARLOS ALBERTO VELAZQUEZ GONZA                   ITZEL RAMIREZ  \n",
       "427            MAURICIO GONZALEZ V.              MARICARMEN ESPEJEL  \n",
       "428  MARIO ALBERTO CLAVIJO CASTILLO  LIDIA STEPHANIE ELIZALDE TORRE  \n",
       "429                             NaN                             NaN  \n",
       "430          SAUL HERNANDEZ VAZQUEZ         MARISOL GUTIERREZ MUÑOZ  \n",
       "\n",
       "[431 rows x 3 columns]"
      ],
      "text/html": [
       "<div>\n",
       "<style scoped>\n",
       "    .dataframe tbody tr th:only-of-type {\n",
       "        vertical-align: middle;\n",
       "    }\n",
       "\n",
       "    .dataframe tbody tr th {\n",
       "        vertical-align: top;\n",
       "    }\n",
       "\n",
       "    .dataframe thead th {\n",
       "        text-align: right;\n",
       "    }\n",
       "</style>\n",
       "<table border=\"1\" class=\"dataframe\">\n",
       "  <thead>\n",
       "    <tr style=\"text-align: right;\">\n",
       "      <th></th>\n",
       "      <th>factura</th>\n",
       "      <th>padre</th>\n",
       "      <th>madre</th>\n",
       "    </tr>\n",
       "  </thead>\n",
       "  <tbody>\n",
       "    <tr>\n",
       "      <th>0</th>\n",
       "      <td>NaN</td>\n",
       "      <td>NaN</td>\n",
       "      <td>GLORIA CATALINA TRUJANO MIRAND</td>\n",
       "    </tr>\n",
       "    <tr>\n",
       "      <th>1</th>\n",
       "      <td>NaN</td>\n",
       "      <td>CARLOS SAN NICOLAS MIRANDA</td>\n",
       "      <td>ROSA MARIA BUSTAMANTE OSEGUERA</td>\n",
       "    </tr>\n",
       "    <tr>\n",
       "      <th>2</th>\n",
       "      <td>NaN</td>\n",
       "      <td>CARLOS SAN NICOLAS BUSTAMANTE</td>\n",
       "      <td>ROSA MARIA BUSTAMANTE OSEGUERA</td>\n",
       "    </tr>\n",
       "    <tr>\n",
       "      <th>3</th>\n",
       "      <td>FACTURAR A NOMBRE DE: CATERIN LIZBETH GOMEZ TI...</td>\n",
       "      <td>JOSE PEDRO VIZUET LOPEZ</td>\n",
       "      <td>MARIA DEL CARMEN TIRADO A,.</td>\n",
       "    </tr>\n",
       "    <tr>\n",
       "      <th>4</th>\n",
       "      <td>NaN</td>\n",
       "      <td>ALLSON HARI AGUILAR TRUJILLO</td>\n",
       "      <td>DIANA LAURA VAZQUEZ MENDEZ</td>\n",
       "    </tr>\n",
       "    <tr>\n",
       "      <th>...</th>\n",
       "      <td>...</td>\n",
       "      <td>...</td>\n",
       "      <td>...</td>\n",
       "    </tr>\n",
       "    <tr>\n",
       "      <th>426</th>\n",
       "      <td>NaN</td>\n",
       "      <td>CARLOS ALBERTO VELAZQUEZ GONZA</td>\n",
       "      <td>ITZEL RAMIREZ</td>\n",
       "    </tr>\n",
       "    <tr>\n",
       "      <th>427</th>\n",
       "      <td>NaN</td>\n",
       "      <td>MAURICIO GONZALEZ V.</td>\n",
       "      <td>MARICARMEN ESPEJEL</td>\n",
       "    </tr>\n",
       "    <tr>\n",
       "      <th>428</th>\n",
       "      <td>NaN</td>\n",
       "      <td>MARIO ALBERTO CLAVIJO CASTILLO</td>\n",
       "      <td>LIDIA STEPHANIE ELIZALDE TORRE</td>\n",
       "    </tr>\n",
       "    <tr>\n",
       "      <th>429</th>\n",
       "      <td>NaN</td>\n",
       "      <td>NaN</td>\n",
       "      <td>NaN</td>\n",
       "    </tr>\n",
       "    <tr>\n",
       "      <th>430</th>\n",
       "      <td>NaN</td>\n",
       "      <td>SAUL HERNANDEZ VAZQUEZ</td>\n",
       "      <td>MARISOL GUTIERREZ MUÑOZ</td>\n",
       "    </tr>\n",
       "  </tbody>\n",
       "</table>\n",
       "<p>431 rows × 3 columns</p>\n",
       "</div>"
      ]
     },
     "execution_count": 254,
     "metadata": {},
     "output_type": "execute_result"
    }
   ],
   "execution_count": 254
  },
  {
   "metadata": {},
   "cell_type": "markdown",
   "source": "### Valores faltantes",
   "id": "94f3c9b0280a9cd0"
  },
  {
   "metadata": {
    "ExecuteTime": {
     "end_time": "2024-07-18T23:08:20.998562Z",
     "start_time": "2024-07-18T23:08:20.993055Z"
    }
   },
   "cell_type": "code",
   "source": [
    "#Valores igual a \"Nan\"\n",
    "df_nan = df[df['factura'].apply(lambda x: x == 'NaN' or x == 'Nan' or x == 'nan' or x == '')]\n",
    "#Valores nulos"
   ],
   "id": "1a89654daa7fdc12",
   "outputs": [],
   "execution_count": 255
  },
  {
   "metadata": {
    "ExecuteTime": {
     "end_time": "2024-07-18T23:08:21.837887Z",
     "start_time": "2024-07-18T23:08:21.832024Z"
    }
   },
   "cell_type": "code",
   "source": [
    "nulos = df['factura'].isnull().sum()\n",
    "#Suma de nulos y Nan\n",
    "print(f\"Valores faltantes en la columna 'factura': {nulos + len(df_nan)}\")"
   ],
   "id": "bc887a6428442c02",
   "outputs": [
    {
     "name": "stdout",
     "output_type": "stream",
     "text": [
      "Valores faltantes en la columna 'factura': 410\n"
     ]
    }
   ],
   "execution_count": 256
  },
  {
   "metadata": {},
   "cell_type": "markdown",
   "source": "**Observacion :**  Se puede observar que la columna hace referencia a quien debe facturar, si el padre o la madre, el problema es que tenemos bastante informacion faltante por lo que termina siendo una columna no tan util, seria importante consultar nuevamente a quien envio los datos para tener informacion clara ",
   "id": "f06a7f26f6ce0af4"
  },
  {
   "metadata": {},
   "cell_type": "markdown",
   "source": "**Procedimiento :** Se eliminara la columna \"factura\"",
   "id": "7cef7a0817d72237"
  },
  {
   "metadata": {
    "ExecuteTime": {
     "end_time": "2024-07-18T23:08:22.473137Z",
     "start_time": "2024-07-18T23:08:22.467895Z"
    }
   },
   "cell_type": "code",
   "source": "df.drop(columns='factura', inplace=True)",
   "id": "923217193060547c",
   "outputs": [],
   "execution_count": 257
  },
  {
   "metadata": {},
   "cell_type": "markdown",
   "source": "## <font color=\"#f9a177\">\"fechains\"</font>",
   "id": "404bdc224801cd3e"
  },
  {
   "metadata": {},
   "cell_type": "markdown",
   "source": "### Interpretacion",
   "id": "d24cdd345445f570"
  },
  {
   "metadata": {},
   "cell_type": "markdown",
   "source": "Hace referencia a la fecha de inscripcion del alumno",
   "id": "a2dbd2cf3ed12e91"
  },
  {
   "metadata": {},
   "cell_type": "markdown",
   "source": "**Procedimiento :** Cambiare el nombre de la columna a \"fecha_inscripcion\" para mayor claridad",
   "id": "f51b7ee090bfcf56"
  },
  {
   "metadata": {
    "ExecuteTime": {
     "end_time": "2024-07-18T23:08:23.271976Z",
     "start_time": "2024-07-18T23:08:23.266544Z"
    }
   },
   "cell_type": "code",
   "source": "df.rename(columns={'fechains': 'fecha_inscripcion'}, inplace=True)",
   "id": "350d1dd371cb557e",
   "outputs": [],
   "execution_count": 258
  },
  {
   "metadata": {},
   "cell_type": "markdown",
   "source": "**Resultado**",
   "id": "7271af4ac9140548"
  },
  {
   "metadata": {
    "ExecuteTime": {
     "end_time": "2024-07-18T23:08:24.693394Z",
     "start_time": "2024-07-18T23:08:24.686330Z"
    }
   },
   "cell_type": "code",
   "source": "df['fecha_inscripcion'].head()",
   "id": "4b5364cc478893a8",
   "outputs": [
    {
     "data": {
      "text/plain": [
       "0   2022-02-11\n",
       "1   2022-02-11\n",
       "2   2022-02-11\n",
       "3   2022-02-11\n",
       "4   2022-02-14\n",
       "Name: fecha_inscripcion, dtype: datetime64[ns]"
      ]
     },
     "execution_count": 259,
     "metadata": {},
     "output_type": "execute_result"
    }
   ],
   "execution_count": 259
  },
  {
   "metadata": {},
   "cell_type": "markdown",
   "source": "### Tipo de dato",
   "id": "29dc9d465de8d4df"
  },
  {
   "metadata": {
    "ExecuteTime": {
     "end_time": "2024-07-18T23:08:26.189510Z",
     "start_time": "2024-07-18T23:08:26.181916Z"
    }
   },
   "cell_type": "code",
   "source": [
    "#Vamos a ver si hay datos distintos de datatime\n",
    "df['fecha_inscripcion'].apply(lambda x: type(x)).value_counts()"
   ],
   "id": "e5dfcc2fc891b05b",
   "outputs": [
    {
     "data": {
      "text/plain": [
       "fecha_inscripcion\n",
       "<class 'pandas._libs.tslibs.timestamps.Timestamp'>    431\n",
       "Name: count, dtype: int64"
      ]
     },
     "execution_count": 260,
     "metadata": {},
     "output_type": "execute_result"
    }
   ],
   "execution_count": 260
  },
  {
   "metadata": {},
   "cell_type": "markdown",
   "source": "### Valores faltantes",
   "id": "a7e6782d4e056a70"
  },
  {
   "metadata": {
    "ExecuteTime": {
     "end_time": "2024-07-18T23:08:26.488674Z",
     "start_time": "2024-07-18T23:08:26.482984Z"
    }
   },
   "cell_type": "code",
   "source": [
    "#Valores igual a \"Nan\"\n",
    "df_nan = df[df['fecha_inscripcion'].apply(lambda x: x == 'NaN' or x == 'Nan' or x == 'nan' or x == '')]\n",
    "#Valores nulos"
   ],
   "id": "78d92246a4b21ee4",
   "outputs": [],
   "execution_count": 261
  },
  {
   "metadata": {
    "ExecuteTime": {
     "end_time": "2024-07-18T23:08:27.307007Z",
     "start_time": "2024-07-18T23:08:27.301489Z"
    }
   },
   "cell_type": "code",
   "source": [
    "nulos = df['fecha_inscripcion'].isnull().sum()\n",
    "#Suma de nulos y Nan\n",
    "print(f\"Valores faltantes en la columna 'fecha_inscripcion': {nulos + len(df_nan)}\")"
   ],
   "id": "2da9e9f0b822fe21",
   "outputs": [
    {
     "name": "stdout",
     "output_type": "stream",
     "text": [
      "Valores faltantes en la columna 'fecha_inscripcion': 0\n"
     ]
    }
   ],
   "execution_count": 262
  },
  {
   "metadata": {},
   "cell_type": "markdown",
   "source": "### Formato de datos",
   "id": "a7144f012a46774"
  },
  {
   "metadata": {
    "ExecuteTime": {
     "end_time": "2024-07-18T23:08:27.787040Z",
     "start_time": "2024-07-18T23:08:27.779018Z"
    }
   },
   "cell_type": "code",
   "source": [
    "#valores unicos\n",
    "df['fecha_inscripcion'].unique()"
   ],
   "id": "18bdf81f6e89b202",
   "outputs": [
    {
     "data": {
      "text/plain": [
       "<DatetimeArray>\n",
       "['2022-02-11 00:00:00', '2022-02-14 00:00:00', '2022-02-15 00:00:00',\n",
       " '2022-02-16 00:00:00', '2022-02-18 00:00:00', '2022-02-21 00:00:00',\n",
       " '2022-02-22 00:00:00', '2022-02-23 00:00:00', '2022-02-24 00:00:00',\n",
       " '2022-02-25 00:00:00',\n",
       " ...\n",
       " '2023-01-30 00:00:00', '2023-02-15 00:00:00', '2023-02-28 00:00:00',\n",
       " '2023-03-01 00:00:00', '2023-02-27 00:00:00', '2023-03-15 00:00:00',\n",
       " '2023-03-27 00:00:00', '2023-03-29 00:00:00', '2023-04-17 00:00:00',\n",
       " '2023-05-02 00:00:00']\n",
       "Length: 116, dtype: datetime64[ns]"
      ]
     },
     "execution_count": 263,
     "metadata": {},
     "output_type": "execute_result"
    }
   ],
   "execution_count": 263
  },
  {
   "metadata": {},
   "cell_type": "markdown",
   "source": "**Procedimiento :**  Se puede observar que los datos de la columna no estan en un formato adecuado, se procedera a cambiar el formato de los datos.",
   "id": "c56d5831a80aceb6"
  },
  {
   "metadata": {
    "ExecuteTime": {
     "end_time": "2024-07-18T23:08:28.516594Z",
     "start_time": "2024-07-18T23:08:28.501049Z"
    }
   },
   "cell_type": "code",
   "source": [
    "#Transformamos los datos que estan como datetime.datetime(2022, 10, 5, 0, 0) a un formato de fecha adecuado\n",
    "# Convertimos la columna a datetime especificando el formato\n",
    "df['fecha_inscripcion'] = pd.to_datetime(df['fecha_inscripcion'], format='%Y-%m-%d', errors='coerce')\n",
    "\n",
    "# Aplicamos el formato deseado\n",
    "df['fecha_inscripcion'] = df['fecha_inscripcion'].apply(lambda x: x.strftime('%Y-%m-%d') if pd.notnull(x) else '')"
   ],
   "id": "74f8cfdc200b72a5",
   "outputs": [],
   "execution_count": 264
  },
  {
   "metadata": {},
   "cell_type": "markdown",
   "source": "**Resultado**",
   "id": "f52c4d5f86ceff27"
  },
  {
   "metadata": {
    "ExecuteTime": {
     "end_time": "2024-07-18T23:08:28.945399Z",
     "start_time": "2024-07-18T23:08:28.937169Z"
    }
   },
   "cell_type": "code",
   "source": [
    "#Valores unicos\n",
    "df['fecha_inscripcion'].unique()"
   ],
   "id": "d44dc0f154d003cb",
   "outputs": [
    {
     "data": {
      "text/plain": [
       "array(['2022-02-11', '2022-02-14', '2022-02-15', '2022-02-16',\n",
       "       '2022-02-18', '2022-02-21', '2022-02-22', '2022-02-23',\n",
       "       '2022-02-24', '2022-02-25', '2022-02-28', '2022-03-01',\n",
       "       '2022-03-02', '2022-03-03', '2022-03-04', '2022-03-07',\n",
       "       '2022-03-08', '2022-03-09', '2022-03-10', '2022-03-11',\n",
       "       '2022-03-14', '2022-03-15', '2022-03-16', '2022-03-17',\n",
       "       '2022-03-18', '2022-03-22', '2022-03-23', '2022-03-24',\n",
       "       '2022-03-25', '2022-03-28', '2022-03-29', '2022-03-30',\n",
       "       '2022-03-31', '2022-04-01', '2022-04-04', '2022-04-05',\n",
       "       '2022-04-07', '2022-04-08', '2022-04-13', '2022-04-25',\n",
       "       '2022-04-27', '2022-04-29', '2022-05-02', '2022-05-03',\n",
       "       '2022-05-12', '2022-05-17', '2022-05-25', '2022-05-27',\n",
       "       '2022-05-31', '2022-06-02', '2022-06-06', '2022-06-08',\n",
       "       '2022-06-10', '2022-06-13', '2022-06-15', '2022-06-16',\n",
       "       '2022-06-21', '2022-06-22', '2022-06-23', '2022-06-27',\n",
       "       '2022-06-28', '2022-06-29', '2022-06-30', '2022-07-01',\n",
       "       '2022-07-04', '2022-07-05', '2022-07-06', '2022-07-07',\n",
       "       '2022-07-08', '2022-07-11', '2022-07-12', '2022-07-14',\n",
       "       '2022-07-15', '2022-07-18', '2022-07-20', '2022-07-21',\n",
       "       '2022-07-22', '2022-07-27', '2022-07-28', '2022-07-29',\n",
       "       '2022-08-08', '2022-08-09', '2022-08-10', '2022-08-12',\n",
       "       '2022-08-11', '2022-08-15', '2022-08-16', '2022-08-17',\n",
       "       '2022-08-18', '2022-08-19', '2022-08-22', '2022-08-23',\n",
       "       '2022-08-24', '2022-08-25', '2022-08-26', '2022-08-29',\n",
       "       '2022-08-30', '2022-09-01', '2022-09-02', '2022-09-05',\n",
       "       '2022-09-13', '2022-11-03', '2022-11-09', '2022-11-11',\n",
       "       '2023-01-11', '2023-01-27', '2023-01-30', '2023-02-15',\n",
       "       '2023-02-28', '2023-03-01', '2023-02-27', '2023-03-15',\n",
       "       '2023-03-27', '2023-03-29', '2023-04-17', '2023-05-02'],\n",
       "      dtype=object)"
      ]
     },
     "execution_count": 265,
     "metadata": {},
     "output_type": "execute_result"
    }
   ],
   "execution_count": 265
  },
  {
   "metadata": {},
   "cell_type": "markdown",
   "source": "## <font color=\"#f9a177\">\"fechbaja\"</font>",
   "id": "c363658bf56b9b90"
  },
  {
   "metadata": {},
   "cell_type": "markdown",
   "source": "### Interpretacion",
   "id": "c3e38df39929bcbe"
  },
  {
   "metadata": {},
   "cell_type": "markdown",
   "source": "Hace referencia a la fecha de baja del alumno",
   "id": "59c2520946e495d5"
  },
  {
   "metadata": {},
   "cell_type": "markdown",
   "source": "**Procedimiento :** Cambiare el nombre de la columna a \"fecha_baja\" para mayor claridad",
   "id": "234dc2bcf4ebe15c"
  },
  {
   "metadata": {
    "ExecuteTime": {
     "end_time": "2024-07-18T23:08:29.661549Z",
     "start_time": "2024-07-18T23:08:29.657171Z"
    }
   },
   "cell_type": "code",
   "source": "df.rename(columns={'fechbaja': 'fecha_baja'}, inplace=True)",
   "id": "4e4478d8995622b0",
   "outputs": [],
   "execution_count": 266
  },
  {
   "metadata": {},
   "cell_type": "markdown",
   "source": "**Resultado**",
   "id": "adb0caa443cc1691"
  },
  {
   "metadata": {
    "ExecuteTime": {
     "end_time": "2024-07-18T23:08:29.993920Z",
     "start_time": "2024-07-18T23:08:29.986950Z"
    }
   },
   "cell_type": "code",
   "source": "df['fecha_baja'].head()",
   "id": "48eece1f5863c717",
   "outputs": [
    {
     "data": {
      "text/plain": [
       "0      -   -\n",
       "1      -   -\n",
       "2      -   -\n",
       "3      -   -\n",
       "4      -   -\n",
       "Name: fecha_baja, dtype: object"
      ]
     },
     "execution_count": 267,
     "metadata": {},
     "output_type": "execute_result"
    }
   ],
   "execution_count": 267
  },
  {
   "metadata": {},
   "cell_type": "markdown",
   "source": "### Tipo de dato",
   "id": "716f43d5a4acd535"
  },
  {
   "metadata": {
    "ExecuteTime": {
     "end_time": "2024-07-18T23:08:30.708824Z",
     "start_time": "2024-07-18T23:08:30.702288Z"
    }
   },
   "cell_type": "code",
   "source": [
    "#Vamos a ver si hay datos distintos de datatime\n",
    "df['fecha_baja'].apply(lambda x: type(x)).value_counts()"
   ],
   "id": "387a4e65077fc5f3",
   "outputs": [
    {
     "data": {
      "text/plain": [
       "fecha_baja\n",
       "<class 'str'>                  419\n",
       "<class 'datetime.datetime'>     12\n",
       "Name: count, dtype: int64"
      ]
     },
     "execution_count": 268,
     "metadata": {},
     "output_type": "execute_result"
    }
   ],
   "execution_count": 268
  },
  {
   "metadata": {},
   "cell_type": "markdown",
   "source": "**Observacion :**  Tenemos datos de un tipo el cual no corresponde al sentido de la columna",
   "id": "643ae2330bc585c0"
  },
  {
   "metadata": {},
   "cell_type": "markdown",
   "source": "### Formato de los datos",
   "id": "5dad10f302c70eba"
  },
  {
   "metadata": {
    "ExecuteTime": {
     "end_time": "2024-07-18T23:08:31.010570Z",
     "start_time": "2024-07-18T23:08:31.002929Z"
    }
   },
   "cell_type": "code",
   "source": [
    "#Valores unicos\n",
    "df['fecha_baja'].unique()"
   ],
   "id": "e508638ce54d65a3",
   "outputs": [
    {
     "data": {
      "text/plain": [
       "array(['  -   -', datetime.datetime(2023, 1, 9, 0, 0),\n",
       "       datetime.datetime(2022, 10, 5, 0, 0),\n",
       "       datetime.datetime(2022, 11, 30, 0, 0),\n",
       "       datetime.datetime(2022, 7, 6, 0, 0),\n",
       "       datetime.datetime(2022, 12, 13, 0, 0),\n",
       "       datetime.datetime(2022, 10, 25, 0, 0),\n",
       "       datetime.datetime(2022, 7, 22, 0, 0),\n",
       "       datetime.datetime(2022, 8, 22, 0, 0),\n",
       "       datetime.datetime(2022, 8, 12, 0, 0),\n",
       "       datetime.datetime(2022, 9, 13, 0, 0),\n",
       "       datetime.datetime(2022, 9, 5, 0, 0)], dtype=object)"
      ]
     },
     "execution_count": 269,
     "metadata": {},
     "output_type": "execute_result"
    }
   ],
   "execution_count": 269
  },
  {
   "metadata": {
    "ExecuteTime": {
     "end_time": "2024-07-18T23:08:31.697884Z",
     "start_time": "2024-07-18T23:08:31.688255Z"
    }
   },
   "cell_type": "code",
   "source": [
    "#Transformamos los datos que estan como datetime.datetime(2022, 10, 5, 0, 0) a un formato de fecha adecuado\n",
    "# Convertimos la columna a datetime especificando el formato\n",
    "df['fecha_baja'] = pd.to_datetime(df['fecha_baja'], format='%Y-%m-%d', errors='coerce')\n",
    "\n",
    "# Aplicamos el formato deseado\n",
    "df['fecha_baja'] = df['fecha_baja'].apply(lambda x: x.strftime('%Y-%m-%d') if pd.notnull(x) else '')"
   ],
   "id": "77c10d303cebc109",
   "outputs": [],
   "execution_count": 270
  },
  {
   "metadata": {},
   "cell_type": "markdown",
   "source": "**Resultado**",
   "id": "677545a16de6f9e0"
  },
  {
   "metadata": {
    "ExecuteTime": {
     "end_time": "2024-07-18T23:08:32.122133Z",
     "start_time": "2024-07-18T23:08:32.116134Z"
    }
   },
   "cell_type": "code",
   "source": [
    "#Valores unicos\n",
    "df['fecha_baja'].unique()"
   ],
   "id": "394604efe63ce843",
   "outputs": [
    {
     "data": {
      "text/plain": [
       "array(['', '2023-01-09', '2022-10-05', '2022-11-30', '2022-07-06',\n",
       "       '2022-12-13', '2022-10-25', '2022-07-22', '2022-08-22',\n",
       "       '2022-08-12', '2022-09-13', '2022-09-05'], dtype=object)"
      ]
     },
     "execution_count": 271,
     "metadata": {},
     "output_type": "execute_result"
    }
   ],
   "execution_count": 271
  },
  {
   "metadata": {
    "ExecuteTime": {
     "end_time": "2024-07-18T23:08:32.912217Z",
     "start_time": "2024-07-18T23:08:32.899146Z"
    }
   },
   "cell_type": "code",
   "source": "df['fecha_baja'].head()",
   "id": "2172e8367e53dc43",
   "outputs": [
    {
     "data": {
      "text/plain": [
       "0    \n",
       "1    \n",
       "2    \n",
       "3    \n",
       "4    \n",
       "Name: fecha_baja, dtype: object"
      ]
     },
     "execution_count": 272,
     "metadata": {},
     "output_type": "execute_result"
    }
   ],
   "execution_count": 272
  },
  {
   "metadata": {},
   "cell_type": "markdown",
   "source": "### Valores faltantes",
   "id": "76d1674d5976b2cf"
  },
  {
   "metadata": {
    "ExecuteTime": {
     "end_time": "2024-07-18T23:08:33.335492Z",
     "start_time": "2024-07-18T23:08:33.330230Z"
    }
   },
   "cell_type": "code",
   "source": [
    "#Valores igual a \"Nan\"\n",
    "df_nan = df[df['fecha_baja'].apply(lambda x: x == 'NaN' or x == 'Nan' or x == 'nan' or x == '')]\n",
    "#Valores nulos"
   ],
   "id": "84808bdd1a8111c9",
   "outputs": [],
   "execution_count": 273
  },
  {
   "metadata": {
    "ExecuteTime": {
     "end_time": "2024-07-18T23:08:34.148256Z",
     "start_time": "2024-07-18T23:08:34.142271Z"
    }
   },
   "cell_type": "code",
   "source": [
    "nulos = df['fecha_baja'].isnull().sum()\n",
    "#Suma de nulos y Nan\n",
    "print(f\"Valores faltantes en la columna 'fecha_baja': {nulos + len(df_nan)}\")"
   ],
   "id": "b5d3a5fb1a233519",
   "outputs": [
    {
     "name": "stdout",
     "output_type": "stream",
     "text": [
      "Valores faltantes en la columna 'fecha_baja': 419\n"
     ]
    }
   ],
   "execution_count": 274
  },
  {
   "metadata": {},
   "cell_type": "markdown",
   "source": "**Observacion :**  Tenemos muchos registros con fechas de baja faltantes, considero que es necesario eliminar esta columna ya que ofrece muy poca informacion.",
   "id": "1ead313d32a5e757"
  },
  {
   "metadata": {},
   "cell_type": "markdown",
   "source": "**Procedimiento :** Se eliminará la columna \"fecha_baja\"",
   "id": "e96a99cdb2f89be3"
  },
  {
   "metadata": {
    "ExecuteTime": {
     "end_time": "2024-07-18T23:08:34.517552Z",
     "start_time": "2024-07-18T23:08:34.510026Z"
    }
   },
   "cell_type": "code",
   "source": "df.drop(columns='fecha_baja', inplace=True)",
   "id": "44564213c4f9910f",
   "outputs": [],
   "execution_count": 275
  },
  {
   "metadata": {},
   "cell_type": "markdown",
   "source": "## <font color=\"#f9a177\">\"plan\"</font>",
   "id": "3689f125850c5ffe"
  },
  {
   "metadata": {},
   "cell_type": "markdown",
   "source": "### Interpretacion",
   "id": "e86d0dfb6cc11455"
  },
  {
   "metadata": {},
   "cell_type": "markdown",
   "source": "Hace referencia al plan de estudios del alumno o plan de pago",
   "id": "b370b942f9ce625a"
  },
  {
   "metadata": {},
   "cell_type": "markdown",
   "source": "### Tipo de dato",
   "id": "f175f3be408705d5"
  },
  {
   "metadata": {
    "ExecuteTime": {
     "end_time": "2024-07-18T23:08:35.078077Z",
     "start_time": "2024-07-18T23:08:35.065852Z"
    }
   },
   "cell_type": "code",
   "source": [
    "#Vamos a ver si hay datos distintos\n",
    "df['plan'].apply(lambda x: type(x)).value_counts()"
   ],
   "id": "4dd5ee5a8670c6c1",
   "outputs": [
    {
     "data": {
      "text/plain": [
       "plan\n",
       "<class 'str'>    431\n",
       "Name: count, dtype: int64"
      ]
     },
     "execution_count": 276,
     "metadata": {},
     "output_type": "execute_result"
    }
   ],
   "execution_count": 276
  },
  {
   "metadata": {},
   "cell_type": "markdown",
   "source": "### Valores faltantes",
   "id": "312f00dcadde95b2"
  },
  {
   "metadata": {
    "ExecuteTime": {
     "end_time": "2024-07-18T23:08:35.438397Z",
     "start_time": "2024-07-18T23:08:35.430676Z"
    }
   },
   "cell_type": "code",
   "source": [
    "#Valores igual a \"Nan\"\n",
    "df_nan = df[df['plan'].apply(lambda x: x == 'NaN' or x == 'Nan' or x == 'nan' or x == '')]\n",
    "#Valores nulos"
   ],
   "id": "30b89fbcd60e1e30",
   "outputs": [],
   "execution_count": 277
  },
  {
   "metadata": {
    "ExecuteTime": {
     "end_time": "2024-07-18T23:08:36.023733Z",
     "start_time": "2024-07-18T23:08:36.016235Z"
    }
   },
   "cell_type": "code",
   "source": [
    "nulos = df['plan'].isnull().sum()\n",
    "#Suma de nulos y Nan\n",
    "print(f\"Valores faltantes en la columna 'plan': {nulos + len(df_nan)}\")"
   ],
   "id": "b076b53bd2862ade",
   "outputs": [
    {
     "name": "stdout",
     "output_type": "stream",
     "text": [
      "Valores faltantes en la columna 'plan': 0\n"
     ]
    }
   ],
   "execution_count": 278
  },
  {
   "metadata": {},
   "cell_type": "markdown",
   "source": "### Formato de los datos",
   "id": "388b2997d87d222d"
  },
  {
   "metadata": {
    "ExecuteTime": {
     "end_time": "2024-07-18T23:08:36.371391Z",
     "start_time": "2024-07-18T23:08:36.364977Z"
    }
   },
   "cell_type": "code",
   "source": [
    "#Valores unicos\n",
    "df['plan'].unique()"
   ],
   "id": "749ce358931942db",
   "outputs": [
    {
     "data": {
      "text/plain": [
       "array(['B', 'A'], dtype=object)"
      ]
     },
     "execution_count": 279,
     "metadata": {},
     "output_type": "execute_result"
    }
   ],
   "execution_count": 279
  },
  {
   "metadata": {},
   "cell_type": "markdown",
   "source": "**Observacion :**  Tenemos dos tipos de planes no se bien a que podria hace referencia si al plan de estudio o el plan de pago, por el momento mantendre la columna ya que se podria ser util la infomracion ",
   "id": "903b3435a43ed7e7"
  },
  {
   "metadata": {},
   "cell_type": "markdown",
   "source": "## <font color=\"#f9a177\">\"capturado\"</font>",
   "id": "242d430ad5d5fc33"
  },
  {
   "metadata": {},
   "cell_type": "markdown",
   "source": "### Interpretacion",
   "id": "78451b5d6d1a3f8f"
  },
  {
   "metadata": {},
   "cell_type": "markdown",
   "source": "Podria hacer referencia a quien capturo los datos ",
   "id": "734449373edbb32e"
  },
  {
   "metadata": {},
   "cell_type": "markdown",
   "source": "**Procedimiento :** Tratare de entender a que hace referencia esta columna",
   "id": "3b128d4f6984906b"
  },
  {
   "metadata": {},
   "cell_type": "markdown",
   "source": "### Tipo de dato",
   "id": "2633a49969cb2281"
  },
  {
   "metadata": {
    "ExecuteTime": {
     "end_time": "2024-07-18T23:08:36.911957Z",
     "start_time": "2024-07-18T23:08:36.903196Z"
    }
   },
   "cell_type": "code",
   "source": [
    "#Vamos a ver si hay datos distintos\n",
    "df['capturado'].apply(lambda x: type(x)).value_counts()"
   ],
   "id": "3d0750d69d977b33",
   "outputs": [
    {
     "data": {
      "text/plain": [
       "capturado\n",
       "<class 'bool'>    431\n",
       "Name: count, dtype: int64"
      ]
     },
     "execution_count": 280,
     "metadata": {},
     "output_type": "execute_result"
    }
   ],
   "execution_count": 280
  },
  {
   "metadata": {},
   "cell_type": "markdown",
   "source": "### Valores faltantes",
   "id": "f9972f7da9d05224"
  },
  {
   "metadata": {
    "ExecuteTime": {
     "end_time": "2024-07-18T23:08:37.338607Z",
     "start_time": "2024-07-18T23:08:37.333246Z"
    }
   },
   "cell_type": "code",
   "source": [
    "#Valores igual a \"Nan\"\n",
    "df_nan = df[df['capturado'].apply(lambda x: x == 'NaN' or x == 'Nan' or x == 'nan' or x == '')]\n",
    "#Valores nulos"
   ],
   "id": "5a62c3774dc97130",
   "outputs": [],
   "execution_count": 281
  },
  {
   "metadata": {
    "ExecuteTime": {
     "end_time": "2024-07-18T23:08:38.289569Z",
     "start_time": "2024-07-18T23:08:38.284616Z"
    }
   },
   "cell_type": "code",
   "source": [
    "nulos = df['capturado'].isnull().sum()\n",
    "#Suma de nulos y Nan\n",
    "print(f\"Valores faltantes en la columna 'capturado': {nulos + len(df_nan)}\")"
   ],
   "id": "bc9c910a8cfed6eb",
   "outputs": [
    {
     "name": "stdout",
     "output_type": "stream",
     "text": [
      "Valores faltantes en la columna 'capturado': 0\n"
     ]
    }
   ],
   "execution_count": 282
  },
  {
   "metadata": {},
   "cell_type": "markdown",
   "source": "### Formato de los datos",
   "id": "99b6083235b912b6"
  },
  {
   "metadata": {
    "ExecuteTime": {
     "end_time": "2024-07-18T23:08:38.749530Z",
     "start_time": "2024-07-18T23:08:38.744224Z"
    }
   },
   "cell_type": "code",
   "source": [
    "#Valores unicos\n",
    "df['capturado'].unique()"
   ],
   "id": "8b006f042d87ad0",
   "outputs": [
    {
     "data": {
      "text/plain": [
       "array([False])"
      ]
     },
     "execution_count": 283,
     "metadata": {},
     "output_type": "execute_result"
    }
   ],
   "execution_count": 283
  },
  {
   "metadata": {},
   "cell_type": "markdown",
   "source": "**Observacion :**  Realmente no puedo determinar a qeu puede hacer referencia esta columna, ademas tenemos un solo valor, considero que no es una columna importante para el dataframe",
   "id": "aa7fcfef58dd080d"
  },
  {
   "metadata": {},
   "cell_type": "markdown",
   "source": "**Procedimiento :** Se eliminará la columna \"capturado\"",
   "id": "23e7916c9acf0fa6"
  },
  {
   "metadata": {
    "ExecuteTime": {
     "end_time": "2024-07-18T23:08:39.289793Z",
     "start_time": "2024-07-18T23:08:39.283315Z"
    }
   },
   "cell_type": "code",
   "source": "df.drop(columns='capturado', inplace=True)",
   "id": "993495028f14255e",
   "outputs": [],
   "execution_count": 284
  },
  {
   "metadata": {},
   "cell_type": "markdown",
   "source": "# <font color=\"#f9a177\">**Analisis de columnas relacionadas al alumno**</font>",
   "id": "ac04b26c91878ad5"
  },
  {
   "metadata": {},
   "cell_type": "markdown",
   "source": "## <font color=\"#f9a177\">\"sexo\"</font>",
   "id": "59f598a2494e1729"
  },
  {
   "metadata": {},
   "cell_type": "markdown",
   "source": "### Interpretacion",
   "id": "595f2770a6f2857f"
  },
  {
   "metadata": {},
   "cell_type": "markdown",
   "source": "Se refiere al sexo de cada alumno masculino y femenino (M y F).",
   "id": "1f84bf24e22ab1fa"
  },
  {
   "metadata": {},
   "cell_type": "markdown",
   "source": "### Tipo de dato",
   "id": "da84c466c233c07a"
  },
  {
   "metadata": {
    "ExecuteTime": {
     "end_time": "2024-07-18T23:08:39.719064Z",
     "start_time": "2024-07-18T23:08:39.710287Z"
    }
   },
   "cell_type": "code",
   "source": [
    "#Vamos a ver si hay datos distintos de string\n",
    "df['sexo'].apply(lambda x: type(x)).value_counts()"
   ],
   "id": "8aa05aebe5dbdde1",
   "outputs": [
    {
     "data": {
      "text/plain": [
       "sexo\n",
       "<class 'str'>    431\n",
       "Name: count, dtype: int64"
      ]
     },
     "execution_count": 285,
     "metadata": {},
     "output_type": "execute_result"
    }
   ],
   "execution_count": 285
  },
  {
   "metadata": {},
   "cell_type": "markdown",
   "source": "",
   "id": "90860180694ff1a"
  },
  {
   "metadata": {},
   "cell_type": "markdown",
   "source": "### Valores faltantes",
   "id": "a0a4729bb4744302"
  },
  {
   "metadata": {
    "ExecuteTime": {
     "end_time": "2024-07-18T23:08:40.460794Z",
     "start_time": "2024-07-18T23:08:40.454746Z"
    }
   },
   "cell_type": "code",
   "source": [
    "#Valores igual a \"Nan\"\n",
    "df_nan = df[df['sexo'].apply(lambda x: x == 'Nan' or x == 'NaN')]"
   ],
   "id": "8795f26266a9bb33",
   "outputs": [],
   "execution_count": 286
  },
  {
   "metadata": {
    "ExecuteTime": {
     "end_time": "2024-07-18T23:08:40.785235Z",
     "start_time": "2024-07-18T23:08:40.778359Z"
    }
   },
   "cell_type": "code",
   "source": [
    "nulos = df['sexo'].isnull().sum()\n",
    "print(f\"Valores faltantes en la columna 'sexo': {nulos + len(df_nan)}\")"
   ],
   "id": "a34c4a66816c9bd6",
   "outputs": [
    {
     "name": "stdout",
     "output_type": "stream",
     "text": [
      "Valores faltantes en la columna 'sexo': 0\n"
     ]
    }
   ],
   "execution_count": 287
  },
  {
   "metadata": {},
   "cell_type": "markdown",
   "source": "### Valores distintos",
   "id": "7e8c722661d5f44a"
  },
  {
   "metadata": {
    "ExecuteTime": {
     "end_time": "2024-07-18T23:08:41.407990Z",
     "start_time": "2024-07-18T23:08:41.403145Z"
    }
   },
   "cell_type": "code",
   "source": [
    "#Valores unicos impreso\n",
    "print(df['sexo'].unique())"
   ],
   "id": "daea6081816b6c42",
   "outputs": [
    {
     "name": "stdout",
     "output_type": "stream",
     "text": [
      "['M' 'F']\n"
     ]
    }
   ],
   "execution_count": 288
  },
  {
   "metadata": {},
   "cell_type": "markdown",
   "source": "**Observacion :**  Tenemos dos valores que representan a masculino y femenino.",
   "id": "4e01cf3e9a34a3f"
  },
  {
   "metadata": {},
   "cell_type": "markdown",
   "source": "**Procedimiento :** Se cambiara los valores M y F a Masculino y Femenino respectivamente para una mayor claridad.",
   "id": "d19087ee210ad0f8"
  },
  {
   "metadata": {
    "ExecuteTime": {
     "end_time": "2024-07-18T23:08:41.720768Z",
     "start_time": "2024-07-18T23:08:41.715630Z"
    }
   },
   "cell_type": "code",
   "source": [
    "#Cambiare M por Masculino y F por Femenino\n",
    "df['sexo'] = df['sexo'].replace({'M': 'Masculino', 'F': 'Femenino'})"
   ],
   "id": "ce9b68ff4594562f",
   "outputs": [],
   "execution_count": 289
  },
  {
   "metadata": {},
   "cell_type": "markdown",
   "source": "**Resultado**",
   "id": "1afcaad160797a5c"
  },
  {
   "metadata": {
    "ExecuteTime": {
     "end_time": "2024-07-18T23:08:42.472254Z",
     "start_time": "2024-07-18T23:08:42.465034Z"
    }
   },
   "cell_type": "code",
   "source": "df[\"sexo\"].head()",
   "id": "a82040dde970d67b",
   "outputs": [
    {
     "data": {
      "text/plain": [
       "0    Masculino\n",
       "1    Masculino\n",
       "2     Femenino\n",
       "3    Masculino\n",
       "4     Femenino\n",
       "Name: sexo, dtype: object"
      ]
     },
     "execution_count": 290,
     "metadata": {},
     "output_type": "execute_result"
    }
   ],
   "execution_count": 290
  },
  {
   "metadata": {},
   "cell_type": "markdown",
   "source": "## <font color=\"#f9a177\">\"domal\"</font>",
   "id": "e418ac2f2e0058de"
  },
  {
   "metadata": {},
   "cell_type": "markdown",
   "source": "### Interpretacion",
   "id": "f3dc10fe846e1bf4"
  },
  {
   "metadata": {},
   "cell_type": "markdown",
   "source": "Se refiere a la direccion del domicilio del alumno.",
   "id": "d61d56fe831a45c6"
  },
  {
   "metadata": {},
   "cell_type": "markdown",
   "source": "**Procedimiento :** Se cambiara el nombre de la columna a \"domicilio_alumno\" para mayor claridad",
   "id": "8d5db5b680ba5672"
  },
  {
   "metadata": {
    "ExecuteTime": {
     "end_time": "2024-07-18T23:08:42.954417Z",
     "start_time": "2024-07-18T23:08:42.949262Z"
    }
   },
   "cell_type": "code",
   "source": "df.rename(columns={'domal': 'domicilio_alumno'}, inplace=True)",
   "id": "d708d1f8f7cecbe2",
   "outputs": [],
   "execution_count": 291
  },
  {
   "metadata": {},
   "cell_type": "markdown",
   "source": "**Resultado**",
   "id": "938f724a8f1f1b66"
  },
  {
   "metadata": {
    "ExecuteTime": {
     "end_time": "2024-07-18T23:08:43.720390Z",
     "start_time": "2024-07-18T23:08:43.713425Z"
    }
   },
   "cell_type": "code",
   "source": "df['domicilio_alumno']",
   "id": "7efcf0e1a0785233",
   "outputs": [
    {
     "data": {
      "text/plain": [
       "0                   5 DE MAYO No. 106\n",
       "1                 LEON SALINAS NO. 62\n",
       "2                 LEON SALINAS No. 62\n",
       "3             CIRCUITO MILTENCO No. 4\n",
       "4      FRAY PEDRO DE GANTE No.238 INT\n",
       "                    ...              \n",
       "426            EMILIANO ZAPATA No. 48\n",
       "427    CARRIL XOLACHE ADONFO LOPEZ MA\n",
       "428                      PENSAMIENTOS\n",
       "429                               NaN\n",
       "430            MIGUEL HIDALGO  No. 13\n",
       "Name: domicilio_alumno, Length: 431, dtype: object"
      ]
     },
     "execution_count": 292,
     "metadata": {},
     "output_type": "execute_result"
    }
   ],
   "execution_count": 292
  },
  {
   "metadata": {},
   "cell_type": "markdown",
   "source": "### Tipo de dato",
   "id": "b9efac59f996a1e8"
  },
  {
   "metadata": {
    "ExecuteTime": {
     "end_time": "2024-07-18T23:08:44.119687Z",
     "start_time": "2024-07-18T23:08:44.108643Z"
    }
   },
   "cell_type": "code",
   "source": [
    "#Vamos a ver si hay datos distintos de string\n",
    "df['domicilio_alumno'].apply(lambda x: type(x)).value_counts()"
   ],
   "id": "151085d77203566d",
   "outputs": [
    {
     "data": {
      "text/plain": [
       "domicilio_alumno\n",
       "<class 'str'>      427\n",
       "<class 'float'>      4\n",
       "Name: count, dtype: int64"
      ]
     },
     "execution_count": 293,
     "metadata": {},
     "output_type": "execute_result"
    }
   ],
   "execution_count": 293
  },
  {
   "metadata": {},
   "cell_type": "markdown",
   "source": "**Procedimiento :**  Tenemos datos de tipo float en la columna, se procedera a cambiar a tipo str para no tener problemas al estandarizar los datos y por la coherenecia de la columna.",
   "id": "ac4df3d56460b9ce"
  },
  {
   "metadata": {
    "ExecuteTime": {
     "end_time": "2024-07-18T23:08:44.765709Z",
     "start_time": "2024-07-18T23:08:44.760345Z"
    }
   },
   "cell_type": "code",
   "source": "df['domicilio_alumno'] = df['domicilio_alumno'].astype(str)",
   "id": "cbe5fdef65fe60b9",
   "outputs": [],
   "execution_count": 294
  },
  {
   "metadata": {},
   "cell_type": "markdown",
   "source": "### Valores faltantes",
   "id": "163e6d27afe20efe"
  },
  {
   "metadata": {
    "ExecuteTime": {
     "end_time": "2024-07-18T23:08:45.131501Z",
     "start_time": "2024-07-18T23:08:45.124770Z"
    }
   },
   "cell_type": "code",
   "source": [
    "#Valores igual a \"Nan\"\n",
    "df_nan = df[df['domicilio_alumno'].apply(lambda x: x == 'Nan' or x == 'NaN')]"
   ],
   "id": "2da18c3e29917ad5",
   "outputs": [],
   "execution_count": 295
  },
  {
   "metadata": {
    "ExecuteTime": {
     "end_time": "2024-07-18T23:08:45.832472Z",
     "start_time": "2024-07-18T23:08:45.826768Z"
    }
   },
   "cell_type": "code",
   "source": [
    "nulos = df['domicilio_alumno'].isnull().sum()\n",
    "#Suma de nulos y Nan\n",
    "print(f\"Valores faltantes en la columna 'domicilio_alumno': {nulos + len(df_nan)}\")"
   ],
   "id": "c3587852bf51fe1a",
   "outputs": [
    {
     "name": "stdout",
     "output_type": "stream",
     "text": [
      "Valores faltantes en la columna 'domicilio_alumno': 0\n"
     ]
    }
   ],
   "execution_count": 296
  },
  {
   "metadata": {},
   "cell_type": "markdown",
   "source": "**Observacion :**  Tenemos 4 registros sin domicilios, considero que no es necesario eliminar estos registros ya que podrian ser completados en un futuro.",
   "id": "b99e31d4383a165c"
  },
  {
   "metadata": {},
   "cell_type": "markdown",
   "source": "**Procedimiento :** Se completaran los registros nulos con \"Domicilio desconocido\" para una mayor claridad de los datos faltantes.",
   "id": "e7f3c280da4f10e8"
  },
  {
   "metadata": {
    "ExecuteTime": {
     "end_time": "2024-07-18T23:08:46.214678Z",
     "start_time": "2024-07-18T23:08:46.208261Z"
    }
   },
   "cell_type": "code",
   "source": [
    "#Reemplazamos donde sea nulo por \"Domicilio desconocido\"\n",
    "df['domicilio_alumno'] = df['domicilio_alumno'].fillna('Domicilio desconocido')\n",
    "#Reemplazamos donde sea \"Nan\" por \"Domicilio desconocido\"\n",
    "df['domicilio_alumno'] = df['domicilio_alumno'].replace({'Nan': 'Domicilio desconocido'})"
   ],
   "id": "7a98f5af79990878",
   "outputs": [],
   "execution_count": 297
  },
  {
   "metadata": {},
   "cell_type": "markdown",
   "source": "### Estandarizacion de la columna \"domicilio_alumno\"",
   "id": "2860e065a0251211"
  },
  {
   "metadata": {},
   "cell_type": "markdown",
   "source": "**Procedimiento :** Se estandarizaran los datos de la columna \"domicilio_alumno\" importando la funcion \"estandarizacion\" del archivo \"Estandarizar.py\" (En el archivo se encuentra el proceso)",
   "id": "d67a493e7950a2d6"
  },
  {
   "metadata": {
    "ExecuteTime": {
     "end_time": "2024-07-18T23:08:46.755850Z",
     "start_time": "2024-07-18T23:08:46.748607Z"
    }
   },
   "cell_type": "code",
   "source": "df['domicilio_alumno'] = df['domicilio_alumno'].apply(estandarizacion)",
   "id": "f77c1f9bbfa1932a",
   "outputs": [],
   "execution_count": 298
  },
  {
   "metadata": {},
   "cell_type": "markdown",
   "source": "**Resultado**",
   "id": "bcde34f5e2553586"
  },
  {
   "metadata": {
    "ExecuteTime": {
     "end_time": "2024-07-18T23:08:47.122262Z",
     "start_time": "2024-07-18T23:08:47.113808Z"
    }
   },
   "cell_type": "code",
   "source": "df['domicilio_alumno']",
   "id": "b3147e1fd16f9645",
   "outputs": [
    {
     "data": {
      "text/plain": [
       "0                    5 de Mayo No. 106\n",
       "1                  Leon Salinas No. 62\n",
       "2                  Leon Salinas No. 62\n",
       "3              Circuito Miltenco No. 4\n",
       "4      Fray Pedro de Gante No. 238 Int\n",
       "                    ...               \n",
       "426             Emiliano Zapata No. 48\n",
       "427     Carril Xolache Adonfo Lopez ma\n",
       "428                       Pensamientos\n",
       "429                                Nan\n",
       "430              Miguel Hidalgo No. 13\n",
       "Name: domicilio_alumno, Length: 431, dtype: object"
      ]
     },
     "execution_count": 299,
     "metadata": {},
     "output_type": "execute_result"
    }
   ],
   "execution_count": 299
  },
  {
   "metadata": {},
   "cell_type": "markdown",
   "source": "## <font color=\"#f9a177\">\"coloa\"</font>",
   "id": "cbf3fa2bc8a296e2"
  },
  {
   "metadata": {},
   "cell_type": "markdown",
   "source": "### Interpretacion",
   "id": "439274d6339370f"
  },
  {
   "metadata": {},
   "cell_type": "markdown",
   "source": "Hace referencia a la colonia de cada alumno",
   "id": "5e4a1cc3f3cd032d"
  },
  {
   "metadata": {},
   "cell_type": "markdown",
   "source": "**Procedimiento :** Se cambiara el nombre de la columna a \"colonia_alumno\" para mayor claridad",
   "id": "1c9cad72200bc954"
  },
  {
   "metadata": {
    "ExecuteTime": {
     "end_time": "2024-07-18T23:08:47.737684Z",
     "start_time": "2024-07-18T23:08:47.733615Z"
    }
   },
   "cell_type": "code",
   "source": "df.rename(columns={'coloa': 'colonia_alumno'}, inplace=True)",
   "id": "7c8def676ef2ef90",
   "outputs": [],
   "execution_count": 300
  },
  {
   "metadata": {},
   "cell_type": "markdown",
   "source": "**Resultado**",
   "id": "164f9984419c954d"
  },
  {
   "metadata": {
    "ExecuteTime": {
     "end_time": "2024-07-18T23:08:48.122918Z",
     "start_time": "2024-07-18T23:08:48.115695Z"
    }
   },
   "cell_type": "code",
   "source": "df['colonia_alumno'].head()",
   "id": "2bb18fad4fb0242c",
   "outputs": [
    {
     "data": {
      "text/plain": [
       "0                ZARAGOZA\n",
       "1                XOCOTLAN\n",
       "2    FRACC.  MOLINO DE FL\n",
       "3        CABERA MUNICIPAL\n",
       "4               SAN PEDRO\n",
       "Name: colonia_alumno, dtype: object"
      ]
     },
     "execution_count": 301,
     "metadata": {},
     "output_type": "execute_result"
    }
   ],
   "execution_count": 301
  },
  {
   "metadata": {},
   "cell_type": "markdown",
   "source": "### Tipo de dato",
   "id": "f54f2d1b2f940410"
  },
  {
   "metadata": {
    "ExecuteTime": {
     "end_time": "2024-07-18T23:08:49.080335Z",
     "start_time": "2024-07-18T23:08:49.073485Z"
    }
   },
   "cell_type": "code",
   "source": [
    "#Vamos a ver si hay datos distintos de string\n",
    "df['colonia_alumno'].apply(lambda x: type(x)).value_counts()"
   ],
   "id": "8b7b8c5170e5e67",
   "outputs": [
    {
     "data": {
      "text/plain": [
       "colonia_alumno\n",
       "<class 'str'>      427\n",
       "<class 'float'>      4\n",
       "Name: count, dtype: int64"
      ]
     },
     "execution_count": 302,
     "metadata": {},
     "output_type": "execute_result"
    }
   ],
   "execution_count": 302
  },
  {
   "metadata": {
    "ExecuteTime": {
     "end_time": "2024-07-18T23:08:49.416199Z",
     "start_time": "2024-07-18T23:08:49.393313Z"
    }
   },
   "cell_type": "code",
   "source": [
    "#ver columnas con valores float\n",
    "df[df['colonia_alumno'].apply(lambda x: type(x) == float)]"
   ],
   "id": "2d54ccc604f16528",
   "outputs": [
    {
     "data": {
      "text/plain": [
       "      clave                       nombrea       sexo domicilio_alumno  \\\n",
       "129  389454        MARQUEZ  PEREZ  MAXIMO  Masculino              Nan   \n",
       "346  393417        RODRIGUEZ ACOSTA DARIO  Masculino   Nogales No. 13   \n",
       "394  394832  CAMACHO TREJO ANTONIO MIGUEL  Masculino              Nan   \n",
       "429  398010      LEDESMA SANCHEZ SANTIAGO  Masculino              Nan   \n",
       "\n",
       "    colonia_alumno pobla  cpa              fecnaca   naciona tela  ...  \\\n",
       "129            NaN   NaN  NaN  2018-01-01 00:00:00  MEXICANA  NaN  ...   \n",
       "346            NaN   NaN  NaN  2017-07-29 00:00:00  MEXICANA  NaN  ...   \n",
       "394            NaN   NaN  NaN  2018-07-05 00:00:00  MEXICANA  NaN  ...   \n",
       "429            NaN   NaN  NaN  2019-09-28 00:00:00  MEXICANA  NaN  ...   \n",
       "\n",
       "      ocupap                emprep      celularp telofp  \\\n",
       "129      NaN                   NaN           NaN    NaN   \n",
       "346  POLICIA  SRIA.DE SEGURIDAD CI  5.612716e+09    NaN   \n",
       "394      NaN                   NaN           NaN    NaN   \n",
       "429      NaN                   NaN           NaN    NaN   \n",
       "\n",
       "                     emailp                     pedi     telpedi  \\\n",
       "129                     NaN                      NaN         NaN   \n",
       "346  miguelrdz_r9@hayoo.xom  DRA. ARACELY PERALTA O.  5959541945   \n",
       "394                     NaN                      NaN         NaN   \n",
       "429                     NaN                      NaN         NaN   \n",
       "\n",
       "    fecha_inscripcion plan edad  \n",
       "129        2022-03-23    B    0  \n",
       "346        2022-08-10    B    0  \n",
       "394        2022-08-26    B    0  \n",
       "429        2023-04-17    B    0  \n",
       "\n",
       "[4 rows x 33 columns]"
      ],
      "text/html": [
       "<div>\n",
       "<style scoped>\n",
       "    .dataframe tbody tr th:only-of-type {\n",
       "        vertical-align: middle;\n",
       "    }\n",
       "\n",
       "    .dataframe tbody tr th {\n",
       "        vertical-align: top;\n",
       "    }\n",
       "\n",
       "    .dataframe thead th {\n",
       "        text-align: right;\n",
       "    }\n",
       "</style>\n",
       "<table border=\"1\" class=\"dataframe\">\n",
       "  <thead>\n",
       "    <tr style=\"text-align: right;\">\n",
       "      <th></th>\n",
       "      <th>clave</th>\n",
       "      <th>nombrea</th>\n",
       "      <th>sexo</th>\n",
       "      <th>domicilio_alumno</th>\n",
       "      <th>colonia_alumno</th>\n",
       "      <th>pobla</th>\n",
       "      <th>cpa</th>\n",
       "      <th>fecnaca</th>\n",
       "      <th>naciona</th>\n",
       "      <th>tela</th>\n",
       "      <th>...</th>\n",
       "      <th>ocupap</th>\n",
       "      <th>emprep</th>\n",
       "      <th>celularp</th>\n",
       "      <th>telofp</th>\n",
       "      <th>emailp</th>\n",
       "      <th>pedi</th>\n",
       "      <th>telpedi</th>\n",
       "      <th>fecha_inscripcion</th>\n",
       "      <th>plan</th>\n",
       "      <th>edad</th>\n",
       "    </tr>\n",
       "  </thead>\n",
       "  <tbody>\n",
       "    <tr>\n",
       "      <th>129</th>\n",
       "      <td>389454</td>\n",
       "      <td>MARQUEZ  PEREZ  MAXIMO</td>\n",
       "      <td>Masculino</td>\n",
       "      <td>Nan</td>\n",
       "      <td>NaN</td>\n",
       "      <td>NaN</td>\n",
       "      <td>NaN</td>\n",
       "      <td>2018-01-01 00:00:00</td>\n",
       "      <td>MEXICANA</td>\n",
       "      <td>NaN</td>\n",
       "      <td>...</td>\n",
       "      <td>NaN</td>\n",
       "      <td>NaN</td>\n",
       "      <td>NaN</td>\n",
       "      <td>NaN</td>\n",
       "      <td>NaN</td>\n",
       "      <td>NaN</td>\n",
       "      <td>NaN</td>\n",
       "      <td>2022-03-23</td>\n",
       "      <td>B</td>\n",
       "      <td>0</td>\n",
       "    </tr>\n",
       "    <tr>\n",
       "      <th>346</th>\n",
       "      <td>393417</td>\n",
       "      <td>RODRIGUEZ ACOSTA DARIO</td>\n",
       "      <td>Masculino</td>\n",
       "      <td>Nogales No. 13</td>\n",
       "      <td>NaN</td>\n",
       "      <td>NaN</td>\n",
       "      <td>NaN</td>\n",
       "      <td>2017-07-29 00:00:00</td>\n",
       "      <td>MEXICANA</td>\n",
       "      <td>NaN</td>\n",
       "      <td>...</td>\n",
       "      <td>POLICIA</td>\n",
       "      <td>SRIA.DE SEGURIDAD CI</td>\n",
       "      <td>5.612716e+09</td>\n",
       "      <td>NaN</td>\n",
       "      <td>miguelrdz_r9@hayoo.xom</td>\n",
       "      <td>DRA. ARACELY PERALTA O.</td>\n",
       "      <td>5959541945</td>\n",
       "      <td>2022-08-10</td>\n",
       "      <td>B</td>\n",
       "      <td>0</td>\n",
       "    </tr>\n",
       "    <tr>\n",
       "      <th>394</th>\n",
       "      <td>394832</td>\n",
       "      <td>CAMACHO TREJO ANTONIO MIGUEL</td>\n",
       "      <td>Masculino</td>\n",
       "      <td>Nan</td>\n",
       "      <td>NaN</td>\n",
       "      <td>NaN</td>\n",
       "      <td>NaN</td>\n",
       "      <td>2018-07-05 00:00:00</td>\n",
       "      <td>MEXICANA</td>\n",
       "      <td>NaN</td>\n",
       "      <td>...</td>\n",
       "      <td>NaN</td>\n",
       "      <td>NaN</td>\n",
       "      <td>NaN</td>\n",
       "      <td>NaN</td>\n",
       "      <td>NaN</td>\n",
       "      <td>NaN</td>\n",
       "      <td>NaN</td>\n",
       "      <td>2022-08-26</td>\n",
       "      <td>B</td>\n",
       "      <td>0</td>\n",
       "    </tr>\n",
       "    <tr>\n",
       "      <th>429</th>\n",
       "      <td>398010</td>\n",
       "      <td>LEDESMA SANCHEZ SANTIAGO</td>\n",
       "      <td>Masculino</td>\n",
       "      <td>Nan</td>\n",
       "      <td>NaN</td>\n",
       "      <td>NaN</td>\n",
       "      <td>NaN</td>\n",
       "      <td>2019-09-28 00:00:00</td>\n",
       "      <td>MEXICANA</td>\n",
       "      <td>NaN</td>\n",
       "      <td>...</td>\n",
       "      <td>NaN</td>\n",
       "      <td>NaN</td>\n",
       "      <td>NaN</td>\n",
       "      <td>NaN</td>\n",
       "      <td>NaN</td>\n",
       "      <td>NaN</td>\n",
       "      <td>NaN</td>\n",
       "      <td>2023-04-17</td>\n",
       "      <td>B</td>\n",
       "      <td>0</td>\n",
       "    </tr>\n",
       "  </tbody>\n",
       "</table>\n",
       "<p>4 rows × 33 columns</p>\n",
       "</div>"
      ]
     },
     "execution_count": 303,
     "metadata": {},
     "output_type": "execute_result"
    }
   ],
   "execution_count": 303
  },
  {
   "metadata": {},
   "cell_type": "markdown",
   "source": "**Procedimiento :**  Tenemos datos de tipo float en la columna, se procedera a cambiar a tipo str para no tener problemas al estandarizar los datos y por la coherenecia de la columna.",
   "id": "7efb3019fa9e1f84"
  },
  {
   "metadata": {
    "ExecuteTime": {
     "end_time": "2024-07-18T23:08:50.067235Z",
     "start_time": "2024-07-18T23:08:50.059414Z"
    }
   },
   "cell_type": "code",
   "source": "df['colonia_alumno'] = df['colonia_alumno'].astype(str)",
   "id": "16cd87650daddff7",
   "outputs": [],
   "execution_count": 304
  },
  {
   "metadata": {},
   "cell_type": "markdown",
   "source": "### Valores faltantes",
   "id": "12133c7e5b98ac33"
  },
  {
   "metadata": {
    "ExecuteTime": {
     "end_time": "2024-07-18T23:08:50.432181Z",
     "start_time": "2024-07-18T23:08:50.425166Z"
    }
   },
   "cell_type": "code",
   "source": [
    "#Valores igual a \"Nan\"\n",
    "df_nan = df[df['colonia_alumno'].apply(lambda x: x == 'NaN' or x == 'Nan' or x == 'nan')]"
   ],
   "id": "9711c6fcacd3f63e",
   "outputs": [],
   "execution_count": 305
  },
  {
   "metadata": {
    "ExecuteTime": {
     "end_time": "2024-07-18T23:08:51.153884Z",
     "start_time": "2024-07-18T23:08:51.148164Z"
    }
   },
   "cell_type": "code",
   "source": [
    "#Valores nulos\n",
    "nulos = df['colonia_alumno'].isnull().sum()\n",
    "#Suma de nulos y Nan\n",
    "print(f\"Valores faltantes en la columna 'colonia_alumno': {nulos + len(df_nan)}\")"
   ],
   "id": "60c956d63f330c16",
   "outputs": [
    {
     "name": "stdout",
     "output_type": "stream",
     "text": [
      "Valores faltantes en la columna 'colonia_alumno': 4\n"
     ]
    }
   ],
   "execution_count": 306
  },
  {
   "metadata": {},
   "cell_type": "markdown",
   "source": "**Procedimiento :** Se completaran los registros nulos o Nan con \"Colonia desconocida\" para mayor claridad de los valores faltantes",
   "id": "9ee627e2fce57ef0"
  },
  {
   "metadata": {
    "ExecuteTime": {
     "end_time": "2024-07-18T23:08:51.634411Z",
     "start_time": "2024-07-18T23:08:51.628070Z"
    }
   },
   "cell_type": "code",
   "source": [
    "#Reemplazamos donde sea nulo por \"Colonia desconocida\"\n",
    "df['colonia_alumno'] = df['colonia_alumno'].fillna('Colonia desconocida')\n",
    "#Reemplazamos donde sea Nan por \"Colonia desconocida\"\n",
    "df['colonia_alumno'] = df['colonia_alumno'].replace({'Nan': 'Colonia desconocida', 'nan': 'Colonia desconocida', 'NaN': 'Colonia desconocida'})"
   ],
   "id": "e7d83f49808dd0bb",
   "outputs": [],
   "execution_count": 307
  },
  {
   "metadata": {},
   "cell_type": "markdown",
   "source": "### Estandarizacion de la columna \"colonia_alumno\"",
   "id": "deb8903b025469a2"
  },
  {
   "metadata": {},
   "cell_type": "markdown",
   "source": "**Procedimiento :** Se estandarizaran los datos de la columna \"colonia_alumno\" importando la funcion \"estandarizacion\" del archivo \"Estandarizar.py\" (En el archivo se encuentra el proceso)\n",
   "id": "b0f9bb137e4719c3"
  },
  {
   "metadata": {
    "ExecuteTime": {
     "end_time": "2024-07-18T23:08:52.541112Z",
     "start_time": "2024-07-18T23:08:52.534260Z"
    }
   },
   "cell_type": "code",
   "source": "df['colonia_alumno'] = df['colonia_alumno'].apply(estandarizacion)",
   "id": "24c22c1b78362864",
   "outputs": [],
   "execution_count": 308
  },
  {
   "metadata": {},
   "cell_type": "markdown",
   "source": "**Resultado**",
   "id": "78b87e48de2f88e2"
  },
  {
   "metadata": {
    "ExecuteTime": {
     "end_time": "2024-07-18T23:08:52.960122Z",
     "start_time": "2024-07-18T23:08:52.949463Z"
    }
   },
   "cell_type": "code",
   "source": "df['colonia_alumno'].head()",
   "id": "bcddf9b196de64ea",
   "outputs": [
    {
     "data": {
      "text/plain": [
       "0               Zaragoza\n",
       "1               Xocotlan\n",
       "2    Fracc. Molino de fl\n",
       "3       Cabera Municipal\n",
       "4              San Pedro\n",
       "Name: colonia_alumno, dtype: object"
      ]
     },
     "execution_count": 309,
     "metadata": {},
     "output_type": "execute_result"
    }
   ],
   "execution_count": 309
  },
  {
   "metadata": {},
   "cell_type": "markdown",
   "source": "## <font color=\"#f9a177\">\"pobla\"</font>",
   "id": "7510e68d161d5a3a"
  },
  {
   "metadata": {},
   "cell_type": "markdown",
   "source": "### Interpretacion",
   "id": "601cc0b62e045c4b"
  },
  {
   "metadata": {},
   "cell_type": "markdown",
   "source": "Se refiere a la poblacion de cada alumno",
   "id": "8b856561da824683"
  },
  {
   "metadata": {},
   "cell_type": "markdown",
   "source": "**Procedimiento :** Se cambiara el nombre de la columna a \"poblacion_alumno\" para mayor claridad",
   "id": "f3559abe853c2e1f"
  },
  {
   "metadata": {
    "ExecuteTime": {
     "end_time": "2024-07-18T23:08:53.759458Z",
     "start_time": "2024-07-18T23:08:53.754132Z"
    }
   },
   "cell_type": "code",
   "source": "df.rename(columns={'pobla': 'poblacion_alumno'}, inplace=True)",
   "id": "6db872baa68da534",
   "outputs": [],
   "execution_count": 310
  },
  {
   "metadata": {},
   "cell_type": "markdown",
   "source": "**Resultado**",
   "id": "25689230f72d3904"
  },
  {
   "metadata": {
    "ExecuteTime": {
     "end_time": "2024-07-18T23:08:54.100358Z",
     "start_time": "2024-07-18T23:08:54.093469Z"
    }
   },
   "cell_type": "code",
   "source": "df['poblacion_alumno'].head()",
   "id": "cd42a86907136ff",
   "outputs": [
    {
     "data": {
      "text/plain": [
       "0    TEXCOCO, E\n",
       "1    TEXCOCO. M\n",
       "2    XOCOTLAN,T\n",
       "3    CHICOLOAPA\n",
       "4       TEXCOCO\n",
       "Name: poblacion_alumno, dtype: object"
      ]
     },
     "execution_count": 311,
     "metadata": {},
     "output_type": "execute_result"
    }
   ],
   "execution_count": 311
  },
  {
   "metadata": {},
   "cell_type": "markdown",
   "source": "### Tipo de dato",
   "id": "616fb1a924244441"
  },
  {
   "metadata": {
    "ExecuteTime": {
     "end_time": "2024-07-18T23:08:54.862149Z",
     "start_time": "2024-07-18T23:08:54.852767Z"
    }
   },
   "cell_type": "code",
   "source": [
    "#Vamos a ver si hay datos distintos de string\n",
    "df['poblacion_alumno'].apply(lambda x: type(x)).value_counts()"
   ],
   "id": "e146912d682ec93a",
   "outputs": [
    {
     "data": {
      "text/plain": [
       "poblacion_alumno\n",
       "<class 'str'>      424\n",
       "<class 'float'>      7\n",
       "Name: count, dtype: int64"
      ]
     },
     "execution_count": 312,
     "metadata": {},
     "output_type": "execute_result"
    }
   ],
   "execution_count": 312
  },
  {
   "metadata": {},
   "cell_type": "markdown",
   "source": "**Procedimiento :**  Tenemos datos de tipo float en la columna, se procedera a cambiar a tipo str para no tener problemas al estandarizar los datos y por la coherenecia de la columna.",
   "id": "c56defa11421c95e"
  },
  {
   "metadata": {
    "ExecuteTime": {
     "end_time": "2024-07-18T23:08:55.183279Z",
     "start_time": "2024-07-18T23:08:55.179156Z"
    }
   },
   "cell_type": "code",
   "source": "df['poblacion_alumno'] = df['poblacion_alumno'].astype(str)",
   "id": "bbef780785a88ece",
   "outputs": [],
   "execution_count": 313
  },
  {
   "metadata": {},
   "cell_type": "markdown",
   "source": "### Valores faltantes",
   "id": "6cd744e309778f3f"
  },
  {
   "metadata": {
    "ExecuteTime": {
     "end_time": "2024-07-18T23:08:55.922859Z",
     "start_time": "2024-07-18T23:08:55.916735Z"
    }
   },
   "cell_type": "code",
   "source": [
    "#Valores igual a \"Nan\"\n",
    "df_nan = df[df['poblacion_alumno'].apply(lambda x: x == 'NaN' or x == 'Nan' or x == 'nan')]"
   ],
   "id": "b7440c231c4584f7",
   "outputs": [],
   "execution_count": 314
  },
  {
   "metadata": {
    "ExecuteTime": {
     "end_time": "2024-07-18T23:08:56.298487Z",
     "start_time": "2024-07-18T23:08:56.292197Z"
    }
   },
   "cell_type": "code",
   "source": [
    "#Valores nulos\n",
    "nulos = df['poblacion_alumno'].isnull().sum()\n",
    "#Suma de nulos y Nan\n",
    "print(f\"Valores faltantes en la columna 'poblacion_alumno': {nulos + len(df_nan)}\")"
   ],
   "id": "1f8714d54bc7fc67",
   "outputs": [
    {
     "name": "stdout",
     "output_type": "stream",
     "text": [
      "Valores faltantes en la columna 'poblacion_alumno': 7\n"
     ]
    }
   ],
   "execution_count": 315
  },
  {
   "metadata": {},
   "cell_type": "markdown",
   "source": "**Procedimiento :** Se completaran los registros nulos o Nan con \"Poblacion desconocida\" para mayor claridad de los valores faltantes",
   "id": "d2d843c9630ec045"
  },
  {
   "metadata": {
    "ExecuteTime": {
     "end_time": "2024-07-18T23:08:56.825724Z",
     "start_time": "2024-07-18T23:08:56.818856Z"
    }
   },
   "cell_type": "code",
   "source": [
    "#Reemplazamos donde sea nulo por \"Poblacion desconocida\"\n",
    "df['colonia_alumno'] = df['colonia_alumno'].fillna('Colonia desconocida')\n",
    "#Reemplazamos donde sea Nan por \"Poblacion desconocida\"\n",
    "df['poblacion_alumno'] = df['poblacion_alumno'].replace({'Nan': 'Poblacion desconocida', 'nan': 'Poblacion desconocida', 'NaN': 'Poblacion desconocida'})"
   ],
   "id": "2b71bb1606883ec5",
   "outputs": [],
   "execution_count": 316
  },
  {
   "metadata": {},
   "cell_type": "markdown",
   "source": "### Estadarizacion de la columna \"poblacion_alumno\"",
   "id": "38d838a469a9ccce"
  },
  {
   "metadata": {},
   "cell_type": "markdown",
   "source": "**Procedimiento :** Se estandarizaran los datos de la columna \"domicilio_alumno\" importando la funcion \"estandarizacion\" del archivo \"Estandarizar.py\" (En el archivo se encuentra el proceso)",
   "id": "20b4d91699263b58"
  },
  {
   "metadata": {
    "ExecuteTime": {
     "end_time": "2024-07-18T23:08:57.163055Z",
     "start_time": "2024-07-18T23:08:57.153538Z"
    }
   },
   "cell_type": "code",
   "source": "df['poblacion_alumno'] = df['poblacion_alumno'].apply(estandarizacion)",
   "id": "ce04c9dd1bf0b0fd",
   "outputs": [],
   "execution_count": 317
  },
  {
   "metadata": {},
   "cell_type": "markdown",
   "source": "**Resultado**",
   "id": "6d0d42243403dbe9"
  },
  {
   "metadata": {
    "ExecuteTime": {
     "end_time": "2024-07-18T23:08:57.896312Z",
     "start_time": "2024-07-18T23:08:57.889026Z"
    }
   },
   "cell_type": "code",
   "source": "df['poblacion_alumno'].head()",
   "id": "4e27f2692aeb1f8b",
   "outputs": [
    {
     "data": {
      "text/plain": [
       "0     Texcoco. e\n",
       "1     Texcoco. m\n",
       "2    Xocotlan. t\n",
       "3     Chicoloapa\n",
       "4        Texcoco\n",
       "Name: poblacion_alumno, dtype: object"
      ]
     },
     "execution_count": 318,
     "metadata": {},
     "output_type": "execute_result"
    }
   ],
   "execution_count": 318
  },
  {
   "metadata": {},
   "cell_type": "markdown",
   "source": "## <font color=\"#f9a177\">\"cpa\"</font>",
   "id": "a0fbd0a0470b3452"
  },
  {
   "metadata": {},
   "cell_type": "markdown",
   "source": "### Interpretacion",
   "id": "ab7b64531b1a174e"
  },
  {
   "metadata": {},
   "cell_type": "markdown",
   "source": "Probalemente se refiera al codigo postal del alumno",
   "id": "5e1dfd0e918800d5"
  },
  {
   "metadata": {},
   "cell_type": "markdown",
   "source": "**Procedimiento :** Se cambiara el nombre de la columna a \"codigo_postal_alumno\" para mayor claridad",
   "id": "9682c2f6057e96f6"
  },
  {
   "metadata": {
    "ExecuteTime": {
     "end_time": "2024-07-18T23:08:58.240343Z",
     "start_time": "2024-07-18T23:08:58.236324Z"
    }
   },
   "cell_type": "code",
   "source": "df.rename(columns={'cpa': 'codigo_postal_alumno'}, inplace=True)",
   "id": "467318d73c2a63ea",
   "outputs": [],
   "execution_count": 319
  },
  {
   "metadata": {},
   "cell_type": "markdown",
   "source": "**Resultado**",
   "id": "7a8374eb3054779a"
  },
  {
   "metadata": {
    "ExecuteTime": {
     "end_time": "2024-07-18T23:08:59.058750Z",
     "start_time": "2024-07-18T23:08:59.051351Z"
    }
   },
   "cell_type": "code",
   "source": "df['codigo_postal_alumno'].head()",
   "id": "11520243e30520e8",
   "outputs": [
    {
     "data": {
      "text/plain": [
       "0    56110.0\n",
       "1    56236.0\n",
       "2    56236.0\n",
       "3    56370.0\n",
       "4    56105.0\n",
       "Name: codigo_postal_alumno, dtype: float64"
      ]
     },
     "execution_count": 320,
     "metadata": {},
     "output_type": "execute_result"
    }
   ],
   "execution_count": 320
  },
  {
   "metadata": {},
   "cell_type": "markdown",
   "source": "### Tipo de dato",
   "id": "e41e77faa620fc88"
  },
  {
   "metadata": {
    "ExecuteTime": {
     "end_time": "2024-07-18T23:08:59.555069Z",
     "start_time": "2024-07-18T23:08:59.542760Z"
    }
   },
   "cell_type": "code",
   "source": [
    "#Vamos a ver si hay datos distintos de float\n",
    "df['codigo_postal_alumno'].apply(lambda x: type(x)).value_counts()"
   ],
   "id": "db34b325b7f869f0",
   "outputs": [
    {
     "data": {
      "text/plain": [
       "codigo_postal_alumno\n",
       "<class 'float'>    431\n",
       "Name: count, dtype: int64"
      ]
     },
     "execution_count": 321,
     "metadata": {},
     "output_type": "execute_result"
    }
   ],
   "execution_count": 321
  },
  {
   "metadata": {},
   "cell_type": "markdown",
   "source": "**Procedimiento :**  Tenemos datos de tipo float en la columna, se procedera a cambiar a tipo int para no tener problemas al estandarizar los datos y por la coherenecia de la columna. Primero veremos si los datos cumplen el formato",
   "id": "dd99cdab4adc0f00"
  },
  {
   "metadata": {},
   "cell_type": "markdown",
   "source": "### Formato de los datos",
   "id": "c0a4b36d15c35b80"
  },
  {
   "metadata": {
    "ExecuteTime": {
     "end_time": "2024-07-18T23:09:00.155059Z",
     "start_time": "2024-07-18T23:09:00.147814Z"
    }
   },
   "cell_type": "code",
   "source": [
    "#valores unicos\n",
    "df['codigo_postal_alumno'].unique()"
   ],
   "id": "176e6352228724b0",
   "outputs": [
    {
     "data": {
      "text/plain": [
       "array([56110., 56236., 56370., 56105., 56130., 56400.,    nan, 56217.,\n",
       "       56120., 56263., 56203., 54610., 56100., 56235., 56230., 56220.,\n",
       "       56170., 56377., 56050., 56260., 56270., 56375., 56300., 55486.,\n",
       "       56140., 56150., 56257., 56215., 55037., 56314., 56247., 56214.,\n",
       "       26208., 56070., 56033., 56216., 55885.,  8500., 56386., 56373.,\n",
       "       56246., 55890., 56030., 56243., 56225., 56265., 56020., 56160.,\n",
       "       56210., 56205., 56085.,  9720., 56335., 56127., 56253., 56227.,\n",
       "       55884., 57000., 56213., 56347., 56121., 56255., 56272.,  5611.,\n",
       "       56200., 56273., 56390., 56256., 55870., 56250., 56190., 56108.,\n",
       "       56234., 15900., 56885., 56208., 56240., 55850., 55763., 56520.,\n",
       "       56226.,  5620., 56106.])"
      ]
     },
     "execution_count": 322,
     "metadata": {},
     "output_type": "execute_result"
    }
   ],
   "execution_count": 322
  },
  {
   "metadata": {},
   "cell_type": "markdown",
   "source": [
    "**Observacion :**  Se puede observar que los codigos son de 5 digitos, hay datos con 4 digitos y otros al parecer con numeros faltantes teniendo en cuenta que en mexico los codigos postales son de 5 digitos. Se ha verificado esto a traves de la siguiente web\n",
    "https://www.correosdemexico.gob.mx/SSLServicios/ConsultaCP/Descarga.aspx"
   ],
   "id": "a4c3a437debfa92"
  },
  {
   "metadata": {},
   "cell_type": "markdown",
   "source": "### Valores faltantes",
   "id": "5e7c5a76a459e91d"
  },
  {
   "metadata": {
    "ExecuteTime": {
     "end_time": "2024-07-18T23:09:00.838271Z",
     "start_time": "2024-07-18T23:09:00.832071Z"
    }
   },
   "cell_type": "code",
   "source": [
    "#Valores igual a \"Nan\"\n",
    "df_nan = df[df['codigo_postal_alumno'].apply(lambda x: x == 'NaN' or x == 'Nan' or x == 'nan')]"
   ],
   "id": "9a8d195a7cfd97a8",
   "outputs": [],
   "execution_count": 323
  },
  {
   "metadata": {
    "ExecuteTime": {
     "end_time": "2024-07-18T23:09:01.235685Z",
     "start_time": "2024-07-18T23:09:01.231341Z"
    }
   },
   "cell_type": "code",
   "source": [
    "#Valores nulos\n",
    "nulos = df['codigo_postal_alumno'].isnull().sum()\n",
    "#Suma de nulos y Nan\n",
    "print(f\"Valores faltantes en la columna 'codigo_postal_alumno': {nulos + len(df_nan)}\")"
   ],
   "id": "e3b4560e25b92f5a",
   "outputs": [
    {
     "name": "stdout",
     "output_type": "stream",
     "text": [
      "Valores faltantes en la columna 'codigo_postal_alumno': 14\n"
     ]
    }
   ],
   "execution_count": 324
  },
  {
   "metadata": {},
   "cell_type": "markdown",
   "source": "**Procedimiento :** Se completaran los registros nulos o Nan con \"Codigo postal desconocido\" para mayor claridad de los valores faltantes",
   "id": "4b3c2f11ec99899e"
  },
  {
   "metadata": {
    "ExecuteTime": {
     "end_time": "2024-07-18T23:09:01.822071Z",
     "start_time": "2024-07-18T23:09:01.816302Z"
    }
   },
   "cell_type": "code",
   "source": [
    "#Reemplazamos donde sea nulo por \"Poblacion desconocida\"\n",
    "df['codigo_postal_alumno'] = df['codigo_postal_alumno'].fillna('Codigo postal desconocido')\n",
    "#Reemplazamos donde sea Nan por \"Poblacion desconocida\"\n",
    "df['codigo_postal_alumno'] = df['codigo_postal_alumno'].replace({'Nan': 'Codigo postal desconocido', 'nan': 'Codigo postal desconocido', 'NaN': 'Codigo postal desconocido'})"
   ],
   "id": "e1841bb787fada82",
   "outputs": [],
   "execution_count": 325
  },
  {
   "metadata": {},
   "cell_type": "markdown",
   "source": "**Procedimiento :** Se haran nulos los codigos postales que tengan 4 digitos ya que por un solo digito puede variar un codigo postal, se podra completar consultando a los padres. ",
   "id": "6f642cdca33b5293"
  },
  {
   "metadata": {
    "ExecuteTime": {
     "end_time": "2024-07-18T23:09:02.160104Z",
     "start_time": "2024-07-18T23:09:02.154358Z"
    }
   },
   "cell_type": "code",
   "source": [
    "#float a int ignorando 'Codigo postal desconocido'\n",
    "df['codigo_postal_alumno'] = df['codigo_postal_alumno'].apply(lambda x: int(x) if x != 'Codigo postal desconocido' else x)"
   ],
   "id": "5ce30b22eeae0ce0",
   "outputs": [],
   "execution_count": 326
  },
  {
   "metadata": {
    "ExecuteTime": {
     "end_time": "2024-07-18T23:09:02.878299Z",
     "start_time": "2024-07-18T23:09:02.870263Z"
    }
   },
   "cell_type": "code",
   "source": [
    "#Codigos postales de 4 digitos a Codigo postal desconocido\n",
    "df['codigo_postal_alumno'] = df['codigo_postal_alumno'].apply(lambda x: 'Codigo postal desconocido' if len(str(x)) < 5 else x)"
   ],
   "id": "77c8996c06e6d232",
   "outputs": [],
   "execution_count": 327
  },
  {
   "metadata": {
    "ExecuteTime": {
     "end_time": "2024-07-18T23:09:03.161205Z",
     "start_time": "2024-07-18T23:09:03.154711Z"
    }
   },
   "cell_type": "code",
   "source": [
    "#valores unicos\n",
    "df['codigo_postal_alumno'].unique()"
   ],
   "id": "c5a6f7c1564064e7",
   "outputs": [
    {
     "data": {
      "text/plain": [
       "array([56110, 56236, 56370, 56105, 56130, 56400,\n",
       "       'Codigo postal desconocido', 56217, 56120, 56263, 56203, 54610,\n",
       "       56100, 56235, 56230, 56220, 56170, 56377, 56050, 56260, 56270,\n",
       "       56375, 56300, 55486, 56140, 56150, 56257, 56215, 55037, 56314,\n",
       "       56247, 56214, 26208, 56070, 56033, 56216, 55885, 56386, 56373,\n",
       "       56246, 55890, 56030, 56243, 56225, 56265, 56020, 56160, 56210,\n",
       "       56205, 56085, 56335, 56127, 56253, 56227, 55884, 57000, 56213,\n",
       "       56347, 56121, 56255, 56272, 56200, 56273, 56390, 56256, 55870,\n",
       "       56250, 56190, 56108, 56234, 15900, 56885, 56208, 56240, 55850,\n",
       "       55763, 56520, 56226, 56106], dtype=object)"
      ]
     },
     "execution_count": 328,
     "metadata": {},
     "output_type": "execute_result"
    }
   ],
   "execution_count": 328
  },
  {
   "metadata": {},
   "cell_type": "markdown",
   "source": "**Observacion :**  Se ha cambiado los codigos postales de 4 digitos a \"Codigo postal desconocido\" para poder completarlos en un futuro.",
   "id": "2c4b0f7c984fd549"
  },
  {
   "metadata": {},
   "cell_type": "markdown",
   "source": "## <font color=\"#f9a177\">\"fecnaca\".</font>",
   "id": "9b62f1a928feb135"
  },
  {
   "metadata": {},
   "cell_type": "markdown",
   "source": "### Interpretacion",
   "id": "e1320ad999186635"
  },
  {
   "metadata": {},
   "cell_type": "markdown",
   "source": "Se refiere a la fecha de nacimiento de alumno",
   "id": "ece0c333e55212c7"
  },
  {
   "metadata": {},
   "cell_type": "markdown",
   "source": "**Procedimiento :** Se cambiara el nombre de la columna a \"fecha_nacimiento_alumno\" para mayor claridad.",
   "id": "c0979beec72fe6d9"
  },
  {
   "metadata": {
    "ExecuteTime": {
     "end_time": "2024-07-18T23:09:03.736696Z",
     "start_time": "2024-07-18T23:09:03.731123Z"
    }
   },
   "cell_type": "code",
   "source": "df.rename(columns={'fecnaca': 'fecha_nacimiento_alumno'}, inplace=True)",
   "id": "46ce7a1660bbcbb3",
   "outputs": [],
   "execution_count": 329
  },
  {
   "metadata": {},
   "cell_type": "markdown",
   "source": "**Resultado**",
   "id": "6a025e8fc1bed32a"
  },
  {
   "metadata": {
    "ExecuteTime": {
     "end_time": "2024-07-18T23:09:04.197953Z",
     "start_time": "2024-07-18T23:09:04.190708Z"
    }
   },
   "cell_type": "code",
   "source": "df['fecha_nacimiento_alumno'].head()",
   "id": "3727a8e6751ebb9a",
   "outputs": [
    {
     "data": {
      "text/plain": [
       "0    2018-02-12 00:00:00\n",
       "1    2007-04-19 00:00:00\n",
       "2    2013-03-27 00:00:00\n",
       "3    2013-07-15 00:00:00\n",
       "4    2018-01-12 00:00:00\n",
       "Name: fecha_nacimiento_alumno, dtype: object"
      ]
     },
     "execution_count": 330,
     "metadata": {},
     "output_type": "execute_result"
    }
   ],
   "execution_count": 330
  },
  {
   "metadata": {},
   "cell_type": "markdown",
   "source": "### Tipo de dato",
   "id": "ab9374e7fa3d1480"
  },
  {
   "metadata": {
    "ExecuteTime": {
     "end_time": "2024-07-18T23:09:05.063991Z",
     "start_time": "2024-07-18T23:09:05.053967Z"
    }
   },
   "cell_type": "code",
   "source": [
    "#Vamos a ver si hay datos distintos de datatime\n",
    "df['fecha_nacimiento_alumno'].apply(lambda x: type(x)).value_counts()"
   ],
   "id": "c1fcd39595d64ada",
   "outputs": [
    {
     "data": {
      "text/plain": [
       "fecha_nacimiento_alumno\n",
       "<class 'datetime.datetime'>    430\n",
       "<class 'str'>                    1\n",
       "Name: count, dtype: int64"
      ]
     },
     "execution_count": 331,
     "metadata": {},
     "output_type": "execute_result"
    }
   ],
   "execution_count": 331
  },
  {
   "metadata": {
    "ExecuteTime": {
     "end_time": "2024-07-18T23:09:05.419660Z",
     "start_time": "2024-07-18T23:09:05.402849Z"
    }
   },
   "cell_type": "code",
   "source": [
    "#Motramos el dato donde es de tipo str\n",
    "df[df['fecha_nacimiento_alumno'].apply(lambda x: type(x) == str)]"
   ],
   "id": "c5a5b92b6f143bdc",
   "outputs": [
    {
     "data": {
      "text/plain": [
       "      clave                     nombrea       sexo    domicilio_alumno  \\\n",
       "105  294992  OLEA ROLDAN DONOVAN DANIEL  Masculino  Corregidora No. 13   \n",
       "\n",
       "    colonia_alumno poblacion_alumno codigo_postal_alumno  \\\n",
       "105   Tequisistlan         Tezoyuca                56020   \n",
       "\n",
       "    fecha_nacimiento_alumno   naciona        tela  ...                ocupap  \\\n",
       "105                   -   -  MEXICANA  5959571334  ...  MEDICO VETERINARIO Z   \n",
       "\n",
       "                   emprep      celularp telofp                emailp  \\\n",
       "105  INSTIT.SALUD EDO. ME  5.524623e+09    NaN  athetl0222@gmail.com   \n",
       "\n",
       "                         pedi  telpedi fecha_inscripcion plan edad  \n",
       "105  ATZIN ITAI OLEA GONZALEZ  9571334        2022-03-17    B    0  \n",
       "\n",
       "[1 rows x 33 columns]"
      ],
      "text/html": [
       "<div>\n",
       "<style scoped>\n",
       "    .dataframe tbody tr th:only-of-type {\n",
       "        vertical-align: middle;\n",
       "    }\n",
       "\n",
       "    .dataframe tbody tr th {\n",
       "        vertical-align: top;\n",
       "    }\n",
       "\n",
       "    .dataframe thead th {\n",
       "        text-align: right;\n",
       "    }\n",
       "</style>\n",
       "<table border=\"1\" class=\"dataframe\">\n",
       "  <thead>\n",
       "    <tr style=\"text-align: right;\">\n",
       "      <th></th>\n",
       "      <th>clave</th>\n",
       "      <th>nombrea</th>\n",
       "      <th>sexo</th>\n",
       "      <th>domicilio_alumno</th>\n",
       "      <th>colonia_alumno</th>\n",
       "      <th>poblacion_alumno</th>\n",
       "      <th>codigo_postal_alumno</th>\n",
       "      <th>fecha_nacimiento_alumno</th>\n",
       "      <th>naciona</th>\n",
       "      <th>tela</th>\n",
       "      <th>...</th>\n",
       "      <th>ocupap</th>\n",
       "      <th>emprep</th>\n",
       "      <th>celularp</th>\n",
       "      <th>telofp</th>\n",
       "      <th>emailp</th>\n",
       "      <th>pedi</th>\n",
       "      <th>telpedi</th>\n",
       "      <th>fecha_inscripcion</th>\n",
       "      <th>plan</th>\n",
       "      <th>edad</th>\n",
       "    </tr>\n",
       "  </thead>\n",
       "  <tbody>\n",
       "    <tr>\n",
       "      <th>105</th>\n",
       "      <td>294992</td>\n",
       "      <td>OLEA ROLDAN DONOVAN DANIEL</td>\n",
       "      <td>Masculino</td>\n",
       "      <td>Corregidora No. 13</td>\n",
       "      <td>Tequisistlan</td>\n",
       "      <td>Tezoyuca</td>\n",
       "      <td>56020</td>\n",
       "      <td>-   -</td>\n",
       "      <td>MEXICANA</td>\n",
       "      <td>5959571334</td>\n",
       "      <td>...</td>\n",
       "      <td>MEDICO VETERINARIO Z</td>\n",
       "      <td>INSTIT.SALUD EDO. ME</td>\n",
       "      <td>5.524623e+09</td>\n",
       "      <td>NaN</td>\n",
       "      <td>athetl0222@gmail.com</td>\n",
       "      <td>ATZIN ITAI OLEA GONZALEZ</td>\n",
       "      <td>9571334</td>\n",
       "      <td>2022-03-17</td>\n",
       "      <td>B</td>\n",
       "      <td>0</td>\n",
       "    </tr>\n",
       "  </tbody>\n",
       "</table>\n",
       "<p>1 rows × 33 columns</p>\n",
       "</div>"
      ]
     },
     "execution_count": 332,
     "metadata": {},
     "output_type": "execute_result"
    }
   ],
   "execution_count": 332
  },
  {
   "metadata": {},
   "cell_type": "markdown",
   "source": "**Observacion :**  Tenemos datos de tipo str en la columnaa lo cual no tendria sentido con la columna de fecha , se va a trabajar el formato y este dato a continuacion.",
   "id": "a99f7ce86b0fd8d6"
  },
  {
   "metadata": {},
   "cell_type": "markdown",
   "source": "### Formato de los datos",
   "id": "b289d1e0be34c7e"
  },
  {
   "metadata": {},
   "cell_type": "markdown",
   "source": "**Procedimiento :**  Vamos a los datos a 'fecha desconocida' si no cumplen el formato de fecha ",
   "id": "28a7040cb6557cd6"
  },
  {
   "metadata": {
    "ExecuteTime": {
     "end_time": "2024-07-18T23:09:06.015440Z",
     "start_time": "2024-07-18T23:09:06.008596Z"
    }
   },
   "cell_type": "code",
   "source": [
    "#Eliminamos las hora minutos y segundos\n",
    "df['fecha_nacimiento_alumno'] = pd.to_datetime(df['fecha_nacimiento_alumno'], errors='coerce')"
   ],
   "id": "9537b0a13bd6ca6d",
   "outputs": [],
   "execution_count": 333
  },
  {
   "metadata": {},
   "cell_type": "markdown",
   "source": "**Resultado**",
   "id": "73d7f302f3f958e4"
  },
  {
   "metadata": {
    "ExecuteTime": {
     "end_time": "2024-07-18T23:09:06.445286Z",
     "start_time": "2024-07-18T23:09:06.437149Z"
    }
   },
   "cell_type": "code",
   "source": "df['fecha_nacimiento_alumno'].head()",
   "id": "2c0284c030e2bfc3",
   "outputs": [
    {
     "data": {
      "text/plain": [
       "0   2018-02-12\n",
       "1   2007-04-19\n",
       "2   2013-03-27\n",
       "3   2013-07-15\n",
       "4   2018-01-12\n",
       "Name: fecha_nacimiento_alumno, dtype: datetime64[ns]"
      ]
     },
     "execution_count": 334,
     "metadata": {},
     "output_type": "execute_result"
    }
   ],
   "execution_count": 334
  },
  {
   "metadata": {},
   "cell_type": "markdown",
   "source": "### Valores faltantes",
   "id": "777107cda28fab9"
  },
  {
   "metadata": {
    "ExecuteTime": {
     "end_time": "2024-07-18T23:09:07.157171Z",
     "start_time": "2024-07-18T23:09:07.149729Z"
    }
   },
   "cell_type": "code",
   "source": [
    "#Valores igual a \"Nan\"\n",
    "df_nan = df[df['fecha_nacimiento_alumno'].apply(lambda x: x == 'NaN' or x == 'Nan' or x == 'nan')]"
   ],
   "id": "39788428a0cb2d05",
   "outputs": [],
   "execution_count": 335
  },
  {
   "metadata": {
    "ExecuteTime": {
     "end_time": "2024-07-18T23:09:07.621158Z",
     "start_time": "2024-07-18T23:09:07.609920Z"
    }
   },
   "cell_type": "code",
   "source": [
    "#Valores nulos\n",
    "nulos = df['fecha_nacimiento_alumno'].isnull().sum()\n",
    "#Suma de nulos y Nan\n",
    "print(f\"Valores faltantes en la columna 'fecha_nacimiento_alumno': {nulos + len(df_nan)}\")"
   ],
   "id": "d831cecf8da3fbe5",
   "outputs": [
    {
     "name": "stdout",
     "output_type": "stream",
     "text": [
      "Valores faltantes en la columna 'fecha_nacimiento_alumno': 1\n"
     ]
    }
   ],
   "execution_count": 336
  },
  {
   "metadata": {},
   "cell_type": "markdown",
   "source": "**Procedimiento :** Se completaran los registros nulos o Nan con \"Fecha desconocida\" para mayor claridad de los valores faltantes",
   "id": "e3f6083204ead94"
  },
  {
   "metadata": {
    "ExecuteTime": {
     "end_time": "2024-07-18T23:09:08.552293Z",
     "start_time": "2024-07-18T23:09:08.545913Z"
    }
   },
   "cell_type": "code",
   "source": "df['fecha_nacimiento_alumno'] = df['fecha_nacimiento_alumno'].fillna('Fecha desconocida') ",
   "id": "1219ed115e3a245",
   "outputs": [],
   "execution_count": 337
  },
  {
   "metadata": {},
   "cell_type": "markdown",
   "source": "## <font color=\"#f9a177\">\"naciona\"</font>",
   "id": "c5aba5016c73c863"
  },
  {
   "metadata": {},
   "cell_type": "markdown",
   "source": "### Interpretacion",
   "id": "d093509d17c5aeef"
  },
  {
   "metadata": {},
   "cell_type": "markdown",
   "source": "Se refiere a la nacionalidad del alumno",
   "id": "ddb9512a4331914f"
  },
  {
   "metadata": {},
   "cell_type": "markdown",
   "source": "**Procedimiento :** Se cambiara el nombre de la columna a \"nacionalidad\" para mayor claridad.",
   "id": "9eb6f80be2621beb"
  },
  {
   "metadata": {
    "ExecuteTime": {
     "end_time": "2024-07-18T23:09:08.923296Z",
     "start_time": "2024-07-18T23:09:08.918602Z"
    }
   },
   "cell_type": "code",
   "source": "df.rename(columns={'naciona': 'nacionalidad'}, inplace=True)",
   "id": "de4eff8be8f91d3",
   "outputs": [],
   "execution_count": 338
  },
  {
   "metadata": {},
   "cell_type": "markdown",
   "source": "**Resultado**",
   "id": "bae03a2955920bdf"
  },
  {
   "metadata": {
    "ExecuteTime": {
     "end_time": "2024-07-18T23:09:09.858614Z",
     "start_time": "2024-07-18T23:09:09.851309Z"
    }
   },
   "cell_type": "code",
   "source": "df['nacionalidad'].head()",
   "id": "23eaa31b49a6851f",
   "outputs": [
    {
     "data": {
      "text/plain": [
       "0    MEXICANA\n",
       "1    MEXICANA\n",
       "2    MEXICANA\n",
       "3    MEXICANA\n",
       "4    MEXICANA\n",
       "Name: nacionalidad, dtype: object"
      ]
     },
     "execution_count": 339,
     "metadata": {},
     "output_type": "execute_result"
    }
   ],
   "execution_count": 339
  },
  {
   "metadata": {},
   "cell_type": "markdown",
   "source": "### Tipo de dato",
   "id": "1ab3515132a49c99"
  },
  {
   "metadata": {
    "ExecuteTime": {
     "end_time": "2024-07-18T23:09:10.256525Z",
     "start_time": "2024-07-18T23:09:10.247625Z"
    }
   },
   "cell_type": "code",
   "source": [
    "#Vamos a ver si hay datos distintos de str\n",
    "df['nacionalidad'].apply(lambda x: type(x)).value_counts()"
   ],
   "id": "19db401b73c2fcc6",
   "outputs": [
    {
     "data": {
      "text/plain": [
       "nacionalidad\n",
       "<class 'str'>      428\n",
       "<class 'float'>      3\n",
       "Name: count, dtype: int64"
      ]
     },
     "execution_count": 340,
     "metadata": {},
     "output_type": "execute_result"
    }
   ],
   "execution_count": 340
  },
  {
   "metadata": {},
   "cell_type": "markdown",
   "source": "**Procedimiento :**  Tenemos datos de tipo float en la columna, se procedera a cambiar a tipo str para no tener problemas al estandarizar los datos y por la coherenecia de la columna.",
   "id": "c140ce96dda10238"
  },
  {
   "metadata": {
    "ExecuteTime": {
     "end_time": "2024-07-18T23:09:10.909016Z",
     "start_time": "2024-07-18T23:09:10.902935Z"
    }
   },
   "cell_type": "code",
   "source": "df['nacionalidad'] = df['nacionalidad'].astype(str)",
   "id": "2531c62885eb7a3",
   "outputs": [],
   "execution_count": 341
  },
  {
   "metadata": {},
   "cell_type": "markdown",
   "source": "### Valores faltantes",
   "id": "b239309fa18377e9"
  },
  {
   "metadata": {
    "ExecuteTime": {
     "end_time": "2024-07-18T23:09:11.305300Z",
     "start_time": "2024-07-18T23:09:11.298866Z"
    }
   },
   "cell_type": "code",
   "source": [
    "#Valores igual a \"Nan\"\n",
    "df_nan = df[df['nacionalidad'].apply(lambda x: x == 'NaN' or x == 'Nan' or x == 'nan')]\n",
    "#Valores nulos"
   ],
   "id": "8254b3c2f5ee4c21",
   "outputs": [],
   "execution_count": 342
  },
  {
   "metadata": {
    "ExecuteTime": {
     "end_time": "2024-07-18T23:09:12.028956Z",
     "start_time": "2024-07-18T23:09:12.016750Z"
    }
   },
   "cell_type": "code",
   "source": [
    "nulos = df['nacionalidad'].isnull().sum()\n",
    "#Suma de nulos y Nan\n",
    "print(f\"Valores faltantes en la columna 'nacionalidad': {nulos + len(df_nan)}\")"
   ],
   "id": "baf96eee50ba9901",
   "outputs": [
    {
     "name": "stdout",
     "output_type": "stream",
     "text": [
      "Valores faltantes en la columna 'nacionalidad': 3\n"
     ]
    }
   ],
   "execution_count": 343
  },
  {
   "metadata": {
    "ExecuteTime": {
     "end_time": "2024-07-18T23:09:12.329086Z",
     "start_time": "2024-07-18T23:09:12.317137Z"
    }
   },
   "cell_type": "code",
   "source": [
    "#Vamos a ver las nacinalidades donde sean nulas y comparar con el codigo postal y el nombre del alumno\n",
    "df[df['nacionalidad'].apply(lambda x: x == 'nan')][['nacionalidad', 'codigo_postal_alumno', 'nombrea']]\n"
   ],
   "id": "92ec38059f6e395",
   "outputs": [
    {
     "data": {
      "text/plain": [
       "    nacionalidad codigo_postal_alumno                   nombrea\n",
       "84           nan                56243        GARCIA ESTRADA ZOE\n",
       "103          nan                56100  ROSIQUE ROJAS STIAN AXEL\n",
       "267          nan                56250   ARREGIN OCAMPO SANTIAGO"
      ],
      "text/html": [
       "<div>\n",
       "<style scoped>\n",
       "    .dataframe tbody tr th:only-of-type {\n",
       "        vertical-align: middle;\n",
       "    }\n",
       "\n",
       "    .dataframe tbody tr th {\n",
       "        vertical-align: top;\n",
       "    }\n",
       "\n",
       "    .dataframe thead th {\n",
       "        text-align: right;\n",
       "    }\n",
       "</style>\n",
       "<table border=\"1\" class=\"dataframe\">\n",
       "  <thead>\n",
       "    <tr style=\"text-align: right;\">\n",
       "      <th></th>\n",
       "      <th>nacionalidad</th>\n",
       "      <th>codigo_postal_alumno</th>\n",
       "      <th>nombrea</th>\n",
       "    </tr>\n",
       "  </thead>\n",
       "  <tbody>\n",
       "    <tr>\n",
       "      <th>84</th>\n",
       "      <td>nan</td>\n",
       "      <td>56243</td>\n",
       "      <td>GARCIA ESTRADA ZOE</td>\n",
       "    </tr>\n",
       "    <tr>\n",
       "      <th>103</th>\n",
       "      <td>nan</td>\n",
       "      <td>56100</td>\n",
       "      <td>ROSIQUE ROJAS STIAN AXEL</td>\n",
       "    </tr>\n",
       "    <tr>\n",
       "      <th>267</th>\n",
       "      <td>nan</td>\n",
       "      <td>56250</td>\n",
       "      <td>ARREGIN OCAMPO SANTIAGO</td>\n",
       "    </tr>\n",
       "  </tbody>\n",
       "</table>\n",
       "</div>"
      ]
     },
     "execution_count": 344,
     "metadata": {},
     "output_type": "execute_result"
    }
   ],
   "execution_count": 344
  },
  {
   "metadata": {},
   "cell_type": "markdown",
   "source": "**Procediemiento :**  Teniendo en cuenta el nombre del alumno y el codigo de postal cual es comun en Mexico se podria inferir que la nacionalidad es mexicana, se procedera a completar estos valores.",
   "id": "5806bc97b7e6fb5a"
  },
  {
   "metadata": {
    "ExecuteTime": {
     "end_time": "2024-07-18T23:09:12.788942Z",
     "start_time": "2024-07-18T23:09:12.784509Z"
    }
   },
   "cell_type": "code",
   "source": "df['nacionalidad'] = df['nacionalidad'].replace({'nan': 'Mexicana'})",
   "id": "9df52268786800f6",
   "outputs": [],
   "execution_count": 345
  },
  {
   "metadata": {},
   "cell_type": "markdown",
   "source": "### Formato de datos",
   "id": "d927fe77b4d30df3"
  },
  {
   "metadata": {
    "ExecuteTime": {
     "end_time": "2024-07-18T23:09:13.167189Z",
     "start_time": "2024-07-18T23:09:13.159941Z"
    }
   },
   "cell_type": "code",
   "source": [
    "#Valores diferentes en nacionalidad\n",
    "df['nacionalidad'].unique()"
   ],
   "id": "a292623aee757f52",
   "outputs": [
    {
     "data": {
      "text/plain": [
       "array(['MEXICANA', 'MEXICANO', 'MEXICA NA', 'MEXCIANA', 'MEXCINA',\n",
       "       'Mexicana', 'MEXICANAQ', 'MEXICQNA', 'MEXCANA', 'MEXCCIANA',\n",
       "       'MEXICNA', 'MEXIANA', 'MEXICO', 'MEXICAN A', 'CHINO', 'MEXICANA |',\n",
       "       'MEXICANA/H', 'M4EXICANA', 'MEXICANA/E'], dtype=object)"
      ]
     },
     "execution_count": 346,
     "metadata": {},
     "output_type": "execute_result"
    }
   ],
   "execution_count": 346
  },
  {
   "metadata": {},
   "cell_type": "markdown",
   "source": "**Observacion :**  Tenemos nacionalidades con errores de tipeo, se procedera a corregirlos.",
   "id": "b0621af835b010e8"
  },
  {
   "metadata": {},
   "cell_type": "markdown",
   "source": "**Procedimiento :** Se corregiran los errores de tipeo en las nacionalidades teniendo en cuenta el sexo del alumno y se estandarizaran los datos.",
   "id": "ec2d7016573a6295"
  },
  {
   "metadata": {
    "ExecuteTime": {
     "end_time": "2024-07-18T23:09:13.904018Z",
     "start_time": "2024-07-18T23:09:13.878638Z"
    }
   },
   "cell_type": "code",
   "source": [
    "#Reemplazaremos valores por 'Mexicana' si el dato en la columna sexo es 'Femenino o 'Mexicano' si el dato de la columna sexo es 'Masculino' y si el dato de la columna nacionalidad comienza con el caracter 'M' o 'm'\n",
    "df['nacionalidad'] = df.apply(lambda x: 'Mexicana' if x['sexo'] == 'Femenino' and x['nacionalidad'][0] == 'M' or x['nacionalidad'][0] == 'm' else x['nacionalidad'], axis=1)\n",
    "df['nacionalidad'] = df.apply(lambda x: 'Mexicano' if x['sexo'] == 'Masculino' and x['nacionalidad'][0] == 'M' or x['nacionalidad'][0] == 'm' else x['nacionalidad'], axis=1)"
   ],
   "id": "69dfea25f2d33b59",
   "outputs": [],
   "execution_count": 347
  },
  {
   "metadata": {},
   "cell_type": "markdown",
   "source": "**Resultado**",
   "id": "603d364f12a653cc"
  },
  {
   "metadata": {
    "ExecuteTime": {
     "end_time": "2024-07-18T23:09:14.397392Z",
     "start_time": "2024-07-18T23:09:14.387027Z"
    }
   },
   "cell_type": "code",
   "source": "df[['sexo', 'nacionalidad']]",
   "id": "48113c9c54179d99",
   "outputs": [
    {
     "data": {
      "text/plain": [
       "          sexo nacionalidad\n",
       "0    Masculino     Mexicano\n",
       "1    Masculino     Mexicano\n",
       "2     Femenino     Mexicana\n",
       "3    Masculino     Mexicano\n",
       "4     Femenino     Mexicana\n",
       "..         ...          ...\n",
       "426  Masculino     Mexicano\n",
       "427  Masculino     Mexicano\n",
       "428  Masculino     Mexicano\n",
       "429  Masculino     Mexicano\n",
       "430   Femenino     Mexicana\n",
       "\n",
       "[431 rows x 2 columns]"
      ],
      "text/html": [
       "<div>\n",
       "<style scoped>\n",
       "    .dataframe tbody tr th:only-of-type {\n",
       "        vertical-align: middle;\n",
       "    }\n",
       "\n",
       "    .dataframe tbody tr th {\n",
       "        vertical-align: top;\n",
       "    }\n",
       "\n",
       "    .dataframe thead th {\n",
       "        text-align: right;\n",
       "    }\n",
       "</style>\n",
       "<table border=\"1\" class=\"dataframe\">\n",
       "  <thead>\n",
       "    <tr style=\"text-align: right;\">\n",
       "      <th></th>\n",
       "      <th>sexo</th>\n",
       "      <th>nacionalidad</th>\n",
       "    </tr>\n",
       "  </thead>\n",
       "  <tbody>\n",
       "    <tr>\n",
       "      <th>0</th>\n",
       "      <td>Masculino</td>\n",
       "      <td>Mexicano</td>\n",
       "    </tr>\n",
       "    <tr>\n",
       "      <th>1</th>\n",
       "      <td>Masculino</td>\n",
       "      <td>Mexicano</td>\n",
       "    </tr>\n",
       "    <tr>\n",
       "      <th>2</th>\n",
       "      <td>Femenino</td>\n",
       "      <td>Mexicana</td>\n",
       "    </tr>\n",
       "    <tr>\n",
       "      <th>3</th>\n",
       "      <td>Masculino</td>\n",
       "      <td>Mexicano</td>\n",
       "    </tr>\n",
       "    <tr>\n",
       "      <th>4</th>\n",
       "      <td>Femenino</td>\n",
       "      <td>Mexicana</td>\n",
       "    </tr>\n",
       "    <tr>\n",
       "      <th>...</th>\n",
       "      <td>...</td>\n",
       "      <td>...</td>\n",
       "    </tr>\n",
       "    <tr>\n",
       "      <th>426</th>\n",
       "      <td>Masculino</td>\n",
       "      <td>Mexicano</td>\n",
       "    </tr>\n",
       "    <tr>\n",
       "      <th>427</th>\n",
       "      <td>Masculino</td>\n",
       "      <td>Mexicano</td>\n",
       "    </tr>\n",
       "    <tr>\n",
       "      <th>428</th>\n",
       "      <td>Masculino</td>\n",
       "      <td>Mexicano</td>\n",
       "    </tr>\n",
       "    <tr>\n",
       "      <th>429</th>\n",
       "      <td>Masculino</td>\n",
       "      <td>Mexicano</td>\n",
       "    </tr>\n",
       "    <tr>\n",
       "      <th>430</th>\n",
       "      <td>Femenino</td>\n",
       "      <td>Mexicana</td>\n",
       "    </tr>\n",
       "  </tbody>\n",
       "</table>\n",
       "<p>431 rows × 2 columns</p>\n",
       "</div>"
      ]
     },
     "execution_count": 348,
     "metadata": {},
     "output_type": "execute_result"
    }
   ],
   "execution_count": 348
  },
  {
   "metadata": {},
   "cell_type": "markdown",
   "source": "#",
   "id": "256ddf848e9a4a41"
  },
  {
   "metadata": {},
   "cell_type": "markdown",
   "source": "### Estandarizacion de la columna \"nacionalidad\"",
   "id": "9f5e69a04d1736b0"
  },
  {
   "metadata": {
    "ExecuteTime": {
     "end_time": "2024-07-18T23:09:15.316065Z",
     "start_time": "2024-07-18T23:09:15.309597Z"
    }
   },
   "cell_type": "code",
   "source": "df['nacionalidad'] = df['nacionalidad'].apply(estandarizacion)",
   "id": "1bbcdc8570c05ff7",
   "outputs": [],
   "execution_count": 349
  },
  {
   "metadata": {},
   "cell_type": "markdown",
   "source": "**Resultado**",
   "id": "389f2b580d88bbd5"
  },
  {
   "metadata": {
    "ExecuteTime": {
     "end_time": "2024-07-18T23:09:16.019997Z",
     "start_time": "2024-07-18T23:09:16.013111Z"
    }
   },
   "cell_type": "code",
   "source": "df['nacionalidad'].unique()",
   "id": "256e9317357f4fb4",
   "outputs": [
    {
     "data": {
      "text/plain": [
       "array(['Mexicano', 'Mexicana', 'Chino'], dtype=object)"
      ]
     },
     "execution_count": 350,
     "metadata": {},
     "output_type": "execute_result"
    }
   ],
   "execution_count": 350
  },
  {
   "metadata": {},
   "cell_type": "markdown",
   "source": "## <font color=\"#f9a177\">\"tela\"</font>",
   "id": "34fdeeb84dbc10a0"
  },
  {
   "metadata": {},
   "cell_type": "markdown",
   "source": "### Interpretacion",
   "id": "8b327e999c49da17"
  },
  {
   "metadata": {},
   "cell_type": "markdown",
   "source": "Se refiere al telefono del alumno",
   "id": "4c2dc6b63f6e6e62"
  },
  {
   "metadata": {},
   "cell_type": "markdown",
   "source": "**Procedimiento :** Se cambiara el nombre de la columna a \"telefono_alumno\" para mayor claridad.",
   "id": "64bfcba50cdd5ac3"
  },
  {
   "metadata": {
    "ExecuteTime": {
     "end_time": "2024-07-18T23:09:16.530383Z",
     "start_time": "2024-07-18T23:09:16.525152Z"
    }
   },
   "cell_type": "code",
   "source": "df.rename(columns={'tela': 'telefono_alumno'}, inplace=True)",
   "id": "fa91f6b3cd6defb8",
   "outputs": [],
   "execution_count": 351
  },
  {
   "metadata": {},
   "cell_type": "markdown",
   "source": "**Resultado**",
   "id": "623c75d835f4d07c"
  },
  {
   "metadata": {
    "ExecuteTime": {
     "end_time": "2024-07-18T23:09:17.262968Z",
     "start_time": "2024-07-18T23:09:17.254123Z"
    }
   },
   "cell_type": "code",
   "source": "df['telefono_alumno'].head()",
   "id": "7d69ec27eb9bdd22",
   "outputs": [
    {
     "data": {
      "text/plain": [
       "0    5959541519\n",
       "1    5959543393\n",
       "2    5959543393\n",
       "3    5510491891\n",
       "4    5956888439\n",
       "Name: telefono_alumno, dtype: object"
      ]
     },
     "execution_count": 352,
     "metadata": {},
     "output_type": "execute_result"
    }
   ],
   "execution_count": 352
  },
  {
   "metadata": {},
   "cell_type": "markdown",
   "source": "### Tipo de datos",
   "id": "d208954c22e15e3f"
  },
  {
   "metadata": {
    "ExecuteTime": {
     "end_time": "2024-07-18T23:09:17.736450Z",
     "start_time": "2024-07-18T23:09:17.728490Z"
    }
   },
   "cell_type": "code",
   "source": [
    "#Vamos a ver si hay datos distintos de int\n",
    "df['telefono_alumno'].apply(lambda x: type(x)).value_counts()"
   ],
   "id": "182e128216e2c2fc",
   "outputs": [
    {
     "data": {
      "text/plain": [
       "telefono_alumno\n",
       "<class 'str'>      399\n",
       "<class 'float'>     32\n",
       "Name: count, dtype: int64"
      ]
     },
     "execution_count": 353,
     "metadata": {},
     "output_type": "execute_result"
    }
   ],
   "execution_count": 353
  },
  {
   "metadata": {},
   "cell_type": "markdown",
   "source": "**Procedimiento :**  Tenemos datos de tipo float en la columna, se procedera a cambiar a tipo int para no tener problemas al estandarizar los datos y por la coherenecia de la columna.",
   "id": "9576950ddbd0c6b4"
  },
  {
   "metadata": {
    "ExecuteTime": {
     "end_time": "2024-07-18T23:09:18.358578Z",
     "start_time": "2024-07-18T23:09:18.346671Z"
    }
   },
   "cell_type": "code",
   "source": [
    "#vemos columnas con valores float\n",
    "df[df['telefono_alumno'].apply(lambda x: type(x) == float)][['telefono_alumno']]"
   ],
   "id": "f1306c344029fd8",
   "outputs": [
    {
     "data": {
      "text/plain": [
       "    telefono_alumno\n",
       "15              NaN\n",
       "44              NaN\n",
       "80              NaN\n",
       "99              NaN\n",
       "114             NaN\n",
       "115             NaN\n",
       "129             NaN\n",
       "131             NaN\n",
       "141             NaN\n",
       "148             NaN\n",
       "149             NaN\n",
       "256             NaN\n",
       "258             NaN\n",
       "270             NaN\n",
       "273             NaN\n",
       "274             NaN\n",
       "275             NaN\n",
       "276             NaN\n",
       "289             NaN\n",
       "312             NaN\n",
       "325             NaN\n",
       "346             NaN\n",
       "366             NaN\n",
       "385             NaN\n",
       "387             NaN\n",
       "394             NaN\n",
       "410             NaN\n",
       "412             NaN\n",
       "413             NaN\n",
       "421             NaN\n",
       "422             NaN\n",
       "429             NaN"
      ],
      "text/html": [
       "<div>\n",
       "<style scoped>\n",
       "    .dataframe tbody tr th:only-of-type {\n",
       "        vertical-align: middle;\n",
       "    }\n",
       "\n",
       "    .dataframe tbody tr th {\n",
       "        vertical-align: top;\n",
       "    }\n",
       "\n",
       "    .dataframe thead th {\n",
       "        text-align: right;\n",
       "    }\n",
       "</style>\n",
       "<table border=\"1\" class=\"dataframe\">\n",
       "  <thead>\n",
       "    <tr style=\"text-align: right;\">\n",
       "      <th></th>\n",
       "      <th>telefono_alumno</th>\n",
       "    </tr>\n",
       "  </thead>\n",
       "  <tbody>\n",
       "    <tr>\n",
       "      <th>15</th>\n",
       "      <td>NaN</td>\n",
       "    </tr>\n",
       "    <tr>\n",
       "      <th>44</th>\n",
       "      <td>NaN</td>\n",
       "    </tr>\n",
       "    <tr>\n",
       "      <th>80</th>\n",
       "      <td>NaN</td>\n",
       "    </tr>\n",
       "    <tr>\n",
       "      <th>99</th>\n",
       "      <td>NaN</td>\n",
       "    </tr>\n",
       "    <tr>\n",
       "      <th>114</th>\n",
       "      <td>NaN</td>\n",
       "    </tr>\n",
       "    <tr>\n",
       "      <th>115</th>\n",
       "      <td>NaN</td>\n",
       "    </tr>\n",
       "    <tr>\n",
       "      <th>129</th>\n",
       "      <td>NaN</td>\n",
       "    </tr>\n",
       "    <tr>\n",
       "      <th>131</th>\n",
       "      <td>NaN</td>\n",
       "    </tr>\n",
       "    <tr>\n",
       "      <th>141</th>\n",
       "      <td>NaN</td>\n",
       "    </tr>\n",
       "    <tr>\n",
       "      <th>148</th>\n",
       "      <td>NaN</td>\n",
       "    </tr>\n",
       "    <tr>\n",
       "      <th>149</th>\n",
       "      <td>NaN</td>\n",
       "    </tr>\n",
       "    <tr>\n",
       "      <th>256</th>\n",
       "      <td>NaN</td>\n",
       "    </tr>\n",
       "    <tr>\n",
       "      <th>258</th>\n",
       "      <td>NaN</td>\n",
       "    </tr>\n",
       "    <tr>\n",
       "      <th>270</th>\n",
       "      <td>NaN</td>\n",
       "    </tr>\n",
       "    <tr>\n",
       "      <th>273</th>\n",
       "      <td>NaN</td>\n",
       "    </tr>\n",
       "    <tr>\n",
       "      <th>274</th>\n",
       "      <td>NaN</td>\n",
       "    </tr>\n",
       "    <tr>\n",
       "      <th>275</th>\n",
       "      <td>NaN</td>\n",
       "    </tr>\n",
       "    <tr>\n",
       "      <th>276</th>\n",
       "      <td>NaN</td>\n",
       "    </tr>\n",
       "    <tr>\n",
       "      <th>289</th>\n",
       "      <td>NaN</td>\n",
       "    </tr>\n",
       "    <tr>\n",
       "      <th>312</th>\n",
       "      <td>NaN</td>\n",
       "    </tr>\n",
       "    <tr>\n",
       "      <th>325</th>\n",
       "      <td>NaN</td>\n",
       "    </tr>\n",
       "    <tr>\n",
       "      <th>346</th>\n",
       "      <td>NaN</td>\n",
       "    </tr>\n",
       "    <tr>\n",
       "      <th>366</th>\n",
       "      <td>NaN</td>\n",
       "    </tr>\n",
       "    <tr>\n",
       "      <th>385</th>\n",
       "      <td>NaN</td>\n",
       "    </tr>\n",
       "    <tr>\n",
       "      <th>387</th>\n",
       "      <td>NaN</td>\n",
       "    </tr>\n",
       "    <tr>\n",
       "      <th>394</th>\n",
       "      <td>NaN</td>\n",
       "    </tr>\n",
       "    <tr>\n",
       "      <th>410</th>\n",
       "      <td>NaN</td>\n",
       "    </tr>\n",
       "    <tr>\n",
       "      <th>412</th>\n",
       "      <td>NaN</td>\n",
       "    </tr>\n",
       "    <tr>\n",
       "      <th>413</th>\n",
       "      <td>NaN</td>\n",
       "    </tr>\n",
       "    <tr>\n",
       "      <th>421</th>\n",
       "      <td>NaN</td>\n",
       "    </tr>\n",
       "    <tr>\n",
       "      <th>422</th>\n",
       "      <td>NaN</td>\n",
       "    </tr>\n",
       "    <tr>\n",
       "      <th>429</th>\n",
       "      <td>NaN</td>\n",
       "    </tr>\n",
       "  </tbody>\n",
       "</table>\n",
       "</div>"
      ]
     },
     "execution_count": 354,
     "metadata": {},
     "output_type": "execute_result"
    }
   ],
   "execution_count": 354
  },
  {
   "metadata": {
    "ExecuteTime": {
     "end_time": "2024-07-18T23:09:18.734218Z",
     "start_time": "2024-07-18T23:09:18.726944Z"
    }
   },
   "cell_type": "code",
   "source": [
    "#Valores unicos\n",
    "df['telefono_alumno'].unique()"
   ],
   "id": "69ab3bf72be4de54",
   "outputs": [
    {
     "data": {
      "text/plain": [
       "array(['5959541519', '5959543393', '5510491891', '5956888439',\n",
       "       '5541426145', '5534309942', '5533978032', '5545934117',\n",
       "       '5959547881', '59510415676', '5959310310', '5956887219', nan,\n",
       "       '9545367', '55 32484708', '5959549592', '5959552952', '5959547440',\n",
       "       '5959545775', '5544904167', '5531884833', '5530376593',\n",
       "       '5959549241', '5555015348', '5539559160', '5951491255',\n",
       "       '5547899051', '5532257809', '5526895806', '5548669116',\n",
       "       '5956887391', '595 9211242', '5959556381', '5544553309',\n",
       "       '5618017008', '5610087008', '5949566107', '5537111657',\n",
       "       '5951087507', '5959536959', '5959523487', '5959557637',\n",
       "       '5959231168', '5539791730', '5569687735', '5564235636',\n",
       "       '5959533825', '5959541554', '5951073804', '5949571305',\n",
       "       '5539313537', '92 50295', '5959531579', '5578130977', '5589071188',\n",
       "       '5584071188', '5514857005', '5959286068', '5959230422',\n",
       "       '5566964478', '5959570829', '5959541030', '5580324194',\n",
       "       '5941082706', '5614477236', '5959538093', '5591990529',\n",
       "       '5951336030', '5951135100', '5959232285', '5959215065',\n",
       "       '5959544812', '595 1080270', '5959542930', '5562550060',\n",
       "       '5519240015', '5584156665', '5951325787', '5959251526',\n",
       "       '5959540267', '5959231890', '5567288319', '5959552169',\n",
       "       '5580348173', '5959551513', '5959571334', '5951208206',\n",
       "       '5959218464', '55 39228701', '5525176646', '5559215153',\n",
       "       '5959555658', '05951149512', '5951149512', '5551070452',\n",
       "       '5569300950', '5523353315', '5959542852', '5518971566',\n",
       "       '5959252073', '5518360594', '5959247384', '595-9546307',\n",
       "       '5959551191', '5959511899', '5959238096', '5959220018',\n",
       "       '5959523442', '5951218674', '5591412979', '5622091731',\n",
       "       '5514928251', '5951070942', '5535563005', '5959545856',\n",
       "       '5959548081', '5529299985', '5959548498', '5521267114',\n",
       "       '5544994241', '5551070375', '5959555425', '9555425', '5532666125',\n",
       "       '95 49122', '5959216615', '5951148820', '5959510440', '5959555226',\n",
       "       '5951329277', '5538196927', '5520114956', '5519530414',\n",
       "       '5536171413', '5951327506', '5576771271', '5959529060',\n",
       "       '5959252188', '5959510168', '5959547769', '5515041394',\n",
       "       '5959557678', '5951327075', '5959280317', '5528623349',\n",
       "       '5959218074', '5951139011', '554904421', '5959280016',\n",
       "       '5542069521', '95 51370', '55959544427', '5959210123',\n",
       "       '5550443162', '5951219831', '5519528296', '5959310351',\n",
       "       '5959316587', '5587789566', '5951105247', '5520289017',\n",
       "       '5546138183', '05959537851', '5547758024', '5515996783',\n",
       "       '5959543510', '5959251802', '5959545231', '5951219256',\n",
       "       '5513532153', '5959250038', '5518797027', '5959529747',\n",
       "       '5951154317', '5951062079', '95 48145', '5951022108', '5530455549',\n",
       "       '5959536349', '5616553584', '5561706697', '5951024691',\n",
       "       '5951326487', '5580369617', '9536683', '5555091177', '5941084495',\n",
       "       '5591046965', '9551096/9314452', '5951025096', '5959530435',\n",
       "       '5618796748', '9546474', '5512249712', '95 50845', '5959252845',\n",
       "       '5543286750', '5590186858', '5949573683', '5959553440',\n",
       "       '55 40638217', '5528505516', '9540699', '5510493206', '9536336',\n",
       "       '5956880374', '5529316064', '5519524522', '5530193441',\n",
       "       '5611739167', '5563236616', '5514377368', '595 1128698',\n",
       "       '5543870383', '5511363390', '5539005962', '5951108303',\n",
       "       '5514974159', '5959532152', '5959211791', '5959557483',\n",
       "       '5541863442', '5543481483', '5959313005', '5959250153',\n",
       "       '5590026663', '595 1131202', '5951255124', '5564123438',\n",
       "       '5565347405', '9313555', '5959549307', '5614729822', '5951040514',\n",
       "       '5563229047', '5959533945', '5959559979', '5550597628',\n",
       "       '5522866891', '5951109034', '5576433017', '5959217617',\n",
       "       '5951322488', '5580362530', '5514915402', '5951153840',\n",
       "       '5959218362', '5959548104', '8443818776', '5563193132',\n",
       "       '5550444284', '5959530769', '595 9221185', '5522715659',\n",
       "       '    5959517014', '         5959517014', '5956880177',\n",
       "       '595 6880177', '5959548267', '5532459085', '5552960342',\n",
       "       '5959539302', '5959541353', '5525622955', '5516026400',\n",
       "       '5541391279', '5951128140', '5519267652', '5525168640',\n",
       "       '5537348956', '5959280684', '5534554040', '5569045762',\n",
       "       '5951330574', '5534614874', '5959555192', '5959218744',\n",
       "       '5959313353', '5574138317', '5525693510', '5592244813',\n",
       "       '5566156002', '5564249963', '5959553396', '5959218238',\n",
       "       '9218238/9218262', '5512310804', '5959534772', '5590029670',\n",
       "       '5956882599', '5540727490', '5520813969', '5951134625',\n",
       "       '5530058181', '  5554513752', '5959551127', '3324020627',\n",
       "       '5615990102', '5512900239', '5561162384', '5959218035',\n",
       "       '5541434205', '5537332252', '5568779417', '5959232026',\n",
       "       '5581335573', '56030', '3471025600', '55 15879251', '8114855928',\n",
       "       '5539349522', '5576053189', '5542475669', '5517801999',\n",
       "       '5564146714', '5523211433', '5949566184', '5959536836',\n",
       "       '5951138999', '5519202299', '5951120461', '5588411293',\n",
       "       '5959337358', '5558532868', '5951157590', '5610555926',\n",
       "       '5959575248', '5578728276', '5578728536', '5956881361',\n",
       "       '5959531421', '5512951371', '5959543183', '5569178604',\n",
       "       '5515964772', '5516999454', '5527153729'], dtype=object)"
      ]
     },
     "execution_count": 355,
     "metadata": {},
     "output_type": "execute_result"
    }
   ],
   "execution_count": 355
  },
  {
   "metadata": {},
   "cell_type": "markdown",
   "source": "**Observacion :**  Primero tener en cuenta que el formato numerico es de 10 digitos, tomando como referencia esto, podemos observar datos que no cumplen este criterio ademas de estar desordenado debido a caracteres especiales y espacios que no corresponden. Tambien mencionar que los datos float son valores faltantes en la columna",
   "id": "23e2acbfe90f83e"
  },
  {
   "metadata": {},
   "cell_type": "markdown",
   "source": "### Valores faltantes",
   "id": "9a960f42b40d1daf"
  },
  {
   "metadata": {
    "ExecuteTime": {
     "end_time": "2024-07-18T23:09:19.412507Z",
     "start_time": "2024-07-18T23:09:19.406428Z"
    }
   },
   "cell_type": "code",
   "source": [
    "#Valores igual a \"Nan\"\n",
    "df_nan = df[df['telefono_alumno'].apply(lambda x: x == 'NaN' or x == 'Nan' or x == 'nan' or x == '')]"
   ],
   "id": "25a924dc51a5a7",
   "outputs": [],
   "execution_count": 356
  },
  {
   "metadata": {
    "ExecuteTime": {
     "end_time": "2024-07-18T23:09:19.988682Z",
     "start_time": "2024-07-18T23:09:19.983518Z"
    }
   },
   "cell_type": "code",
   "source": [
    "#Valores nulos\n",
    "nulos = df['telefono_alumno'].isnull().sum()\n",
    "#Suma de nulos y Nan\n",
    "print(f\"Valores faltantes en la columna 'telefono_alumno': {nulos + len(df_nan)}\")"
   ],
   "id": "9d90005cda00589",
   "outputs": [
    {
     "name": "stdout",
     "output_type": "stream",
     "text": [
      "Valores faltantes en la columna 'telefono_alumno': 32\n"
     ]
    }
   ],
   "execution_count": 357
  },
  {
   "metadata": {},
   "cell_type": "markdown",
   "source": "**Procedimiento :** Se completaran los registros nulos o Nan con \"Telefono desconocido\" para mayor claridad de los valores faltantes",
   "id": "408a808c385cda46"
  },
  {
   "metadata": {
    "ExecuteTime": {
     "end_time": "2024-07-18T23:09:21.026762Z",
     "start_time": "2024-07-18T23:09:21.019912Z"
    }
   },
   "cell_type": "code",
   "source": [
    "#Reemplazamos donde sea nulo por \"Telefono desconocido\"\n",
    "df['telefono_alumno'] = df['telefono_alumno'].fillna('Telefono desconocido')\n",
    "#Reemplazamos donde sea Nan por \"Telefono Desconocido\"\n",
    "df['telefono_alumno'] = df['telefono_alumno'].replace({'Nan': 'Telefono desconocido', 'nan': 'Telefono desconocido', 'NaN': 'Telefono desconocido', '': 'Telefono desconocido'})"
   ],
   "id": "46ff3f66630f93f4",
   "outputs": [],
   "execution_count": 358
  },
  {
   "metadata": {},
   "cell_type": "markdown",
   "source": "### Formato de los datos",
   "id": "53787233d9a53ce1"
  },
  {
   "metadata": {},
   "cell_type": "markdown",
   "source": "**Procedimiento :**  Se eliminara los caracteres especiales y espacios en blanco de la columna \"telefono_alumno\" para poder estandarizar los datos con la funcion importada",
   "id": "60df6fa745a385bf"
  },
  {
   "metadata": {
    "ExecuteTime": {
     "end_time": "2024-07-18T23:09:21.438494Z",
     "start_time": "2024-07-18T23:09:21.431755Z"
    }
   },
   "cell_type": "code",
   "source": [
    "#Remplazar por 'Telefono desconocido' si el dato tiene menos de 10 digitos\n",
    "df['telefono_alumno'] = df['telefono_alumno'].apply(lambda x: 'Telefono desconocido' if len(str(x)) < 10 else x)"
   ],
   "id": "8048a1173ceab08e",
   "outputs": [],
   "execution_count": 359
  },
  {
   "metadata": {
    "ExecuteTime": {
     "end_time": "2024-07-18T23:09:22.206816Z",
     "start_time": "2024-07-18T23:09:22.200728Z"
    }
   },
   "cell_type": "code",
   "source": [
    "#Estandarizamos\n",
    "df['telefono_alumno'] = df['telefono_alumno'].apply(estandarizacion)"
   ],
   "id": "3b56e871b42022d7",
   "outputs": [],
   "execution_count": 360
  },
  {
   "metadata": {
    "ExecuteTime": {
     "end_time": "2024-07-18T23:10:00.985215Z",
     "start_time": "2024-07-18T23:10:00.980283Z"
    }
   },
   "cell_type": "code",
   "source": [
    "#Eliminamos espacios entre numeros(expecto de 'Numero Desconocido'), este proceso se hace para esta columna ya que la funcion estandarizcion es mas conveniente en datos de letras\n",
    "df['telefono_alumno'] = df['telefono_alumno'].apply(limpiar_numero)"
   ],
   "id": "cf4687d1958a3142",
   "outputs": [],
   "execution_count": 361
  },
  {
   "metadata": {
    "ExecuteTime": {
     "end_time": "2024-07-18T23:10:16.720373Z",
     "start_time": "2024-07-18T23:10:16.710766Z"
    }
   },
   "cell_type": "code",
   "source": [
    "#Tranformamos a int los datos que son distinto de 'Telefono Desconocido'\n",
    "df['telefono_alumno'] = df['telefono_alumno'].apply(lambda x: int(x) if x != 'Telefono Desconocido' else x)"
   ],
   "id": "c92bfd8af0a0f089",
   "outputs": [],
   "execution_count": 362
  },
  {
   "metadata": {},
   "cell_type": "markdown",
   "source": "**Resultado**",
   "id": "80c28baa6fd9b878"
  },
  {
   "metadata": {
    "ExecuteTime": {
     "end_time": "2024-07-18T21:17:11.868463Z",
     "start_time": "2024-07-18T21:17:11.860946Z"
    }
   },
   "cell_type": "code",
   "source": "df['telefono_alumno'].head()",
   "id": "e9651c6da70c0fd2",
   "outputs": [
    {
     "data": {
      "text/plain": [
       "0    5959541519\n",
       "1    5959543393\n",
       "2    5959543393\n",
       "3    5510491891\n",
       "4    5956888439\n",
       "Name: telefono_alumno, dtype: object"
      ]
     },
     "execution_count": 146,
     "metadata": {},
     "output_type": "execute_result"
    }
   ],
   "execution_count": 146
  },
  {
   "metadata": {},
   "cell_type": "markdown",
   "source": "",
   "id": "bf43701aae0d948c"
  },
  {
   "metadata": {},
   "cell_type": "markdown",
   "source": "**Procedimiento :** Vamos a mofidicar aquellos numeros con mas de 10 digitos",
   "id": "4631971bb989929"
  },
  {
   "metadata": {
    "ExecuteTime": {
     "end_time": "2024-07-18T21:17:12.125730Z",
     "start_time": "2024-07-18T21:17:12.115314Z"
    }
   },
   "cell_type": "code",
   "source": [
    "#Vamos a ver los numeros de mas de 10 digitos y si son int\n",
    "df[df['telefono_alumno'].apply(lambda x: len(str(x)) > 10 and type(x) == int)][['telefono_alumno']]"
   ],
   "id": "72dc6cb4c6f442dc",
   "outputs": [
    {
     "data": {
      "text/plain": [
       "    telefono_alumno\n",
       "12      59510415676\n",
       "191     55959544427\n",
       "232  95510969314452\n",
       "358  92182389218262"
      ],
      "text/html": [
       "<div>\n",
       "<style scoped>\n",
       "    .dataframe tbody tr th:only-of-type {\n",
       "        vertical-align: middle;\n",
       "    }\n",
       "\n",
       "    .dataframe tbody tr th {\n",
       "        vertical-align: top;\n",
       "    }\n",
       "\n",
       "    .dataframe thead th {\n",
       "        text-align: right;\n",
       "    }\n",
       "</style>\n",
       "<table border=\"1\" class=\"dataframe\">\n",
       "  <thead>\n",
       "    <tr style=\"text-align: right;\">\n",
       "      <th></th>\n",
       "      <th>telefono_alumno</th>\n",
       "    </tr>\n",
       "  </thead>\n",
       "  <tbody>\n",
       "    <tr>\n",
       "      <th>12</th>\n",
       "      <td>59510415676</td>\n",
       "    </tr>\n",
       "    <tr>\n",
       "      <th>191</th>\n",
       "      <td>55959544427</td>\n",
       "    </tr>\n",
       "    <tr>\n",
       "      <th>232</th>\n",
       "      <td>95510969314452</td>\n",
       "    </tr>\n",
       "    <tr>\n",
       "      <th>358</th>\n",
       "      <td>92182389218262</td>\n",
       "    </tr>\n",
       "  </tbody>\n",
       "</table>\n",
       "</div>"
      ]
     },
     "execution_count": 147,
     "metadata": {},
     "output_type": "execute_result"
    }
   ],
   "execution_count": 147
  },
  {
   "metadata": {},
   "cell_type": "markdown",
   "source": "**Procedimiento  :** Para el registro 12 se va eliminar el ultimo digito ya que estaria cumpliendo el estandar con respecto a los demas numeros. Para el registro 191 podemo eliminar el ultimo digito y tendriamos un numero que cumple el estandar. Para el registro 232 podemos eliminar algunos digitos en los extremos y tendriamos un numero adecuado al estandar. Para el registro 358 no veo alguna posible solucion al numero mas que dejarlo en 'Telefono Desconocido'.",
   "id": "59cbcbf88e706049"
  },
  {
   "metadata": {
    "ExecuteTime": {
     "end_time": "2024-07-18T21:17:12.627936Z",
     "start_time": "2024-07-18T21:17:12.623022Z"
    }
   },
   "cell_type": "code",
   "source": [
    "#Vamos a eliminar el ultimo numero del registro 12 \n",
    "df.loc[12, 'telefono_alumno'] = int(str(df.loc[12, 'telefono_alumno'])[:-1])"
   ],
   "id": "51861ea3c41adcc3",
   "outputs": [],
   "execution_count": 148
  },
  {
   "metadata": {
    "ExecuteTime": {
     "end_time": "2024-07-18T21:17:12.912982Z",
     "start_time": "2024-07-18T21:17:12.907168Z"
    }
   },
   "cell_type": "code",
   "source": "df['telefono_alumno'][12]",
   "id": "469247e2eebf2db5",
   "outputs": [
    {
     "data": {
      "text/plain": [
       "5951041567"
      ]
     },
     "execution_count": 149,
     "metadata": {},
     "output_type": "execute_result"
    }
   ],
   "execution_count": 149
  },
  {
   "metadata": {
    "ExecuteTime": {
     "end_time": "2024-07-18T21:17:13.387147Z",
     "start_time": "2024-07-18T21:17:13.381447Z"
    }
   },
   "cell_type": "code",
   "source": [
    "#Vamos a eliminar el primer numero del registro 191\n",
    "df.loc[191, 'telefono_alumno'] = int(str(df.loc[191, 'telefono_alumno'])[1:])"
   ],
   "id": "7c25583c2bf1f22",
   "outputs": [],
   "execution_count": 150
  },
  {
   "metadata": {
    "ExecuteTime": {
     "end_time": "2024-07-18T21:17:13.767426Z",
     "start_time": "2024-07-18T21:17:13.760668Z"
    }
   },
   "cell_type": "code",
   "source": "df['telefono_alumno'][191]",
   "id": "a499c5214e7d05af",
   "outputs": [
    {
     "data": {
      "text/plain": [
       "5959544427"
      ]
     },
     "execution_count": 151,
     "metadata": {},
     "output_type": "execute_result"
    }
   ],
   "execution_count": 151
  },
  {
   "metadata": {
    "ExecuteTime": {
     "end_time": "2024-07-18T21:17:14.465330Z",
     "start_time": "2024-07-18T21:17:14.460439Z"
    }
   },
   "cell_type": "code",
   "source": [
    "#Vamos a retener de 95510969314452 el numero 5510969314 del registro 232\n",
    "df.loc[232, 'telefono_alumno'] = 5510969314"
   ],
   "id": "8ccf8f95a0b70b40",
   "outputs": [],
   "execution_count": 152
  },
  {
   "metadata": {
    "ExecuteTime": {
     "end_time": "2024-07-18T21:17:14.957855Z",
     "start_time": "2024-07-18T21:17:14.952340Z"
    }
   },
   "cell_type": "code",
   "source": "df['telefono_alumno'][232]",
   "id": "93b8d6508ed2bf28",
   "outputs": [
    {
     "data": {
      "text/plain": [
       "5510969314"
      ]
     },
     "execution_count": 153,
     "metadata": {},
     "output_type": "execute_result"
    }
   ],
   "execution_count": 153
  },
  {
   "metadata": {
    "ExecuteTime": {
     "end_time": "2024-07-18T21:17:15.461959Z",
     "start_time": "2024-07-18T21:17:15.457998Z"
    }
   },
   "cell_type": "code",
   "source": [
    "#Convertimos el registro 358 a 'Telefono Desconocido'\n",
    "df.loc[358, 'telefono_alumno'] = 'Telefono Desconocido'"
   ],
   "id": "db0370c6f903cc48",
   "outputs": [],
   "execution_count": 154
  },
  {
   "metadata": {
    "ExecuteTime": {
     "end_time": "2024-07-18T21:17:15.763569Z",
     "start_time": "2024-07-18T21:17:15.758948Z"
    }
   },
   "cell_type": "code",
   "source": "df['telefono_alumno'][358]",
   "id": "b36da3c47378fecf",
   "outputs": [
    {
     "data": {
      "text/plain": [
       "'Telefono Desconocido'"
      ]
     },
     "execution_count": 155,
     "metadata": {},
     "output_type": "execute_result"
    }
   ],
   "execution_count": 155
  },
  {
   "metadata": {},
   "cell_type": "markdown",
   "source": "## <font color=\"#f9a177\">\"nivel\"</font>",
   "id": "5b66748a4bebbeca"
  },
  {
   "metadata": {},
   "cell_type": "markdown",
   "source": "### Interpretacion",
   "id": "1a3e899a4e16f05"
  },
  {
   "metadata": {},
   "cell_type": "markdown",
   "source": "Hace referencia al nivel de estudios del alumno",
   "id": "d8720dadb6d59963"
  },
  {
   "metadata": {},
   "cell_type": "markdown",
   "source": "**Procedimiento :** Se cambiara el nombre de la columna a \"nivel_estudios\" para mayor claridad.",
   "id": "6518c761b7123583"
  },
  {
   "metadata": {
    "ExecuteTime": {
     "end_time": "2024-07-18T21:17:16.320863Z",
     "start_time": "2024-07-18T21:17:16.313404Z"
    }
   },
   "cell_type": "code",
   "source": "df.rename(columns={'nivel': 'nivel_estudios'}, inplace=True)",
   "id": "da65ae895879ec4c",
   "outputs": [],
   "execution_count": 156
  },
  {
   "metadata": {},
   "cell_type": "markdown",
   "source": "**Resultado**",
   "id": "c06bdd62a92273c6"
  },
  {
   "metadata": {
    "ExecuteTime": {
     "end_time": "2024-07-18T21:17:16.605731Z",
     "start_time": "2024-07-18T21:17:16.598770Z"
    }
   },
   "cell_type": "code",
   "source": "df['nivel_estudios'].head()",
   "id": "6db239ecf3d86cc7",
   "outputs": [
    {
     "data": {
      "text/plain": [
       "0    0\n",
       "1    2\n",
       "2    1\n",
       "3    1\n",
       "4    0\n",
       "Name: nivel_estudios, dtype: int64"
      ]
     },
     "execution_count": 157,
     "metadata": {},
     "output_type": "execute_result"
    }
   ],
   "execution_count": 157
  },
  {
   "metadata": {},
   "cell_type": "markdown",
   "source": "### Tipo de dato",
   "id": "7acda949ebe1ccdf"
  },
  {
   "metadata": {
    "ExecuteTime": {
     "end_time": "2024-07-18T21:17:17.193934Z",
     "start_time": "2024-07-18T21:17:17.186097Z"
    }
   },
   "cell_type": "code",
   "source": [
    "#Vamos a ver si hay datos distintos de string\n",
    "df['nivel_estudios'].apply(lambda x: type(x)).value_counts()"
   ],
   "id": "573d0f165875371d",
   "outputs": [
    {
     "data": {
      "text/plain": [
       "nivel_estudios\n",
       "<class 'int'>    431\n",
       "Name: count, dtype: int64"
      ]
     },
     "execution_count": 158,
     "metadata": {},
     "output_type": "execute_result"
    }
   ],
   "execution_count": 158
  },
  {
   "metadata": {},
   "cell_type": "markdown",
   "source": "### Valores faltantes",
   "id": "3c6885fee57103f2"
  },
  {
   "metadata": {
    "ExecuteTime": {
     "end_time": "2024-07-18T21:17:17.444428Z",
     "start_time": "2024-07-18T21:17:17.438523Z"
    }
   },
   "cell_type": "code",
   "source": [
    "#Valores igual a \"Nan\"\n",
    "df_nan = df[df['nivel_estudios'].apply(lambda x: x == 'NaN' or x == 'Nan' or x == 'nan' or x == '')]"
   ],
   "id": "cb6175f533aa0f09",
   "outputs": [],
   "execution_count": 159
  },
  {
   "metadata": {
    "ExecuteTime": {
     "end_time": "2024-07-18T21:17:18.030874Z",
     "start_time": "2024-07-18T21:17:18.025353Z"
    }
   },
   "cell_type": "code",
   "source": [
    "#Valores nulos\n",
    "nulos = df['nivel_estudios'].isnull().sum()\n",
    "#Suma de nulos y Nan\n",
    "print(f\"Valores faltantes en la columna 'nivel_estudios': {nulos + len(df_nan)}\")"
   ],
   "id": "8f9829f9992684b8",
   "outputs": [
    {
     "name": "stdout",
     "output_type": "stream",
     "text": [
      "Valores faltantes en la columna 'nivel_estudios': 0\n"
     ]
    }
   ],
   "execution_count": 160
  },
  {
   "metadata": {},
   "cell_type": "markdown",
   "source": "### Formato de datos",
   "id": "eb5bb919b89b1032"
  },
  {
   "metadata": {
    "ExecuteTime": {
     "end_time": "2024-07-18T21:17:18.345703Z",
     "start_time": "2024-07-18T21:17:18.339885Z"
    }
   },
   "cell_type": "code",
   "source": [
    "#Valores unicos\n",
    "df['nivel_estudios'].unique()"
   ],
   "id": "7fbc382987e41fdf",
   "outputs": [
    {
     "data": {
      "text/plain": [
       "array([0, 2, 1])"
      ]
     },
     "execution_count": 161,
     "metadata": {},
     "output_type": "execute_result"
    }
   ],
   "execution_count": 161
  },
  {
   "metadata": {},
   "cell_type": "markdown",
   "source": "**Observacion :**  Tenemos 0,1 y 2, segun mi observacion, podrian referirse a los niveles Prescolar, Primaria y Secundaria respectivamente. Se va a verificar luego de completar la columna edad",
   "id": "3125883a4ccd57af"
  },
  {
   "metadata": {},
   "cell_type": "markdown",
   "source": "",
   "id": "98043a8b8b326d69"
  },
  {
   "metadata": {},
   "cell_type": "markdown",
   "source": "## <font color=\"#f9a177\">\"grado\"</font>",
   "id": "1549d88df020abc1"
  },
  {
   "metadata": {},
   "cell_type": "markdown",
   "source": "### Interpretacion",
   "id": "3133ae811a3c5504"
  },
  {
   "metadata": {},
   "cell_type": "markdown",
   "source": "Hace referencia al grado de estudio del alumno",
   "id": "17c16781dc6c15ac"
  },
  {
   "metadata": {},
   "cell_type": "markdown",
   "source": "**Procedimiento :** Se cambiara el nombre de la columna a \"grado_estudios\" para mayor claridad.",
   "id": "bfb069545bf49f8f"
  },
  {
   "metadata": {
    "ExecuteTime": {
     "end_time": "2024-07-18T21:17:18.837338Z",
     "start_time": "2024-07-18T21:17:18.832714Z"
    }
   },
   "cell_type": "code",
   "source": "df.rename(columns={'grado': 'grado_estudios'}, inplace=True)",
   "id": "4a96d8b6b27a789a",
   "outputs": [],
   "execution_count": 162
  },
  {
   "metadata": {},
   "cell_type": "markdown",
   "source": "**Resultado**",
   "id": "3b03295719c021c2"
  },
  {
   "metadata": {
    "ExecuteTime": {
     "end_time": "2024-07-18T21:17:19.243271Z",
     "start_time": "2024-07-18T21:17:19.237349Z"
    }
   },
   "cell_type": "code",
   "source": "df['grado_estudios'].head()",
   "id": "a7c05deb1a2385b6",
   "outputs": [
    {
     "data": {
      "text/plain": [
       "0    2\n",
       "1    3\n",
       "2    4\n",
       "3    4\n",
       "4    2\n",
       "Name: grado_estudios, dtype: int64"
      ]
     },
     "execution_count": 163,
     "metadata": {},
     "output_type": "execute_result"
    }
   ],
   "execution_count": 163
  },
  {
   "metadata": {},
   "cell_type": "markdown",
   "source": "### Tipo de dato",
   "id": "6f04f1d3ef0013ed"
  },
  {
   "metadata": {
    "ExecuteTime": {
     "end_time": "2024-07-18T21:17:19.844652Z",
     "start_time": "2024-07-18T21:17:19.836845Z"
    }
   },
   "cell_type": "code",
   "source": [
    "#Vamos a ver si hay datos distintos de int\n",
    "df['grado_estudios'].apply(lambda x: type(x)).value_counts()"
   ],
   "id": "e0a80eb21fdb64d4",
   "outputs": [
    {
     "data": {
      "text/plain": [
       "grado_estudios\n",
       "<class 'int'>    431\n",
       "Name: count, dtype: int64"
      ]
     },
     "execution_count": 164,
     "metadata": {},
     "output_type": "execute_result"
    }
   ],
   "execution_count": 164
  },
  {
   "metadata": {},
   "cell_type": "markdown",
   "source": "### Valores faltantes",
   "id": "dd8939be4ed4c782"
  },
  {
   "metadata": {
    "ExecuteTime": {
     "end_time": "2024-07-18T21:17:20.079652Z",
     "start_time": "2024-07-18T21:17:20.074814Z"
    }
   },
   "cell_type": "code",
   "source": [
    "#Valores igual a \"Nan\"\n",
    "df_nan = df[df['grado_estudios'].apply(lambda x: x == 'NaN' or x == 'Nan' or x == 'nan' or x == '')]"
   ],
   "id": "e82dd1b406ccc07b",
   "outputs": [],
   "execution_count": 165
  },
  {
   "metadata": {
    "ExecuteTime": {
     "end_time": "2024-07-18T21:17:20.653721Z",
     "start_time": "2024-07-18T21:17:20.647763Z"
    }
   },
   "cell_type": "code",
   "source": [
    "#Valores nulos\n",
    "nulos = df['grado_estudios'].isnull().sum()\n",
    "#Suma de nulos y Nan\n",
    "print(f\"Valores faltantes en la columna 'grado_estudios': {nulos + len(df_nan)}\")"
   ],
   "id": "6f14b232a02288fd",
   "outputs": [
    {
     "name": "stdout",
     "output_type": "stream",
     "text": [
      "Valores faltantes en la columna 'grado_estudios': 0\n"
     ]
    }
   ],
   "execution_count": 166
  },
  {
   "metadata": {},
   "cell_type": "markdown",
   "source": "### Formato de datos",
   "id": "aed3c050a752b52e"
  },
  {
   "metadata": {
    "ExecuteTime": {
     "end_time": "2024-07-18T21:17:20.938558Z",
     "start_time": "2024-07-18T21:17:20.933664Z"
    }
   },
   "cell_type": "code",
   "source": [
    "#Valores unicos\n",
    "df['grado_estudios'].unique()"
   ],
   "id": "920191540da69c9d",
   "outputs": [
    {
     "data": {
      "text/plain": [
       "array([2, 3, 4, 1, 5, 6, 0])"
      ]
     },
     "execution_count": 167,
     "metadata": {},
     "output_type": "execute_result"
    }
   ],
   "execution_count": 167
  },
  {
   "metadata": {},
   "cell_type": "markdown",
   "source": "**Procemiento :**  Para mejor claridad de esta columna el nivel de grado de estudios comenzara desde 1 en adelante, se procedera a cambiar los valores de 0 a 6 por 1 a 7 respectivamente.",
   "id": "e96bf0f747318b07"
  },
  {
   "metadata": {
    "ExecuteTime": {
     "end_time": "2024-07-18T21:17:21.366972Z",
     "start_time": "2024-07-18T21:17:21.361141Z"
    }
   },
   "cell_type": "code",
   "source": "df['grado_estudios'] = df['grado_estudios'].replace({0: 1, 1: 2, 2: 3, 3: 4, 4: 5, 5: 6, 6: 7})",
   "id": "8167ce10860bf507",
   "outputs": [],
   "execution_count": 168
  },
  {
   "metadata": {},
   "cell_type": "markdown",
   "source": "**Resultado**",
   "id": "7c13c882a41c9e6b"
  },
  {
   "metadata": {
    "ExecuteTime": {
     "end_time": "2024-07-18T21:17:21.746588Z",
     "start_time": "2024-07-18T21:17:21.740424Z"
    }
   },
   "cell_type": "code",
   "source": "df['grado_estudios'].head()",
   "id": "ea5cbc818a3a6429",
   "outputs": [
    {
     "data": {
      "text/plain": [
       "0    3\n",
       "1    4\n",
       "2    5\n",
       "3    5\n",
       "4    3\n",
       "Name: grado_estudios, dtype: int64"
      ]
     },
     "execution_count": 169,
     "metadata": {},
     "output_type": "execute_result"
    }
   ],
   "execution_count": 169
  },
  {
   "metadata": {},
   "cell_type": "markdown",
   "source": "**Procemiento :**  Se va a analizar cada nivel de estudio para ver cuantos grados de estudio tiene con el fin de poder determinar a que niveles de estudio se refiere los numeros de esta columna , tambien teniendo en cuenta informacion solicitada en la web sobre la formacion escolar mexicana.",
   "id": "cc015155c7fea8b9"
  },
  {
   "metadata": {
    "ExecuteTime": {
     "end_time": "2024-07-18T21:17:22.447320Z",
     "start_time": "2024-07-18T21:17:22.438007Z"
    }
   },
   "cell_type": "code",
   "source": [
    "#Veremos en nivel de estudios 0 cuantos grados de estudio tiene y ordenamos de menor a mayor\n",
    "df[df['nivel_estudios'] == 0]['grado_estudios'].value_counts().sort_index()"
   ],
   "id": "782d99874bd732b6",
   "outputs": [
    {
     "data": {
      "text/plain": [
       "grado_estudios\n",
       "1    18\n",
       "2    17\n",
       "3    21\n",
       "4    26\n",
       "Name: count, dtype: int64"
      ]
     },
     "execution_count": 170,
     "metadata": {},
     "output_type": "execute_result"
    }
   ],
   "execution_count": 170
  },
  {
   "metadata": {
    "ExecuteTime": {
     "end_time": "2024-07-18T21:17:22.734382Z",
     "start_time": "2024-07-18T21:17:22.723930Z"
    }
   },
   "cell_type": "code",
   "source": [
    "#Ver en nivel de estudios 1 cuantos grados de estudio tiene\n",
    "df[df['nivel_estudios'] == 1]['grado_estudios'].value_counts().sort_index()"
   ],
   "id": "a91e972202833a6b",
   "outputs": [
    {
     "data": {
      "text/plain": [
       "grado_estudios\n",
       "2    50\n",
       "3    24\n",
       "4    32\n",
       "5    42\n",
       "6    33\n",
       "7    41\n",
       "Name: count, dtype: int64"
      ]
     },
     "execution_count": 171,
     "metadata": {},
     "output_type": "execute_result"
    }
   ],
   "execution_count": 171
  },
  {
   "metadata": {
    "ExecuteTime": {
     "end_time": "2024-07-18T21:17:23.431854Z",
     "start_time": "2024-07-18T21:17:23.361399Z"
    }
   },
   "cell_type": "code",
   "source": [
    "#Ver en nivel de estudios 2 cuantos grados de estudio tiene\n",
    "df[df['nivel_estudios'] == 2]['grado_estudios'].value_counts().sort_index()"
   ],
   "id": "96905971fa8150c6",
   "outputs": [
    {
     "data": {
      "text/plain": [
       "grado_estudios\n",
       "2    28\n",
       "3    43\n",
       "4    56\n",
       "Name: count, dtype: int64"
      ]
     },
     "execution_count": 172,
     "metadata": {},
     "output_type": "execute_result"
    }
   ],
   "execution_count": 172
  },
  {
   "metadata": {},
   "cell_type": "markdown",
   "source": [
    "**Observacion :**  En general la etapa prescolar cuenta con 3 grados, la etapa escolar con 6 grados y la secundaria con 3 grados. Pol lo tanto podemos deducir que el nivel 2 puede corresponder a la etapa prescolar, mientras el nivel 1 a la etapa primaria y finalmente el nivel 3 a la etapa secundaria.\n",
    "\n",
    "__Fuente :__ https://profelandia.com/sep-divide-en-cuatro-etapas-la-educacion-basica/#:~:text=%C2%ABLa%20educaci%C3%B3n%20b%C3%A1sica%20abarca%20la%20formaci%C3%B3n%20escolar%20de,de%20educaci%C3%B3n%20secundaria%C2%BB%2C%20precisa%20el%20plan%20de%20estudios."
   ],
   "id": "4a272a00318797fc"
  },
  {
   "metadata": {},
   "cell_type": "markdown",
   "source": "**Procedimiento :**  Se procedera a cambiar los valores de la columna \"nivel_estudios\" por los valores de la etapa educativa correspondiente.",
   "id": "889e2211a304aadc"
  },
  {
   "metadata": {
    "ExecuteTime": {
     "end_time": "2024-07-18T21:17:23.780755Z",
     "start_time": "2024-07-18T21:17:23.774864Z"
    }
   },
   "cell_type": "code",
   "source": "df['nivel_estudios'] = df['nivel_estudios'].replace({0: 'Prescolar', 1: 'Primaria', 2: 'Secundaria'})",
   "id": "95bc804ff3c45ab6",
   "outputs": [],
   "execution_count": 173
  },
  {
   "metadata": {},
   "cell_type": "markdown",
   "source": "**Resultado**",
   "id": "2f8d0bf971a3bd3c"
  },
  {
   "metadata": {
    "ExecuteTime": {
     "end_time": "2024-07-18T21:17:24.322782Z",
     "start_time": "2024-07-18T21:17:24.315476Z"
    }
   },
   "cell_type": "code",
   "source": "df['nivel_estudios'].head()",
   "id": "a2aec17b6360b6ee",
   "outputs": [
    {
     "data": {
      "text/plain": [
       "0     Prescolar\n",
       "1    Secundaria\n",
       "2      Primaria\n",
       "3      Primaria\n",
       "4     Prescolar\n",
       "Name: nivel_estudios, dtype: object"
      ]
     },
     "execution_count": 174,
     "metadata": {},
     "output_type": "execute_result"
    }
   ],
   "execution_count": 174
  },
  {
   "metadata": {},
   "cell_type": "markdown",
   "source": "## <font color=\"#f9a177\">\"grupo\"</font>",
   "id": "16321d1bb7164251"
  },
  {
   "metadata": {},
   "cell_type": "markdown",
   "source": "### Interpretacion",
   "id": "72535aa0ded02bb2"
  },
  {
   "metadata": {},
   "cell_type": "markdown",
   "source": "Podria referirse al grupo escolar al que pertenece el alumno",
   "id": "1df60030911d695"
  },
  {
   "metadata": {
    "ExecuteTime": {
     "end_time": "2024-07-18T21:17:24.859330Z",
     "start_time": "2024-07-18T21:17:24.840774Z"
    }
   },
   "cell_type": "code",
   "source": [
    "#Valores unicos\n",
    "df['grupo'].unique()"
   ],
   "id": "cd3c4c0f077aa48f",
   "outputs": [
    {
     "data": {
      "text/plain": [
       "array(['A'], dtype=object)"
      ]
     },
     "execution_count": 175,
     "metadata": {},
     "output_type": "execute_result"
    }
   ],
   "execution_count": 175
  },
  {
   "metadata": {},
   "cell_type": "markdown",
   "source": "**Observacion :**  Considero que esta columna teniendo solo un valor, no proporciona informacion relevante al analisis",
   "id": "38ac21e845cc95c1"
  },
  {
   "metadata": {},
   "cell_type": "markdown",
   "source": "**Procedimiento :** Se eliminara la columna \"grupo\"",
   "id": "d6ede0b97f730b66"
  },
  {
   "metadata": {
    "ExecuteTime": {
     "end_time": "2024-07-18T21:17:25.118778Z",
     "start_time": "2024-07-18T21:17:25.112495Z"
    }
   },
   "cell_type": "code",
   "source": "df.drop(columns='grupo', inplace=True)",
   "id": "4976909183bdaadb",
   "outputs": [],
   "execution_count": 176
  },
  {
   "metadata": {},
   "cell_type": "markdown",
   "source": "## <font color=\"#f9a177\">\"escpro\"</font>",
   "id": "cf2b7b1e16023692"
  },
  {
   "metadata": {},
   "cell_type": "markdown",
   "source": "### Interpretacion",
   "id": "237a0d7237c958d6"
  },
  {
   "metadata": {},
   "cell_type": "markdown",
   "source": "Podria referirse a la escuela a la que pertenece el alumno",
   "id": "5fcdf51dd4c8dd7a"
  },
  {
   "metadata": {},
   "cell_type": "markdown",
   "source": "**Procedimiento :** Se cambiara el nombre de la columna a \"nacionalidad\" para mayor claridad.",
   "id": "efd1b7a75cf2152a"
  },
  {
   "metadata": {
    "ExecuteTime": {
     "end_time": "2024-07-18T21:17:25.606478Z",
     "start_time": "2024-07-18T21:17:25.601706Z"
    }
   },
   "cell_type": "code",
   "source": "df.rename(columns={'escpro': 'escuela'}, inplace=True)",
   "id": "3736daf89e4e224d",
   "outputs": [],
   "execution_count": 177
  },
  {
   "metadata": {},
   "cell_type": "markdown",
   "source": "**Resultado**",
   "id": "a294e86f480dd55"
  },
  {
   "metadata": {
    "ExecuteTime": {
     "end_time": "2024-07-18T21:17:26.114410Z",
     "start_time": "2024-07-18T21:17:26.108963Z"
    }
   },
   "cell_type": "code",
   "source": "df['escuela'].head()",
   "id": "c462e4a38e323ef7",
   "outputs": [
    {
     "data": {
      "text/plain": [
       "0    IPANTI\n",
       "1    IPANTI\n",
       "2    IPANTI\n",
       "3    IPANTI\n",
       "4    IPANTI\n",
       "Name: escuela, dtype: object"
      ]
     },
     "execution_count": 178,
     "metadata": {},
     "output_type": "execute_result"
    }
   ],
   "execution_count": 178
  },
  {
   "metadata": {},
   "cell_type": "markdown",
   "source": "### Tipo de dato",
   "id": "faa0fbe2dfe0d7a8"
  },
  {
   "metadata": {
    "ExecuteTime": {
     "end_time": "2024-07-18T21:17:26.357180Z",
     "start_time": "2024-07-18T21:17:26.349420Z"
    }
   },
   "cell_type": "code",
   "source": [
    "#Vamos a ver si hay datos distintos de str\n",
    "df['escuela'].apply(lambda x: type(x)).value_counts()"
   ],
   "id": "b4b41033773dc4bb",
   "outputs": [
    {
     "data": {
      "text/plain": [
       "escuela\n",
       "<class 'str'>      417\n",
       "<class 'float'>     14\n",
       "Name: count, dtype: int64"
      ]
     },
     "execution_count": 179,
     "metadata": {},
     "output_type": "execute_result"
    }
   ],
   "execution_count": 179
  },
  {
   "metadata": {},
   "cell_type": "markdown",
   "source": "**Procedimiento :**  Tenemos datos de tipo float en la columna, se procedera a cambiar a tipo str para no tener problemas al estandarizar los datos y por la coherenecia de la columna.",
   "id": "53ba46d06e5b32e"
  },
  {
   "metadata": {
    "ExecuteTime": {
     "end_time": "2024-07-18T21:17:26.848580Z",
     "start_time": "2024-07-18T21:17:26.843571Z"
    }
   },
   "cell_type": "code",
   "source": "df['escuela'] = df['escuela'].astype(str)",
   "id": "8f064d4c2822a11f",
   "outputs": [],
   "execution_count": 180
  },
  {
   "metadata": {},
   "cell_type": "markdown",
   "source": "### Valores faltantes",
   "id": "134e98f1503d2d7c"
  },
  {
   "metadata": {
    "ExecuteTime": {
     "end_time": "2024-07-18T21:17:27.178865Z",
     "start_time": "2024-07-18T21:17:27.172988Z"
    }
   },
   "cell_type": "code",
   "source": [
    "#Valores igual a \"Nan\"\n",
    "df_nan = df[df['escuela'].apply(lambda x: x == 'NaN' or x == 'Nan' or x == 'nan' or x == '')]\n",
    "#Valores nulos"
   ],
   "id": "7d2f32606e3bf097",
   "outputs": [],
   "execution_count": 181
  },
  {
   "metadata": {
    "ExecuteTime": {
     "end_time": "2024-07-18T21:17:27.796916Z",
     "start_time": "2024-07-18T21:17:27.791614Z"
    }
   },
   "cell_type": "code",
   "source": [
    "nulos = df['escuela'].isnull().sum()\n",
    "#Suma de nulos y Nan\n",
    "print(f\"Valores faltantes en la columna 'escuela': {nulos + len(df_nan)}\")"
   ],
   "id": "2cf48d6bfded155a",
   "outputs": [
    {
     "name": "stdout",
     "output_type": "stream",
     "text": [
      "Valores faltantes en la columna 'escuela': 14\n"
     ]
    }
   ],
   "execution_count": 182
  },
  {
   "metadata": {},
   "cell_type": "markdown",
   "source": "**Procedimiento :** Se completaran los registros nulos o Nan con \"Escuela Desconocida\" para mayor claridad de los valores faltantes",
   "id": "82b44fd96819756f"
  },
  {
   "metadata": {
    "ExecuteTime": {
     "end_time": "2024-07-18T21:17:28.116360Z",
     "start_time": "2024-07-18T21:17:28.108971Z"
    }
   },
   "cell_type": "code",
   "source": [
    "#Vamos a ver las escuelas donde sean nulas reemplazar por 'Escuela Desconocida'\n",
    "#Reemplazamos donde sea nulo por \"Escuela Desconocida\"\n",
    "df['escuela'] = df['escuela'].fillna('Escuela Desconocida')\n",
    "#Reemplazamos donde sea Nan por \"Escuela Desconocida\"\n",
    "df['escuela'] = df['escuela'].replace({'Nan': 'Escuela Desconocida', 'nan': 'Escuela Desconocida', 'NaN': 'Escuela Desconocida'})"
   ],
   "id": "54ede419916b7341",
   "outputs": [],
   "execution_count": 183
  },
  {
   "metadata": {},
   "cell_type": "markdown",
   "source": "### Formato de datos",
   "id": "6f5f8c9ba1f03199"
  },
  {
   "metadata": {
    "ExecuteTime": {
     "end_time": "2024-07-18T21:17:28.575171Z",
     "start_time": "2024-07-18T21:17:28.569955Z"
    }
   },
   "cell_type": "code",
   "source": [
    "#Valores diferentes en escuelas\n",
    "df['escuela'].unique()"
   ],
   "id": "78a70d5a8f09a743",
   "outputs": [
    {
     "data": {
      "text/plain": [
       "array(['IPANTI', 'J.NIÑOZ NEXAHUALCOYO', 'TOKANI', 'NUEVO INGRESO',\n",
       "       'INSTITUTO TEXCOCO', 'Escuela Desconocida', 'KIMDERGYM',\n",
       "       'KINDERGYM', 'NUEVO INDRESO', 'SEC.GRAL. TEXCOCO 20',\n",
       "       'COLEGIO MEXICO AMERI', 'LICEO', 'CYNTHIA CUMMINGHAM E',\n",
       "       'CYNTHIA CUNNINGHAM E', 'PAULO FREIRE', 'MATERNALITOS', 'KINDEGYM',\n",
       "       'CHINA', 'CENTRO ESCOLAR MOREL', 'KiNDEGYM', 'EURO TEXCOCO',\n",
       "       'KUNDERGYM', 'KINDER MANUEL DOBLAD', 'CEDRAL',\n",
       "       'FRANCISCO GABILONDO', 'PRIMARIA URRSS', 'COLEGIO EURO TEXCOCO',\n",
       "       'PANAMERICANO', 'COLEGIO MADRE DEL DI', 'IBIME',\n",
       "       'COLEGIO PANAMERICANO', 'ACADEMIA MADOX', 'ENRIQUE REBSAMEN',\n",
       "       'ARCOIRIS', 'COCUXTA', 'PROYECTO ALANA', 'LEONA VICARIO',\n",
       "       'COLEGIO EURO', 'EURO'], dtype=object)"
      ]
     },
     "execution_count": 184,
     "metadata": {},
     "output_type": "execute_result"
    }
   ],
   "execution_count": 184
  },
  {
   "metadata": {},
   "cell_type": "markdown",
   "source": "**Procedimiento :** Se estandarizara los datos de la columna \"escuela\" importando la funcion \"estandarizacion\" del archivo \"Estandarizar.py\" (En el archivo se encuentra el proceso)",
   "id": "57ff099825103ae1"
  },
  {
   "metadata": {
    "ExecuteTime": {
     "end_time": "2024-07-18T21:17:28.858814Z",
     "start_time": "2024-07-18T21:17:28.854052Z"
    }
   },
   "cell_type": "code",
   "source": "df['escuela'] = df['escuela'].apply(estandarizacion)",
   "id": "852380e0432ffc64",
   "outputs": [],
   "execution_count": 185
  },
  {
   "metadata": {},
   "cell_type": "markdown",
   "source": "**Resultado**",
   "id": "4294753a9e8e4b8e"
  },
  {
   "metadata": {
    "ExecuteTime": {
     "end_time": "2024-07-18T21:17:29.325604Z",
     "start_time": "2024-07-18T21:17:29.319622Z"
    }
   },
   "cell_type": "code",
   "source": "df['escuela'].head()",
   "id": "683d1628f914157f",
   "outputs": [
    {
     "data": {
      "text/plain": [
       "0    Ipanti\n",
       "1    Ipanti\n",
       "2    Ipanti\n",
       "3    Ipanti\n",
       "4    Ipanti\n",
       "Name: escuela, dtype: object"
      ]
     },
     "execution_count": 186,
     "metadata": {},
     "output_type": "execute_result"
    }
   ],
   "execution_count": 186
  },
  {
   "metadata": {},
   "cell_type": "markdown",
   "source": "## <font color=\"#f9a177\">\"porcol\"</font>",
   "id": "d8f1cb50c4e75821"
  },
  {
   "metadata": {},
   "cell_type": "markdown",
   "source": "### Interpretacion",
   "id": "a8780b2639245b3f"
  },
  {
   "metadata": {},
   "cell_type": "markdown",
   "source": "Podria referirse al porcentaje de colegiatura, tal vez el rendimiento escolar del alumno o su avance respecto al ciclo educativo",
   "id": "8b1971aa04d877d0"
  },
  {
   "metadata": {},
   "cell_type": "markdown",
   "source": "**Procedimiento :** Tratare de entender a que hace referencia esta columna",
   "id": "66adb23847e68f33"
  },
  {
   "metadata": {
    "ExecuteTime": {
     "end_time": "2024-07-18T21:17:29.621995Z",
     "start_time": "2024-07-18T21:17:29.615955Z"
    }
   },
   "cell_type": "code",
   "source": [
    "#valores unicos\n",
    "df['porcol'].unique()"
   ],
   "id": "58b1cbe5d47147cd",
   "outputs": [
    {
     "data": {
      "text/plain": [
       "array([100,  85,  75,   0,  90,  95,  30,   1,  80,  35])"
      ]
     },
     "execution_count": 187,
     "metadata": {},
     "output_type": "execute_result"
    }
   ],
   "execution_count": 187
  },
  {
   "metadata": {
    "ExecuteTime": {
     "end_time": "2024-07-18T21:17:30.125010Z",
     "start_time": "2024-07-18T21:17:30.111805Z"
    }
   },
   "cell_type": "code",
   "source": [
    "#ver donde valor porcol es 100 que datos tiene para nivel de estudios y grado de estudios\n",
    "df[df['porcol'] == 100][['nivel_estudios', 'grado_estudios']]"
   ],
   "id": "2b8b1490d3ab11bf",
   "outputs": [
    {
     "data": {
      "text/plain": [
       "    nivel_estudios  grado_estudios\n",
       "0        Prescolar               3\n",
       "1       Secundaria               4\n",
       "2         Primaria               5\n",
       "3         Primaria               5\n",
       "4        Prescolar               3\n",
       "..             ...             ...\n",
       "426     Secundaria               3\n",
       "427     Secundaria               3\n",
       "428      Prescolar               1\n",
       "429      Prescolar               2\n",
       "430      Prescolar               1\n",
       "\n",
       "[387 rows x 2 columns]"
      ],
      "text/html": [
       "<div>\n",
       "<style scoped>\n",
       "    .dataframe tbody tr th:only-of-type {\n",
       "        vertical-align: middle;\n",
       "    }\n",
       "\n",
       "    .dataframe tbody tr th {\n",
       "        vertical-align: top;\n",
       "    }\n",
       "\n",
       "    .dataframe thead th {\n",
       "        text-align: right;\n",
       "    }\n",
       "</style>\n",
       "<table border=\"1\" class=\"dataframe\">\n",
       "  <thead>\n",
       "    <tr style=\"text-align: right;\">\n",
       "      <th></th>\n",
       "      <th>nivel_estudios</th>\n",
       "      <th>grado_estudios</th>\n",
       "    </tr>\n",
       "  </thead>\n",
       "  <tbody>\n",
       "    <tr>\n",
       "      <th>0</th>\n",
       "      <td>Prescolar</td>\n",
       "      <td>3</td>\n",
       "    </tr>\n",
       "    <tr>\n",
       "      <th>1</th>\n",
       "      <td>Secundaria</td>\n",
       "      <td>4</td>\n",
       "    </tr>\n",
       "    <tr>\n",
       "      <th>2</th>\n",
       "      <td>Primaria</td>\n",
       "      <td>5</td>\n",
       "    </tr>\n",
       "    <tr>\n",
       "      <th>3</th>\n",
       "      <td>Primaria</td>\n",
       "      <td>5</td>\n",
       "    </tr>\n",
       "    <tr>\n",
       "      <th>4</th>\n",
       "      <td>Prescolar</td>\n",
       "      <td>3</td>\n",
       "    </tr>\n",
       "    <tr>\n",
       "      <th>...</th>\n",
       "      <td>...</td>\n",
       "      <td>...</td>\n",
       "    </tr>\n",
       "    <tr>\n",
       "      <th>426</th>\n",
       "      <td>Secundaria</td>\n",
       "      <td>3</td>\n",
       "    </tr>\n",
       "    <tr>\n",
       "      <th>427</th>\n",
       "      <td>Secundaria</td>\n",
       "      <td>3</td>\n",
       "    </tr>\n",
       "    <tr>\n",
       "      <th>428</th>\n",
       "      <td>Prescolar</td>\n",
       "      <td>1</td>\n",
       "    </tr>\n",
       "    <tr>\n",
       "      <th>429</th>\n",
       "      <td>Prescolar</td>\n",
       "      <td>2</td>\n",
       "    </tr>\n",
       "    <tr>\n",
       "      <th>430</th>\n",
       "      <td>Prescolar</td>\n",
       "      <td>1</td>\n",
       "    </tr>\n",
       "  </tbody>\n",
       "</table>\n",
       "<p>387 rows × 2 columns</p>\n",
       "</div>"
      ]
     },
     "execution_count": 188,
     "metadata": {},
     "output_type": "execute_result"
    }
   ],
   "execution_count": 188
  },
  {
   "metadata": {},
   "cell_type": "markdown",
   "source": "**Observacion :**  Se puede observar que el porcentaje de colegiatura es 100 para los alumnos de secundaria, por lo tanto se podria inferir que el porcentaje de colegiatura es el avance del alumno en el ciclo escolar pero podemos observar que no se encuentran en el ultimo grado lo cual refuta mi hipotesis. La otra teoria que tengo es que puede hacer referencia a l rendimiento escolar del alumno, si fuera el caso dejaria la columna ya que un alumno con buen porcentaje de notas podria recibir alguna promocion o beca",
   "id": "80d5243062d8458b"
  },
  {
   "metadata": {},
   "cell_type": "markdown",
   "source": "### Tipo de dato",
   "id": "f775c915f21b6881"
  },
  {
   "metadata": {
    "ExecuteTime": {
     "end_time": "2024-07-18T21:17:30.419021Z",
     "start_time": "2024-07-18T21:17:30.410996Z"
    }
   },
   "cell_type": "code",
   "source": [
    "#Vamos a ver si hay datos distintos de int\n",
    "df['porcol'].apply(lambda x: type(x)).value_counts()"
   ],
   "id": "542ed823b03aa4e5",
   "outputs": [
    {
     "data": {
      "text/plain": [
       "porcol\n",
       "<class 'int'>    431\n",
       "Name: count, dtype: int64"
      ]
     },
     "execution_count": 189,
     "metadata": {},
     "output_type": "execute_result"
    }
   ],
   "execution_count": 189
  },
  {
   "metadata": {},
   "cell_type": "markdown",
   "source": "### Valores faltantes",
   "id": "4fc63bf815114d22"
  },
  {
   "metadata": {
    "ExecuteTime": {
     "end_time": "2024-07-18T21:17:30.906251Z",
     "start_time": "2024-07-18T21:17:30.900285Z"
    }
   },
   "cell_type": "code",
   "source": [
    "#Valores igual a \"Nan\"\n",
    "df_nan = df[df['porcol'].apply(lambda x: x == 'NaN' or x == 'Nan' or x == 'nan' or x == '')]\n",
    "#Valores nulos"
   ],
   "id": "c2af2a5f5afc055f",
   "outputs": [],
   "execution_count": 190
  },
  {
   "metadata": {
    "ExecuteTime": {
     "end_time": "2024-07-18T21:17:31.305012Z",
     "start_time": "2024-07-18T21:17:31.300033Z"
    }
   },
   "cell_type": "code",
   "source": [
    "nulos = df['porcol'].isnull().sum()\n",
    "#Suma de nulos y Nan\n",
    "print(f\"Valores faltantes en la columna 'porcol': {nulos + len(df_nan)}\")"
   ],
   "id": "75c7fbbebcbe3b67",
   "outputs": [
    {
     "name": "stdout",
     "output_type": "stream",
     "text": [
      "Valores faltantes en la columna 'porcol': 0\n"
     ]
    }
   ],
   "execution_count": 191
  },
  {
   "metadata": {},
   "cell_type": "markdown",
   "source": "## <font color=\"#f9a177\">\"edad\"</font>",
   "id": "8b8c0bee504d447b"
  },
  {
   "metadata": {},
   "cell_type": "markdown",
   "source": "### Interpretacion",
   "id": "d4b23421b9baa89b"
  },
  {
   "metadata": {},
   "cell_type": "markdown",
   "source": "Hace referencia a la edad del alumno",
   "id": "c351dac155895284"
  },
  {
   "metadata": {},
   "cell_type": "markdown",
   "source": "**Procedimiento :** Se cambiara el nombre de la columna a \"edad_alumno\" para mayor claridad.",
   "id": "57b00042d8995a75"
  },
  {
   "metadata": {
    "ExecuteTime": {
     "end_time": "2024-07-18T21:17:31.908133Z",
     "start_time": "2024-07-18T21:17:31.903516Z"
    }
   },
   "cell_type": "code",
   "source": "df.rename(columns={'edad': 'edad_alumno'}, inplace=True)",
   "id": "beeab2234521b6a5",
   "outputs": [],
   "execution_count": 192
  },
  {
   "metadata": {},
   "cell_type": "markdown",
   "source": "### Tipo de dato",
   "id": "fbdf91eea9635265"
  },
  {
   "metadata": {
    "ExecuteTime": {
     "end_time": "2024-07-18T21:17:32.277270Z",
     "start_time": "2024-07-18T21:17:32.269184Z"
    }
   },
   "cell_type": "code",
   "source": [
    "#Vamos a ver si hay datos distintos\n",
    "df['edad_alumno'].apply(lambda x: type(x)).value_counts()"
   ],
   "id": "871613a0b8f0d846",
   "outputs": [
    {
     "data": {
      "text/plain": [
       "edad_alumno\n",
       "<class 'int'>    431\n",
       "Name: count, dtype: int64"
      ]
     },
     "execution_count": 193,
     "metadata": {},
     "output_type": "execute_result"
    }
   ],
   "execution_count": 193
  },
  {
   "metadata": {},
   "cell_type": "markdown",
   "source": "### Valores faltantes",
   "id": "b7a1a1488bd2cea0"
  },
  {
   "metadata": {
    "ExecuteTime": {
     "end_time": "2024-07-18T21:17:32.813164Z",
     "start_time": "2024-07-18T21:17:32.808411Z"
    }
   },
   "cell_type": "code",
   "source": [
    "#Valores igual a \"Nan\"\n",
    "df_nan = df[df['edad_alumno'].apply(lambda x: x == 'NaN' or x == 'Nan' or x == 'nan' or x == '')]\n",
    "#Valores nulos"
   ],
   "id": "f705337d52c093ff",
   "outputs": [],
   "execution_count": 194
  },
  {
   "metadata": {
    "ExecuteTime": {
     "end_time": "2024-07-18T21:17:33.069004Z",
     "start_time": "2024-07-18T21:17:33.063405Z"
    }
   },
   "cell_type": "code",
   "source": [
    "nulos = df['edad_alumno'].isnull().sum()\n",
    "#Suma de nulos y Nan\n",
    "print(f\"Valores faltantes en la columna 'edad_alumno': {nulos + len(df_nan)}\")"
   ],
   "id": "741b4564dc2bf760",
   "outputs": [
    {
     "name": "stdout",
     "output_type": "stream",
     "text": [
      "Valores faltantes en la columna 'edad_alumno': 0\n"
     ]
    }
   ],
   "execution_count": 195
  },
  {
   "metadata": {},
   "cell_type": "markdown",
   "source": "### Formato de datos",
   "id": "88956756e588de64"
  },
  {
   "metadata": {
    "ExecuteTime": {
     "end_time": "2024-07-18T21:17:33.608487Z",
     "start_time": "2024-07-18T21:17:33.602552Z"
    }
   },
   "cell_type": "code",
   "source": [
    "#Valores unicos\n",
    "df['edad_alumno'].unique()"
   ],
   "id": "5d6930a01b45954e",
   "outputs": [
    {
     "data": {
      "text/plain": [
       "array([0])"
      ]
     },
     "execution_count": 196,
     "metadata": {},
     "output_type": "execute_result"
    }
   ],
   "execution_count": 196
  },
  {
   "metadata": {},
   "cell_type": "markdown",
   "source": "**Procedimiento :**  Se va a completar la edad de los alumnos tomando la fecha actual con la fecha de nacimiento del alumno",
   "id": "b339e6d842b1e915"
  },
  {
   "metadata": {
    "ExecuteTime": {
     "end_time": "2024-07-18T21:17:33.946756Z",
     "start_time": "2024-07-18T21:17:33.902442Z"
    }
   },
   "cell_type": "code",
   "source": [
    "#en columna edad_alumno restar el año actual 2024 con el año de nacimiento si la fecha de nacimiento es distintia de 'Fecha Desconocida'\n",
    "df['edad_alumno'] = df.apply(lambda x: 2024 - x['fecha_nacimiento_alumno'].year if x['fecha_nacimiento_alumno'] != 'Fecha desconocida' else x['edad_alumno'], axis=1)"
   ],
   "id": "bcea137f2dbdd65a",
   "outputs": [],
   "execution_count": 197
  },
  {
   "metadata": {
    "ExecuteTime": {
     "end_time": "2024-07-18T21:17:34.613594Z",
     "start_time": "2024-07-18T21:17:34.601813Z"
    }
   },
   "cell_type": "code",
   "source": [
    "#en columna edad_alumno vamos a remplazar por 'Edad Desconocida' si el año de nacimiento es 'Fecha Desconocida'\n",
    "df['edad_alumno'] = df.apply(lambda x: 'Edad Desconocida' if x['fecha_nacimiento_alumno'] == 'Fecha desconocida' else x['edad_alumno'], axis=1)"
   ],
   "id": "5ed9263d6aeaa9ca",
   "outputs": [],
   "execution_count": 198
  },
  {
   "metadata": {
    "ExecuteTime": {
     "end_time": "2024-07-18T21:17:34.915205Z",
     "start_time": "2024-07-18T21:17:34.903191Z"
    }
   },
   "cell_type": "code",
   "source": [
    "#en columna edad_alumno vamos a remplazar por 'Edad Desconocida' si el año de nacimiento es igual o mayor a 2024 para evitar edades negativas \n",
    "#(Por seguridad transformamos a datatime para poder tomar el año para comparar\n",
    "df['fecha_nacimiento_alumno'] = pd.to_datetime(df['fecha_nacimiento_alumno'], errors='coerce')\n",
    "df['edad_alumno'] = df.apply(lambda x: 'Edad Desconocida' if x['fecha_nacimiento_alumno'].year >= 2024 else x['edad_alumno'], axis=1)"
   ],
   "id": "f2ab39cfd19e95b2",
   "outputs": [],
   "execution_count": 199
  },
  {
   "metadata": {},
   "cell_type": "markdown",
   "source": "**Resultado**",
   "id": "688fd9ec617b7652"
  },
  {
   "metadata": {
    "ExecuteTime": {
     "end_time": "2024-07-18T21:17:35.278514Z",
     "start_time": "2024-07-18T21:17:35.270904Z"
    }
   },
   "cell_type": "code",
   "source": "df['edad_alumno']",
   "id": "f1c16ee7d937ee80",
   "outputs": [
    {
     "data": {
      "text/plain": [
       "0       6\n",
       "1      17\n",
       "2      11\n",
       "3      11\n",
       "4       6\n",
       "       ..\n",
       "426    15\n",
       "427    15\n",
       "428     4\n",
       "429     5\n",
       "430     3\n",
       "Name: edad_alumno, Length: 431, dtype: object"
      ]
     },
     "execution_count": 200,
     "metadata": {},
     "output_type": "execute_result"
    }
   ],
   "execution_count": 200
  },
  {
   "metadata": {
    "ExecuteTime": {
     "end_time": "2024-07-18T21:17:35.530753Z",
     "start_time": "2024-07-18T21:17:35.524376Z"
    }
   },
   "cell_type": "code",
   "source": [
    "#valores unicos\n",
    "df['edad_alumno'].unique()"
   ],
   "id": "bd08e4c87569d07d",
   "outputs": [
    {
     "data": {
      "text/plain": [
       "array([6, 17, 11, 9, 16, 8, 3, 12, 13, 10, 15, 14, 2, 7, 5, 4, 23,\n",
       "       'Edad Desconocida'], dtype=object)"
      ]
     },
     "execution_count": 201,
     "metadata": {},
     "output_type": "execute_result"
    }
   ],
   "execution_count": 201
  },
  {
   "metadata": {},
   "cell_type": "markdown",
   "source": "## <font color=\"#f9a177\">\"nombrea\"</font>",
   "id": "9ab79cc31c8d443a"
  },
  {
   "metadata": {},
   "cell_type": "markdown",
   "source": "### Interpretacion",
   "id": "462f76f46dc6deb0"
  },
  {
   "metadata": {},
   "cell_type": "markdown",
   "source": "Hace referencia al nombre del alumno",
   "id": "49ab2372c3dbeafb"
  },
  {
   "metadata": {},
   "cell_type": "markdown",
   "source": "**Procedimiento :** Se cambiara el nombre de la columna a \"nombre alumno\" para mayor claridad.",
   "id": "69b7f69c2e8fbce3"
  },
  {
   "metadata": {
    "ExecuteTime": {
     "end_time": "2024-07-18T21:17:35.975213Z",
     "start_time": "2024-07-18T21:17:35.970554Z"
    }
   },
   "cell_type": "code",
   "source": "df.rename(columns={'nombrea': 'nombre_alumno'}, inplace=True)",
   "id": "54be9c4a1996eda5",
   "outputs": [],
   "execution_count": 202
  },
  {
   "metadata": {},
   "cell_type": "markdown",
   "source": "**Resultado**",
   "id": "add6ae6164a77ac7"
  },
  {
   "metadata": {
    "ExecuteTime": {
     "end_time": "2024-07-18T21:17:36.261719Z",
     "start_time": "2024-07-18T21:17:36.255501Z"
    }
   },
   "cell_type": "code",
   "source": "df['nombre_alumno'].head()",
   "id": "b11eccd6ebc2e8b",
   "outputs": [
    {
     "data": {
      "text/plain": [
       "0                 TRUJANO MIRANDA JONAS\n",
       "1       SAN NICOLAS BUSTAMANTE SANTIAGO\n",
       "2      SAN NICOLAS BUSTAMANTE ESTEFANIA\n",
       "3          VIZUET  GOMEZ DIEGO EMILIANO\n",
       "4    AGUILAR VAZQUEZ VICTORIA ALEJANDRA\n",
       "Name: nombre_alumno, dtype: object"
      ]
     },
     "execution_count": 203,
     "metadata": {},
     "output_type": "execute_result"
    }
   ],
   "execution_count": 203
  },
  {
   "metadata": {},
   "cell_type": "markdown",
   "source": "### Tipo de dato",
   "id": "4b7ce8913209af49"
  },
  {
   "metadata": {
    "ExecuteTime": {
     "end_time": "2024-07-18T21:17:36.886Z",
     "start_time": "2024-07-18T21:17:36.875986Z"
    }
   },
   "cell_type": "code",
   "source": [
    "#Vamos a ver si hay datos distintos de str\n",
    "df['nombre_alumno'].apply(lambda x: type(x)).value_counts()"
   ],
   "id": "97733a0e117cdff7",
   "outputs": [
    {
     "data": {
      "text/plain": [
       "nombre_alumno\n",
       "<class 'str'>    431\n",
       "Name: count, dtype: int64"
      ]
     },
     "execution_count": 204,
     "metadata": {},
     "output_type": "execute_result"
    }
   ],
   "execution_count": 204
  },
  {
   "metadata": {},
   "cell_type": "markdown",
   "source": "### Valores faltantes",
   "id": "2957229881ff40ba"
  },
  {
   "metadata": {
    "ExecuteTime": {
     "end_time": "2024-07-18T21:17:37.185339Z",
     "start_time": "2024-07-18T21:17:37.179690Z"
    }
   },
   "cell_type": "code",
   "source": [
    "#Valores igual a \"Nan\"\n",
    "df_nan = df[df['nombre_alumno'].apply(lambda x: x == 'NaN' or x == 'Nan' or x == 'nan' or x == '')]\n",
    "#Valores nulos"
   ],
   "id": "7c8a7e4efd1076b",
   "outputs": [],
   "execution_count": 205
  },
  {
   "metadata": {
    "ExecuteTime": {
     "end_time": "2024-07-18T21:17:37.771809Z",
     "start_time": "2024-07-18T21:17:37.766543Z"
    }
   },
   "cell_type": "code",
   "source": [
    "nulos = df['nombre_alumno'].isnull().sum()\n",
    "#Suma de nulos y Nan\n",
    "print(f\"Valores faltantes en la columna 'nombre_alumno': {nulos + len(df_nan)}\")"
   ],
   "id": "967bfb056300897",
   "outputs": [
    {
     "name": "stdout",
     "output_type": "stream",
     "text": [
      "Valores faltantes en la columna 'nombre_alumno': 0\n"
     ]
    }
   ],
   "execution_count": 206
  },
  {
   "metadata": {},
   "cell_type": "markdown",
   "source": "### Formato de datos",
   "id": "54ac84961b517477"
  },
  {
   "metadata": {
    "ExecuteTime": {
     "end_time": "2024-07-18T21:17:38.136181Z",
     "start_time": "2024-07-18T21:17:38.127046Z"
    }
   },
   "cell_type": "code",
   "source": [
    "#Valores diferentes en escuelas\n",
    "df['nombre_alumno'].unique()"
   ],
   "id": "c3779b27eb59a6d",
   "outputs": [
    {
     "data": {
      "text/plain": [
       "array(['TRUJANO MIRANDA JONAS', 'SAN NICOLAS BUSTAMANTE SANTIAGO',\n",
       "       'SAN NICOLAS BUSTAMANTE ESTEFANIA', 'VIZUET  GOMEZ DIEGO EMILIANO',\n",
       "       'AGUILAR VAZQUEZ VICTORIA ALEJANDRA', 'UEDA HERNANDEZ LIA SINAI',\n",
       "       'UEDA HERNaNDEZ MATIAS AMIR', 'RUIZ LEYVA JIMENA',\n",
       "       'MONTOYA  ZAVALA ANA SOFIA', 'EVANGELISTA CARRERA MAXIMILIANO',\n",
       "       'MONTOYA ZAVALA DIEGO KALED', 'LOPEZ SANCHEZ ALYNE RENATA',\n",
       "       'PIÑA CERVANTES JEROME EDUARDO', 'GALLEGOS LOPEZ DAYRON AMAURY',\n",
       "       'FLORES SORIANO RENATA MAYTE', 'FLORES SORIANO XIMENA MONSERRAT',\n",
       "       'OROZCO MENDOZA SANTIAGO AYEL', 'FONSECA CANTU LAURA ISABEL',\n",
       "       'PARDO LEON ALISON TAMARA', 'GODOY ALONSO RAFAEL',\n",
       "       'PEREZ HERNANDEZ IKER DANIEL', 'CRUZ MARTINEZ ABELARDO GAEL',\n",
       "       'ROCHA LOPEZ DARA SOFIA', 'ALVAREZ GARCIA MILA',\n",
       "       'AMEZCUA LARQUE FRANCISCO CARLOS', 'ESPINOZA OLIVARES LUIS SAMUEL',\n",
       "       'PEREZ SANCHEZ LEONARDO DAVID', 'MEDINA DE LA CRUZ AXEL SAID',\n",
       "       'MEDINA DE LA CRUZ HIRAM KARIM', 'LEMOS FIGUEROA LUCIANA',\n",
       "       'HERNANDEZ CERVANTES EMMA ROMINA', 'REAL GASPAR BARBARA',\n",
       "       'MEDINA GALVEZ PERLA CECILIA', 'MEDINA GALVEZ ALEXA NICTE',\n",
       "       'COUTIÑO MORENO SERGE FRANCO', 'COUTIÑO MORENO CARLO ANDRE',\n",
       "       'URBINA MORENO SOPHIA', 'OLIVARES VIZCAYA ROXANA',\n",
       "       'RIVERA HERNANDEZ MAYA JUDITH', 'BUENDIA MARTINEZ REGINA',\n",
       "       'BUENDIA MARTINEZ ROMINA', 'RODRIGUEZ ALBITER MICHELLE RUBY',\n",
       "       'HERRERA MEJIA  GYOVANI ISAAC', 'HERRERA MEJIA ANA SOFIA',\n",
       "       'ZUÑIGA DIAZ ROMINA', 'ORTEGA SOSA YOLITZIN AKARI',\n",
       "       'CALDERON MARTINEZ DAMIAN AUGUSTO', 'SALAZAR RODRIGUEZ CARLO',\n",
       "       'SALAZAR RODRIGUEZ EDUARDO', 'MATEHUALA  GARCIA ELIAN',\n",
       "       'AREVALO RAMIREZ FERNANDO', 'HERNANDEZ RODRIGUEZ EMILIANO',\n",
       "       'NUÑEZ BENITEZ ALEJANDRO', 'SIBAJA COLORADO EMILIANO',\n",
       "       'PEREZ MIRANDA ANA VICTORIA', 'PEREZ MIRANDA FRANCO',\n",
       "       'MARTINEZ ORTEGA JESUS EFREN', 'REYES HERNANDEZ CESAR ISRAEL',\n",
       "       'DE LA ROSA LOPEZ ALBERTO GUADALUPE', 'ARIAS PEREZ VICTOR IÑAKI',\n",
       "       'MARTINEZ VIDAL SOPHIA', 'LEE LOZANO SNG BO',\n",
       "       'CAMPOS JOLALPA ALAN ENRIQUE', 'ALVAREZ ZARAGOZA IAN ZABDIEL',\n",
       "       'ALVAREZ MILLAN EMILY  AMAYA', 'ALVAREZ ARELLANO EDWIN YASVE',\n",
       "       'BUENDIA FLORES EMILIANA', 'MANRIQUE GONZALEZ ESTEFANIA CAROLINA',\n",
       "       'MANRIQUE GONZALEZ MARCOS EMILIO', 'MANRIQUE GONZALEZ SANTIAGO',\n",
       "       'BLANCAS RUIZ DULCE MARIA', 'MUÑOZ LOPEZ NIZA AMITAI',\n",
       "       'AZUETA HERRERA RENE ALEXANDRO', 'GARCIA RIVADENEYRA PATRICIO',\n",
       "       'FLORES PEREZ ALEXA ISABELLA', 'FLORES PEREZ LAYLA ALEJANDRA',\n",
       "       'AGUILAR TORRES JOSE MANUEL', 'SALINAS AYALA DIEGO',\n",
       "       'INOUE GOMEZ HIROMI ESTEFANIA', 'DIAZ GALEANA MICHELLE',\n",
       "       'DIAZ GALEANA XIMENA', 'SANCHEZ TORRES REBECA',\n",
       "       'CERVANTES FLORES KARLA PAOLA', 'GARCIA ESTRADA LUCA',\n",
       "       'GARCIA ESTRADA ZOE', 'FLORES REY ALAN', 'FLORES REY CAMILA',\n",
       "       'FLORES REY ITZAYANA', 'GARAY OSEGUERA XIMENA',\n",
       "       'MOCTEZUMA AGUILAR SANTIAGO', 'DE LA CRUZ ESPINOZA DANIELA',\n",
       "       'URBANO MALDONADO REBECCA', 'URBANO MALDONADO SAMANTHA',\n",
       "       'MARTINEZ CASTILLO ANA ISABELLA', 'RIOS SERRANO MIA DANAE',\n",
       "       'CASTRO SEGURA EMILIO RIGEL', 'ALVAREZ GARCIA ANA LAURA',\n",
       "       'SANCHEZ CRUZ VANESSA CAMILA', 'SANCHEZ CRUZ ROMUALDO ALEXANDER',\n",
       "       'MAZA GARCIA RAGNAR ARAGORN', 'SORIANO  SANCHEZ  CAMILA SIRET',\n",
       "       'OSORNIO VEGA VALENTINA', 'GONZALEZ LUNA ANDREA',\n",
       "       'ROSIQUE ROJAS STIAN AXEL', 'BETANCOURT ORTEGA KATHYA NIMBE',\n",
       "       'OLEA ROLDAN DONOVAN DANIEL', 'FLORES BRICEÑO CRISTOPHER ANDRES',\n",
       "       'VENADO AREVALO JESSICA VALERIA', 'VALVERDE FLORES REGINA DANAE',\n",
       "       'SANCHEZ JIMENEZ MAYA', 'SANCHEZ JIMENEZ MIGUEL',\n",
       "       'REYES SANCHEZ AREND DANIEL', 'DE LA TORRE MONTIEL CARLOS MANUEL',\n",
       "       'DE LA TORRE MONTIEL HANNA', 'RAMIREZ GARCIA SERGIO FERNANDO',\n",
       "       'CERVANTES FUNES EMILIANO PAOLI', 'NARCISO MARTINEZ XIMENA ANAI',\n",
       "       'ESCOBEDO ALVARADO ELISA FERNANDA',\n",
       "       'HERNANDEZ BOIX ALONDRA ALEJANDRA',\n",
       "       'GARCIA LOZANO EMMANUEL SANTIAGO', 'PEREZ ESTRADA ELIOTT OMAR',\n",
       "       'FRANCO DURAN EMMA VICTORIA', 'RUIZ SOLIS YARETZI',\n",
       "       'GONZALEZ ROJANO NAOMI ODETTE', 'POMPA ANGELES IKTAN MATTEO',\n",
       "       'ZACARIAS LANDON HUMBERTO', 'GRANADOS MENDOZA STEPHANY ZOE',\n",
       "       'GONZALEZ FLORES ANDREA', 'PEREZ MERAZ CAMILA',\n",
       "       'MARQUEZ  PEREZ  MAXIMO', 'SANTOS MELENDEZ CESAR',\n",
       "       'CASTAÑEDA PEREGRINO DARIEN ANTONIO',\n",
       "       'TOVILLA HERNANDEZ CESAR ENRIQUE', 'TOVILLA HERNANDEZ JULIA ZOE',\n",
       "       'MONTES DE OCA MORALES ESTEBAN', 'MONTES DE OCA MORALES XIMENA',\n",
       "       'HERNANDEZ HERNANDEZ GERMAN FHARID', 'FLORES PONCE DANIELA',\n",
       "       'ROSALES FRANCO MATEO EMMANUEL', 'DIAZ GARDUÑO GUSTAVO DANIEL',\n",
       "       'DIAZ GARDUÑO MARIA FERNANDA', 'DIAZ GARDUÑO MIGUEL ALEJANDRO',\n",
       "       'CORTEZ MUÑOZ JUAN PABLO', 'CORTEZ MUÑOZ NATALIE ISABELLA',\n",
       "       'CORTES ALARCON SEBASTIAN', 'ARIAS CAMPOS SAMANTHA',\n",
       "       'ARIAS CAMPOS VALERI MAIA',\n",
       "       'CONTLA FONSECA CONSTANZA FABIANA GUADALUPE',\n",
       "       'LOPEZ CLEMENTE NATHALIA', 'LOPEZ CLEMENTE SANTIAGO',\n",
       "       'APOLONIO CARRILLO DANNA SOFIA', 'GASMI ONOFRE KHALED',\n",
       "       'MARTINEZ VIDAL GABRIELLE', 'ZACARIAS VENADO JOSUÉ RICARDO',\n",
       "       'LOPEZ IRIARTE ALAN RAFAEL', 'LOPEZ IRIARTE DIEGO ANDRE',\n",
       "       'RAMIREZ VILLASEÑOR FERNANDA', 'MERAZ DE LA CRUZ DAVID',\n",
       "       'MERAZ DE LA CRUZ DIEGO', 'RIOS GOMEZ  ISABELLA CAMILA',\n",
       "       'RIOS GOMEZ LEAH FERNANDA', 'PUENTE FLORES REGINA SOFIA',\n",
       "       'ENRIQUEZ BARRAGAN MATIAS', 'CASTILLO GARDUÑO JULIE NAVANI',\n",
       "       'CASTILLO GARDUÑO LUIS ALEJANDRO', 'ALCANTARA RAMIREZ ALAN DANIEL',\n",
       "       'BARCENAS LOPEZ ATZIRY', 'ZULETA VALDEZ DANNIELA',\n",
       "       'MARTINEZ CARDENAS VALENTINA', 'RAMIREZ DURAN DIEGO YAIR',\n",
       "       'GONZALEZ CORNEJO ALEXA KAREMY', 'GONZALEZ CORNEJO DANIELA',\n",
       "       'CALDERON PALESTINA ERIKA VALERIA', 'RAZO RUEDA ROMINA',\n",
       "       'MARTINEZ MORENO AARON', 'CERVANTES RIQUER ABRIL INES',\n",
       "       'HERNANDEZ RUEDA LUZ MARIANA', 'PADILLA MORALES MAURICIO',\n",
       "       'PADILLA MORALES CAMILA', 'MENESES MENDOZA EMILY CONSTANZA',\n",
       "       'MORENO GODINEZ DIEGO', 'MORENO GODINEZ SOFIA',\n",
       "       'ARANDA MARTINEZ JESSICA ANDREA',\n",
       "       'ROMERO GUTIERREZ REGINA ANTONIETA', 'OLEA ROLDAN DAFNE NICOLE',\n",
       "       'ROMERO MARIN GERARDO', 'PEÑA MONTIEL ALBERTO TADEO',\n",
       "       'GUTIERREZ ROMERO GEMA', 'FLORES LOPEZ CONSTANZA SOFIA',\n",
       "       'CASTILLO DURAN ELIAS JESUS', 'ESCUDERO URIBE YAZMIN ELVIRA',\n",
       "       'GARAY VELAZQUEZ VIVIAN', 'SALINAS FLORES XIMENA',\n",
       "       'MORALES VILLANUEVA NATALIA', 'REGIS GARCIA IKER',\n",
       "       'PEREZ ORTIZ MARIO', 'DIAZ HERNANDEZ OSCAR MAXIMILIANO',\n",
       "       'PELCASTRE BELTRAN JESUS GABRIEL', 'TORIZ CERRILLO XIMENA',\n",
       "       'FLORES ROMERO ISAAC IKNEE', 'ROQUE RAMIREZ BRUNO',\n",
       "       'SALAZAR ZACARIAS AITANA', 'SALAZAR ZACARIAS ALICE GISELLE',\n",
       "       'VELAZQUEZ  FERMOSO ALEXA', 'VELAZQUEZ FERMOSO SOPHIE VALENTINA',\n",
       "       'LEZAMA ORTIZ DE MONTELLANO DORIAN', 'GARCIA LOPEZ RENATO',\n",
       "       'GARCIA LOPEZ RENE', 'ROMERO MORA PAULA XIMENA',\n",
       "       'ROMERO MARTINEZ ROMINA', 'AGUILAR MIRANDA ALTAIR',\n",
       "       'AGUILAR MIRANDA MELISSA', 'HERNANDEZ DIAZ XIMENA ALEXANDRA',\n",
       "       'NARVAEZ VICTORIA ADRIAN FELIPE',\n",
       "       'GONZALEZ ROMERO ANGELA ALEXANDRA', 'BRITO BAUTISTA IKER SAUL',\n",
       "       'GONZALEZ RIVERA MANUEL ALEJANDRO', 'GUZMAN ESPINOSA MARIA REGINA',\n",
       "       'HERNANDEZ ALONSO HARUMI REGINA', 'CAMACHO TREJO MYLA JACQUELINE',\n",
       "       'VILLEGAS DE LA CRUZ ELIZABETH CAROLINA',\n",
       "       'REBOLLAR HERANDEZ ABRIL', 'BASTIDA LEON ANGEL JOSAPHAT',\n",
       "       'ROJAS COLORADO JOSE GAEL', 'ROJAS COLORADO REGINA',\n",
       "       'SANCHEZ TREJO SEBASTIAN', 'ARRIOLA LAGUNA LUCIANA',\n",
       "       'LEE MORENO AYLIN XARENI', 'GONZALEZ  FLORES DANAE VALENTINA',\n",
       "       'MONTIEL RIOS ALISSON SOFIA', 'NUÑEZ HERNANDEZ ADRIAN',\n",
       "       'ARCE CRUZ ALEJANDRO', 'LUNA GARCIA CAMILA',\n",
       "       'GUTIERREZ GONZALEZ EMILIANO', 'GUTIERREZ GONZALEZ FATIMA',\n",
       "       'PELCASTRE BELTRAN NOEMI SARAI', 'VENADO SALAZAR JOHAN',\n",
       "       'SANTAMARIA LOPEZ SANTIAGO', 'ORTIZ SANCHEZ REGINA',\n",
       "       'FLORES GOMEZ CINTHYA GERALDINE', 'FLORES GOMEZ EMILIO',\n",
       "       'FLORES GOMEZ ISAAC', 'ARRIOLA LAGUNA EMILIANO',\n",
       "       'GOMEZ DURAN ADRIANA', 'GOMEZ DURAN FRANCISCO',\n",
       "       'GOMEZ DURAN REGINA SOFIA', 'RODRIGUEZ CABRERA LILIANA MARISOL',\n",
       "       'PINEDA MARTINEZ LUNA', 'RAMIREZ ROSAS MARHIA JOSE',\n",
       "       'RAMIREZ ROSAS SANTIAGO', 'REYNA MORALES FERNANDA',\n",
       "       'REYNA MORALES IVAN', 'BRACHO CORTES  DIEGO',\n",
       "       'FLORES OLIVARES HECTOR ANDRES', 'VENADO GALVEZ ANA PAULINA',\n",
       "       'VENADO GALVEZ SELENE ALEJANDRA', 'FLORES OLIVARES ALDO',\n",
       "       'ARROYO MADRIGAL ANDRES', 'ARROYO MADRIAL ANA REGINA',\n",
       "       'FIGUEROA CANO ISABELLA NICOLE', 'MORENO SERRANO GISELA ABRIL',\n",
       "       'BACIO GOMEZ JOSE ARTURO', 'VEGA RAMOS SOPHIA ISABELLA',\n",
       "       'VALENCIA AVILA ALISSA ISABELLA', 'MORA GARAY ROMINA XIMENA',\n",
       "       'SALAZAR ACOSTA MIRIAM', 'NAVARRO PORTILLA ALEXANDER',\n",
       "       'ARREGIN OCAMPO SANTIAGO', 'ARREGUIN OCAMPO SEBASTIAN',\n",
       "       'GOMEZ DEL ANGEL  JESUS GERARDO',\n",
       "       'MARTINEZ CERVANTES ALISSON PATRICIA', 'MENDEZ FLORES ROMAN',\n",
       "       'TAMAYO MARIN ISAAC ALEJANDRO', 'ORTEGA CASTILLO DIANA PANDORA',\n",
       "       'OSEGUERA ANDRADE ALBA EMILIA', 'OSEGUERA ANDRADE ALBERTO',\n",
       "       'OSEGUERA ANDRADE LUZ YANETH', 'BOJORGES CHAVARO ROMINA',\n",
       "       'VERGARA MENDOZA  FRANCISCO ISAAC', 'VERGARA MENDOZA SOFIA RENATA',\n",
       "       'ROMERO DURAN RODRIGO', 'HERRERA GARCIA CARLOS SAID',\n",
       "       'CUANALO PONCE DE LEON KARLA PAOLA',\n",
       "       'MARTINEZ HERNANDEZ DANNA ITZEL', 'LORETO PACHECO IAN EMILIANO',\n",
       "       'GALVAN ROLDAN MATIAS FERNANDO', 'GOMEZ MONTES VALERIA',\n",
       "       'HUANG YUMENG', 'LUNA GOMEZ VICTORIA',\n",
       "       'CORNEJO ENRIQUEZ JULIETH  AILEEN',\n",
       "       'QUINTANA SERRANO SANTIAGO IBRAHIM',\n",
       "       'QUINTANA SERRANO SEBASTIAN NAHIM',\n",
       "       'ROBLES DE LA CRUZ  JUAN TADEO', 'VENADO PALOMARES LUNA',\n",
       "       'MORENO MONROY DULCE BRISEIDA', 'ZALDIVAR VERA ISANIC SASHIEL',\n",
       "       'GONZALEZ CASTILLO LEONEL', 'REYES HERNANDEZ CHRISTIAN SAID',\n",
       "       'BOJORGES ZACARIAS ROBERTO', 'BOJORGES ZACARIAS JUAN JOSE',\n",
       "       'BEJARANO ISLAS LUNA MARIAN', 'GORDO VEGA AXEL',\n",
       "       'CRUZ LEPE NATALIA SOFIA', 'GARCIA LUCERO IRVING MICHEL',\n",
       "       'MARTINEZ CHAVEZ JUAN MANUEL', 'CHAVEZ BARRAZA  AXEL',\n",
       "       'MEJIA AYALA LEONARDO', 'CHARLES VARELA NADINE',\n",
       "       'VELAZQUEZ FERMOSO VANESSA', 'LIMA MOLINA GERARDO MATHIAS',\n",
       "       'LIMA MOLINA SEBASTIAN', 'VENADO ROJAS  EMILIO MIGUEL',\n",
       "       'ASTORGA ALMAZAN IAN', 'RANGEL PALMA EMILIO DE JESUS',\n",
       "       'URRUTIA HERNANDEZ ARCOIRIS VALESKA', 'GOMEZ VENADO MAXIMILIANO',\n",
       "       'GOMEZ VENADO ROMINA', 'VILLAGOMEZ VELAZQUEZ CHRISTIAN',\n",
       "       'CAMARILLO DEL SOLAR ANGEL DARIO',\n",
       "       'VAN DEN BOGAERDE JUAREZ BLUE XANATHY',\n",
       "       'VAN DEN BOGAERDE  JUAREZ MILA  IVORY', 'GOMEZ VALENCIA FERNANDA',\n",
       "       'GOMEZ VALENCIA JERONIMO', 'MONSALVO VICTAL CAMILA SOFIA',\n",
       "       'GONZALEZ ROMERO LUIS ALEJANDRO', 'RODRIGUEZ ACEVES PABLO',\n",
       "       'MORALES VALENCIA MIA XIOMARA', 'ISRAQUI GONZALEZ NICOLLE',\n",
       "       'ISRAQUI GONZALEZ MICHELLE', 'MORALES ESPINOSA KARYME',\n",
       "       'LOPEZ SOBERANES NAHUM', 'LOPEZ SOBERANES NERI JOANA',\n",
       "       'HERNANDEZ MACEDO FAVIO LISANDRO', 'MERINO ESPINOSA KENDRA ANGELA',\n",
       "       'FLORES CASTILLO HUGO ADRIAN', 'FLORES CASTILLO TANIA VANESSA',\n",
       "       'GORDO VEGA ALEXA', 'ESTRADA ENRIQUEZ ALEXA SOFIA',\n",
       "       'MORALES ESPINOSA ISABELLA', 'SOLORZANO ALARCON LUCIA',\n",
       "       'FLORES VELAZQUEZ BARBARA VALERIA', 'RAMIREZ GAMBOA VALENTINA',\n",
       "       'PARK ARMENTA  DARIO ZU', 'AYALA AYALA JULIO',\n",
       "       'VILLAVICENCIO SEGURA XIMENA', 'TORRES ESPINOSA  HECTOR NICOLAS',\n",
       "       'RODRIGUEZ ACOSTA DARIO', 'PADILLA VELAZQUEZ ANDREA',\n",
       "       'RODRIGUEZ ACOSTA LEONEL', 'REYES GONZALEZ MARIEL',\n",
       "       'MARTINEZ VEGA RODOLFO', 'MARTINEZ VEGA RODRIGO',\n",
       "       'CANCINO PAEZ DANNA SOFIA', 'CANCINO PAEZ PAOLA MAYTE',\n",
       "       'RAMIREZ ONOFRE DANIELA', 'VENEGAS ROCHA EMILIANO',\n",
       "       'ROSALES DURAN GABRIEL', 'ZAMORA MEJIA BRISEIDA',\n",
       "       'ZAMORA MEJIA ULISES', 'OLIVARES PELCASTRE  AITHANA ISABELLA',\n",
       "       'ROSAS FLORES MATEO', 'LEON ESPEJEL ANGEL DAVID',\n",
       "       'ZULETA VALDEZ HOLBER', 'PABELLO GUIDO ALEJANDRO',\n",
       "       'ROMERO SANCHEZ EDER ISRAEL', 'ROMERO SANCHEZ IKER  GAEL',\n",
       "       'BOJORGES CHAVARO JOSE MAXIMILIANO', 'RUIZ SALAZAR REY DAVID',\n",
       "       'COUTIÑO RABAGO GALA', 'MUÑOZ RIVERA VALENTINA',\n",
       "       'GONZALEZ GUILLEN ISABELLA ZOE', 'GONZALEZ GUILLEN SET SANTIAGO',\n",
       "       'BARRERA BARRERA HELENA AIME', 'TORRES ANDINO FABIO DANIEL',\n",
       "       'TORRES ANDINO ANGIE FABIOLA', 'ESTRADA PEREZ HECTOR',\n",
       "       'ESTRADA PEREZ LEONARDO', 'VALENCIA DURAN MIGUEL ANGEL',\n",
       "       'PORTILLO ARIAS ANDREA ESABELLA', 'PORTILLO ARIAS MIGUEL ANGEL',\n",
       "       'VELADIZ MORAN SOOLAIMON OMEYOTZIN',\n",
       "       'GONZALEZ CASTILLO ANA PAULINA', 'ALTAMIRANO ESLAVA VICKTORIA',\n",
       "       'ALTAMIRANO ESLAVA VIVIANA', 'BAÑOS VENADO DANNA LUPITA',\n",
       "       'BAÑOS VENADO VANESSA', 'GORDO RUIZ MATEO',\n",
       "       'GORDO RUIZ SAMANTHA CAMILA', 'GORDO RUIZ VALENTE',\n",
       "       'SANTAMARIA JARDINES XIMENA', 'GARAY SANDOVAL THALIA RAFAELA',\n",
       "       'RODRIGUEZ RODRIGUEZ KEILLY MICHELLE', 'SALAZAR RUIZ ENRIQUE',\n",
       "       'ARENAS CASTRO IVAN ALEJANDRO', 'CAMACHO TREJO ANTONIO MIGUEL',\n",
       "       'MAGANA HIRAM', 'REY GALICIA OSCAR MARTIN',\n",
       "       'CARRILLO CASTILLO IKER TADEO', 'CANO RAMOS NATALIA CAROLINA',\n",
       "       'FLORES VARGAS ERIKA', 'FLORES VARGAS GRECIA SOFIA',\n",
       "       'FLORES VARGAS OSCAR', 'REY GALICIA SOFIA', 'ROSAS FLORES EMILIO',\n",
       "       'MUÑOZ ROBLES DANIEL', 'BAE VEGA BRANDON SAMUEL',\n",
       "       'SERRANO ALMAZAN  NATALIA', 'AYALA MARTINEZ GERALDINE',\n",
       "       'AYALA MARTINEZ EMILI MAIDETH', 'ROMERO SANCHEZ GIBRAN AZAEL',\n",
       "       'CHEN  IVO', 'AYALA SANTAMARIA JOSE LUCIANO', 'CARREON REYES LOVE',\n",
       "       'CARREON REYES AMY', 'MARTINEZ ARIAS REGINA ISABELLA',\n",
       "       'CHAVEZ GOMEZ ALEXA GUADALUPE', 'TAMAYO MARIN RENATA ISABEL',\n",
       "       'BERISTAIN OCAMPO REGINA', 'OCAMPO LAGUNAS DANNA PAOLA',\n",
       "       'GUTIERREZ GONZALEZ ALEJANDRO', 'RAMOS ARENAS CAMILA',\n",
       "       'HERNANDEZ RUEDA REGINA', 'ALBARRAN CASTRO  VALERIA SOFIA',\n",
       "       'RUIZ DE LA CRUZ VALENTINA', 'DE LA VEGA VAZQUEZ JOSE  JULIAN',\n",
       "       'TINAJERO GONZALEZ NATALIA', 'VELAZQUEZ RAMIREZ CARLOS ARIF',\n",
       "       'GONZALEZ ESPEJEL DYLAN KENNETH', 'CLAVIJO ELIZALDE RAFAEL',\n",
       "       'LEDESMA SANCHEZ SANTIAGO', 'HERNANDEZ GUTIERREZ OFELIA AVILIX'],\n",
       "      dtype=object)"
      ]
     },
     "execution_count": 207,
     "metadata": {},
     "output_type": "execute_result"
    }
   ],
   "execution_count": 207
  },
  {
   "metadata": {},
   "cell_type": "markdown",
   "source": "**Procedimiento :** Se estandarizara los datos de la columna \"nombrea_alumno\" importando la funcion \"estandarizacion\" del archivo \"Estandarizar.py\" (En el archivo se encuentra el proceso)",
   "id": "1ec02d0d6c1b1330"
  },
  {
   "metadata": {
    "ExecuteTime": {
     "end_time": "2024-07-18T21:17:38.818054Z",
     "start_time": "2024-07-18T21:17:38.810586Z"
    }
   },
   "cell_type": "code",
   "source": "df['nombre_alumno'] = df['nombre_alumno'].apply(estandarizacion)",
   "id": "d2d997336107e1c8",
   "outputs": [],
   "execution_count": 208
  },
  {
   "metadata": {},
   "cell_type": "markdown",
   "source": "**Resultado**",
   "id": "a9ee91fda372c113"
  },
  {
   "metadata": {
    "ExecuteTime": {
     "end_time": "2024-07-18T21:17:39.358478Z",
     "start_time": "2024-07-18T21:17:39.351408Z"
    }
   },
   "cell_type": "code",
   "source": "df['nombre_alumno'].head()",
   "id": "380ac2b9e4ce1818",
   "outputs": [
    {
     "data": {
      "text/plain": [
       "0                 Trujano Miranda Jonas\n",
       "1       San Nicolas Bustamante Santiago\n",
       "2      San Nicolas Bustamante Estefania\n",
       "3           Vizuet Gomez Diego Emiliano\n",
       "4    Aguilar Vazquez Victoria Alejandra\n",
       "Name: nombre_alumno, dtype: object"
      ]
     },
     "execution_count": 209,
     "metadata": {},
     "output_type": "execute_result"
    }
   ],
   "execution_count": 209
  },
  {
   "metadata": {},
   "cell_type": "markdown",
   "source": "**Resultado**",
   "id": "d0a75bff4c6f43fe"
  },
  {
   "metadata": {
    "ExecuteTime": {
     "end_time": "2024-07-18T21:17:40.296413Z",
     "start_time": "2024-07-18T21:17:40.288420Z"
    }
   },
   "cell_type": "code",
   "source": "df['nombre_alumno'].unique()",
   "id": "101f5fa59dbefc3f",
   "outputs": [
    {
     "data": {
      "text/plain": [
       "array(['Trujano Miranda Jonas', 'San Nicolas Bustamante Santiago',\n",
       "       'San Nicolas Bustamante Estefania', 'Vizuet Gomez Diego Emiliano',\n",
       "       'Aguilar Vazquez Victoria Alejandra', 'Ueda Hernandez Lia Sinai',\n",
       "       'Ueda Hernandez Matias Amir', 'Ruiz Leyva Jimena',\n",
       "       'Montoya Zavala Ana Sofia', 'Evangelista Carrera Maximiliano',\n",
       "       'Montoya Zavala Diego Kaled', 'Lopez Sanchez Alyne Renata',\n",
       "       'Piña Cervantes Jerome Eduardo', 'Gallegos Lopez Dayron Amaury',\n",
       "       'Flores Soriano Renata Mayte', 'Flores Soriano Ximena Monserrat',\n",
       "       'Orozco Mendoza Santiago Ayel', 'Fonseca Cantu Laura Isabel',\n",
       "       'Pardo Leon Alison Tamara', 'Godoy Alonso Rafael',\n",
       "       'Perez Hernandez Iker Daniel', 'Cruz Martinez Abelardo Gael',\n",
       "       'Rocha Lopez Dara Sofia', 'Alvarez Garcia Mila',\n",
       "       'Amezcua Larque Francisco Carlos', 'Espinoza Olivares Luis Samuel',\n",
       "       'Perez Sanchez Leonardo David', 'Medina de la Cruz Axel Said',\n",
       "       'Medina de la Cruz Hiram Karim', 'Lemos Figueroa Luciana',\n",
       "       'Hernandez Cervantes Emma Romina', 'Real Gaspar Barbara',\n",
       "       'Medina Galvez Perla Cecilia', 'Medina Galvez Alexa Nicte',\n",
       "       'Coutiño Moreno Serge Franco', 'Coutiño Moreno Carlo Andre',\n",
       "       'Urbina Moreno Sophia', 'Olivares Vizcaya Roxana',\n",
       "       'Rivera Hernandez Maya Judith', 'Buendia Martinez Regina',\n",
       "       'Buendia Martinez Romina', 'Rodriguez Albiter Michelle Ruby',\n",
       "       'Herrera Mejia Gyovani Isaac', 'Herrera Mejia Ana Sofia',\n",
       "       'Zuñiga Diaz Romina', 'Ortega Sosa Yolitzin Akari',\n",
       "       'Calderon Martinez Damian Augusto', 'Salazar Rodriguez Carlo',\n",
       "       'Salazar Rodriguez Eduardo', 'Matehuala Garcia Elian',\n",
       "       'Arevalo Ramirez Fernando', 'Hernandez Rodriguez Emiliano',\n",
       "       'Nuñez Benitez Alejandro', 'Sibaja Colorado Emiliano',\n",
       "       'Perez Miranda Ana Victoria', 'Perez Miranda Franco',\n",
       "       'Martinez Ortega Jesus Efren', 'Reyes Hernandez Cesar Israel',\n",
       "       'de la Rosa Lopez Alberto Guadalupe', 'Arias Perez Victor Iñaki',\n",
       "       'Martinez Vidal Sophia', 'Lee Lozano Sng bo',\n",
       "       'Campos Jolalpa Alan Enrique', 'Alvarez Zaragoza Ian Zabdiel',\n",
       "       'Alvarez Millan Emily Amaya', 'Alvarez Arellano Edwin Yasve',\n",
       "       'Buendia Flores Emiliana', 'Manrique Gonzalez Estefania Carolina',\n",
       "       'Manrique Gonzalez Marcos Emilio', 'Manrique Gonzalez Santiago',\n",
       "       'Blancas Ruiz Dulce Maria', 'Muñoz Lopez Niza Amitai',\n",
       "       'Azueta Herrera Rene Alexandro', 'Garcia Rivadeneyra Patricio',\n",
       "       'Flores Perez Alexa Isabella', 'Flores Perez Layla Alejandra',\n",
       "       'Aguilar Torres Jose Manuel', 'Salinas Ayala Diego',\n",
       "       'Inoue Gomez Hiromi Estefania', 'Diaz Galeana Michelle',\n",
       "       'Diaz Galeana Ximena', 'Sanchez Torres Rebeca',\n",
       "       'Cervantes Flores Karla Paola', 'Garcia Estrada Luca',\n",
       "       'Garcia Estrada Zoe', 'Flores Rey Alan', 'Flores Rey Camila',\n",
       "       'Flores Rey Itzayana', 'Garay Oseguera Ximena',\n",
       "       'Moctezuma Aguilar Santiago', 'de la Cruz Espinoza Daniela',\n",
       "       'Urbano Maldonado Rebecca', 'Urbano Maldonado Samantha',\n",
       "       'Martinez Castillo Ana Isabella', 'Rios Serrano Mia Danae',\n",
       "       'Castro Segura Emilio Rigel', 'Alvarez Garcia Ana Laura',\n",
       "       'Sanchez Cruz Vanessa Camila', 'Sanchez Cruz Romualdo Alexander',\n",
       "       'Maza Garcia Ragnar Aragorn', 'Soriano Sanchez Camila Siret',\n",
       "       'Osornio Vega Valentina', 'Gonzalez Luna Andrea',\n",
       "       'Rosique Rojas Stian Axel', 'Betancourt Ortega Kathya Nimbe',\n",
       "       'Olea Roldan Donovan Daniel', 'Flores Briceño Cristopher Andres',\n",
       "       'Venado Arevalo Jessica Valeria', 'Valverde Flores Regina Danae',\n",
       "       'Sanchez Jimenez Maya', 'Sanchez Jimenez Miguel',\n",
       "       'Reyes Sanchez Arend Daniel', 'de la Torre Montiel Carlos Manuel',\n",
       "       'de la Torre Montiel Hanna', 'Ramirez Garcia Sergio Fernando',\n",
       "       'Cervantes Funes Emiliano Paoli', 'Narciso Martinez Ximena Anai',\n",
       "       'Escobedo Alvarado Elisa Fernanda',\n",
       "       'Hernandez Boix Alondra Alejandra',\n",
       "       'Garcia Lozano Emmanuel Santiago', 'Perez Estrada Eliott Omar',\n",
       "       'Franco Duran Emma Victoria', 'Ruiz Solis Yaretzi',\n",
       "       'Gonzalez Rojano Naomi Odette', 'Pompa Angeles Iktan Matteo',\n",
       "       'Zacarias Landon Humberto', 'Granados Mendoza Stephany Zoe',\n",
       "       'Gonzalez Flores Andrea', 'Perez Meraz Camila',\n",
       "       'Marquez Perez Maximo', 'Santos Melendez Cesar',\n",
       "       'Castañeda Peregrino Darien Antonio',\n",
       "       'Tovilla Hernandez Cesar Enrique', 'Tovilla Hernandez Julia Zoe',\n",
       "       'Montes de Oca Morales Esteban', 'Montes de Oca Morales Ximena',\n",
       "       'Hernandez Hernandez German Fharid', 'Flores Ponce Daniela',\n",
       "       'Rosales Franco Mateo Emmanuel', 'Diaz Garduño Gustavo Daniel',\n",
       "       'Diaz Garduño Maria Fernanda', 'Diaz Garduño Miguel Alejandro',\n",
       "       'Cortez Muñoz Juan Pablo', 'Cortez Muñoz Natalie Isabella',\n",
       "       'Cortes Alarcon Sebastian', 'Arias Campos Samantha',\n",
       "       'Arias Campos Valeri Maia',\n",
       "       'Contla Fonseca Constanza Fabiana Guadalupe',\n",
       "       'Lopez Clemente Nathalia', 'Lopez Clemente Santiago',\n",
       "       'Apolonio Carrillo Danna Sofia', 'Gasmi Onofre Khaled',\n",
       "       'Martinez Vidal Gabrielle', 'Zacarias Venado Josué Ricardo',\n",
       "       'Lopez Iriarte Alan Rafael', 'Lopez Iriarte Diego Andre',\n",
       "       'Ramirez Villaseñor Fernanda', 'Meraz de la Cruz David',\n",
       "       'Meraz de la Cruz Diego', 'Rios Gomez Isabella Camila',\n",
       "       'Rios Gomez Leah Fernanda', 'Puente Flores Regina Sofia',\n",
       "       'Enriquez Barragan Matias', 'Castillo Garduño Julie Navani',\n",
       "       'Castillo Garduño Luis Alejandro', 'Alcantara Ramirez Alan Daniel',\n",
       "       'Barcenas Lopez Atziry', 'Zuleta Valdez Danniela',\n",
       "       'Martinez Cardenas Valentina', 'Ramirez Duran Diego Yair',\n",
       "       'Gonzalez Cornejo Alexa Karemy', 'Gonzalez Cornejo Daniela',\n",
       "       'Calderon Palestina Erika Valeria', 'Razo Rueda Romina',\n",
       "       'Martinez Moreno Aaron', 'Cervantes Riquer Abril Ines',\n",
       "       'Hernandez Rueda Luz Mariana', 'Padilla Morales Mauricio',\n",
       "       'Padilla Morales Camila', 'Meneses Mendoza Emily Constanza',\n",
       "       'Moreno Godinez Diego', 'Moreno Godinez Sofia',\n",
       "       'Aranda Martinez Jessica Andrea',\n",
       "       'Romero Gutierrez Regina Antonieta', 'Olea Roldan Dafne Nicole',\n",
       "       'Romero Marin Gerardo', 'Peña Montiel Alberto Tadeo',\n",
       "       'Gutierrez Romero Gema', 'Flores Lopez Constanza Sofia',\n",
       "       'Castillo Duran Elias Jesus', 'Escudero Uribe Yazmin Elvira',\n",
       "       'Garay Velazquez Vivian', 'Salinas Flores Ximena',\n",
       "       'Morales Villanueva Natalia', 'Regis Garcia Iker',\n",
       "       'Perez Ortiz Mario', 'Diaz Hernandez Oscar Maximiliano',\n",
       "       'Pelcastre Beltran Jesus Gabriel', 'Toriz Cerrillo Ximena',\n",
       "       'Flores Romero Isaac Iknee', 'Roque Ramirez Bruno',\n",
       "       'Salazar Zacarias Aitana', 'Salazar Zacarias Alice Giselle',\n",
       "       'Velazquez Fermoso Alexa', 'Velazquez Fermoso Sophie Valentina',\n",
       "       'Lezama Ortiz de Montellano Dorian', 'Garcia Lopez Renato',\n",
       "       'Garcia Lopez Rene', 'Romero Mora Paula Ximena',\n",
       "       'Romero Martinez Romina', 'Aguilar Miranda Altair',\n",
       "       'Aguilar Miranda Melissa', 'Hernandez Diaz Ximena Alexandra',\n",
       "       'Narvaez Victoria Adrian Felipe',\n",
       "       'Gonzalez Romero Angela Alexandra', 'Brito Bautista Iker Saul',\n",
       "       'Gonzalez Rivera Manuel Alejandro', 'Guzman Espinosa Maria Regina',\n",
       "       'Hernandez Alonso Harumi Regina', 'Camacho Trejo Myla Jacqueline',\n",
       "       'Villegas de la Cruz Elizabeth Carolina',\n",
       "       'Rebollar Herandez Abril', 'Bastida Leon Angel Josaphat',\n",
       "       'Rojas Colorado Jose Gael', 'Rojas Colorado Regina',\n",
       "       'Sanchez Trejo Sebastian', 'Arriola Laguna Luciana',\n",
       "       'Lee Moreno Aylin Xareni', 'Gonzalez Flores Danae Valentina',\n",
       "       'Montiel Rios Alisson Sofia', 'Nuñez Hernandez Adrian',\n",
       "       'Arce Cruz Alejandro', 'Luna Garcia Camila',\n",
       "       'Gutierrez Gonzalez Emiliano', 'Gutierrez Gonzalez Fatima',\n",
       "       'Pelcastre Beltran Noemi Sarai', 'Venado Salazar Johan',\n",
       "       'Santamaria Lopez Santiago', 'Ortiz Sanchez Regina',\n",
       "       'Flores Gomez Cinthya Geraldine', 'Flores Gomez Emilio',\n",
       "       'Flores Gomez Isaac', 'Arriola Laguna Emiliano',\n",
       "       'Gomez Duran Adriana', 'Gomez Duran Francisco',\n",
       "       'Gomez Duran Regina Sofia', 'Rodriguez Cabrera Liliana Marisol',\n",
       "       'Pineda Martinez Luna', 'Ramirez Rosas Marhia Jose',\n",
       "       'Ramirez Rosas Santiago', 'Reyna Morales Fernanda',\n",
       "       'Reyna Morales Ivan', 'Bracho Cortes Diego',\n",
       "       'Flores Olivares Hector Andres', 'Venado Galvez Ana Paulina',\n",
       "       'Venado Galvez Selene Alejandra', 'Flores Olivares Aldo',\n",
       "       'Arroyo Madrigal Andres', 'Arroyo Madrial Ana Regina',\n",
       "       'Figueroa Cano Isabella Nicole', 'Moreno Serrano Gisela Abril',\n",
       "       'Bacio Gomez Jose Arturo', 'Vega Ramos Sophia Isabella',\n",
       "       'Valencia Avila Alissa Isabella', 'Mora Garay Romina Ximena',\n",
       "       'Salazar Acosta Miriam', 'Navarro Portilla Alexander',\n",
       "       'Arregin Ocampo Santiago', 'Arreguin Ocampo Sebastian',\n",
       "       'Gomez Del Angel Jesus Gerardo',\n",
       "       'Martinez Cervantes Alisson Patricia', 'Mendez Flores Roman',\n",
       "       'Tamayo Marin Isaac Alejandro', 'Ortega Castillo Diana Pandora',\n",
       "       'Oseguera Andrade Alba Emilia', 'Oseguera Andrade Alberto',\n",
       "       'Oseguera Andrade Luz Yaneth', 'Bojorges Chavaro Romina',\n",
       "       'Vergara Mendoza Francisco Isaac', 'Vergara Mendoza Sofia Renata',\n",
       "       'Romero Duran Rodrigo', 'Herrera Garcia Carlos Said',\n",
       "       'Cuanalo Ponce de Leon Karla Paola',\n",
       "       'Martinez Hernandez Danna Itzel', 'Loreto Pacheco Ian Emiliano',\n",
       "       'Galvan Roldan Matias Fernando', 'Gomez Montes Valeria',\n",
       "       'Huang Yumeng', 'Luna Gomez Victoria',\n",
       "       'Cornejo Enriquez Julieth Aileen',\n",
       "       'Quintana Serrano Santiago Ibrahim',\n",
       "       'Quintana Serrano Sebastian Nahim', 'Robles de la Cruz Juan Tadeo',\n",
       "       'Venado Palomares Luna', 'Moreno Monroy Dulce Briseida',\n",
       "       'Zaldivar Vera Isanic Sashiel', 'Gonzalez Castillo Leonel',\n",
       "       'Reyes Hernandez Christian Said', 'Bojorges Zacarias Roberto',\n",
       "       'Bojorges Zacarias Juan Jose', 'Bejarano Islas Luna Marian',\n",
       "       'Gordo Vega Axel', 'Cruz Lepe Natalia Sofia',\n",
       "       'Garcia Lucero Irving Michel', 'Martinez Chavez Juan Manuel',\n",
       "       'Chavez Barraza Axel', 'Mejia Ayala Leonardo',\n",
       "       'Charles Varela Nadine', 'Velazquez Fermoso Vanessa',\n",
       "       'Lima Molina Gerardo Mathias', 'Lima Molina Sebastian',\n",
       "       'Venado Rojas Emilio Miguel', 'Astorga Almazan Ian',\n",
       "       'Rangel Palma Emilio de Jesus',\n",
       "       'Urrutia Hernandez Arcoiris Valeska', 'Gomez Venado Maximiliano',\n",
       "       'Gomez Venado Romina', 'Villagomez Velazquez Christian',\n",
       "       'Camarillo Del Solar Angel Dario',\n",
       "       'Van Den Bogaerde Juarez Blue Xanathy',\n",
       "       'Van Den Bogaerde Juarez Mila Ivory', 'Gomez Valencia Fernanda',\n",
       "       'Gomez Valencia Jeronimo', 'Monsalvo Victal Camila Sofia',\n",
       "       'Gonzalez Romero Luis Alejandro', 'Rodriguez Aceves Pablo',\n",
       "       'Morales Valencia Mia Xiomara', 'Israqui Gonzalez Nicolle',\n",
       "       'Israqui Gonzalez Michelle', 'Morales Espinosa Karyme',\n",
       "       'Lopez Soberanes Nahum', 'Lopez Soberanes Neri Joana',\n",
       "       'Hernandez Macedo Favio Lisandro', 'Merino Espinosa Kendra Angela',\n",
       "       'Flores Castillo Hugo Adrian', 'Flores Castillo Tania Vanessa',\n",
       "       'Gordo Vega Alexa', 'Estrada Enriquez Alexa Sofia',\n",
       "       'Morales Espinosa Isabella', 'Solorzano Alarcon Lucia',\n",
       "       'Flores Velazquez Barbara Valeria', 'Ramirez Gamboa Valentina',\n",
       "       'Park Armenta Dario zu', 'Ayala Ayala Julio',\n",
       "       'Villavicencio Segura Ximena', 'Torres Espinosa Hector Nicolas',\n",
       "       'Rodriguez Acosta Dario', 'Padilla Velazquez Andrea',\n",
       "       'Rodriguez Acosta Leonel', 'Reyes Gonzalez Mariel',\n",
       "       'Martinez Vega Rodolfo', 'Martinez Vega Rodrigo',\n",
       "       'Cancino Paez Danna Sofia', 'Cancino Paez Paola Mayte',\n",
       "       'Ramirez Onofre Daniela', 'Venegas Rocha Emiliano',\n",
       "       'Rosales Duran Gabriel', 'Zamora Mejia Briseida',\n",
       "       'Zamora Mejia Ulises', 'Olivares Pelcastre Aithana Isabella',\n",
       "       'Rosas Flores Mateo', 'Leon Espejel Angel David',\n",
       "       'Zuleta Valdez Holber', 'Pabello Guido Alejandro',\n",
       "       'Romero Sanchez Eder Israel', 'Romero Sanchez Iker Gael',\n",
       "       'Bojorges Chavaro Jose Maximiliano', 'Ruiz Salazar Rey David',\n",
       "       'Coutiño Rabago Gala', 'Muñoz Rivera Valentina',\n",
       "       'Gonzalez Guillen Isabella Zoe', 'Gonzalez Guillen Set Santiago',\n",
       "       'Barrera Barrera Helena Aime', 'Torres Andino Fabio Daniel',\n",
       "       'Torres Andino Angie Fabiola', 'Estrada Perez Hector',\n",
       "       'Estrada Perez Leonardo', 'Valencia Duran Miguel Angel',\n",
       "       'Portillo Arias Andrea Esabella', 'Portillo Arias Miguel Angel',\n",
       "       'Veladiz Moran Soolaimon Omeyotzin',\n",
       "       'Gonzalez Castillo Ana Paulina', 'Altamirano Eslava Vicktoria',\n",
       "       'Altamirano Eslava Viviana', 'Baños Venado Danna Lupita',\n",
       "       'Baños Venado Vanessa', 'Gordo Ruiz Mateo',\n",
       "       'Gordo Ruiz Samantha Camila', 'Gordo Ruiz Valente',\n",
       "       'Santamaria Jardines Ximena', 'Garay Sandoval Thalia Rafaela',\n",
       "       'Rodriguez Rodriguez Keilly Michelle', 'Salazar Ruiz Enrique',\n",
       "       'Arenas Castro Ivan Alejandro', 'Camacho Trejo Antonio Miguel',\n",
       "       'Magana Hiram', 'Rey Galicia Oscar Martin',\n",
       "       'Carrillo Castillo Iker Tadeo', 'Cano Ramos Natalia Carolina',\n",
       "       'Flores Vargas Erika', 'Flores Vargas Grecia Sofia',\n",
       "       'Flores Vargas Oscar', 'Rey Galicia Sofia', 'Rosas Flores Emilio',\n",
       "       'Muñoz Robles Daniel', 'Bae Vega Brandon Samuel',\n",
       "       'Serrano Almazan Natalia', 'Ayala Martinez Geraldine',\n",
       "       'Ayala Martinez Emili Maideth', 'Romero Sanchez Gibran Azael',\n",
       "       'Chen Ivo', 'Ayala Santamaria Jose Luciano', 'Carreon Reyes Love',\n",
       "       'Carreon Reyes Amy', 'Martinez Arias Regina Isabella',\n",
       "       'Chavez Gomez Alexa Guadalupe', 'Tamayo Marin Renata Isabel',\n",
       "       'Beristain Ocampo Regina', 'Ocampo Lagunas Danna Paola',\n",
       "       'Gutierrez Gonzalez Alejandro', 'Ramos Arenas Camila',\n",
       "       'Hernandez Rueda Regina', 'Albarran Castro Valeria Sofia',\n",
       "       'Ruiz de la Cruz Valentina', 'de la Vega Vazquez Jose Julian',\n",
       "       'Tinajero Gonzalez Natalia', 'Velazquez Ramirez Carlos Arif',\n",
       "       'Gonzalez Espejel Dylan Kenneth', 'Clavijo Elizalde Rafael',\n",
       "       'Ledesma Sanchez Santiago', 'Hernandez Gutierrez Ofelia Avilix'],\n",
       "      dtype=object)"
      ]
     },
     "execution_count": 210,
     "metadata": {},
     "output_type": "execute_result"
    }
   ],
   "execution_count": 210
  },
  {
   "metadata": {},
   "cell_type": "markdown",
   "source": [
    "**Observacion :** En Mexico es comun usar dos apellidos, analizando y buscando por internet he llegado a esta conclusion, a diferencia que en Argentina, esto no suele ser comun, a la hora de aplicar este criterios en la columna de nombre de alumnos vamos a revisar si la nacionalidad de la personas es Mexico. Luego crearemos dos columnas para los nombres y apellidos de los alumnos.\n",
    "\n",
    "Fuente: https://futbol.radioformula.com.mx/curiosidades/2022/8/13/por-que-en-mexico-usamos-dos-apellidos-61395.html"
   ],
   "id": "a179ea84fea7e2a4"
  },
  {
   "metadata": {},
   "cell_type": "markdown",
   "source": "## Guardamos el archivo como csv y el nombre sera \"Analisis y padres parcial\"",
   "id": "79d1279b407ce08f"
  },
  {
   "metadata": {
    "ExecuteTime": {
     "end_time": "2024-07-18T21:17:40.720878Z",
     "start_time": "2024-07-18T21:17:40.700365Z"
    }
   },
   "cell_type": "code",
   "source": "df.to_csv('Alumnos y padres parcial.csv', index=False)",
   "id": "38fe8eb211e17720",
   "outputs": [],
   "execution_count": 211
  }
 ],
 "metadata": {
  "kernelspec": {
   "display_name": "Python 3",
   "language": "python",
   "name": "python3"
  },
  "language_info": {
   "codemirror_mode": {
    "name": "ipython",
    "version": 2
   },
   "file_extension": ".py",
   "mimetype": "text/x-python",
   "name": "python",
   "nbconvert_exporter": "python",
   "pygments_lexer": "ipython2",
   "version": "2.7.6"
  }
 },
 "nbformat": 4,
 "nbformat_minor": 5
}
